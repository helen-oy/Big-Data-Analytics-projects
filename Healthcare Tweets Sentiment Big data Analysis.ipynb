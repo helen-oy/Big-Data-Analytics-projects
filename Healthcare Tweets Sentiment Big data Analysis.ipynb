{
 "cells": [
  {
   "cell_type": "markdown",
   "metadata": {
    "application/vnd.databricks.v1+cell": {
     "cellMetadata": {
      "byteLimit": 2048000,
      "rowLimit": 10000
     },
     "inputWidgets": {},
     "nuid": "9cbaf41c-4e92-4c4b-90c9-c9847a061242",
     "showTitle": false,
     "title": ""
    }
   },
   "source": [
    "# Loading data"
   ]
  },
  {
   "cell_type": "code",
   "execution_count": 0,
   "metadata": {
    "application/vnd.databricks.v1+cell": {
     "cellMetadata": {
      "byteLimit": 2048000,
      "rowLimit": 10000
     },
     "inputWidgets": {},
     "nuid": "eca795e2-5652-426e-bd47-4ea0d35e13f2",
     "showTitle": false,
     "title": ""
    }
   },
   "outputs": [],
   "source": [
    "from pyspark.sql.functions import input_file_name\n",
    "\n",
    "df = (\n",
    "    spark.read.option(\"delimiter\", \"|\")\n",
    "    .option(\"inferSchema\", False)\n",
    "    .csv(\"/mnt/2024-team21/Health-Tweets\")\n",
    "    .withColumn(\"filepath\", input_file_name())\n",
    ")\n",
    "\n",
    "# cache the dataframe\n",
    "# df.cache()"
   ]
  },
  {
   "cell_type": "code",
   "execution_count": 0,
   "metadata": {
    "application/vnd.databricks.v1+cell": {
     "cellMetadata": {
      "byteLimit": 2048000,
      "rowLimit": 10000
     },
     "inputWidgets": {},
     "nuid": "f8f0ae12-52d9-433b-a03c-91e7a1e1d672",
     "showTitle": false,
     "title": ""
    }
   },
   "outputs": [
    {
     "output_type": "stream",
     "name": "stdout",
     "output_type": "stream",
     "text": [
      "63326\n"
     ]
    }
   ],
   "source": [
    "# Checking number of rows\n",
    "num_rows = df.count()\n",
    "print(num_rows)"
   ]
  },
  {
   "cell_type": "code",
   "execution_count": 0,
   "metadata": {
    "application/vnd.databricks.v1+cell": {
     "cellMetadata": {
      "byteLimit": 2048000,
      "rowLimit": 10000
     },
     "inputWidgets": {},
     "nuid": "e48a044f-561f-4036-9bb6-1df5209dfb4f",
     "showTitle": false,
     "title": ""
    }
   },
   "outputs": [],
   "source": [
    "from pyspark.sql import functions as F\n",
    "\n",
    "df = df.select(\"_c2\")\n",
    "\n",
    "# rename columns\n",
    "df = df.withColumnRenamed(\"_c2\", \"tweet\")\n",
    "# df.show(10,truncate=False)"
   ]
  },
  {
   "cell_type": "markdown",
   "metadata": {
    "application/vnd.databricks.v1+cell": {
     "cellMetadata": {
      "byteLimit": 2048000,
      "rowLimit": 10000
     },
     "inputWidgets": {},
     "nuid": "367f9c41-35c9-437f-b43d-f33d326e0715",
     "showTitle": false,
     "title": ""
    }
   },
   "source": [
    "# Preprocessing"
   ]
  },
  {
   "cell_type": "code",
   "execution_count": 0,
   "metadata": {
    "application/vnd.databricks.v1+cell": {
     "cellMetadata": {
      "byteLimit": 2048000,
      "rowLimit": 10000
     },
     "inputWidgets": {},
     "nuid": "4f2cce31-dbc1-40f5-b3e8-6de408a00fbf",
     "showTitle": false,
     "title": ""
    }
   },
   "outputs": [
    {
     "output_type": "stream",
     "name": "stdout",
     "output_type": "stream",
     "text": [
      "\u001B[43mNote: you may need to restart the kernel using dbutils.library.restartPython() to use updated packages.\u001B[0m\nRequirement already satisfied: spacy in /databricks/python3/lib/python3.10/site-packages (3.7.2)\nRequirement already satisfied: preshed<3.1.0,>=3.0.2 in /databricks/python3/lib/python3.10/site-packages (from spacy) (3.0.9)\nRequirement already satisfied: typer<0.10.0,>=0.3.0 in /databricks/python3/lib/python3.10/site-packages (from spacy) (0.9.0)\nRequirement already satisfied: thinc<8.3.0,>=8.1.8 in /databricks/python3/lib/python3.10/site-packages (from spacy) (8.2.2)\nRequirement already satisfied: spacy-legacy<3.1.0,>=3.0.11 in /databricks/python3/lib/python3.10/site-packages (from spacy) (3.0.12)\nRequirement already satisfied: catalogue<2.1.0,>=2.0.6 in /databricks/python3/lib/python3.10/site-packages (from spacy) (2.0.10)\nRequirement already satisfied: numpy>=1.19.0 in /databricks/python3/lib/python3.10/site-packages (from spacy) (1.23.5)\nRequirement already satisfied: murmurhash<1.1.0,>=0.28.0 in /databricks/python3/lib/python3.10/site-packages (from spacy) (1.0.10)\nRequirement already satisfied: smart-open<7.0.0,>=5.2.1 in /databricks/python3/lib/python3.10/site-packages (from spacy) (5.2.1)\nRequirement already satisfied: jinja2 in /databricks/python3/lib/python3.10/site-packages (from spacy) (3.1.2)\nRequirement already satisfied: packaging>=20.0 in /databricks/python3/lib/python3.10/site-packages (from spacy) (23.2)\nRequirement already satisfied: requests<3.0.0,>=2.13.0 in /databricks/python3/lib/python3.10/site-packages (from spacy) (2.28.1)\nRequirement already satisfied: weasel<0.4.0,>=0.1.0 in /databricks/python3/lib/python3.10/site-packages (from spacy) (0.3.4)\nRequirement already satisfied: cymem<2.1.0,>=2.0.2 in /databricks/python3/lib/python3.10/site-packages (from spacy) (2.0.8)\nRequirement already satisfied: setuptools in /databricks/python3/lib/python3.10/site-packages (from spacy) (65.6.3)\nRequirement already satisfied: tqdm<5.0.0,>=4.38.0 in /databricks/python3/lib/python3.10/site-packages (from spacy) (4.64.1)\nRequirement already satisfied: pydantic!=1.8,!=1.8.1,<3.0.0,>=1.7.4 in /databricks/python3/lib/python3.10/site-packages (from spacy) (1.10.6)\nRequirement already satisfied: langcodes<4.0.0,>=3.2.0 in /databricks/python3/lib/python3.10/site-packages (from spacy) (3.3.0)\nRequirement already satisfied: wasabi<1.2.0,>=0.9.1 in /databricks/python3/lib/python3.10/site-packages (from spacy) (1.1.2)\nRequirement already satisfied: srsly<3.0.0,>=2.4.3 in /databricks/python3/lib/python3.10/site-packages (from spacy) (2.4.8)\nRequirement already satisfied: spacy-loggers<2.0.0,>=1.0.0 in /databricks/python3/lib/python3.10/site-packages (from spacy) (1.0.5)\nRequirement already satisfied: typing-extensions>=4.2.0 in /databricks/python3/lib/python3.10/site-packages (from pydantic!=1.8,!=1.8.1,<3.0.0,>=1.7.4->spacy) (4.4.0)\nRequirement already satisfied: charset-normalizer<3,>=2 in /databricks/python3/lib/python3.10/site-packages (from requests<3.0.0,>=2.13.0->spacy) (2.0.4)\nRequirement already satisfied: idna<4,>=2.5 in /databricks/python3/lib/python3.10/site-packages (from requests<3.0.0,>=2.13.0->spacy) (3.4)\nRequirement already satisfied: urllib3<1.27,>=1.21.1 in /databricks/python3/lib/python3.10/site-packages (from requests<3.0.0,>=2.13.0->spacy) (1.26.14)\nRequirement already satisfied: certifi>=2017.4.17 in /databricks/python3/lib/python3.10/site-packages (from requests<3.0.0,>=2.13.0->spacy) (2022.12.7)\nRequirement already satisfied: blis<0.8.0,>=0.7.8 in /databricks/python3/lib/python3.10/site-packages (from thinc<8.3.0,>=8.1.8->spacy) (0.7.11)\nRequirement already satisfied: confection<1.0.0,>=0.0.1 in /databricks/python3/lib/python3.10/site-packages (from thinc<8.3.0,>=8.1.8->spacy) (0.1.4)\nRequirement already satisfied: click<9.0.0,>=7.1.1 in /databricks/python3/lib/python3.10/site-packages (from typer<0.10.0,>=0.3.0->spacy) (8.0.4)\nRequirement already satisfied: cloudpathlib<0.17.0,>=0.7.0 in /databricks/python3/lib/python3.10/site-packages (from weasel<0.4.0,>=0.1.0->spacy) (0.16.0)\nRequirement already satisfied: MarkupSafe>=2.0 in /databricks/python3/lib/python3.10/site-packages (from jinja2->spacy) (2.1.1)\n\u001B[43mNote: you may need to restart the kernel using dbutils.library.restartPython() to use updated packages.\u001B[0m\n\u001B[43mNote: you may need to restart the kernel using dbutils.library.restartPython() to use updated packages.\u001B[0m\nRequirement already satisfied: pandas in /databricks/python3/lib/python3.10/site-packages (1.5.3)\nRequirement already satisfied: python-dateutil>=2.8.1 in /databricks/python3/lib/python3.10/site-packages (from pandas) (2.8.2)\nRequirement already satisfied: pytz>=2020.1 in /databricks/python3/lib/python3.10/site-packages (from pandas) (2022.7)\nRequirement already satisfied: numpy>=1.21.0 in /databricks/python3/lib/python3.10/site-packages (from pandas) (1.23.5)\nRequirement already satisfied: six>=1.5 in /usr/lib/python3/dist-packages (from python-dateutil>=2.8.1->pandas) (1.16.0)\n\u001B[43mNote: you may need to restart the kernel using dbutils.library.restartPython() to use updated packages.\u001B[0m\n"
     ]
    }
   ],
   "source": [
    "%pip install spacy\n",
    "%pip install pandas"
   ]
  },
  {
   "cell_type": "code",
   "execution_count": 0,
   "metadata": {
    "application/vnd.databricks.v1+cell": {
     "cellMetadata": {
      "byteLimit": 2048000,
      "rowLimit": 10000
     },
     "inputWidgets": {},
     "nuid": "20da1350-26e4-4108-82af-89b76bf07003",
     "showTitle": false,
     "title": ""
    }
   },
   "outputs": [],
   "source": [
    "# dbutils.library.restartPython()"
   ]
  },
  {
   "cell_type": "code",
   "execution_count": 0,
   "metadata": {
    "application/vnd.databricks.v1+cell": {
     "cellMetadata": {
      "byteLimit": 2048000,
      "rowLimit": 10000
     },
     "inputWidgets": {},
     "nuid": "a8289e5f-c432-4b91-b101-e98412ba5d87",
     "showTitle": false,
     "title": ""
    }
   },
   "outputs": [
    {
     "output_type": "stream",
     "name": "stdout",
     "output_type": "stream",
     "text": [
      "Collecting en-core-web-lg==3.7.1\r\n  Downloading https://github.com/explosion/spacy-models/releases/download/en_core_web_lg-3.7.1/en_core_web_lg-3.7.1-py3-none-any.whl (587.7 MB)\r\n\u001B[?25l     \u001B[90m━━━━━━━━━━━━━━━━━━━━━━━━━━━━━━━━━━━━━━━━\u001B[0m \u001B[32m0.0/587.7 MB\u001B[0m \u001B[31m?\u001B[0m eta \u001B[36m-:--:--\u001B[0m\r\u001B[2K     \u001B[90m━━━━━━━━━━━━━━━━━━━━━━━━━━━━━━━━━━━━━━━━\u001B[0m \u001B[32m0.9/587.7 MB\u001B[0m \u001B[31m26.5 MB/s\u001B[0m eta \u001B[36m0:00:23\u001B[0m\r\u001B[2K     \u001B[90m━━━━━━━━━━━━━━━━━━━━━━━━━━━━━━━━━━━━━━━━\u001B[0m \u001B[32m6.2/587.7 MB\u001B[0m \u001B[31m90.0 MB/s\u001B[0m eta \u001B[36m0:00:07\u001B[0m\r\u001B[2K     \u001B[91m╸\u001B[0m\u001B[90m━━━━━━━━━━━━━━━━━━━━━━━━━━━━━━━━━━━━━\u001B[0m \u001B[32m12.4/587.7 MB\u001B[0m \u001B[31m166.5 MB/s\u001B[0m eta \u001B[36m0:00:04\u001B[0m\r\u001B[2K     \u001B[91m━\u001B[0m\u001B[90m╺\u001B[0m\u001B[90m━━━━━━━━━━━━━━━━━━━━━━━━━━━━━━━━━━━━\u001B[0m \u001B[32m18.9/587.7 MB\u001B[0m \u001B[31m180.9 MB/s\u001B[0m eta \u001B[36m0:00:04\u001B[0m\r\u001B[2K     \u001B[91m━\u001B[0m\u001B[91m╸\u001B[0m\u001B[90m━━━━━━━━━━━━━━━━━━━━━━━━━━━━━━━━━━━━\u001B[0m \u001B[32m25.4/587.7 MB\u001B[0m \u001B[31m183.5 MB/s\u001B[0m eta \u001B[36m0:00:04\u001B[0m\r\u001B[2K     \u001B[91m━━\u001B[0m\u001B[90m╺\u001B[0m\u001B[90m━━━━━━━━━━━━━━━━━━━━━━━━━━━━━━━━━━━\u001B[0m \u001B[32m31.7/587.7 MB\u001B[0m \u001B[31m182.9 MB/s\u001B[0m eta \u001B[36m0:00:04\u001B[0m\r\u001B[2K     \u001B[91m━━\u001B[0m\u001B[90m╺\u001B[0m\u001B[90m━━━━━━━━━━━━━━━━━━━━━━━━━━━━━━━━━━━\u001B[0m \u001B[32m38.1/587.7 MB\u001B[0m \u001B[31m181.1 MB/s\u001B[0m eta \u001B[36m0:00:04\u001B[0m\r\u001B[2K     \u001B[91m━━\u001B[0m\u001B[91m╸\u001B[0m\u001B[90m━━━━━━━━━━━━━━━━━━━━━━━━━━━━━━━━━━━\u001B[0m \u001B[32m44.6/587.7 MB\u001B[0m \u001B[31m185.0 MB/s\u001B[0m eta \u001B[36m0:00:03\u001B[0m\r\u001B[2K     \u001B[91m━━━\u001B[0m\u001B[90m╺\u001B[0m\u001B[90m━━━━━━━━━━━━━━━━━━━━━━━━━━━━━━━━━━\u001B[0m \u001B[32m51.1/587.7 MB\u001B[0m \u001B[31m186.2 MB/s\u001B[0m eta \u001B[36m0:00:03\u001B[0m\r\u001B[2K     \u001B[91m━━━\u001B[0m\u001B[91m╸\u001B[0m\u001B[90m━━━━━━━━━━━━━━━━━━━━━━━━━━━━━━━━━━\u001B[0m \u001B[32m57.7/587.7 MB\u001B[0m \u001B[31m186.0 MB/s\u001B[0m eta \u001B[36m0:00:03\u001B[0m\r\u001B[2K     \u001B[91m━━━━\u001B[0m\u001B[90m╺\u001B[0m\u001B[90m━━━━━━━━━━━━━━━━━━━━━━━━━━━━━━━━━\u001B[0m \u001B[32m64.4/587.7 MB\u001B[0m \u001B[31m192.1 MB/s\u001B[0m eta \u001B[36m0:00:03\u001B[0m\r\u001B[2K     \u001B[91m━━━━\u001B[0m\u001B[91m╸\u001B[0m\u001B[90m━━━━━━━━━━━━━━━━━━━━━━━━━━━━━━━━━\u001B[0m \u001B[32m71.1/587.7 MB\u001B[0m \u001B[31m190.5 MB/s\u001B[0m eta \u001B[36m0:00:03\u001B[0m\r\u001B[2K     \u001B[91m━━━━━\u001B[0m\u001B[90m╺\u001B[0m\u001B[90m━━━━━━━━━━━━━━━━━━━━━━━━━━━━━━━━\u001B[0m \u001B[32m77.9/587.7 MB\u001B[0m \u001B[31m192.8 MB/s\u001B[0m eta \u001B[36m0:00:03\u001B[0m\r\u001B[2K     \u001B[91m━━━━━\u001B[0m\u001B[90m╺\u001B[0m\u001B[90m━━━━━━━━━━━━━━━━━━━━━━━━━━━━━━━━\u001B[0m \u001B[32m84.5/587.7 MB\u001B[0m \u001B[31m191.3 MB/s\u001B[0m eta \u001B[36m0:00:03\u001B[0m\r\u001B[2K     \u001B[91m━━━━━\u001B[0m\u001B[91m╸\u001B[0m\u001B[90m━━━━━━━━━━━━━━━━━━━━━━━━━━━━━━━━\u001B[0m \u001B[32m91.3/587.7 MB\u001B[0m \u001B[31m190.6 MB/s\u001B[0m eta \u001B[36m0:00:03\u001B[0m\r\u001B[2K     \u001B[91m━━━━━━\u001B[0m\u001B[90m╺\u001B[0m\u001B[90m━━━━━━━━━━━━━━━━━━━━━━━━━━━━━━━\u001B[0m \u001B[32m98.0/587.7 MB\u001B[0m \u001B[31m191.3 MB/s\u001B[0m eta \u001B[36m0:00:03\u001B[0m\r\u001B[2K     \u001B[91m━━━━━━\u001B[0m\u001B[91m╸\u001B[0m\u001B[90m━━━━━━━━━━━━━━━━━━━━━━━━━━━━━━\u001B[0m \u001B[32m104.8/587.7 MB\u001B[0m \u001B[31m192.2 MB/s\u001B[0m eta \u001B[36m0:00:03\u001B[0m\r\u001B[2K     \u001B[91m━━━━━━\u001B[0m\u001B[91m╸\u001B[0m\u001B[90m━━━━━━━━━━━━━━━━━━━━━━━━━━━━━━\u001B[0m \u001B[32m111.1/587.7 MB\u001B[0m \u001B[31m184.6 MB/s\u001B[0m eta \u001B[36m0:00:03\u001B[0m\r\u001B[2K     \u001B[91m━━━━━━━\u001B[0m\u001B[90m╺\u001B[0m\u001B[90m━━━━━━━━━━━━━━━━━━━━━━━━━━━━━\u001B[0m \u001B[32m117.7/587.7 MB\u001B[0m \u001B[31m186.2 MB/s\u001B[0m eta \u001B[36m0:00:03\u001B[0m\r\u001B[2K     \u001B[91m━━━━━━━\u001B[0m\u001B[91m╸\u001B[0m\u001B[90m━━━━━━━━━━━━━━━━━━━━━━━━━━━━━\u001B[0m \u001B[32m124.5/587.7 MB\u001B[0m \u001B[31m191.1 MB/s\u001B[0m eta \u001B[36m0:00:03\u001B[0m\r\u001B[2K     \u001B[91m━━━━━━━━\u001B[0m\u001B[90m╺\u001B[0m\u001B[90m━━━━━━━━━━━━━━━━━━━━━━━━━━━━\u001B[0m \u001B[32m131.2/587.7 MB\u001B[0m \u001B[31m192.7 MB/s\u001B[0m eta \u001B[36m0:00:03\u001B[0m\r\u001B[2K     \u001B[91m━━━━━━━━\u001B[0m\u001B[91m╸\u001B[0m\u001B[90m━━━━━━━━━━━━━━━━━━━━━━━━━━━━\u001B[0m \u001B[32m138.0/587.7 MB\u001B[0m \u001B[31m194.6 MB/s\u001B[0m eta \u001B[36m0:00:03\u001B[0m\r\u001B[2K     \u001B[91m━━━━━━━━━\u001B[0m\u001B[90m╺\u001B[0m\u001B[90m━━━━━━━━━━━━━━━━━━━━━━━━━━━\u001B[0m \u001B[32m144.8/587.7 MB\u001B[0m \u001B[31m195.7 MB/s\u001B[0m eta \u001B[36m0:00:03\u001B[0m\r\u001B[2K     \u001B[91m━━━━━━━━━\u001B[0m\u001B[91m╸\u001B[0m\u001B[90m━━━━━━━━━━━━━━━━━━━━━━━━━━━\u001B[0m \u001B[32m151.7/587.7 MB\u001B[0m \u001B[31m195.6 MB/s\u001B[0m eta \u001B[36m0:00:03\u001B[0m\r\u001B[2K     \u001B[91m━━━━━━━━━\u001B[0m\u001B[91m╸\u001B[0m\u001B[90m━━━━━━━━━━━━━━━━━━━━━━━━━━━\u001B[0m \u001B[32m158.6/587.7 MB\u001B[0m \u001B[31m195.8 MB/s\u001B[0m eta \u001B[36m0:00:03\u001B[0m\r\u001B[2K     \u001B[91m━━━━━━━━━━\u001B[0m\u001B[90m╺\u001B[0m\u001B[90m━━━━━━━━━━━━━━━━━━━━━━━━━━\u001B[0m \u001B[32m165.3/587.7 MB\u001B[0m \u001B[31m194.2 MB/s\u001B[0m eta \u001B[36m0:00:03\u001B[0m\r\u001B[2K     \u001B[91m━━━━━━━━━━\u001B[0m\u001B[91m╸\u001B[0m\u001B[90m━━━━━━━━━━━━━━━━━━━━━━━━━━\u001B[0m \u001B[32m172.1/587.7 MB\u001B[0m \u001B[31m195.2 MB/s\u001B[0m eta \u001B[36m0:00:03\u001B[0m\r\u001B[2K     \u001B[91m━━━━━━━━━━━\u001B[0m\u001B[90m╺\u001B[0m\u001B[90m━━━━━━━━━━━━━━━━━━━━━━━━━\u001B[0m \u001B[32m179.0/587.7 MB\u001B[0m \u001B[31m196.0 MB/s\u001B[0m eta \u001B[36m0:00:03\u001B[0m\r\u001B[2K     \u001B[91m━━━━━━━━━━━\u001B[0m\u001B[91m╸\u001B[0m\u001B[90m━━━━━━━━━━━━━━━━━━━━━━━━━\u001B[0m \u001B[32m185.9/587.7 MB\u001B[0m \u001B[31m196.9 MB/s\u001B[0m eta \u001B[36m0:00:03\u001B[0m\r\u001B[2K     \u001B[91m━━━━━━━━━━━━\u001B[0m\u001B[90m╺\u001B[0m\u001B[90m━━━━━━━━━━━━━━━━━━━━━━━━\u001B[0m \u001B[32m192.8/587.7 MB\u001B[0m \u001B[31m197.0 MB/s\u001B[0m eta \u001B[36m0:00:03\u001B[0m\r\u001B[2K     \u001B[91m━━━━━━━━━━━━\u001B[0m\u001B[91m╸\u001B[0m\u001B[90m━━━━━━━━━━━━━━━━━━━━━━━━\u001B[0m \u001B[32m199.7/587.7 MB\u001B[0m \u001B[31m198.5 MB/s\u001B[0m eta \u001B[36m0:00:02\u001B[0m\r\u001B[2K     \u001B[91m━━━━━━━━━━━━━\u001B[0m\u001B[90m╺\u001B[0m\u001B[90m━━━━━━━━━━━━━━━━━━━━━━━\u001B[0m \u001B[32m206.6/587.7 MB\u001B[0m \u001B[31m198.5 MB/s\u001B[0m eta \u001B[36m0:00:02\u001B[0m\r\u001B[2K     \u001B[91m━━━━━━━━━━━━━\u001B[0m\u001B[90m╺\u001B[0m\u001B[90m━━━━━━━━━━━━━━━━━━━━━━━\u001B[0m \u001B[32m213.4/587.7 MB\u001B[0m \u001B[31m196.1 MB/s\u001B[0m eta \u001B[36m0:00:02\u001B[0m\r\u001B[2K     \u001B[91m━━━━━━━━━━━━━\u001B[0m\u001B[91m╸\u001B[0m\u001B[90m━━━━━━━━━━━━━━━━━━━━━━━\u001B[0m \u001B[32m220.2/587.7 MB\u001B[0m \u001B[31m195.8 MB/s\u001B[0m eta \u001B[36m0:00:02\u001B[0m\r\u001B[2K     \u001B[91m━━━━━━━━━━━━━━\u001B[0m\u001B[90m╺\u001B[0m\u001B[90m━━━━━━━━━━━━━━━━━━━━━━\u001B[0m \u001B[32m225.6/587.7 MB\u001B[0m \u001B[31m173.3 MB/s\u001B[0m eta \u001B[36m0:00:03\u001B[0m\r\u001B[2K     \u001B[91m━━━━━━━━━━━━━━\u001B[0m\u001B[91m╸\u001B[0m\u001B[90m━━━━━━━━━━━━━━━━━━━━━━\u001B[0m \u001B[32m231.1/587.7 MB\u001B[0m \u001B[31m157.5 MB/s\u001B[0m eta \u001B[36m0:00:03\u001B[0m\r\u001B[2K     \u001B[91m━━━━━━━━━━━━━━\u001B[0m\u001B[91m╸\u001B[0m\u001B[90m━━━━━━━━━━━━━━━━━━━━━━\u001B[0m \u001B[32m236.3/587.7 MB\u001B[0m \u001B[31m154.5 MB/s\u001B[0m eta \u001B[36m0:00:03\u001B[0m\r\u001B[2K     \u001B[91m━━━━━━━━━━━━━━━\u001B[0m\u001B[90m╺\u001B[0m\u001B[90m━━━━━━━━━━━━━━━━━━━━━\u001B[0m \u001B[32m242.7/587.7 MB\u001B[0m \u001B[31m169.3 MB/s\u001B[0m eta \u001B[36m0:00:03\u001B[0m\r\u001B[2K     \u001B[91m━━━━━━━━━━━━━━━\u001B[0m\u001B[91m╸\u001B[0m\u001B[90m━━━━━━━━━━━━━━━━━━━━━\u001B[0m \u001B[32m249.3/587.7 MB\u001B[0m \u001B[31m188.3 MB/s\u001B[0m eta \u001B[36m0:00:02\u001B[0m\r\u001B[2K     \u001B[91m━━━━━━━━━━━━━━━━\u001B[0m\u001B[90m╺\u001B[0m\u001B[90m━━━━━━━━━━━━━━━━━━━━\u001B[0m \u001B[32m256.1/587.7 MB\u001B[0m \u001B[31m193.1 MB/s\u001B[0m eta \u001B[36m0:00:02\u001B[0m\r\u001B[2K     \u001B[91m━━━━━━━━━━━━━━━━\u001B[0m\u001B[91m╸\u001B[0m\u001B[90m━━━━━━━━━━━━━━━━━━━━\u001B[0m \u001B[32m262.9/587.7 MB\u001B[0m \u001B[31m195.1 MB/s\u001B[0m eta \u001B[36m0:00:02\u001B[0m\r\u001B[2K     \u001B[91m━━━━━━━━━━━━━━━━\u001B[0m\u001B[91m╸\u001B[0m\u001B[90m━━━━━━━━━━━━━━━━━━━━\u001B[0m \u001B[32m269.6/587.7 MB\u001B[0m \u001B[31m194.1 MB/s\u001B[0m eta \u001B[36m0:00:02\u001B[0m\r\u001B[2K     \u001B[91m━━━━━━━━━━━━━━━━━\u001B[0m\u001B[90m╺\u001B[0m\u001B[90m━━━━━━━━━━━━━━━━━━━\u001B[0m \u001B[32m276.4/587.7 MB\u001B[0m \u001B[31m193.7 MB/s\u001B[0m eta \u001B[36m0:00:02\u001B[0m\r\u001B[2K     \u001B[91m━━━━━━━━━━━━━━━━━\u001B[0m\u001B[91m╸\u001B[0m\u001B[90m━━━━━━━━━━━━━━━━━━━\u001B[0m \u001B[32m283.1/587.7 MB\u001B[0m \u001B[31m193.0 MB/s\u001B[0m eta \u001B[36m0:00:02\u001B[0m\r\u001B[2K     \u001B[91m━━━━━━━━━━━━━━━━━━\u001B[0m\u001B[90m╺\u001B[0m\u001B[90m━━━━━━━━━━━━━━━━━━\u001B[0m \u001B[32m289.6/587.7 MB\u001B[0m \u001B[31m188.2 MB/s\u001B[0m eta \u001B[36m0:00:02\u001B[0m\r\u001B[2K     \u001B[91m━━━━━━━━━━━━━━━━━━\u001B[0m\u001B[91m╸\u001B[0m\u001B[90m━━━━━━━━━━━━━━━━━━\u001B[0m \u001B[32m296.0/587.7 MB\u001B[0m \u001B[31m183.4 MB/s\u001B[0m eta \u001B[36m0:00:02\u001B[0m\r\u001B[2K     \u001B[91m━━━━━━━━━━━━━━━━━━━\u001B[0m\u001B[90m╺\u001B[0m\u001B[90m━━━━━━━━━━━━━━━━━\u001B[0m \u001B[32m302.5/587.7 MB\u001B[0m \u001B[31m184.6 MB/s\u001B[0m eta \u001B[36m0:00:02\u001B[0m\r\u001B[2K     \u001B[91m━━━━━━━━━━━━━━━━━━━\u001B[0m\u001B[90m╺\u001B[0m\u001B[90m━━━━━━━━━━━━━━━━━\u001B[0m \u001B[32m309.1/587.7 MB\u001B[0m \u001B[31m187.2 MB/s\u001B[0m eta \u001B[36m0:00:02\u001B[0m\r\u001B[2K     \u001B[91m━━━━━━━━━━━━━━━━━━━\u001B[0m\u001B[91m╸\u001B[0m\u001B[90m━━━━━━━━━━━━━━━━━\u001B[0m \u001B[32m315.8/587.7 MB\u001B[0m \u001B[31m191.1 MB/s\u001B[0m eta \u001B[36m0:00:02\u001B[0m\r\u001B[2K     \u001B[91m━━━━━━━━━━━━━━━━━━━━\u001B[0m\u001B[90m╺\u001B[0m\u001B[90m━━━━━━━━━━━━━━━━\u001B[0m \u001B[32m322.6/587.7 MB\u001B[0m \u001B[31m193.1 MB/s\u001B[0m eta \u001B[36m0:00:02\u001B[0m\r\u001B[2K     \u001B[91m━━━━━━━━━━━━━━━━━━━━\u001B[0m\u001B[91m╸\u001B[0m\u001B[90m━━━━━━━━━━━━━━━━\u001B[0m \u001B[32m329.3/587.7 MB\u001B[0m \u001B[31m191.3 MB/s\u001B[0m eta \u001B[36m0:00:02\u001B[0m\r\u001B[2K     \u001B[91m━━━━━━━━━━━━━━━━━━━━━\u001B[0m\u001B[90m╺\u001B[0m\u001B[90m━━━━━━━━━━━━━━━\u001B[0m \u001B[32m336.0/587.7 MB\u001B[0m \u001B[31m190.6 MB/s\u001B[0m eta \u001B[36m0:00:02\u001B[0m\r\u001B[2K     \u001B[91m━━━━━━━━━━━━━━━━━━━━━\u001B[0m\u001B[91m╸\u001B[0m\u001B[90m━━━━━━━━━━━━━━━\u001B[0m \u001B[32m342.6/587.7 MB\u001B[0m \u001B[31m188.4 MB/s\u001B[0m eta \u001B[36m0:00:02\u001B[0m\r\u001B[2K     \u001B[91m━━━━━━━━━━━━━━━━━━━━━\u001B[0m\u001B[91m╸\u001B[0m\u001B[90m━━━━━━━━━━━━━━━\u001B[0m \u001B[32m349.2/587.7 MB\u001B[0m \u001B[31m190.0 MB/s\u001B[0m eta \u001B[36m0:00:02\u001B[0m\r\u001B[2K     \u001B[91m━━━━━━━━━━━━━━━━━━━━━━\u001B[0m\u001B[90m╺\u001B[0m\u001B[90m━━━━━━━━━━━━━━\u001B[0m \u001B[32m355.9/587.7 MB\u001B[0m \u001B[31m192.5 MB/s\u001B[0m eta \u001B[36m0:00:02\u001B[0m\r\u001B[2K     \u001B[91m━━━━━━━━━━━━━━━━━━━━━━\u001B[0m\u001B[91m╸\u001B[0m\u001B[90m━━━━━━━━━━━━━━\u001B[0m \u001B[32m362.7/587.7 MB\u001B[0m \u001B[31m191.9 MB/s\u001B[0m eta \u001B[36m0:00:02\u001B[0m\r\u001B[2K     \u001B[91m━━━━━━━━━━━━━━━━━━━━━━━\u001B[0m\u001B[90m╺\u001B[0m\u001B[90m━━━━━━━━━━━━━\u001B[0m \u001B[32m369.3/587.7 MB\u001B[0m \u001B[31m190.5 MB/s\u001B[0m eta \u001B[36m0:00:02\u001B[0m\r\u001B[2K     \u001B[91m━━━━━━━━━━━━━━━━━━━━━━━\u001B[0m\u001B[91m╸\u001B[0m\u001B[90m━━━━━━━━━━━━━\u001B[0m \u001B[32m375.9/587.7 MB\u001B[0m \u001B[31m189.2 MB/s\u001B[0m eta \u001B[36m0:00:02\u001B[0m\r\u001B[2K     \u001B[91m━━━━━━━━━━━━━━━━━━━━━━━━\u001B[0m\u001B[90m╺\u001B[0m\u001B[90m━━━━━━━━━━━━\u001B[0m \u001B[32m382.5/587.7 MB\u001B[0m \u001B[31m188.6 MB/s\u001B[0m eta \u001B[36m0:00:02\u001B[0m\r\u001B[2K     \u001B[91m━━━━━━━━━━━━━━━━━━━━━━━━\u001B[0m\u001B[91m╸\u001B[0m\u001B[90m━━━━━━━━━━━━\u001B[0m \u001B[32m389.3/587.7 MB\u001B[0m \u001B[31m194.4 MB/s\u001B[0m eta \u001B[36m0:00:02\u001B[0m\r\u001B[2K     \u001B[91m━━━━━━━━━━━━━━━━━━━━━━━━\u001B[0m\u001B[91m╸\u001B[0m\u001B[90m━━━━━━━━━━━━\u001B[0m \u001B[32m396.1/587.7 MB\u001B[0m \u001B[31m192.9 MB/s\u001B[0m eta \u001B[36m0:00:01\u001B[0m\r\u001B[2K     \u001B[91m━━━━━━━━━━━━━━━━━━━━━━━━━\u001B[0m\u001B[90m╺\u001B[0m\u001B[90m━━━━━━━━━━━\u001B[0m \u001B[32m402.9/587.7 MB\u001B[0m \u001B[31m194.8 MB/s\u001B[0m eta \u001B[36m0:00:01\u001B[0m\r\u001B[2K     \u001B[91m━━━━━━━━━━━━━━━━━━━━━━━━━\u001B[0m\u001B[91m╸\u001B[0m\u001B[90m━━━━━━━━━━━\u001B[0m \u001B[32m409.5/587.7 MB\u001B[0m \u001B[31m191.9 MB/s\u001B[0m eta \u001B[36m0:00:01\u001B[0m\r\u001B[2K     \u001B[91m━━━━━━━━━━━━━━━━━━━━━━━━━━\u001B[0m\u001B[90m╺\u001B[0m\u001B[90m━━━━━━━━━━\u001B[0m \u001B[32m415.0/587.7 MB\u001B[0m \u001B[31m172.5 MB/s\u001B[0m eta \u001B[36m0:00:02\u001B[0m\r\u001B[2K     \u001B[91m━━━━━━━━━━━━━━━━━━━━━━━━━━\u001B[0m\u001B[90m╺\u001B[0m\u001B[90m━━━━━━━━━━\u001B[0m \u001B[32m420.3/587.7 MB\u001B[0m \u001B[31m156.0 MB/s\u001B[0m eta \u001B[36m0:00:02\u001B[0m\r\u001B[2K     \u001B[91m━━━━━━━━━━━━━━━━━━━━━━━━━━\u001B[0m\u001B[91m╸\u001B[0m\u001B[90m━━━━━━━━━━\u001B[0m \u001B[32m425.8/587.7 MB\u001B[0m \u001B[31m155.9 MB/s\u001B[0m eta \u001B[36m0:00:02\u001B[0m\r\u001B[2K     \u001B[91m━━━━━━━━━━━━━━━━━━━━━━━━━━━\u001B[0m\u001B[90m╺\u001B[0m\u001B[90m━━━━━━━━━\u001B[0m \u001B[32m431.5/587.7 MB\u001B[0m \u001B[31m160.8 MB/s\u001B[0m eta \u001B[36m0:00:01\u001B[0m\r\u001B[2K     \u001B[91m━━━━━━━━━━━━━━━━━━━━━━━━━━━\u001B[0m\u001B[91m╸\u001B[0m\u001B[90m━━━━━━━━━\u001B[0m \u001B[32m437.0/587.7 MB\u001B[0m \u001B[31m159.7 MB/s\u001B[0m eta \u001B[36m0:00:01\u001B[0m\r\u001B[2K     \u001B[91m━━━━━━━━━━━━━━━━━━━━━━━━━━━\u001B[0m\u001B[91m╸\u001B[0m\u001B[90m━━━━━━━━━\u001B[0m \u001B[32m442.5/587.7 MB\u001B[0m \u001B[31m158.2 MB/s\u001B[0m eta \u001B[36m0:00:01\u001B[0m\r\u001B[2K     \u001B[91m━━━━━━━━━━━━━━━━━━━━━━━━━━━━\u001B[0m\u001B[90m╺\u001B[0m\u001B[90m━━━━━━━━\u001B[0m \u001B[32m447.9/587.7 MB\u001B[0m \u001B[31m156.9 MB/s\u001B[0m eta \u001B[36m0:00:01\u001B[0m\r\u001B[2K     \u001B[91m━━━━━━━━━━━━━━━━━━━━━━━━━━━━\u001B[0m\u001B[91m╸\u001B[0m\u001B[90m━━━━━━━━\u001B[0m \u001B[32m453.3/587.7 MB\u001B[0m \u001B[31m155.5 MB/s\u001B[0m eta \u001B[36m0:00:01\u001B[0m\r\u001B[2K     \u001B[91m━━━━━━━━━━━━━━━━━━━━━━━━━━━━\u001B[0m\u001B[91m╸\u001B[0m\u001B[90m━━━━━━━━\u001B[0m \u001B[32m458.8/587.7 MB\u001B[0m \u001B[31m155.4 MB/s\u001B[0m eta \u001B[36m0:00:01\u001B[0m\r\u001B[2K     \u001B[91m━━━━━━━━━━━━━━━━━━━━━━━━━━━━━\u001B[0m\u001B[90m╺\u001B[0m\u001B[90m━━━━━━━\u001B[0m \u001B[32m464.0/587.7 MB\u001B[0m \u001B[31m154.4 MB/s\u001B[0m eta \u001B[36m0:00:01\u001B[0m\r\u001B[2K     \u001B[91m━━━━━━━━━━━━━━━━━━━━━━━━━━━━━\u001B[0m\u001B[91m╸\u001B[0m\u001B[90m━━━━━━━\u001B[0m \u001B[32m469.7/587.7 MB\u001B[0m \u001B[31m158.0 MB/s\u001B[0m eta \u001B[36m0:00:01\u001B[0m\r\u001B[2K     \u001B[91m━━━━━━━━━━━━━━━━━━━━━━━━━━━━━━\u001B[0m\u001B[90m╺\u001B[0m\u001B[90m━━━━━━\u001B[0m \u001B[32m476.7/587.7 MB\u001B[0m \u001B[31m184.5 MB/s\u001B[0m eta \u001B[36m0:00:01\u001B[0m\r\u001B[2K     \u001B[91m━━━━━━━━━━━━━━━━━━━━━━━━━━━━━━\u001B[0m\u001B[90m╺\u001B[0m\u001B[90m━━━━━━\u001B[0m \u001B[32m483.5/587.7 MB\u001B[0m \u001B[31m196.5 MB/s\u001B[0m eta \u001B[36m0:00:01\u001B[0m\r\u001B[2K     \u001B[91m━━━━━━━━━━━━━━━━━━━━━━━━━━━━━━\u001B[0m\u001B[91m╸\u001B[0m\u001B[90m━━━━━━\u001B[0m \u001B[32m490.4/587.7 MB\u001B[0m \u001B[31m195.9 MB/s\u001B[0m eta \u001B[36m0:00:01\u001B[0m\r\u001B[2K     \u001B[91m━━━━━━━━━━━━━━━━━━━━━━━━━━━━━━━\u001B[0m\u001B[90m╺\u001B[0m\u001B[90m━━━━━\u001B[0m \u001B[32m497.4/587.7 MB\u001B[0m \u001B[31m197.4 MB/s\u001B[0m eta \u001B[36m0:00:01\u001B[0m\r\u001B[2K     \u001B[91m━━━━━━━━━━━━━━━━━━━━━━━━━━━━━━━\u001B[0m\u001B[91m╸\u001B[0m\u001B[90m━━━━━\u001B[0m \u001B[32m504.4/587.7 MB\u001B[0m \u001B[31m199.4 MB/s\u001B[0m eta \u001B[36m0:00:01\u001B[0m\r\u001B[2K     \u001B[91m━━━━━━━━━━━━━━━━━━━━━━━━━━━━━━━━\u001B[0m\u001B[90m╺\u001B[0m\u001B[90m━━━━\u001B[0m \u001B[32m511.3/587.7 MB\u001B[0m \u001B[31m196.7 MB/s\u001B[0m eta \u001B[36m0:00:01\u001B[0m\r\u001B[2K     \u001B[91m━━━━━━━━━━━━━━━━━━━━━━━━━━━━━━━━\u001B[0m\u001B[91m╸\u001B[0m\u001B[90m━━━━\u001B[0m \u001B[32m518.2/587.7 MB\u001B[0m \u001B[31m197.9 MB/s\u001B[0m eta \u001B[36m0:00:01\u001B[0m\r\u001B[2K     \u001B[91m━━━━━━━━━━━━━━━━━━━━━━━━━━━━━━━━━\u001B[0m\u001B[90m╺\u001B[0m\u001B[90m━━━\u001B[0m \u001B[32m525.2/587.7 MB\u001B[0m \u001B[31m198.1 MB/s\u001B[0m eta \u001B[36m0:00:01\u001B[0m\r\u001B[2K     \u001B[91m━━━━━━━━━━━━━━━━━━━━━━━━━━━━━━━━━\u001B[0m\u001B[90m╺\u001B[0m\u001B[90m━━━\u001B[0m \u001B[32m531.1/587.7 MB\u001B[0m \u001B[31m180.1 MB/s\u001B[0m eta \u001B[36m0:00:01\u001B[0m\r\u001B[2K     \u001B[91m━━━━━━━━━━━━━━━━━━━━━━━━━━━━━━━━━\u001B[0m\u001B[91m╸\u001B[0m\u001B[90m━━━\u001B[0m \u001B[32m537.3/587.7 MB\u001B[0m \u001B[31m166.9 MB/s\u001B[0m eta \u001B[36m0:00:01\u001B[0m\r\u001B[2K     \u001B[91m━━━━━━━━━━━━━━━━━━━━━━━━━━━━━━━━━━\u001B[0m\u001B[90m╺\u001B[0m\u001B[90m━━\u001B[0m \u001B[32m543.8/587.7 MB\u001B[0m \u001B[31m183.9 MB/s\u001B[0m eta \u001B[36m0:00:01\u001B[0m\r\u001B[2K     \u001B[91m━━━━━━━━━━━━━━━━━━━━━━━━━━━━━━━━━━\u001B[0m\u001B[91m╸\u001B[0m\u001B[90m━━\u001B[0m \u001B[32m550.2/587.7 MB\u001B[0m \u001B[31m186.6 MB/s\u001B[0m eta \u001B[36m0:00:01\u001B[0m\r\u001B[2K     \u001B[91m━━━━━━━━━━━━━━━━━━━━━━━━━━━━━━━━━━━\u001B[0m\u001B[90m╺\u001B[0m\u001B[90m━\u001B[0m \u001B[32m556.6/587.7 MB\u001B[0m \u001B[31m184.4 MB/s\u001B[0m eta \u001B[36m0:00:01\u001B[0m\r\u001B[2K     \u001B[91m━━━━━━━━━━━━━━━━━━━━━━━━━━━━━━━━━━━\u001B[0m\u001B[90m╺\u001B[0m\u001B[90m━\u001B[0m \u001B[32m563.0/587.7 MB\u001B[0m \u001B[31m182.9 MB/s\u001B[0m eta \u001B[36m0:00:01\u001B[0m\r\u001B[2K     \u001B[91m━━━━━━━━━━━━━━━━━━━━━━━━━━━━━━━━━━━\u001B[0m\u001B[91m╸\u001B[0m\u001B[90m━\u001B[0m \u001B[32m569.4/587.7 MB\u001B[0m \u001B[31m183.8 MB/s\u001B[0m eta \u001B[36m0:00:01\u001B[0m\r\u001B[2K     \u001B[91m━━━━━━━━━━━━━━━━━━━━━━━━━━━━━━━━━━━━\u001B[0m\u001B[90m╺\u001B[0m \u001B[32m574.8/587.7 MB\u001B[0m \u001B[31m167.6 MB/s\u001B[0m eta \u001B[36m0:00:01\u001B[0m\r\u001B[2K     \u001B[91m━━━━━━━━━━━━━━━━━━━━━━━━━━━━━━━━━━━━\u001B[0m\u001B[91m╸\u001B[0m \u001B[32m580.3/587.7 MB\u001B[0m \u001B[31m156.7 MB/s\u001B[0m eta \u001B[36m0:00:01\u001B[0m\r\u001B[2K     \u001B[91m━━━━━━━━━━━━━━━━━━━━━━━━━━━━━━━━━━━━\u001B[0m\u001B[91m╸\u001B[0m \u001B[32m586.2/587.7 MB\u001B[0m \u001B[31m163.8 MB/s\u001B[0m eta \u001B[36m0:00:01\u001B[0m\r\u001B[2K     \u001B[91m━━━━━━━━━━━━━━━━━━━━━━━━━━━━━━━━━━━━\u001B[0m\u001B[91m╸\u001B[0m \u001B[32m587.7/587.7 MB\u001B[0m \u001B[31m163.8 MB/s\u001B[0m eta \u001B[36m0:00:01\u001B[0m\r\u001B[2K     \u001B[91m━━━━━━━━━━━━━━━━━━━━━━━━━━━━━━━━━━━━\u001B[0m\u001B[91m╸\u001B[0m \u001B[32m587.7/587.7 MB\u001B[0m \u001B[31m163.8 MB/s\u001B[0m eta \u001B[36m0:00:01\u001B[0m\r\u001B[2K     \u001B[91m━━━━━━━━━━━━━━━━━━━━━━━━━━━━━━━━━━━━\u001B[0m\u001B[91m╸\u001B[0m \u001B[32m587.7/587.7 MB\u001B[0m \u001B[31m163.8 MB/s\u001B[0m eta \u001B[36m0:00:01\u001B[0m\r\u001B[2K     \u001B[91m━━━━━━━━━━━━━━━━━━━━━━━━━━━━━━━━━━━━\u001B[0m\u001B[91m╸\u001B[0m \u001B[32m587.7/587.7 MB\u001B[0m \u001B[31m163.8 MB/s\u001B[0m eta \u001B[36m0:00:01\u001B[0m\r\u001B[2K     \u001B[91m━━━━━━━━━━━━━━━━━━━━━━━━━━━━━━━━━━━━\u001B[0m\u001B[91m╸\u001B[0m \u001B[32m587.7/587.7 MB\u001B[0m \u001B[31m163.8 MB/s\u001B[0m eta \u001B[36m0:00:01\u001B[0m\r\u001B[2K     \u001B[91m━━━━━━━━━━━━━━━━━━━━━━━━━━━━━━━━━━━━\u001B[0m\u001B[91m╸\u001B[0m \u001B[32m587.7/587.7 MB\u001B[0m \u001B[31m163.8 MB/s\u001B[0m eta \u001B[36m0:00:01\u001B[0m\r\u001B[2K     \u001B[91m━━━━━━━━━━━━━━━━━━━━━━━━━━━━━━━━━━━━\u001B[0m\u001B[91m╸\u001B[0m \u001B[32m587.7/587.7 MB\u001B[0m \u001B[31m163.8 MB/s\u001B[0m eta \u001B[36m0:00:01\u001B[0m\r\u001B[2K     \u001B[91m━━━━━━━━━━━━━━━━━━━━━━━━━━━━━━━━━━━━\u001B[0m\u001B[91m╸\u001B[0m \u001B[32m587.7/587.7 MB\u001B[0m \u001B[31m163.8 MB/s\u001B[0m eta \u001B[36m0:00:01\u001B[0m\r\u001B[2K     \u001B[91m━━━━━━━━━━━━━━━━━━━━━━━━━━━━━━━━━━━━\u001B[0m\u001B[91m╸\u001B[0m \u001B[32m587.7/587.7 MB\u001B[0m \u001B[31m163.8 MB/s\u001B[0m eta \u001B[36m0:00:01\u001B[0m\r\u001B[2K     \u001B[91m━━━━━━━━━━━━━━━━━━━━━━━━━━━━━━━━━━━━\u001B[0m\u001B[91m╸\u001B[0m \u001B[32m587.7/587.7 MB\u001B[0m \u001B[31m163.8 MB/s\u001B[0m eta \u001B[36m0:00:01\u001B[0m\r\u001B[2K     \u001B[91m━━━━━━━━━━━━━━━━━━━━━━━━━━━━━━━━━━━━\u001B[0m\u001B[91m╸\u001B[0m \u001B[32m587.7/587.7 MB\u001B[0m \u001B[31m163.8 MB/s\u001B[0m eta \u001B[36m0:00:01\u001B[0m\r\u001B[2K     \u001B[91m━━━━━━━━━━━━━━━━━━━━━━━━━━━━━━━━━━━━\u001B[0m\u001B[91m╸\u001B[0m \u001B[32m587.7/587.7 MB\u001B[0m \u001B[31m163.8 MB/s\u001B[0m eta \u001B[36m0:00:01\u001B[0m\r\u001B[2K     \u001B[91m━━━━━━━━━━━━━━━━━━━━━━━━━━━━━━━━━━━━\u001B[0m\u001B[91m╸\u001B[0m \u001B[32m587.7/587.7 MB\u001B[0m \u001B[31m163.8 MB/s\u001B[0m eta \u001B[36m0:00:01\u001B[0m\r\u001B[2K     \u001B[91m━━━━━━━━━━━━━━━━━━━━━━━━━━━━━━━━━━━━\u001B[0m\u001B[91m╸\u001B[0m \u001B[32m587.7/587.7 MB\u001B[0m \u001B[31m163.8 MB/s\u001B[0m eta \u001B[36m0:00:01\u001B[0m\r\u001B[2K     \u001B[91m━━━━━━━━━━━━━━━━━━━━━━━━━━━━━━━━━━━━\u001B[0m\u001B[91m╸\u001B[0m \u001B[32m587.7/587.7 MB\u001B[0m \u001B[31m163.8 MB/s\u001B[0m eta \u001B[36m0:00:01\u001B[0m\r\u001B[2K     \u001B[91m━━━━━━━━━━━━━━━━━━━━━━━━━━━━━━━━━━━━\u001B[0m\u001B[91m╸\u001B[0m \u001B[32m587.7/587.7 MB\u001B[0m \u001B[31m163.8 MB/s\u001B[0m eta \u001B[36m0:00:01\u001B[0m\r\u001B[2K     \u001B[91m━━━━━━━━━━━━━━━━━━━━━━━━━━━━━━━━━━━━\u001B[0m\u001B[91m╸\u001B[0m \u001B[32m587.7/587.7 MB\u001B[0m \u001B[31m163.8 MB/s\u001B[0m eta \u001B[36m0:00:01\u001B[0m\r\u001B[2K     \u001B[91m━━━━━━━━━━━━━━━━━━━━━━━━━━━━━━━━━━━━\u001B[0m\u001B[91m╸\u001B[0m \u001B[32m587.7/587.7 MB\u001B[0m \u001B[31m163.8 MB/s\u001B[0m eta \u001B[36m0:00:01\u001B[0m\r\u001B[2K     \u001B[91m━━━━━━━━━━━━━━━━━━━━━━━━━━━━━━━━━━━━\u001B[0m\u001B[91m╸\u001B[0m \u001B[32m587.7/587.7 MB\u001B[0m \u001B[31m163.8 MB/s\u001B[0m eta \u001B[36m0:00:01\u001B[0m\r\u001B[2K     \u001B[91m━━━━━━━━━━━━━━━━━━━━━━━━━━━━━━━━━━━━\u001B[0m\u001B[91m╸\u001B[0m \u001B[32m587.7/587.7 MB\u001B[0m \u001B[31m163.8 MB/s\u001B[0m eta \u001B[36m0:00:01\u001B[0m\r\u001B[2K     \u001B[91m━━━━━━━━━━━━━━━━━━━━━━━━━━━━━━━━━━━━\u001B[0m\u001B[91m╸\u001B[0m \u001B[32m587.7/587.7 MB\u001B[0m \u001B[31m163.8 MB/s\u001B[0m eta \u001B[36m0:00:01\u001B[0m\r\u001B[2K     \u001B[91m━━━━━━━━━━━━━━━━━━━━━━━━━━━━━━━━━━━━\u001B[0m\u001B[91m╸\u001B[0m \u001B[32m587.7/587.7 MB\u001B[0m \u001B[31m163.8 MB/s\u001B[0m eta \u001B[36m0:00:01\u001B[0m\r\u001B[2K     \u001B[91m━━━━━━━━━━━━━━━━━━━━━━━━━━━━━━━━━━━━\u001B[0m\u001B[91m╸\u001B[0m \u001B[32m587.7/587.7 MB\u001B[0m \u001B[31m163.8 MB/s\u001B[0m eta \u001B[36m0:00:01\u001B[0m\r\u001B[2K     \u001B[91m━━━━━━━━━━━━━━━━━━━━━━━━━━━━━━━━━━━━\u001B[0m\u001B[91m╸\u001B[0m \u001B[32m587.7/587.7 MB\u001B[0m \u001B[31m163.8 MB/s\u001B[0m eta \u001B[36m0:00:01\u001B[0m\r\u001B[2K     \u001B[91m━━━━━━━━━━━━━━━━━━━━━━━━━━━━━━━━━━━━\u001B[0m\u001B[91m╸\u001B[0m \u001B[32m587.7/587.7 MB\u001B[0m \u001B[31m163.8 MB/s\u001B[0m eta \u001B[36m0:00:01\u001B[0m\r\u001B[2K     \u001B[91m━━━━━━━━━━━━━━━━━━━━━━━━━━━━━━━━━━━━\u001B[0m\u001B[91m╸\u001B[0m \u001B[32m587.7/587.7 MB\u001B[0m \u001B[31m163.8 MB/s\u001B[0m eta \u001B[36m0:00:01\u001B[0m\r\u001B[2K     \u001B[91m━━━━━━━━━━━━━━━━━━━━━━━━━━━━━━━━━━━━\u001B[0m\u001B[91m╸\u001B[0m \u001B[32m587.7/587.7 MB\u001B[0m \u001B[31m163.8 MB/s\u001B[0m eta \u001B[36m0:00:01\u001B[0m\r\u001B[2K     \u001B[91m━━━━━━━━━━━━━━━━━━━━━━━━━━━━━━━━━━━━\u001B[0m\u001B[91m╸\u001B[0m \u001B[32m587.7/587.7 MB\u001B[0m \u001B[31m163.8 MB/s\u001B[0m eta \u001B[36m0:00:01\u001B[0m\r\u001B[2K     \u001B[91m━━━━━━━━━━━━━━━━━━━━━━━━━━━━━━━━━━━━\u001B[0m\u001B[91m╸\u001B[0m \u001B[32m587.7/587.7 MB\u001B[0m \u001B[31m163.8 MB/s\u001B[0m eta \u001B[36m0:00:01\u001B[0m\r\u001B[2K     \u001B[91m━━━━━━━━━━━━━━━━━━━━━━━━━━━━━━━━━━━━\u001B[0m\u001B[91m╸\u001B[0m \u001B[32m587.7/587.7 MB\u001B[0m \u001B[31m163.8 MB/s\u001B[0m eta \u001B[36m0:00:01\u001B[0m\r\u001B[2K     \u001B[91m━━━━━━━━━━━━━━━━━━━━━━━━━━━━━━━━━━━━\u001B[0m\u001B[91m╸\u001B[0m \u001B[32m587.7/587.7 MB\u001B[0m \u001B[31m163.8 MB/s\u001B[0m eta \u001B[36m0:00:01\u001B[0m\r\u001B[2K     \u001B[91m━━━━━━━━━━━━━━━━━━━━━━━━━━━━━━━━━━━━\u001B[0m\u001B[91m╸\u001B[0m \u001B[32m587.7/587.7 MB\u001B[0m \u001B[31m163.8 MB/s\u001B[0m eta \u001B[36m0:00:01\u001B[0m\r\u001B[2K     \u001B[91m━━━━━━━━━━━━━━━━━━━━━━━━━━━━━━━━━━━━\u001B[0m\u001B[91m╸\u001B[0m \u001B[32m587.7/587.7 MB\u001B[0m \u001B[31m163.8 MB/s\u001B[0m eta \u001B[36m0:00:01\u001B[0m\r\u001B[2K     \u001B[91m━━━━━━━━━━━━━━━━━━━━━━━━━━━━━━━━━━━━\u001B[0m\u001B[91m╸\u001B[0m \u001B[32m587.7/587.7 MB\u001B[0m \u001B[31m163.8 MB/s\u001B[0m eta \u001B[36m0:00:01\u001B[0m\r\u001B[2K     \u001B[91m━━━━━━━━━━━━━━━━━━━━━━━━━━━━━━━━━━━━\u001B[0m\u001B[91m╸\u001B[0m \u001B[32m587.7/587.7 MB\u001B[0m \u001B[31m163.8 MB/s\u001B[0m eta \u001B[36m0:00:01\u001B[0m\r\u001B[2K     \u001B[91m━━━━━━━━━━━━━━━━━━━━━━━━━━━━━━━━━━━━\u001B[0m\u001B[91m╸\u001B[0m \u001B[32m587.7/587.7 MB\u001B[0m \u001B[31m163.8 MB/s\u001B[0m eta \u001B[36m0:00:01\u001B[0m\r\u001B[2K     \u001B[91m━━━━━━━━━━━━━━━━━━━━━━━━━━━━━━━━━━━━\u001B[0m\u001B[91m╸\u001B[0m \u001B[32m587.7/587.7 MB\u001B[0m \u001B[31m163.8 MB/s\u001B[0m eta \u001B[36m0:00:01\u001B[0m\r\u001B[2K     \u001B[91m━━━━━━━━━━━━━━━━━━━━━━━━━━━━━━━━━━━━\u001B[0m\u001B[91m╸\u001B[0m \u001B[32m587.7/587.7 MB\u001B[0m \u001B[31m163.8 MB/s\u001B[0m eta \u001B[36m0:00:01\u001B[0m\r\u001B[2K     \u001B[91m━━━━━━━━━━━━━━━━━━━━━━━━━━━━━━━━━━━━\u001B[0m\u001B[91m╸\u001B[0m \u001B[32m587.7/587.7 MB\u001B[0m \u001B[31m163.8 MB/s\u001B[0m eta \u001B[36m0:00:01\u001B[0m\r\u001B[2K     \u001B[91m━━━━━━━━━━━━━━━━━━━━━━━━━━━━━━━━━━━━\u001B[0m\u001B[91m╸\u001B[0m \u001B[32m587.7/587.7 MB\u001B[0m \u001B[31m163.8 MB/s\u001B[0m eta \u001B[36m0:00:01\u001B[0m\r\u001B[2K     \u001B[91m━━━━━━━━━━━━━━━━━━━━━━━━━━━━━━━━━━━━\u001B[0m\u001B[91m╸\u001B[0m \u001B[32m587.7/587.7 MB\u001B[0m \u001B[31m163.8 MB/s\u001B[0m eta \u001B[36m0:00:01\u001B[0m\r\u001B[2K     \u001B[91m━━━━━━━━━━━━━━━━━━━━━━━━━━━━━━━━━━━━\u001B[0m\u001B[91m╸\u001B[0m \u001B[32m587.7/587.7 MB\u001B[0m \u001B[31m163.8 MB/s\u001B[0m eta \u001B[36m0:00:01\u001B[0m\r\u001B[2K     \u001B[91m━━━━━━━━━━━━━━━━━━━━━━━━━━━━━━━━━━━━\u001B[0m\u001B[91m╸\u001B[0m \u001B[32m587.7/587.7 MB\u001B[0m \u001B[31m163.8 MB/s\u001B[0m eta \u001B[36m0:00:01\u001B[0m\r\u001B[2K     \u001B[91m━━━━━━━━━━━━━━━━━━━━━━━━━━━━━━━━━━━━\u001B[0m\u001B[91m╸\u001B[0m \u001B[32m587.7/587.7 MB\u001B[0m \u001B[31m163.8 MB/s\u001B[0m eta \u001B[36m0:00:01\u001B[0m\r\u001B[2K     \u001B[91m━━━━━━━━━━━━━━━━━━━━━━━━━━━━━━━━━━━━\u001B[0m\u001B[91m╸\u001B[0m \u001B[32m587.7/587.7 MB\u001B[0m \u001B[31m163.8 MB/s\u001B[0m eta \u001B[36m0:00:01\u001B[0m\r\u001B[2K     \u001B[91m━━━━━━━━━━━━━━━━━━━━━━━━━━━━━━━━━━━━\u001B[0m\u001B[91m╸\u001B[0m \u001B[32m587.7/587.7 MB\u001B[0m \u001B[31m163.8 MB/s\u001B[0m eta \u001B[36m0:00:01\u001B[0m\r\u001B[2K     \u001B[91m━━━━━━━━━━━━━━━━━━━━━━━━━━━━━━━━━━━━\u001B[0m\u001B[91m╸\u001B[0m \u001B[32m587.7/587.7 MB\u001B[0m \u001B[31m163.8 MB/s\u001B[0m eta \u001B[36m0:00:01\u001B[0m\r\u001B[2K     \u001B[91m━━━━━━━━━━━━━━━━━━━━━━━━━━━━━━━━━━━━\u001B[0m\u001B[91m╸\u001B[0m \u001B[32m587.7/587.7 MB\u001B[0m \u001B[31m163.8 MB/s\u001B[0m eta \u001B[36m0:00:01\u001B[0m\r\u001B[2K     \u001B[91m━━━━━━━━━━━━━━━━━━━━━━━━━━━━━━━━━━━━\u001B[0m\u001B[91m╸\u001B[0m \u001B[32m587.7/587.7 MB\u001B[0m \u001B[31m163.8 MB/s\u001B[0m eta \u001B[36m0:00:01\u001B[0m\r\u001B[2K     \u001B[91m━━━━━━━━━━━━━━━━━━━━━━━━━━━━━━━━━━━━\u001B[0m\u001B[91m╸\u001B[0m \u001B[32m587.7/587.7 MB\u001B[0m \u001B[31m163.8 MB/s\u001B[0m eta \u001B[36m0:00:01\u001B[0m\r\u001B[2K     \u001B[91m━━━━━━━━━━━━━━━━━━━━━━━━━━━━━━━━━━━━\u001B[0m\u001B[91m╸\u001B[0m \u001B[32m587.7/587.7 MB\u001B[0m \u001B[31m163.8 MB/s\u001B[0m eta \u001B[36m0:00:01\u001B[0m\r\u001B[2K     \u001B[91m━━━━━━━━━━━━━━━━━━━━━━━━━━━━━━━━━━━━\u001B[0m\u001B[91m╸\u001B[0m \u001B[32m587.7/587.7 MB\u001B[0m \u001B[31m163.8 MB/s\u001B[0m eta \u001B[36m0:00:01\u001B[0m\r\u001B[2K     \u001B[91m━━━━━━━━━━━━━━━━━━━━━━━━━━━━━━━━━━━━\u001B[0m\u001B[91m╸\u001B[0m \u001B[32m587.7/587.7 MB\u001B[0m \u001B[31m163.8 MB/s\u001B[0m eta \u001B[36m0:00:01\u001B[0m\r\u001B[2K     \u001B[91m━━━━━━━━━━━━━━━━━━━━━━━━━━━━━━━━━━━━\u001B[0m\u001B[91m╸\u001B[0m \u001B[32m587.7/587.7 MB\u001B[0m \u001B[31m163.8 MB/s\u001B[0m eta \u001B[36m0:00:01\u001B[0m\r\u001B[2K     \u001B[91m━━━━━━━━━━━━━━━━━━━━━━━━━━━━━━━━━━━━\u001B[0m\u001B[91m╸\u001B[0m \u001B[32m587.7/587.7 MB\u001B[0m \u001B[31m163.8 MB/s\u001B[0m eta \u001B[36m0:00:01\u001B[0m\r\u001B[2K     \u001B[91m━━━━━━━━━━━━━━━━━━━━━━━━━━━━━━━━━━━━\u001B[0m\u001B[91m╸\u001B[0m \u001B[32m587.7/587.7 MB\u001B[0m \u001B[31m163.8 MB/s\u001B[0m eta \u001B[36m0:00:01\u001B[0m\r\u001B[2K     \u001B[91m━━━━━━━━━━━━━━━━━━━━━━━━━━━━━━━━━━━━\u001B[0m\u001B[91m╸\u001B[0m \u001B[32m587.7/587.7 MB\u001B[0m \u001B[31m163.8 MB/s\u001B[0m eta \u001B[36m0:00:01\u001B[0m\r\u001B[2K     \u001B[91m━━━━━━━━━━━━━━━━━━━━━━━━━━━━━━━━━━━━\u001B[0m\u001B[91m╸\u001B[0m \u001B[32m587.7/587.7 MB\u001B[0m \u001B[31m163.8 MB/s\u001B[0m eta \u001B[36m0:00:01\u001B[0m\r\u001B[2K     \u001B[91m━━━━━━━━━━━━━━━━━━━━━━━━━━━━━━━━━━━━\u001B[0m\u001B[91m╸\u001B[0m \u001B[32m587.7/587.7 MB\u001B[0m \u001B[31m163.8 MB/s\u001B[0m eta \u001B[36m0:00:01\u001B[0m\r\u001B[2K     \u001B[91m━━━━━━━━━━━━━━━━━━━━━━━━━━━━━━━━━━━━\u001B[0m\u001B[91m╸\u001B[0m \u001B[32m587.7/587.7 MB\u001B[0m \u001B[31m163.8 MB/s\u001B[0m eta \u001B[36m0:00:01\u001B[0m\r\u001B[2K     \u001B[91m━━━━━━━━━━━━━━━━━━━━━━━━━━━━━━━━━━━━\u001B[0m\u001B[91m╸\u001B[0m \u001B[32m587.7/587.7 MB\u001B[0m \u001B[31m163.8 MB/s\u001B[0m eta \u001B[36m0:00:01\u001B[0m\r\u001B[2K     \u001B[91m━━━━━━━━━━━━━━━━━━━━━━━━━━━━━━━━━━━━\u001B[0m\u001B[91m╸\u001B[0m \u001B[32m587.7/587.7 MB\u001B[0m \u001B[31m163.8 MB/s\u001B[0m eta \u001B[36m0:00:01\u001B[0m\r\u001B[2K     \u001B[91m━━━━━━━━━━━━━━━━━━━━━━━━━━━━━━━━━━━━\u001B[0m\u001B[91m╸\u001B[0m \u001B[32m587.7/587.7 MB\u001B[0m \u001B[31m163.8 MB/s\u001B[0m eta \u001B[36m0:00:01\u001B[0m\r\u001B[2K     \u001B[91m━━━━━━━━━━━━━━━━━━━━━━━━━━━━━━━━━━━━\u001B[0m\u001B[91m╸\u001B[0m \u001B[32m587.7/587.7 MB\u001B[0m \u001B[31m163.8 MB/s\u001B[0m eta \u001B[36m0:00:01\u001B[0m\r\u001B[2K     \u001B[91m━━━━━━━━━━━━━━━━━━━━━━━━━━━━━━━━━━━━\u001B[0m\u001B[91m╸\u001B[0m \u001B[32m587.7/587.7 MB\u001B[0m \u001B[31m163.8 MB/s\u001B[0m eta \u001B[36m0:00:01\u001B[0m\r\u001B[2K     \u001B[91m━━━━━━━━━━━━━━━━━━━━━━━━━━━━━━━━━━━━\u001B[0m\u001B[91m╸\u001B[0m \u001B[32m587.7/587.7 MB\u001B[0m \u001B[31m163.8 MB/s\u001B[0m eta \u001B[36m0:00:01\u001B[0m\r\u001B[2K     \u001B[91m━━━━━━━━━━━━━━━━━━━━━━━━━━━━━━━━━━━━\u001B[0m\u001B[91m╸\u001B[0m \u001B[32m587.7/587.7 MB\u001B[0m \u001B[31m163.8 MB/s\u001B[0m eta \u001B[36m0:00:01\u001B[0m\r\u001B[2K     \u001B[91m━━━━━━━━━━━━━━━━━━━━━━━━━━━━━━━━━━━━\u001B[0m\u001B[91m╸\u001B[0m \u001B[32m587.7/587.7 MB\u001B[0m \u001B[31m163.8 MB/s\u001B[0m eta \u001B[36m0:00:01\u001B[0m\r\u001B[2K     \u001B[91m━━━━━━━━━━━━━━━━━━━━━━━━━━━━━━━━━━━━\u001B[0m\u001B[91m╸\u001B[0m \u001B[32m587.7/587.7 MB\u001B[0m \u001B[31m163.8 MB/s\u001B[0m eta \u001B[36m0:00:01\u001B[0m\r\u001B[2K     \u001B[91m━━━━━━━━━━━━━━━━━━━━━━━━━━━━━━━━━━━━\u001B[0m\u001B[91m╸\u001B[0m \u001B[32m587.7/587.7 MB\u001B[0m \u001B[31m163.8 MB/s\u001B[0m eta \u001B[36m0:00:01\u001B[0m\r\u001B[2K     \u001B[91m━━━━━━━━━━━━━━━━━━━━━━━━━━━━━━━━━━━━\u001B[0m\u001B[91m╸\u001B[0m \u001B[32m587.7/587.7 MB\u001B[0m \u001B[31m163.8 MB/s\u001B[0m eta \u001B[36m0:00:01\u001B[0m\r\u001B[2K     \u001B[91m━━━━━━━━━━━━━━━━━━━━━━━━━━━━━━━━━━━━\u001B[0m\u001B[91m╸\u001B[0m \u001B[32m587.7/587.7 MB\u001B[0m \u001B[31m163.8 MB/s\u001B[0m eta \u001B[36m0:00:01\u001B[0m\r\u001B[2K     \u001B[91m━━━━━━━━━━━━━━━━━━━━━━━━━━━━━━━━━━━━\u001B[0m\u001B[91m╸\u001B[0m \u001B[32m587.7/587.7 MB\u001B[0m \u001B[31m163.8 MB/s\u001B[0m eta \u001B[36m0:00:01\u001B[0m\r\u001B[2K     \u001B[91m━━━━━━━━━━━━━━━━━━━━━━━━━━━━━━━━━━━━\u001B[0m\u001B[91m╸\u001B[0m \u001B[32m587.7/587.7 MB\u001B[0m \u001B[31m163.8 MB/s\u001B[0m eta \u001B[36m0:00:01\u001B[0m\r\u001B[2K     \u001B[91m━━━━━━━━━━━━━━━━━━━━━━━━━━━━━━━━━━━━\u001B[0m\u001B[91m╸\u001B[0m \u001B[32m587.7/587.7 MB\u001B[0m \u001B[31m163.8 MB/s\u001B[0m eta \u001B[36m0:00:01\u001B[0m\r\u001B[2K     \u001B[91m━━━━━━━━━━━━━━━━━━━━━━━━━━━━━━━━━━━━\u001B[0m\u001B[91m╸\u001B[0m \u001B[32m587.7/587.7 MB\u001B[0m \u001B[31m163.8 MB/s\u001B[0m eta \u001B[36m0:00:01\u001B[0m\r\u001B[2K     \u001B[91m━━━━━━━━━━━━━━━━━━━━━━━━━━━━━━━━━━━━\u001B[0m\u001B[91m╸\u001B[0m \u001B[32m587.7/587.7 MB\u001B[0m \u001B[31m163.8 MB/s\u001B[0m eta \u001B[36m0:00:01\u001B[0m\r\u001B[2K     \u001B[91m━━━━━━━━━━━━━━━━━━━━━━━━━━━━━━━━━━━━\u001B[0m\u001B[91m╸\u001B[0m \u001B[32m587.7/587.7 MB\u001B[0m \u001B[31m163.8 MB/s\u001B[0m eta \u001B[36m0:00:01\u001B[0m\r\u001B[2K     \u001B[91m━━━━━━━━━━━━━━━━━━━━━━━━━━━━━━━━━━━━\u001B[0m\u001B[91m╸\u001B[0m \u001B[32m587.7/587.7 MB\u001B[0m \u001B[31m163.8 MB/s\u001B[0m eta \u001B[36m0:00:01\u001B[0m\r\u001B[2K     \u001B[91m━━━━━━━━━━━━━━━━━━━━━━━━━━━━━━━━━━━━\u001B[0m\u001B[91m╸\u001B[0m \u001B[32m587.7/587.7 MB\u001B[0m \u001B[31m163.8 MB/s\u001B[0m eta \u001B[36m0:00:01\u001B[0m\r\u001B[2K     \u001B[91m━━━━━━━━━━━━━━━━━━━━━━━━━━━━━━━━━━━━\u001B[0m\u001B[91m╸\u001B[0m \u001B[32m587.7/587.7 MB\u001B[0m \u001B[31m163.8 MB/s\u001B[0m eta \u001B[36m0:00:01\u001B[0m\r\u001B[2K     \u001B[91m━━━━━━━━━━━━━━━━━━━━━━━━━━━━━━━━━━━━\u001B[0m\u001B[91m╸\u001B[0m \u001B[32m587.7/587.7 MB\u001B[0m \u001B[31m163.8 MB/s\u001B[0m eta \u001B[36m0:00:01\u001B[0m\r\u001B[2K     \u001B[91m━━━━━━━━━━━━━━━━━━━━━━━━━━━━━━━━━━━━\u001B[0m\u001B[91m╸\u001B[0m \u001B[32m587.7/587.7 MB\u001B[0m \u001B[31m163.8 MB/s\u001B[0m eta \u001B[36m0:00:01\u001B[0m\r\u001B[2K     \u001B[91m━━━━━━━━━━━━━━━━━━━━━━━━━━━━━━━━━━━━\u001B[0m\u001B[91m╸\u001B[0m \u001B[32m587.7/587.7 MB\u001B[0m \u001B[31m163.8 MB/s\u001B[0m eta \u001B[36m0:00:01\u001B[0m\r\u001B[2K     \u001B[91m━━━━━━━━━━━━━━━━━━━━━━━━━━━━━━━━━━━━\u001B[0m\u001B[91m╸\u001B[0m \u001B[32m587.7/587.7 MB\u001B[0m \u001B[31m163.8 MB/s\u001B[0m eta \u001B[36m0:00:01\u001B[0m\r\u001B[2K     \u001B[91m━━━━━━━━━━━━━━━━━━━━━━━━━━━━━━━━━━━━\u001B[0m\u001B[91m╸\u001B[0m \u001B[32m587.7/587.7 MB\u001B[0m \u001B[31m163.8 MB/s\u001B[0m eta \u001B[36m0:00:01\u001B[0m\r\u001B[2K     \u001B[91m━━━━━━━━━━━━━━━━━━━━━━━━━━━━━━━━━━━━\u001B[0m\u001B[91m╸\u001B[0m \u001B[32m587.7/587.7 MB\u001B[0m \u001B[31m163.8 MB/s\u001B[0m eta \u001B[36m0:00:01\u001B[0m\r\u001B[2K     \u001B[91m━━━━━━━━━━━━━━━━━━━━━━━━━━━━━━━━━━━━\u001B[0m\u001B[91m╸\u001B[0m \u001B[32m587.7/587.7 MB\u001B[0m \u001B[31m163.8 MB/s\u001B[0m eta \u001B[36m0:00:01\u001B[0m\r\u001B[2K     \u001B[91m━━━━━━━━━━━━━━━━━━━━━━━━━━━━━━━━━━━━\u001B[0m\u001B[91m╸\u001B[0m \u001B[32m587.7/587.7 MB\u001B[0m \u001B[31m163.8 MB/s\u001B[0m eta \u001B[36m0:00:01\u001B[0m\r\u001B[2K     \u001B[91m━━━━━━━━━━━━━━━━━━━━━━━━━━━━━━━━━━━━\u001B[0m\u001B[91m╸\u001B[0m \u001B[32m587.7/587.7 MB\u001B[0m \u001B[31m163.8 MB/s\u001B[0m eta \u001B[36m0:00:01\u001B[0m\r\u001B[2K     \u001B[91m━━━━━━━━━━━━━━━━━━━━━━━━━━━━━━━━━━━━\u001B[0m\u001B[91m╸\u001B[0m \u001B[32m587.7/587.7 MB\u001B[0m \u001B[31m163.8 MB/s\u001B[0m eta \u001B[36m0:00:01\u001B[0m\r\u001B[2K     \u001B[91m━━━━━━━━━━━━━━━━━━━━━━━━━━━━━━━━━━━━\u001B[0m\u001B[91m╸\u001B[0m \u001B[32m587.7/587.7 MB\u001B[0m \u001B[31m163.8 MB/s\u001B[0m eta \u001B[36m0:00:01\u001B[0m\r\u001B[2K     \u001B[91m━━━━━━━━━━━━━━━━━━━━━━━━━━━━━━━━━━━━\u001B[0m\u001B[91m╸\u001B[0m \u001B[32m587.7/587.7 MB\u001B[0m \u001B[31m163.8 MB/s\u001B[0m eta \u001B[36m0:00:01\u001B[0m\r\u001B[2K     \u001B[91m━━━━━━━━━━━━━━━━━━━━━━━━━━━━━━━━━━━━\u001B[0m\u001B[91m╸\u001B[0m \u001B[32m587.7/587.7 MB\u001B[0m \u001B[31m163.8 MB/s\u001B[0m eta \u001B[36m0:00:01\u001B[0m\r\u001B[2K     \u001B[91m━━━━━━━━━━━━━━━━━━━━━━━━━━━━━━━━━━━━\u001B[0m\u001B[91m╸\u001B[0m \u001B[32m587.7/587.7 MB\u001B[0m \u001B[31m163.8 MB/s\u001B[0m eta \u001B[36m0:00:01\u001B[0m\r\u001B[2K     \u001B[91m━━━━━━━━━━━━━━━━━━━━━━━━━━━━━━━━━━━━\u001B[0m\u001B[91m╸\u001B[0m \u001B[32m587.7/587.7 MB\u001B[0m \u001B[31m163.8 MB/s\u001B[0m eta \u001B[36m0:00:01\u001B[0m\r\u001B[2K     \u001B[91m━━━━━━━━━━━━━━━━━━━━━━━━━━━━━━━━━━━━\u001B[0m\u001B[91m╸\u001B[0m \u001B[32m587.7/587.7 MB\u001B[0m \u001B[31m163.8 MB/s\u001B[0m eta \u001B[36m0:00:01\u001B[0m\r\u001B[2K     \u001B[91m━━━━━━━━━━━━━━━━━━━━━━━━━━━━━━━━━━━━\u001B[0m\u001B[91m╸\u001B[0m \u001B[32m587.7/587.7 MB\u001B[0m \u001B[31m163.8 MB/s\u001B[0m eta \u001B[36m0:00:01\u001B[0m\r\u001B[2K     \u001B[91m━━━━━━━━━━━━━━━━━━━━━━━━━━━━━━━━━━━━\u001B[0m\u001B[91m╸\u001B[0m \u001B[32m587.7/587.7 MB\u001B[0m \u001B[31m163.8 MB/s\u001B[0m eta \u001B[36m0:00:01\u001B[0m\r\u001B[2K     \u001B[91m━━━━━━━━━━━━━━━━━━━━━━━━━━━━━━━━━━━━\u001B[0m\u001B[91m╸\u001B[0m \u001B[32m587.7/587.7 MB\u001B[0m \u001B[31m163.8 MB/s\u001B[0m eta \u001B[36m0:00:01\u001B[0m\r\u001B[2K     \u001B[91m━━━━━━━━━━━━━━━━━━━━━━━━━━━━━━━━━━━━\u001B[0m\u001B[91m╸\u001B[0m \u001B[32m587.7/587.7 MB\u001B[0m \u001B[31m163.8 MB/s\u001B[0m eta \u001B[36m0:00:01\u001B[0m\r\u001B[2K     \u001B[91m━━━━━━━━━━━━━━━━━━━━━━━━━━━━━━━━━━━━\u001B[0m\u001B[91m╸\u001B[0m \u001B[32m587.7/587.7 MB\u001B[0m \u001B[31m163.8 MB/s\u001B[0m eta \u001B[36m0:00:01\u001B[0m\r\u001B[2K     \u001B[91m━━━━━━━━━━━━━━━━━━━━━━━━━━━━━━━━━━━━\u001B[0m\u001B[91m╸\u001B[0m \u001B[32m587.7/587.7 MB\u001B[0m \u001B[31m163.8 MB/s\u001B[0m eta \u001B[36m0:00:01\u001B[0m\r\u001B[2K     \u001B[91m━━━━━━━━━━━━━━━━━━━━━━━━━━━━━━━━━━━━\u001B[0m\u001B[91m╸\u001B[0m \u001B[32m587.7/587.7 MB\u001B[0m \u001B[31m163.8 MB/s\u001B[0m eta \u001B[36m0:00:01\u001B[0m\r\u001B[2K     \u001B[91m━━━━━━━━━━━━━━━━━━━━━━━━━━━━━━━━━━━━\u001B[0m\u001B[91m╸\u001B[0m \u001B[32m587.7/587.7 MB\u001B[0m \u001B[31m163.8 MB/s\u001B[0m eta \u001B[36m0:00:01\u001B[0m\r\u001B[2K     \u001B[91m━━━━━━━━━━━━━━━━━━━━━━━━━━━━━━━━━━━━\u001B[0m\u001B[91m╸\u001B[0m \u001B[32m587.7/587.7 MB\u001B[0m \u001B[31m163.8 MB/s\u001B[0m eta \u001B[36m0:00:01\u001B[0m\r\u001B[2K     \u001B[91m━━━━━━━━━━━━━━━━━━━━━━━━━━━━━━━━━━━━\u001B[0m\u001B[91m╸\u001B[0m \u001B[32m587.7/587.7 MB\u001B[0m \u001B[31m163.8 MB/s\u001B[0m eta \u001B[36m0:00:01\u001B[0m\r\u001B[2K     \u001B[91m━━━━━━━━━━━━━━━━━━━━━━━━━━━━━━━━━━━━\u001B[0m\u001B[91m╸\u001B[0m \u001B[32m587.7/587.7 MB\u001B[0m \u001B[31m163.8 MB/s\u001B[0m eta \u001B[36m0:00:01\u001B[0m\r\u001B[2K     \u001B[91m━━━━━━━━━━━━━━━━━━━━━━━━━━━━━━━━━━━━\u001B[0m\u001B[91m╸\u001B[0m \u001B[32m587.7/587.7 MB\u001B[0m \u001B[31m163.8 MB/s\u001B[0m eta \u001B[36m0:00:01\u001B[0m\r\u001B[2K     \u001B[91m━━━━━━━━━━━━━━━━━━━━━━━━━━━━━━━━━━━━\u001B[0m\u001B[91m╸\u001B[0m \u001B[32m587.7/587.7 MB\u001B[0m \u001B[31m163.8 MB/s\u001B[0m eta \u001B[36m0:00:01\u001B[0m\r\u001B[2K     \u001B[91m━━━━━━━━━━━━━━━━━━━━━━━━━━━━━━━━━━━━\u001B[0m\u001B[91m╸\u001B[0m \u001B[32m587.7/587.7 MB\u001B[0m \u001B[31m163.8 MB/s\u001B[0m eta \u001B[36m0:00:01\u001B[0m\r\u001B[2K     \u001B[91m━━━━━━━━━━━━━━━━━━━━━━━━━━━━━━━━━━━━\u001B[0m\u001B[91m╸\u001B[0m \u001B[32m587.7/587.7 MB\u001B[0m \u001B[31m163.8 MB/s\u001B[0m eta \u001B[36m0:00:01\u001B[0m\r\u001B[2K     \u001B[91m━━━━━━━━━━━━━━━━━━━━━━━━━━━━━━━━━━━━\u001B[0m\u001B[91m╸\u001B[0m \u001B[32m587.7/587.7 MB\u001B[0m \u001B[31m163.8 MB/s\u001B[0m eta \u001B[36m0:00:01\u001B[0m\r\u001B[2K     \u001B[91m━━━━━━━━━━━━━━━━━━━━━━━━━━━━━━━━━━━━\u001B[0m\u001B[91m╸\u001B[0m \u001B[32m587.7/587.7 MB\u001B[0m \u001B[31m163.8 MB/s\u001B[0m eta \u001B[36m0:00:01\u001B[0m\r\u001B[2K     \u001B[91m━━━━━━━━━━━━━━━━━━━━━━━━━━━━━━━━━━━━\u001B[0m\u001B[91m╸\u001B[0m \u001B[32m587.7/587.7 MB\u001B[0m \u001B[31m163.8 MB/s\u001B[0m eta \u001B[36m0:00:01\u001B[0m\r\u001B[2K     \u001B[91m━━━━━━━━━━━━━━━━━━━━━━━━━━━━━━━━━━━━\u001B[0m\u001B[91m╸\u001B[0m \u001B[32m587.7/587.7 MB\u001B[0m \u001B[31m163.8 MB/s\u001B[0m eta \u001B[36m0:00:01\u001B[0m\r\u001B[2K     \u001B[91m━━━━━━━━━━━━━━━━━━━━━━━━━━━━━━━━━━━━\u001B[0m\u001B[91m╸\u001B[0m \u001B[32m587.7/587.7 MB\u001B[0m \u001B[31m163.8 MB/s\u001B[0m eta \u001B[36m0:00:01\u001B[0m\r\u001B[2K     \u001B[91m━━━━━━━━━━━━━━━━━━━━━━━━━━━━━━━━━━━━\u001B[0m\u001B[91m╸\u001B[0m \u001B[32m587.7/587.7 MB\u001B[0m \u001B[31m163.8 MB/s\u001B[0m eta \u001B[36m0:00:01\u001B[0m\r\u001B[2K     \u001B[91m━━━━━━━━━━━━━━━━━━━━━━━━━━━━━━━━━━━━\u001B[0m\u001B[91m╸\u001B[0m \u001B[32m587.7/587.7 MB\u001B[0m \u001B[31m163.8 MB/s\u001B[0m eta \u001B[36m0:00:01\u001B[0m\r\u001B[2K     \u001B[91m━━━━━━━━━━━━━━━━━━━━━━━━━━━━━━━━━━━━\u001B[0m\u001B[91m╸\u001B[0m \u001B[32m587.7/587.7 MB\u001B[0m \u001B[31m163.8 MB/s\u001B[0m eta \u001B[36m0:00:01\u001B[0m\r\u001B[2K     \u001B[91m━━━━━━━━━━━━━━━━━━━━━━━━━━━━━━━━━━━━\u001B[0m\u001B[91m╸\u001B[0m \u001B[32m587.7/587.7 MB\u001B[0m \u001B[31m163.8 MB/s\u001B[0m eta \u001B[36m0:00:01\u001B[0m\r\u001B[2K     \u001B[91m━━━━━━━━━━━━━━━━━━━━━━━━━━━━━━━━━━━━\u001B[0m\u001B[91m╸\u001B[0m \u001B[32m587.7/587.7 MB\u001B[0m \u001B[31m163.8 MB/s\u001B[0m eta \u001B[36m0:00:01\u001B[0m\r\u001B[2K     \u001B[91m━━━━━━━━━━━━━━━━━━━━━━━━━━━━━━━━━━━━\u001B[0m\u001B[91m╸\u001B[0m \u001B[32m587.7/587.7 MB\u001B[0m \u001B[31m163.8 MB/s\u001B[0m eta \u001B[36m0:00:01\u001B[0m\r\u001B[2K     \u001B[91m━━━━━━━━━━━━━━━━━━━━━━━━━━━━━━━━━━━━\u001B[0m\u001B[91m╸\u001B[0m \u001B[32m587.7/587.7 MB\u001B[0m \u001B[31m163.8 MB/s\u001B[0m eta \u001B[36m0:00:01\u001B[0m\r\u001B[2K     \u001B[91m━━━━━━━━━━━━━━━━━━━━━━━━━━━━━━━━━━━━\u001B[0m\u001B[91m╸\u001B[0m \u001B[32m587.7/587.7 MB\u001B[0m \u001B[31m163.8 MB/s\u001B[0m eta \u001B[36m0:00:01\u001B[0m\r\u001B[2K     \u001B[91m━━━━━━━━━━━━━━━━━━━━━━━━━━━━━━━━━━━━\u001B[0m\u001B[91m╸\u001B[0m \u001B[32m587.7/587.7 MB\u001B[0m \u001B[31m163.8 MB/s\u001B[0m eta \u001B[36m0:00:01\u001B[0m\r\u001B[2K     \u001B[91m━━━━━━━━━━━━━━━━━━━━━━━━━━━━━━━━━━━━\u001B[0m\u001B[91m╸\u001B[0m \u001B[32m587.7/587.7 MB\u001B[0m \u001B[31m163.8 MB/s\u001B[0m eta \u001B[36m0:00:01\u001B[0m\r\u001B[2K     \u001B[91m━━━━━━━━━━━━━━━━━━━━━━━━━━━━━━━━━━━━\u001B[0m\u001B[91m╸\u001B[0m \u001B[32m587.7/587.7 MB\u001B[0m \u001B[31m163.8 MB/s\u001B[0m eta \u001B[36m0:00:01\u001B[0m\r\u001B[2K     \u001B[91m━━━━━━━━━━━━━━━━━━━━━━━━━━━━━━━━━━━━\u001B[0m\u001B[91m╸\u001B[0m \u001B[32m587.7/587.7 MB\u001B[0m \u001B[31m163.8 MB/s\u001B[0m eta \u001B[36m0:00:01\u001B[0m\r\u001B[2K     \u001B[91m━━━━━━━━━━━━━━━━━━━━━━━━━━━━━━━━━━━━\u001B[0m\u001B[91m╸\u001B[0m \u001B[32m587.7/587.7 MB\u001B[0m \u001B[31m163.8 MB/s\u001B[0m eta \u001B[36m0:00:01\u001B[0m\r\u001B[2K     \u001B[91m━━━━━━━━━━━━━━━━━━━━━━━━━━━━━━━━━━━━\u001B[0m\u001B[91m╸\u001B[0m \u001B[32m587.7/587.7 MB\u001B[0m \u001B[31m163.8 MB/s\u001B[0m eta \u001B[36m0:00:01\u001B[0m\r\u001B[2K     \u001B[91m━━━━━━━━━━━━━━━━━━━━━━━━━━━━━━━━━━━━\u001B[0m\u001B[91m╸\u001B[0m \u001B[32m587.7/587.7 MB\u001B[0m \u001B[31m163.8 MB/s\u001B[0m eta \u001B[36m0:00:01\u001B[0m\r\u001B[2K     \u001B[91m━━━━━━━━━━━━━━━━━━━━━━━━━━━━━━━━━━━━\u001B[0m\u001B[91m╸\u001B[0m \u001B[32m587.7/587.7 MB\u001B[0m \u001B[31m163.8 MB/s\u001B[0m eta \u001B[36m0:00:01\u001B[0m\r\u001B[2K     \u001B[91m━━━━━━━━━━━━━━━━━━━━━━━━━━━━━━━━━━━━\u001B[0m\u001B[91m╸\u001B[0m \u001B[32m587.7/587.7 MB\u001B[0m \u001B[31m163.8 MB/s\u001B[0m eta \u001B[36m0:00:01\u001B[0m\r\u001B[2K     \u001B[91m━━━━━━━━━━━━━━━━━━━━━━━━━━━━━━━━━━━━\u001B[0m\u001B[91m╸\u001B[0m \u001B[32m587.7/587.7 MB\u001B[0m \u001B[31m163.8 MB/s\u001B[0m eta \u001B[36m0:00:01\u001B[0m\r\u001B[2K     \u001B[91m━━━━━━━━━━━━━━━━━━━━━━━━━━━━━━━━━━━━\u001B[0m\u001B[91m╸\u001B[0m \u001B[32m587.7/587.7 MB\u001B[0m \u001B[31m163.8 MB/s\u001B[0m eta \u001B[36m0:00:01\u001B[0m\r\u001B[2K     \u001B[91m━━━━━━━━━━━━━━━━━━━━━━━━━━━━━━━━━━━━\u001B[0m\u001B[91m╸\u001B[0m \u001B[32m587.7/587.7 MB\u001B[0m \u001B[31m163.8 MB/s\u001B[0m eta \u001B[36m0:00:01\u001B[0m\r\u001B[2K     \u001B[91m━━━━━━━━━━━━━━━━━━━━━━━━━━━━━━━━━━━━\u001B[0m\u001B[91m╸\u001B[0m \u001B[32m587.7/587.7 MB\u001B[0m \u001B[31m163.8 MB/s\u001B[0m eta \u001B[36m0:00:01\u001B[0m\r\u001B[2K     \u001B[91m━━━━━━━━━━━━━━━━━━━━━━━━━━━━━━━━━━━━\u001B[0m\u001B[91m╸\u001B[0m \u001B[32m587.7/587.7 MB\u001B[0m \u001B[31m163.8 MB/s\u001B[0m eta \u001B[36m0:00:01\u001B[0m\r\u001B[2K     \u001B[91m━━━━━━━━━━━━━━━━━━━━━━━━━━━━━━━━━━━━\u001B[0m\u001B[91m╸\u001B[0m \u001B[32m587.7/587.7 MB\u001B[0m \u001B[31m163.8 MB/s\u001B[0m eta \u001B[36m0:00:01\u001B[0m\r\u001B[2K     \u001B[91m━━━━━━━━━━━━━━━━━━━━━━━━━━━━━━━━━━━━\u001B[0m\u001B[91m╸\u001B[0m \u001B[32m587.7/587.7 MB\u001B[0m \u001B[31m163.8 MB/s\u001B[0m eta \u001B[36m0:00:01\u001B[0m\r\u001B[2K     \u001B[91m━━━━━━━━━━━━━━━━━━━━━━━━━━━━━━━━━━━━\u001B[0m\u001B[91m╸\u001B[0m \u001B[32m587.7/587.7 MB\u001B[0m \u001B[31m163.8 MB/s\u001B[0m eta \u001B[36m0:00:01\u001B[0m\r\u001B[2K     \u001B[91m━━━━━━━━━━━━━━━━━━━━━━━━━━━━━━━━━━━━\u001B[0m\u001B[91m╸\u001B[0m \u001B[32m587.7/587.7 MB\u001B[0m \u001B[31m163.8 MB/s\u001B[0m eta \u001B[36m0:00:01\u001B[0m\r\u001B[2K     \u001B[91m━━━━━━━━━━━━━━━━━━━━━━━━━━━━━━━━━━━━\u001B[0m\u001B[91m╸\u001B[0m \u001B[32m587.7/587.7 MB\u001B[0m \u001B[31m163.8 MB/s\u001B[0m eta \u001B[36m0:00:01\u001B[0m\r\u001B[2K     \u001B[91m━━━━━━━━━━━━━━━━━━━━━━━━━━━━━━━━━━━━\u001B[0m\u001B[91m╸\u001B[0m \u001B[32m587.7/587.7 MB\u001B[0m \u001B[31m163.8 MB/s\u001B[0m eta \u001B[36m0:00:01\u001B[0m\r\u001B[2K     \u001B[91m━━━━━━━━━━━━━━━━━━━━━━━━━━━━━━━━━━━━\u001B[0m\u001B[91m╸\u001B[0m \u001B[32m587.7/587.7 MB\u001B[0m \u001B[31m163.8 MB/s\u001B[0m eta \u001B[36m0:00:01\u001B[0m\r\u001B[2K     \u001B[91m━━━━━━━━━━━━━━━━━━━━━━━━━━━━━━━━━━━━\u001B[0m\u001B[91m╸\u001B[0m \u001B[32m587.7/587.7 MB\u001B[0m \u001B[31m163.8 MB/s\u001B[0m eta \u001B[36m0:00:01\u001B[0m\r\u001B[2K     \u001B[91m━━━━━━━━━━━━━━━━━━━━━━━━━━━━━━━━━━━━\u001B[0m\u001B[91m╸\u001B[0m \u001B[32m587.7/587.7 MB\u001B[0m \u001B[31m163.8 MB/s\u001B[0m eta \u001B[36m0:00:01\u001B[0m\r\u001B[2K     \u001B[91m━━━━━━━━━━━━━━━━━━━━━━━━━━━━━━━━━━━━\u001B[0m\u001B[91m╸\u001B[0m \u001B[32m587.7/587.7 MB\u001B[0m \u001B[31m163.8 MB/s\u001B[0m eta \u001B[36m0:00:01\u001B[0m\r\u001B[2K     \u001B[91m━━━━━━━━━━━━━━━━━━━━━━━━━━━━━━━━━━━━\u001B[0m\u001B[91m╸\u001B[0m \u001B[32m587.7/587.7 MB\u001B[0m \u001B[31m163.8 MB/s\u001B[0m eta \u001B[36m0:00:01\u001B[0m\r\u001B[2K     \u001B[91m━━━━━━━━━━━━━━━━━━━━━━━━━━━━━━━━━━━━\u001B[0m\u001B[91m╸\u001B[0m \u001B[32m587.7/587.7 MB\u001B[0m \u001B[31m163.8 MB/s\u001B[0m eta \u001B[36m0:00:01\u001B[0m\r\u001B[2K     \u001B[91m━━━━━━━━━━━━━━━━━━━━━━━━━━━━━━━━━━━━\u001B[0m\u001B[91m╸\u001B[0m \u001B[32m587.7/587.7 MB\u001B[0m \u001B[31m163.8 MB/s\u001B[0m eta \u001B[36m0:00:01\u001B[0m\r\u001B[2K     \u001B[91m━━━━━━━━━━━━━━━━━━━━━━━━━━━━━━━━━━━━\u001B[0m\u001B[91m╸\u001B[0m \u001B[32m587.7/587.7 MB\u001B[0m \u001B[31m163.8 MB/s\u001B[0m eta \u001B[36m0:00:01\u001B[0m\r\u001B[2K     \u001B[91m━━━━━━━━━━━━━━━━━━━━━━━━━━━━━━━━━━━━\u001B[0m\u001B[91m╸\u001B[0m \u001B[32m587.7/587.7 MB\u001B[0m \u001B[31m163.8 MB/s\u001B[0m eta \u001B[36m0:00:01\u001B[0m\r\u001B[2K     \u001B[91m━━━━━━━━━━━━━━━━━━━━━━━━━━━━━━━━━━━━\u001B[0m\u001B[91m╸\u001B[0m \u001B[32m587.7/587.7 MB\u001B[0m \u001B[31m163.8 MB/s\u001B[0m eta \u001B[36m0:00:01\u001B[0m\r\u001B[2K     \u001B[91m━━━━━━━━━━━━━━━━━━━━━━━━━━━━━━━━━━━━\u001B[0m\u001B[91m╸\u001B[0m \u001B[32m587.7/587.7 MB\u001B[0m \u001B[31m163.8 MB/s\u001B[0m eta \u001B[36m0:00:01\u001B[0m\r\u001B[2K     \u001B[91m━━━━━━━━━━━━━━━━━━━━━━━━━━━━━━━━━━━━\u001B[0m\u001B[91m╸\u001B[0m \u001B[32m587.7/587.7 MB\u001B[0m \u001B[31m163.8 MB/s\u001B[0m eta \u001B[36m0:00:01\u001B[0m\r\u001B[2K     \u001B[91m━━━━━━━━━━━━━━━━━━━━━━━━━━━━━━━━━━━━\u001B[0m\u001B[91m╸\u001B[0m \u001B[32m587.7/587.7 MB\u001B[0m \u001B[31m163.8 MB/s\u001B[0m eta \u001B[36m0:00:01\u001B[0m\r\u001B[2K     \u001B[91m━━━━━━━━━━━━━━━━━━━━━━━━━━━━━━━━━━━━\u001B[0m\u001B[91m╸\u001B[0m \u001B[32m587.7/587.7 MB\u001B[0m \u001B[31m163.8 MB/s\u001B[0m eta \u001B[36m0:00:01\u001B[0m\r\u001B[2K     \u001B[91m━━━━━━━━━━━━━━━━━━━━━━━━━━━━━━━━━━━━\u001B[0m\u001B[91m╸\u001B[0m \u001B[32m587.7/587.7 MB\u001B[0m \u001B[31m163.8 MB/s\u001B[0m eta \u001B[36m0:00:01\u001B[0m\r\u001B[2K     \u001B[91m━━━━━━━━━━━━━━━━━━━━━━━━━━━━━━━━━━━━\u001B[0m\u001B[91m╸\u001B[0m \u001B[32m587.7/587.7 MB\u001B[0m \u001B[31m163.8 MB/s\u001B[0m eta \u001B[36m0:00:01\u001B[0m\r\u001B[2K     \u001B[91m━━━━━━━━━━━━━━━━━━━━━━━━━━━━━━━━━━━━\u001B[0m\u001B[91m╸\u001B[0m \u001B[32m587.7/587.7 MB\u001B[0m \u001B[31m163.8 MB/s\u001B[0m eta \u001B[36m0:00:01\u001B[0m\r\u001B[2K     \u001B[91m━━━━━━━━━━━━━━━━━━━━━━━━━━━━━━━━━━━━\u001B[0m\u001B[91m╸\u001B[0m \u001B[32m587.7/587.7 MB\u001B[0m \u001B[31m163.8 MB/s\u001B[0m eta \u001B[36m0:00:01\u001B[0m\r\u001B[2K     \u001B[91m━━━━━━━━━━━━━━━━━━━━━━━━━━━━━━━━━━━━\u001B[0m\u001B[91m╸\u001B[0m \u001B[32m587.7/587.7 MB\u001B[0m \u001B[31m163.8 MB/s\u001B[0m eta \u001B[36m0:00:01\u001B[0m\r\u001B[2K     \u001B[91m━━━━━━━━━━━━━━━━━━━━━━━━━━━━━━━━━━━━\u001B[0m\u001B[91m╸\u001B[0m \u001B[32m587.7/587.7 MB\u001B[0m \u001B[31m163.8 MB/s\u001B[0m eta \u001B[36m0:00:01\u001B[0m\r\u001B[2K     \u001B[91m━━━━━━━━━━━━━━━━━━━━━━━━━━━━━━━━━━━━\u001B[0m\u001B[91m╸\u001B[0m \u001B[32m587.7/587.7 MB\u001B[0m \u001B[31m163.8 MB/s\u001B[0m eta \u001B[36m0:00:01\u001B[0m\r\u001B[2K     \u001B[91m━━━━━━━━━━━━━━━━━━━━━━━━━━━━━━━━━━━━\u001B[0m\u001B[91m╸\u001B[0m \u001B[32m587.7/587.7 MB\u001B[0m \u001B[31m163.8 MB/s\u001B[0m eta \u001B[36m0:00:01\u001B[0m\r\u001B[2K     \u001B[91m━━━━━━━━━━━━━━━━━━━━━━━━━━━━━━━━━━━━\u001B[0m\u001B[91m╸\u001B[0m \u001B[32m587.7/587.7 MB\u001B[0m \u001B[31m163.8 MB/s\u001B[0m eta \u001B[36m0:00:01\u001B[0m\r\u001B[2K     \u001B[91m━━━━━━━━━━━━━━━━━━━━━━━━━━━━━━━━━━━━\u001B[0m\u001B[91m╸\u001B[0m \u001B[32m587.7/587.7 MB\u001B[0m \u001B[31m163.8 MB/s\u001B[0m eta \u001B[36m0:00:01\u001B[0m\r\u001B[2K     \u001B[91m━━━━━━━━━━━━━━━━━━━━━━━━━━━━━━━━━━━━\u001B[0m\u001B[91m╸\u001B[0m \u001B[32m587.7/587.7 MB\u001B[0m \u001B[31m163.8 MB/s\u001B[0m eta \u001B[36m0:00:01\u001B[0m\r\u001B[2K     \u001B[91m━━━━━━━━━━━━━━━━━━━━━━━━━━━━━━━━━━━━\u001B[0m\u001B[91m╸\u001B[0m \u001B[32m587.7/587.7 MB\u001B[0m \u001B[31m163.8 MB/s\u001B[0m eta \u001B[36m0:00:01\u001B[0m\r\u001B[2K     \u001B[91m━━━━━━━━━━━━━━━━━━━━━━━━━━━━━━━━━━━━\u001B[0m\u001B[91m╸\u001B[0m \u001B[32m587.7/587.7 MB\u001B[0m \u001B[31m163.8 MB/s\u001B[0m eta \u001B[36m0:00:01\u001B[0m\r\u001B[2K     \u001B[91m━━━━━━━━━━━━━━━━━━━━━━━━━━━━━━━━━━━━\u001B[0m\u001B[91m╸\u001B[0m \u001B[32m587.7/587.7 MB\u001B[0m \u001B[31m163.8 MB/s\u001B[0m eta \u001B[36m0:00:01\u001B[0m\r\u001B[2K     \u001B[91m━━━━━━━━━━━━━━━━━━━━━━━━━━━━━━━━━━━━\u001B[0m\u001B[91m╸\u001B[0m \u001B[32m587.7/587.7 MB\u001B[0m \u001B[31m163.8 MB/s\u001B[0m eta \u001B[36m0:00:01\u001B[0m\r\u001B[2K     \u001B[91m━━━━━━━━━━━━━━━━━━━━━━━━━━━━━━━━━━━━\u001B[0m\u001B[91m╸\u001B[0m \u001B[32m587.7/587.7 MB\u001B[0m \u001B[31m163.8 MB/s\u001B[0m eta \u001B[36m0:00:01\u001B[0m\r\u001B[2K     \u001B[91m━━━━━━━━━━━━━━━━━━━━━━━━━━━━━━━━━━━━\u001B[0m\u001B[91m╸\u001B[0m \u001B[32m587.7/587.7 MB\u001B[0m \u001B[31m163.8 MB/s\u001B[0m eta \u001B[36m0:00:01\u001B[0m\r\u001B[2K     \u001B[91m━━━━━━━━━━━━━━━━━━━━━━━━━━━━━━━━━━━━\u001B[0m\u001B[91m╸\u001B[0m \u001B[32m587.7/587.7 MB\u001B[0m \u001B[31m163.8 MB/s\u001B[0m eta \u001B[36m0:00:01\u001B[0m\r\u001B[2K     \u001B[91m━━━━━━━━━━━━━━━━━━━━━━━━━━━━━━━━━━━━\u001B[0m\u001B[91m╸\u001B[0m \u001B[32m587.7/587.7 MB\u001B[0m \u001B[31m163.8 MB/s\u001B[0m eta \u001B[36m0:00:01\u001B[0m\r\u001B[2K     \u001B[91m━━━━━━━━━━━━━━━━━━━━━━━━━━━━━━━━━━━━\u001B[0m\u001B[91m╸\u001B[0m \u001B[32m587.7/587.7 MB\u001B[0m \u001B[31m163.8 MB/s\u001B[0m eta \u001B[36m0:00:01\u001B[0m\r\u001B[2K     \u001B[91m━━━━━━━━━━━━━━━━━━━━━━━━━━━━━━━━━━━━\u001B[0m\u001B[91m╸\u001B[0m \u001B[32m587.7/587.7 MB\u001B[0m \u001B[31m163.8 MB/s\u001B[0m eta \u001B[36m0:00:01\u001B[0m\r\u001B[2K     \u001B[91m━━━━━━━━━━━━━━━━━━━━━━━━━━━━━━━━━━━━\u001B[0m\u001B[91m╸\u001B[0m \u001B[32m587.7/587.7 MB\u001B[0m \u001B[31m163.8 MB/s\u001B[0m eta \u001B[36m0:00:01\u001B[0m\r\u001B[2K     \u001B[91m━━━━━━━━━━━━━━━━━━━━━━━━━━━━━━━━━━━━\u001B[0m\u001B[91m╸\u001B[0m \u001B[32m587.7/587.7 MB\u001B[0m \u001B[31m163.8 MB/s\u001B[0m eta \u001B[36m0:00:01\u001B[0m\r\u001B[2K     \u001B[91m━━━━━━━━━━━━━━━━━━━━━━━━━━━━━━━━━━━━\u001B[0m\u001B[91m╸\u001B[0m \u001B[32m587.7/587.7 MB\u001B[0m \u001B[31m163.8 MB/s\u001B[0m eta \u001B[36m0:00:01\u001B[0m\r\u001B[2K     \u001B[91m━━━━━━━━━━━━━━━━━━━━━━━━━━━━━━━━━━━━\u001B[0m\u001B[91m╸\u001B[0m \u001B[32m587.7/587.7 MB\u001B[0m \u001B[31m163.8 MB/s\u001B[0m eta \u001B[36m0:00:01\u001B[0m\r\u001B[2K     \u001B[91m━━━━━━━━━━━━━━━━━━━━━━━━━━━━━━━━━━━━\u001B[0m\u001B[91m╸\u001B[0m \u001B[32m587.7/587.7 MB\u001B[0m \u001B[31m163.8 MB/s\u001B[0m eta \u001B[36m0:00:01\u001B[0m\r\u001B[2K     \u001B[91m━━━━━━━━━━━━━━━━━━━━━━━━━━━━━━━━━━━━\u001B[0m\u001B[91m╸\u001B[0m \u001B[32m587.7/587.7 MB\u001B[0m \u001B[31m163.8 MB/s\u001B[0m eta \u001B[36m0:00:01\u001B[0m\r\u001B[2K     \u001B[91m━━━━━━━━━━━━━━━━━━━━━━━━━━━━━━━━━━━━\u001B[0m\u001B[91m╸\u001B[0m \u001B[32m587.7/587.7 MB\u001B[0m \u001B[31m163.8 MB/s\u001B[0m eta \u001B[36m0:00:01\u001B[0m\r\u001B[2K     \u001B[91m━━━━━━━━━━━━━━━━━━━━━━━━━━━━━━━━━━━━\u001B[0m\u001B[91m╸\u001B[0m \u001B[32m587.7/587.7 MB\u001B[0m \u001B[31m163.8 MB/s\u001B[0m eta \u001B[36m0:00:01\u001B[0m\r\u001B[2K     \u001B[91m━━━━━━━━━━━━━━━━━━━━━━━━━━━━━━━━━━━━\u001B[0m\u001B[91m╸\u001B[0m \u001B[32m587.7/587.7 MB\u001B[0m \u001B[31m163.8 MB/s\u001B[0m eta \u001B[36m0:00:01\u001B[0m\r\u001B[2K     \u001B[91m━━━━━━━━━━━━━━━━━━━━━━━━━━━━━━━━━━━━\u001B[0m\u001B[91m╸\u001B[0m \u001B[32m587.7/587.7 MB\u001B[0m \u001B[31m163.8 MB/s\u001B[0m eta \u001B[36m0:00:01\u001B[0m\r\u001B[2K     \u001B[91m━━━━━━━━━━━━━━━━━━━━━━━━━━━━━━━━━━━━\u001B[0m\u001B[91m╸\u001B[0m \u001B[32m587.7/587.7 MB\u001B[0m \u001B[31m163.8 MB/s\u001B[0m eta \u001B[36m0:00:01\u001B[0m\r\u001B[2K     \u001B[91m━━━━━━━━━━━━━━━━━━━━━━━━━━━━━━━━━━━━\u001B[0m\u001B[91m╸\u001B[0m \u001B[32m587.7/587.7 MB\u001B[0m \u001B[31m163.8 MB/s\u001B[0m eta \u001B[36m0:00:01\u001B[0m\r\u001B[2K     \u001B[91m━━━━━━━━━━━━━━━━━━━━━━━━━━━━━━━━━━━━\u001B[0m\u001B[91m╸\u001B[0m \u001B[32m587.7/587.7 MB\u001B[0m \u001B[31m163.8 MB/s\u001B[0m eta \u001B[36m0:00:01\u001B[0m\r\u001B[2K     \u001B[91m━━━━━━━━━━━━━━━━━━━━━━━━━━━━━━━━━━━━\u001B[0m\u001B[91m╸\u001B[0m \u001B[32m587.7/587.7 MB\u001B[0m \u001B[31m163.8 MB/s\u001B[0m eta \u001B[36m0:00:01\u001B[0m\r\u001B[2K     \u001B[91m━━━━━━━━━━━━━━━━━━━━━━━━━━━━━━━━━━━━\u001B[0m\u001B[91m╸\u001B[0m \u001B[32m587.7/587.7 MB\u001B[0m \u001B[31m163.8 MB/s\u001B[0m eta \u001B[36m0:00:01\u001B[0m\r\u001B[2K     \u001B[91m━━━━━━━━━━━━━━━━━━━━━━━━━━━━━━━━━━━━\u001B[0m\u001B[91m╸\u001B[0m \u001B[32m587.7/587.7 MB\u001B[0m \u001B[31m163.8 MB/s\u001B[0m eta \u001B[36m0:00:01\u001B[0m\r\u001B[2K     \u001B[91m━━━━━━━━━━━━━━━━━━━━━━━━━━━━━━━━━━━━\u001B[0m\u001B[91m╸\u001B[0m \u001B[32m587.7/587.7 MB\u001B[0m \u001B[31m163.8 MB/s\u001B[0m eta \u001B[36m0:00:01\u001B[0m\r\u001B[2K     \u001B[91m━━━━━━━━━━━━━━━━━━━━━━━━━━━━━━━━━━━━\u001B[0m\u001B[91m╸\u001B[0m \u001B[32m587.7/587.7 MB\u001B[0m \u001B[31m163.8 MB/s\u001B[0m eta \u001B[36m0:00:01\u001B[0m\r\u001B[2K     \u001B[91m━━━━━━━━━━━━━━━━━━━━━━━━━━━━━━━━━━━━\u001B[0m\u001B[91m╸\u001B[0m \u001B[32m587.7/587.7 MB\u001B[0m \u001B[31m163.8 MB/s\u001B[0m eta \u001B[36m0:00:01\u001B[0m\r\u001B[2K     \u001B[91m━━━━━━━━━━━━━━━━━━━━━━━━━━━━━━━━━━━━\u001B[0m\u001B[91m╸\u001B[0m \u001B[32m587.7/587.7 MB\u001B[0m \u001B[31m163.8 MB/s\u001B[0m eta \u001B[36m0:00:01\u001B[0m\r\u001B[2K     \u001B[91m━━━━━━━━━━━━━━━━━━━━━━━━━━━━━━━━━━━━\u001B[0m\u001B[91m╸\u001B[0m \u001B[32m587.7/587.7 MB\u001B[0m \u001B[31m163.8 MB/s\u001B[0m eta \u001B[36m0:00:01\u001B[0m\r\u001B[2K     \u001B[91m━━━━━━━━━━━━━━━━━━━━━━━━━━━━━━━━━━━━\u001B[0m\u001B[91m╸\u001B[0m \u001B[32m587.7/587.7 MB\u001B[0m \u001B[31m163.8 MB/s\u001B[0m eta \u001B[36m0:00:01\u001B[0m\r\u001B[2K     \u001B[91m━━━━━━━━━━━━━━━━━━━━━━━━━━━━━━━━━━━━\u001B[0m\u001B[91m╸\u001B[0m \u001B[32m587.7/587.7 MB\u001B[0m \u001B[31m163.8 MB/s\u001B[0m eta \u001B[36m0:00:01\u001B[0m\r\u001B[2K     \u001B[91m━━━━━━━━━━━━━━━━━━━━━━━━━━━━━━━━━━━━\u001B[0m\u001B[91m╸\u001B[0m \u001B[32m587.7/587.7 MB\u001B[0m \u001B[31m163.8 MB/s\u001B[0m eta \u001B[36m0:00:01\u001B[0m\r\u001B[2K     \u001B[91m━━━━━━━━━━━━━━━━━━━━━━━━━━━━━━━━━━━━\u001B[0m\u001B[91m╸\u001B[0m \u001B[32m587.7/587.7 MB\u001B[0m \u001B[31m163.8 MB/s\u001B[0m eta \u001B[36m0:00:01\u001B[0m\r\u001B[2K     \u001B[91m━━━━━━━━━━━━━━━━━━━━━━━━━━━━━━━━━━━━\u001B[0m\u001B[91m╸\u001B[0m \u001B[32m587.7/587.7 MB\u001B[0m \u001B[31m163.8 MB/s\u001B[0m eta \u001B[36m0:00:01\u001B[0m\r\u001B[2K     \u001B[90m━━━━━━━━━━━━━━━━━━━━━━━━━━━━━━━━━━━━━━━\u001B[0m \u001B[32m587.7/587.7 MB\u001B[0m \u001B[31m1.1 MB/s\u001B[0m eta \u001B[36m0:00:00\u001B[0m\r\n\u001B[?25hRequirement already satisfied: spacy<3.8.0,>=3.7.2 in /databricks/python3/lib/python3.10/site-packages (from en-core-web-lg==3.7.1) (3.7.2)\r\nRequirement already satisfied: smart-open<7.0.0,>=5.2.1 in /databricks/python3/lib/python3.10/site-packages (from spacy<3.8.0,>=3.7.2->en-core-web-lg==3.7.1) (5.2.1)\r\nRequirement already satisfied: packaging>=20.0 in /databricks/python3/lib/python3.10/site-packages (from spacy<3.8.0,>=3.7.2->en-core-web-lg==3.7.1) (23.2)\r\nRequirement already satisfied: requests<3.0.0,>=2.13.0 in /databricks/python3/lib/python3.10/site-packages (from spacy<3.8.0,>=3.7.2->en-core-web-lg==3.7.1) (2.28.1)\r\nRequirement already satisfied: thinc<8.3.0,>=8.1.8 in /databricks/python3/lib/python3.10/site-packages (from spacy<3.8.0,>=3.7.2->en-core-web-lg==3.7.1) (8.2.2)\r\nRequirement already satisfied: spacy-legacy<3.1.0,>=3.0.11 in /databricks/python3/lib/python3.10/site-packages (from spacy<3.8.0,>=3.7.2->en-core-web-lg==3.7.1) (3.0.12)\r\nRequirement already satisfied: langcodes<4.0.0,>=3.2.0 in /databricks/python3/lib/python3.10/site-packages (from spacy<3.8.0,>=3.7.2->en-core-web-lg==3.7.1) (3.3.0)\r\nRequirement already satisfied: numpy>=1.19.0 in /databricks/python3/lib/python3.10/site-packages (from spacy<3.8.0,>=3.7.2->en-core-web-lg==3.7.1) (1.23.5)\r\nRequirement already satisfied: preshed<3.1.0,>=3.0.2 in /databricks/python3/lib/python3.10/site-packages (from spacy<3.8.0,>=3.7.2->en-core-web-lg==3.7.1) (3.0.9)\r\nRequirement already satisfied: jinja2 in /databricks/python3/lib/python3.10/site-packages (from spacy<3.8.0,>=3.7.2->en-core-web-lg==3.7.1) (3.1.2)\r\nRequirement already satisfied: typer<0.10.0,>=0.3.0 in /databricks/python3/lib/python3.10/site-packages (from spacy<3.8.0,>=3.7.2->en-core-web-lg==3.7.1) (0.9.0)\r\nRequirement already satisfied: murmurhash<1.1.0,>=0.28.0 in /databricks/python3/lib/python3.10/site-packages (from spacy<3.8.0,>=3.7.2->en-core-web-lg==3.7.1) (1.0.10)\r\nRequirement already satisfied: weasel<0.4.0,>=0.1.0 in /databricks/python3/lib/python3.10/site-packages (from spacy<3.8.0,>=3.7.2->en-core-web-lg==3.7.1) (0.3.4)\r\nRequirement already satisfied: cymem<2.1.0,>=2.0.2 in /databricks/python3/lib/python3.10/site-packages (from spacy<3.8.0,>=3.7.2->en-core-web-lg==3.7.1) (2.0.8)\r\nRequirement already satisfied: catalogue<2.1.0,>=2.0.6 in /databricks/python3/lib/python3.10/site-packages (from spacy<3.8.0,>=3.7.2->en-core-web-lg==3.7.1) (2.0.10)\r\nRequirement already satisfied: setuptools in /databricks/python3/lib/python3.10/site-packages (from spacy<3.8.0,>=3.7.2->en-core-web-lg==3.7.1) (65.6.3)\r\nRequirement already satisfied: spacy-loggers<2.0.0,>=1.0.0 in /databricks/python3/lib/python3.10/site-packages (from spacy<3.8.0,>=3.7.2->en-core-web-lg==3.7.1) (1.0.5)\r\nRequirement already satisfied: tqdm<5.0.0,>=4.38.0 in /databricks/python3/lib/python3.10/site-packages (from spacy<3.8.0,>=3.7.2->en-core-web-lg==3.7.1) (4.64.1)\r\nRequirement already satisfied: pydantic!=1.8,!=1.8.1,<3.0.0,>=1.7.4 in /databricks/python3/lib/python3.10/site-packages (from spacy<3.8.0,>=3.7.2->en-core-web-lg==3.7.1) (1.10.6)\r\nRequirement already satisfied: wasabi<1.2.0,>=0.9.1 in /databricks/python3/lib/python3.10/site-packages (from spacy<3.8.0,>=3.7.2->en-core-web-lg==3.7.1) (1.1.2)\r\nRequirement already satisfied: srsly<3.0.0,>=2.4.3 in /databricks/python3/lib/python3.10/site-packages (from spacy<3.8.0,>=3.7.2->en-core-web-lg==3.7.1) (2.4.8)\r\nRequirement already satisfied: typing-extensions>=4.2.0 in /databricks/python3/lib/python3.10/site-packages (from pydantic!=1.8,!=1.8.1,<3.0.0,>=1.7.4->spacy<3.8.0,>=3.7.2->en-core-web-lg==3.7.1) (4.4.0)\r\nRequirement already satisfied: idna<4,>=2.5 in /databricks/python3/lib/python3.10/site-packages (from requests<3.0.0,>=2.13.0->spacy<3.8.0,>=3.7.2->en-core-web-lg==3.7.1) (3.4)\r\nRequirement already satisfied: certifi>=2017.4.17 in /databricks/python3/lib/python3.10/site-packages (from requests<3.0.0,>=2.13.0->spacy<3.8.0,>=3.7.2->en-core-web-lg==3.7.1) (2022.12.7)\r\nRequirement already satisfied: charset-normalizer<3,>=2 in /databricks/python3/lib/python3.10/site-packages (from requests<3.0.0,>=2.13.0->spacy<3.8.0,>=3.7.2->en-core-web-lg==3.7.1) (2.0.4)\r\nRequirement already satisfied: urllib3<1.27,>=1.21.1 in /databricks/python3/lib/python3.10/site-packages (from requests<3.0.0,>=2.13.0->spacy<3.8.0,>=3.7.2->en-core-web-lg==3.7.1) (1.26.14)\r\nRequirement already satisfied: blis<0.8.0,>=0.7.8 in /databricks/python3/lib/python3.10/site-packages (from thinc<8.3.0,>=8.1.8->spacy<3.8.0,>=3.7.2->en-core-web-lg==3.7.1) (0.7.11)\r\nRequirement already satisfied: confection<1.0.0,>=0.0.1 in /databricks/python3/lib/python3.10/site-packages (from thinc<8.3.0,>=8.1.8->spacy<3.8.0,>=3.7.2->en-core-web-lg==3.7.1) (0.1.4)\r\nRequirement already satisfied: click<9.0.0,>=7.1.1 in /databricks/python3/lib/python3.10/site-packages (from typer<0.10.0,>=0.3.0->spacy<3.8.0,>=3.7.2->en-core-web-lg==3.7.1) (8.0.4)\r\nRequirement already satisfied: cloudpathlib<0.17.0,>=0.7.0 in /databricks/python3/lib/python3.10/site-packages (from weasel<0.4.0,>=0.1.0->spacy<3.8.0,>=3.7.2->en-core-web-lg==3.7.1) (0.16.0)\r\nRequirement already satisfied: MarkupSafe>=2.0 in /databricks/python3/lib/python3.10/site-packages (from jinja2->spacy<3.8.0,>=3.7.2->en-core-web-lg==3.7.1) (2.1.1)\r\nInstalling collected packages: en-core-web-lg\r\nSuccessfully installed en-core-web-lg-3.7.1\r\n\r\n\u001B[1m[\u001B[0m\u001B[34;49mnotice\u001B[0m\u001B[1;39;49m]\u001B[0m\u001B[39;49m A new release of pip available: \u001B[0m\u001B[31;49m22.3.1\u001B[0m\u001B[39;49m -> \u001B[0m\u001B[32;49m24.0\u001B[0m\r\n\u001B[1m[\u001B[0m\u001B[34;49mnotice\u001B[0m\u001B[1;39;49m]\u001B[0m\u001B[39;49m To update, run: \u001B[0m\u001B[32;49mpip install --upgrade pip\u001B[0m\r\n\u001B[38;5;2m✔ Download and installation successful\u001B[0m\r\nYou can now load the package via spacy.load('en_core_web_lg')\r\n"
     ]
    }
   ],
   "source": [
    "import spacy\n",
    "\n",
    "# Check if en_core_web_lg is installed\n",
    "try:\n",
    "    nlp = spacy.load(\"en_core_web_lg\")\n",
    "except OSError as e:\n",
    "    !python -m spacy download en_core_web_lg"
   ]
  },
  {
   "cell_type": "code",
   "execution_count": 0,
   "metadata": {
    "application/vnd.databricks.v1+cell": {
     "cellMetadata": {
      "byteLimit": 2048000,
      "rowLimit": 10000
     },
     "inputWidgets": {},
     "nuid": "dda3878c-e25b-4883-84ed-f5e4d08de410",
     "showTitle": false,
     "title": ""
    }
   },
   "outputs": [
    {
     "output_type": "stream",
     "name": "stdout",
     "output_type": "stream",
     "text": [
      "+--------------------+--------------------+\n|               tweet|              tokens|\n+--------------------+--------------------+\n|creative and heal...|[creative, health...|\n|Its easier to cop...|[easy, cope, anxi...|\n|Stuck at your des...|[stick, desk, job...|\n|Tell Us What tric...|[tell, trick, use...|\n|Hilarious Holiday...|[hilarious, holid...|\n+--------------------+--------------------+\nonly showing top 5 rows\n\n"
     ]
    }
   ],
   "source": [
    "\n",
    "#______________________________________________________________\n",
    "# Load and broadcast spacy pretrained model for lemmatization\n",
    "# import spacy\n",
    "nlp = spacy.load(\"en_core_web_lg\")\n",
    "nlp_bc = sc.broadcast(nlp)\n",
    "#______________________________________________________________\n",
    "\n",
    "from pyspark.sql import functions as F\n",
    "from pyspark.sql.functions import udf\n",
    "from pyspark.sql.types import ArrayType, StringType\n",
    "from pyspark.ml.feature import Tokenizer, StopWordsRemover\n",
    "\n",
    "\n",
    "# Remove URL, Twitter handles, and numbers; remove punctuation marks; and trim whitespaces\n",
    "df = df.withColumn(\n",
    "    \"tweet\", F.regexp_replace(df[\"tweet\"], \"http\\\\S+|www.\\\\S+|@[\\\\w]+|\\\\d+\", \"\")\n",
    ")\n",
    "# Replace multiple white spaces and tabs with a single whitespace\n",
    "df = df.withColumn(\"tweet\", F.regexp_replace(df[\"tweet\"], \"\\\\s+\", \" \"))\n",
    "df = df.withColumn(\"tweet\", F.regexp_replace(df[\"tweet\"], \"[^a-zA-Z\\\\s{1,}]\", \"\"))\n",
    "df = df.withColumn(\"tweet\", F.trim(df[\"tweet\"]))\n",
    "\n",
    "# remove empty rows if any and drop duplicates\n",
    "df = df.filter(F.length(df.tweet) > 0)\n",
    "df = df.drop_duplicates(subset=[\"tweet\"])\n",
    "\n",
    "\n",
    "# Tokenize the tweet,\n",
    "tokenizer = Tokenizer(inputCol=\"tweet\", outputCol=\"tokens\")\n",
    "df = tokenizer.transform(df)\n",
    "\n",
    "sw_remover = StopWordsRemover(inputCol=\"tokens\", outputCol=\"tokens2\")\n",
    "df = sw_remover.transform(df)\n",
    "\n",
    "df = df.withColumn(\"tokens2\", F.expr(\"filter(tokens2, t -> length(t) > 2)\"))\n",
    "\n",
    "# Lemmatize tweets\n",
    "def lemmatize_word(tweet):\n",
    "    return [nlp_bc.value(word)[0].lemma_ for word in tweet]\n",
    "\n",
    "\n",
    "lemmatize_word_udf = udf(lemmatize_word, returnType=ArrayType(StringType()))\n",
    "\n",
    "df = df.drop(\"tokens\")\n",
    "df = df.withColumnRenamed(\"tokens2\", \"tokens\")\n",
    "\n",
    "df = df.withColumn(\"tokens\", lemmatize_word_udf(F.col(\"tokens\")))\n",
    "\n",
    "# cache the df, it will be reused from this point on\n",
    "df.persist()\n",
    "\n",
    "# Show the df here to ensure everything is okay, and make spark actually create it\n",
    "df.show(5) # action\n"
   ]
  },
  {
   "cell_type": "code",
   "execution_count": 0,
   "metadata": {
    "application/vnd.databricks.v1+cell": {
     "cellMetadata": {
      "byteLimit": 2048000,
      "rowLimit": 10000
     },
     "inputWidgets": {},
     "nuid": "60712e23-7ab5-479d-aec4-aa09dcfc25fd",
     "showTitle": false,
     "title": ""
    }
   },
   "outputs": [],
   "source": [
    "# drop the broadcast variable to save memory, of course we are aware that spark has an internal mechanism to handle broacast variables, but doing this prioritizes it for garbage collection\n",
    "nlp_bc = None"
   ]
  },
  {
   "cell_type": "code",
   "execution_count": 0,
   "metadata": {
    "application/vnd.databricks.v1+cell": {
     "cellMetadata": {
      "byteLimit": 2048000,
      "rowLimit": 10000
     },
     "inputWidgets": {},
     "nuid": "cb147622-97f0-4c7a-a9c9-45c671507a89",
     "showTitle": false,
     "title": ""
    }
   },
   "outputs": [],
   "source": [
    "df = df.select('tokens')"
   ]
  },
  {
   "cell_type": "markdown",
   "metadata": {
    "application/vnd.databricks.v1+cell": {
     "cellMetadata": {
      "byteLimit": 2048000,
      "rowLimit": 10000
     },
     "inputWidgets": {},
     "nuid": "59a0311c-fe46-4238-acb6-6007a0b85034",
     "showTitle": false,
     "title": ""
    }
   },
   "source": [
    "### Sample data for labelling and training \n",
    "- because the dataset is small we take 50% to get enough training examples (around 30k)"
   ]
  },
  {
   "cell_type": "code",
   "execution_count": 0,
   "metadata": {
    "application/vnd.databricks.v1+cell": {
     "cellMetadata": {
      "byteLimit": 2048000,
      "rowLimit": 10000
     },
     "inputWidgets": {},
     "nuid": "224739ea-75f8-4c9c-b780-815b8037ad22",
     "showTitle": false,
     "title": ""
    }
   },
   "outputs": [],
   "source": [
    "sample_size = 0.5\n",
    "df = df.withColumn(\"indicator\", F.when(F.rand(seed=2024) <= sample_size, 1).otherwise(0))\n"
   ]
  },
  {
   "cell_type": "code",
   "execution_count": 0,
   "metadata": {
    "application/vnd.databricks.v1+cell": {
     "cellMetadata": {
      "byteLimit": 2048000,
      "rowLimit": 10000
     },
     "inputWidgets": {},
     "nuid": "94641c89-7ef6-443d-af66-2282a5eca64d",
     "showTitle": false,
     "title": ""
    }
   },
   "outputs": [],
   "source": [
    "## Sample the dataframe for labelling and training\n",
    "df_sample = df.filter(df[\"indicator\"] == 1)\n"
   ]
  },
  {
   "cell_type": "code",
   "execution_count": 0,
   "metadata": {
    "application/vnd.databricks.v1+cell": {
     "cellMetadata": {
      "byteLimit": 2048000,
      "rowLimit": 10000
     },
     "inputWidgets": {},
     "nuid": "27b2322b-31a2-4635-a70f-87e1cffb339b",
     "showTitle": false,
     "title": ""
    }
   },
   "outputs": [],
   "source": [
    "# Get data without labels\n",
    "df_nolabel = df.filter(df[\"indicator\"] == 0)\n"
   ]
  },
  {
   "cell_type": "code",
   "execution_count": 0,
   "metadata": {
    "application/vnd.databricks.v1+cell": {
     "cellMetadata": {
      "byteLimit": 2048000,
      "rowLimit": 10000
     },
     "inputWidgets": {},
     "nuid": "a34b5386-65f8-4820-aef1-c7125f31af2b",
     "showTitle": false,
     "title": ""
    }
   },
   "outputs": [],
   "source": [
    "# # Convert sample dataset to pandas for labelling\n",
    "import pandas as pd\n",
    "\n",
    "df_pd = df_sample.toPandas()\n",
    "# df_pd.head()"
   ]
  },
  {
   "cell_type": "code",
   "execution_count": 0,
   "metadata": {
    "application/vnd.databricks.v1+cell": {
     "cellMetadata": {
      "byteLimit": 2048000,
      "rowLimit": 10000
     },
     "inputWidgets": {},
     "nuid": "ec0f6fd3-490f-4d09-b92a-28b2a9a1d8bf",
     "showTitle": false,
     "title": ""
    },
    "jupyter": {
     "outputs_hidden": true
    }
   },
   "outputs": [
    {
     "output_type": "stream",
     "name": "stdout",
     "output_type": "stream",
     "text": [
      "\u001B[43mNote: you may need to restart the kernel using dbutils.library.restartPython() to use updated packages.\u001B[0m\nRequirement already satisfied: nltk in /databricks/python3/lib/python3.10/site-packages (3.7)\nRequirement already satisfied: regex>=2021.8.3 in /databricks/python3/lib/python3.10/site-packages (from nltk) (2022.7.9)\nRequirement already satisfied: joblib in /databricks/python3/lib/python3.10/site-packages (from nltk) (1.2.0)\nRequirement already satisfied: click in /databricks/python3/lib/python3.10/site-packages (from nltk) (8.0.4)\nRequirement already satisfied: tqdm in /databricks/python3/lib/python3.10/site-packages (from nltk) (4.64.1)\n\u001B[43mNote: you may need to restart the kernel using dbutils.library.restartPython() to use updated packages.\u001B[0m\n\u001B[43mNote: you may need to restart the kernel using dbutils.library.restartPython() to use updated packages.\u001B[0m\nCollecting bitermplus\n  Downloading bitermplus-0.7.0.tar.gz (264 kB)\n     ━━━━━━━━━━━━━━━━━━━━━━━━━━━━━━━━━━━━━━━ 264.4/264.4 kB 7.2 MB/s eta 0:00:00\n  Installing build dependencies: started\n  Installing build dependencies: finished with status 'done'\n  Getting requirements to build wheel: started\n  Getting requirements to build wheel: finished with status 'done'\n  Preparing metadata (pyproject.toml): started\n  Preparing metadata (pyproject.toml): finished with status 'done'\nRequirement already satisfied: scipy in /databricks/python3/lib/python3.10/site-packages (from bitermplus) (1.10.0)\nRequirement already satisfied: pandas in /databricks/python3/lib/python3.10/site-packages (from bitermplus) (1.5.3)\nRequirement already satisfied: cython in /databricks/python3/lib/python3.10/site-packages (from bitermplus) (0.29.32)\nRequirement already satisfied: scikit-learn>=1.0.0 in /databricks/python3/lib/python3.10/site-packages (from bitermplus) (1.1.1)\nRequirement already satisfied: tqdm in /databricks/python3/lib/python3.10/site-packages (from bitermplus) (4.64.1)\nRequirement already satisfied: numpy in /databricks/python3/lib/python3.10/site-packages (from bitermplus) (1.23.5)\nRequirement already satisfied: joblib>=1.0.0 in /databricks/python3/lib/python3.10/site-packages (from scikit-learn>=1.0.0->bitermplus) (1.2.0)\nRequirement already satisfied: threadpoolctl>=2.0.0 in /databricks/python3/lib/python3.10/site-packages (from scikit-learn>=1.0.0->bitermplus) (2.2.0)\nRequirement already satisfied: python-dateutil>=2.8.1 in /databricks/python3/lib/python3.10/site-packages (from pandas->bitermplus) (2.8.2)\nRequirement already satisfied: pytz>=2020.1 in /databricks/python3/lib/python3.10/site-packages (from pandas->bitermplus) (2022.7)\nRequirement already satisfied: six>=1.5 in /usr/lib/python3/dist-packages (from python-dateutil>=2.8.1->pandas->bitermplus) (1.16.0)\nBuilding wheels for collected packages: bitermplus\n  Building wheel for bitermplus (pyproject.toml): started\n  Building wheel for bitermplus (pyproject.toml): finished with status 'done'\n  Created wheel for bitermplus: filename=bitermplus-0.7.0-cp310-cp310-linux_x86_64.whl size=862697 sha256=9086d54fba061eccd94f998187aac232c33d378373e185e52a449043719057d2\n  Stored in directory: /home/spark-3695364e-0dd4-48a3-88b9-20/.cache/pip/wheels/ad/ca/fc/678741496ee367fa48503b67e29afea46baf4f684f0abf068a\nSuccessfully built bitermplus\nInstalling collected packages: bitermplus\nSuccessfully installed bitermplus-0.7.0\n\u001B[43mNote: you may need to restart the kernel using dbutils.library.restartPython() to use updated packages.\u001B[0m\n\u001B[43mNote: you may need to restart the kernel using dbutils.library.restartPython() to use updated packages.\u001B[0m\nCollecting tmplot\n  Downloading tmplot-0.1.2-py3-none-any.whl (18 kB)\nRequirement already satisfied: scikit-learn in /databricks/python3/lib/python3.10/site-packages (from tmplot) (1.1.1)\nRequirement already satisfied: tqdm in /databricks/python3/lib/python3.10/site-packages (from tmplot) (4.64.1)\nRequirement already satisfied: numpy in /databricks/python3/lib/python3.10/site-packages (from tmplot) (1.23.5)\nRequirement already satisfied: scipy in /databricks/python3/lib/python3.10/site-packages (from tmplot) (1.10.0)\nRequirement already satisfied: seaborn in /databricks/python3/lib/python3.10/site-packages (from tmplot) (0.12.2)\nCollecting altair\n  Downloading altair-5.3.0-py3-none-any.whl (857 kB)\n     ━━━━━━━━━━━━━━━━━━━━━━━━━━━━━━━━━━━━━━ 857.8/857.8 kB 20.8 MB/s eta 0:00:00\nRequirement already satisfied: ipywidgets in /databricks/python3/lib/python3.10/site-packages (from tmplot) (7.7.2)\nRequirement already satisfied: pandas in /databricks/python3/lib/python3.10/site-packages (from tmplot) (1.5.3)\nRequirement already satisfied: packaging in /databricks/python3/lib/python3.10/site-packages (from altair->tmplot) (23.2)\nCollecting toolz\n  Downloading toolz-0.12.1-py3-none-any.whl (56 kB)\n     ━━━━━━━━━━━━━━━━━━━━━━━━━━━━━━━━━━━━━━━━ 56.1/56.1 kB 7.4 MB/s eta 0:00:00\nRequirement already satisfied: typing-extensions>=4.0.1 in /databricks/python3/lib/python3.10/site-packages (from altair->tmplot) (4.4.0)\nRequirement already satisfied: jinja2 in /databricks/python3/lib/python3.10/site-packages (from altair->tmplot) (3.1.2)\nRequirement already satisfied: jsonschema>=3.0 in /databricks/python3/lib/python3.10/site-packages (from altair->tmplot) (4.17.3)\nRequirement already satisfied: python-dateutil>=2.8.1 in /databricks/python3/lib/python3.10/site-packages (from pandas->tmplot) (2.8.2)\nRequirement already satisfied: pytz>=2020.1 in /databricks/python3/lib/python3.10/site-packages (from pandas->tmplot) (2022.7)\nRequirement already satisfied: ipykernel>=4.5.1 in /databricks/python3/lib/python3.10/site-packages (from ipywidgets->tmplot) (6.25.0)\nRequirement already satisfied: widgetsnbextension~=3.6.0 in /databricks/python3/lib/python3.10/site-packages (from ipywidgets->tmplot) (3.6.1)\nRequirement already satisfied: ipython-genutils~=0.2.0 in /databricks/python3/lib/python3.10/site-packages (from ipywidgets->tmplot) (0.2.0)\nRequirement already satisfied: traitlets>=4.3.1 in /databricks/python3/lib/python3.10/site-packages (from ipywidgets->tmplot) (5.7.1)\nRequirement already satisfied: jupyterlab-widgets<3,>=1.0.0 in /databricks/python3/lib/python3.10/site-packages (from ipywidgets->tmplot) (1.0.0)\nRequirement already satisfied: ipython>=4.0.0 in /databricks/python3/lib/python3.10/site-packages (from ipywidgets->tmplot) (8.14.0)\nRequirement already satisfied: joblib>=1.0.0 in /databricks/python3/lib/python3.10/site-packages (from scikit-learn->tmplot) (1.2.0)\nRequirement already satisfied: threadpoolctl>=2.0.0 in /databricks/python3/lib/python3.10/site-packages (from scikit-learn->tmplot) (2.2.0)\nRequirement already satisfied: matplotlib!=3.6.1,>=3.1 in /databricks/python3/lib/python3.10/site-packages (from seaborn->tmplot) (3.7.0)\nRequirement already satisfied: nest-asyncio in /databricks/python3/lib/python3.10/site-packages (from ipykernel>=4.5.1->ipywidgets->tmplot) (1.5.6)\nRequirement already satisfied: jupyter-core!=5.0.*,>=4.12 in /databricks/python3/lib/python3.10/site-packages (from ipykernel>=4.5.1->ipywidgets->tmplot) (5.2.0)\nRequirement already satisfied: jupyter-client>=6.1.12 in /databricks/python3/lib/python3.10/site-packages (from ipykernel>=4.5.1->ipywidgets->tmplot) (7.3.4)\nRequirement already satisfied: comm>=0.1.1 in /databricks/python3/lib/python3.10/site-packages (from ipykernel>=4.5.1->ipywidgets->tmplot) (0.1.2)\nRequirement already satisfied: debugpy>=1.6.5 in /databricks/python3/lib/python3.10/site-packages (from ipykernel>=4.5.1->ipywidgets->tmplot) (1.6.7)\nRequirement already satisfied: psutil in /databricks/python3/lib/python3.10/site-packages (from ipykernel>=4.5.1->ipywidgets->tmplot) (5.9.0)\nRequirement already satisfied: pyzmq>=20 in /databricks/python3/lib/python3.10/site-packages (from ipykernel>=4.5.1->ipywidgets->tmplot) (23.2.0)\nRequirement already satisfied: tornado>=6.1 in /databricks/python3/lib/python3.10/site-packages (from ipykernel>=4.5.1->ipywidgets->tmplot) (6.1)\nRequirement already satisfied: matplotlib-inline>=0.1 in /databricks/python3/lib/python3.10/site-packages (from ipykernel>=4.5.1->ipywidgets->tmplot) (0.1.6)\nRequirement already satisfied: decorator in /databricks/python3/lib/python3.10/site-packages (from ipython>=4.0.0->ipywidgets->tmplot) (5.1.1)\nRequirement already satisfied: prompt-toolkit!=3.0.37,<3.1.0,>=3.0.30 in /databricks/python3/lib/python3.10/site-packages (from ipython>=4.0.0->ipywidgets->tmplot) (3.0.36)\nRequirement already satisfied: jedi>=0.16 in /databricks/python3/lib/python3.10/site-packages (from ipython>=4.0.0->ipywidgets->tmplot) (0.18.1)\nRequirement already satisfied: pickleshare in /databricks/python3/lib/python3.10/site-packages (from ipython>=4.0.0->ipywidgets->tmplot) (0.7.5)\nRequirement already satisfied: pygments>=2.4.0 in /databricks/python3/lib/python3.10/site-packages (from ipython>=4.0.0->ipywidgets->tmplot) (2.11.2)\nRequirement already satisfied: pexpect>4.3 in /databricks/python3/lib/python3.10/site-packages (from ipython>=4.0.0->ipywidgets->tmplot) (4.8.0)\nRequirement already satisfied: stack-data in /databricks/python3/lib/python3.10/site-packages (from ipython>=4.0.0->ipywidgets->tmplot) (0.2.0)\nRequirement already satisfied: backcall in /databricks/python3/lib/python3.10/site-packages (from ipython>=4.0.0->ipywidgets->tmplot) (0.2.0)\nRequirement already satisfied: attrs>=17.4.0 in /databricks/python3/lib/python3.10/site-packages (from jsonschema>=3.0->altair->tmplot) (22.1.0)\nRequirement already satisfied: pyrsistent!=0.17.0,!=0.17.1,!=0.17.2,>=0.14.0 in /databricks/python3/lib/python3.10/site-packages (from jsonschema>=3.0->altair->tmplot) (0.18.0)\nRequirement already satisfied: pillow>=6.2.0 in /databricks/python3/lib/python3.10/site-packages (from matplotlib!=3.6.1,>=3.1->seaborn->tmplot) (9.4.0)\nRequirement already satisfied: kiwisolver>=1.0.1 in /databricks/python3/lib/python3.10/site-packages (from matplotlib!=3.6.1,>=3.1->seaborn->tmplot) (1.4.4)\nRequirement already satisfied: pyparsing>=2.3.1 in /databricks/python3/lib/python3.10/site-packages (from matplotlib!=3.6.1,>=3.1->seaborn->tmplot) (3.0.9)\nRequirement already satisfied: contourpy>=1.0.1 in /databricks/python3/lib/python3.10/site-packages (from matplotlib!=3.6.1,>=3.1->seaborn->tmplot) (1.0.5)\nRequirement already satisfied: cycler>=0.10 in /databricks/python3/lib/python3.10/site-packages (from matplotlib!=3.6.1,>=3.1->seaborn->tmplot) (0.11.0)\nRequirement already satisfied: fonttools>=4.22.0 in /databricks/python3/lib/python3.10/site-packages (from matplotlib!=3.6.1,>=3.1->seaborn->tmplot) (4.25.0)\nRequirement already satisfied: six>=1.5 in /usr/lib/python3/dist-packages (from python-dateutil>=2.8.1->pandas->tmplot) (1.16.0)\nRequirement already satisfied: notebook>=4.4.1 in /databricks/python3/lib/python3.10/site-packages (from widgetsnbextension~=3.6.0->ipywidgets->tmplot) (6.5.2)\nRequirement already satisfied: MarkupSafe>=2.0 in /databricks/python3/lib/python3.10/site-packages (from jinja2->altair->tmplot) (2.1.1)\nRequirement already satisfied: parso<0.9.0,>=0.8.0 in /databricks/python3/lib/python3.10/site-packages (from jedi>=0.16->ipython>=4.0.0->ipywidgets->tmplot) (0.8.3)\nRequirement already satisfied: entrypoints in /databricks/python3/lib/python3.10/site-packages (from jupyter-client>=6.1.12->ipykernel>=4.5.1->ipywidgets->tmplot) (0.4)\nRequirement already satisfied: platformdirs>=2.5 in /databricks/python3/lib/python3.10/site-packages (from jupyter-core!=5.0.*,>=4.12->ipykernel>=4.5.1->ipywidgets->tmplot) (2.5.2)\nRequirement already satisfied: Send2Trash>=1.8.0 in /databricks/python3/lib/python3.10/site-packages (from notebook>=4.4.1->widgetsnbextension~=3.6.0->ipywidgets->tmplot) (1.8.0)\nRequirement already satisfied: terminado>=0.8.3 in /databricks/python3/lib/python3.10/site-packages (from notebook>=4.4.1->widgetsnbextension~=3.6.0->ipywidgets->tmplot) (0.17.1)\nRequirement already satisfied: argon2-cffi in /databricks/python3/lib/python3.10/site-packages (from notebook>=4.4.1->widgetsnbextension~=3.6.0->ipywidgets->tmplot) (21.3.0)\nRequirement already satisfied: nbformat in /databricks/python3/lib/python3.10/site-packages (from notebook>=4.4.1->widgetsnbextension~=3.6.0->ipywidgets->tmplot) (5.7.0)\nRequirement already satisfied: prometheus-client in /databricks/python3/lib/python3.10/site-packages (from notebook>=4.4.1->widgetsnbextension~=3.6.0->ipywidgets->tmplot) (0.14.1)\nRequirement already satisfied: nbclassic>=0.4.7 in /databricks/python3/lib/python3.10/site-packages (from notebook>=4.4.1->widgetsnbextension~=3.6.0->ipywidgets->tmplot) (0.5.2)\nRequirement already satisfied: nbconvert>=5 in /databricks/python3/lib/python3.10/site-packages (from notebook>=4.4.1->widgetsnbextension~=3.6.0->ipywidgets->tmplot) (6.5.4)\nRequirement already satisfied: ptyprocess>=0.5 in /databricks/python3/lib/python3.10/site-packages (from pexpect>4.3->ipython>=4.0.0->ipywidgets->tmplot) (0.7.0)\nRequirement already satisfied: wcwidth in /databricks/python3/lib/python3.10/site-packages (from prompt-toolkit!=3.0.37,<3.1.0,>=3.0.30->ipython>=4.0.0->ipywidgets->tmplot) (0.2.5)\nRequirement already satisfied: executing in /databricks/python3/lib/python3.10/site-packages (from stack-data->ipython>=4.0.0->ipywidgets->tmplot) (0.8.3)\nRequirement already satisfied: pure-eval in /databricks/python3/lib/python3.10/site-packages (from stack-data->ipython>=4.0.0->ipywidgets->tmplot) (0.2.2)\nRequirement already satisfied: asttokens in /databricks/python3/lib/python3.10/site-packages (from stack-data->ipython>=4.0.0->ipywidgets->tmplot) (2.0.5)\nRequirement already satisfied: jupyter-server>=1.8 in /databricks/python3/lib/python3.10/site-packages (from nbclassic>=0.4.7->notebook>=4.4.1->widgetsnbextension~=3.6.0->ipywidgets->tmplot) (1.23.4)\nRequirement already satisfied: notebook-shim>=0.1.0 in /databricks/python3/lib/python3.10/site-packages (from nbclassic>=0.4.7->notebook>=4.4.1->widgetsnbextension~=3.6.0->ipywidgets->tmplot) (0.2.2)\nRequirement already satisfied: tinycss2 in /databricks/python3/lib/python3.10/site-packages (from nbconvert>=5->notebook>=4.4.1->widgetsnbextension~=3.6.0->ipywidgets->tmplot) (1.2.1)\nRequirement already satisfied: bleach in /databricks/python3/lib/python3.10/site-packages (from nbconvert>=5->notebook>=4.4.1->widgetsnbextension~=3.6.0->ipywidgets->tmplot) (4.1.0)\nRequirement already satisfied: jupyterlab-pygments in /databricks/python3/lib/python3.10/site-packages (from nbconvert>=5->notebook>=4.4.1->widgetsnbextension~=3.6.0->ipywidgets->tmplot) (0.1.2)\nRequirement already satisfied: nbclient>=0.5.0 in /databricks/python3/lib/python3.10/site-packages (from nbconvert>=5->notebook>=4.4.1->widgetsnbextension~=3.6.0->ipywidgets->tmplot) (0.5.13)\nRequirement already satisfied: pandocfilters>=1.4.1 in /databricks/python3/lib/python3.10/site-packages (from nbconvert>=5->notebook>=4.4.1->widgetsnbextension~=3.6.0->ipywidgets->tmplot) (1.5.0)\nRequirement already satisfied: defusedxml in /databricks/python3/lib/python3.10/site-packages (from nbconvert>=5->notebook>=4.4.1->widgetsnbextension~=3.6.0->ipywidgets->tmplot) (0.7.1)\nRequirement already satisfied: mistune<2,>=0.8.1 in /databricks/python3/lib/python3.10/site-packages (from nbconvert>=5->notebook>=4.4.1->widgetsnbextension~=3.6.0->ipywidgets->tmplot) (0.8.4)\nRequirement already satisfied: lxml in /databricks/python3/lib/python3.10/site-packages (from nbconvert>=5->notebook>=4.4.1->widgetsnbextension~=3.6.0->ipywidgets->tmplot) (4.9.1)\nRequirement already satisfied: beautifulsoup4 in /databricks/python3/lib/python3.10/site-packages (from nbconvert>=5->notebook>=4.4.1->widgetsnbextension~=3.6.0->ipywidgets->tmplot) (4.11.1)\nRequirement already satisfied: fastjsonschema in /databricks/python3/lib/python3.10/site-packages (from nbformat->notebook>=4.4.1->widgetsnbextension~=3.6.0->ipywidgets->tmplot) (2.19.1)\nRequirement already satisfied: argon2-cffi-bindings in /databricks/python3/lib/python3.10/site-packages (from argon2-cffi->notebook>=4.4.1->widgetsnbextension~=3.6.0->ipywidgets->tmplot) (21.2.0)\nRequirement already satisfied: anyio<4,>=3.1.0 in /databricks/python3/lib/python3.10/site-packages (from jupyter-server>=1.8->nbclassic>=0.4.7->notebook>=4.4.1->widgetsnbextension~=3.6.0->ipywidgets->tmplot) (3.5.0)\nRequirement already satisfied: websocket-client in /databricks/python3/lib/python3.10/site-packages (from jupyter-server>=1.8->nbclassic>=0.4.7->notebook>=4.4.1->widgetsnbextension~=3.6.0->ipywidgets->tmplot) (0.58.0)\nRequirement already satisfied: cffi>=1.0.1 in /databricks/python3/lib/python3.10/site-packages (from argon2-cffi-bindings->argon2-cffi->notebook>=4.4.1->widgetsnbextension~=3.6.0->ipywidgets->tmplot) (1.15.1)\nRequirement already satisfied: soupsieve>1.2 in /databricks/python3/lib/python3.10/site-packages (from beautifulsoup4->nbconvert>=5->notebook>=4.4.1->widgetsnbextension~=3.6.0->ipywidgets->tmplot) (2.3.2.post1)\nRequirement already satisfied: webencodings in /databricks/python3/lib/python3.10/site-packages (from bleach->nbconvert>=5->notebook>=4.4.1->widgetsnbextension~=3.6.0->ipywidgets->tmplot) (0.5.1)\nRequirement already satisfied: idna>=2.8 in /databricks/python3/lib/python3.10/site-packages (from anyio<4,>=3.1.0->jupyter-server>=1.8->nbclassic>=0.4.7->notebook>=4.4.1->widgetsnbextension~=3.6.0->ipywidgets->tmplot) (3.4)\nRequirement already satisfied: sniffio>=1.1 in /databricks/python3/lib/python3.10/site-packages (from anyio<4,>=3.1.0->jupyter-server>=1.8->nbclassic>=0.4.7->notebook>=4.4.1->widgetsnbextension~=3.6.0->ipywidgets->tmplot) (1.2.0)\nRequirement already satisfied: pycparser in /databricks/python3/lib/python3.10/site-packages (from cffi>=1.0.1->argon2-cffi-bindings->argon2-cffi->notebook>=4.4.1->widgetsnbextension~=3.6.0->ipywidgets->tmplot) (2.21)\nInstalling collected packages: toolz, altair, tmplot\nSuccessfully installed altair-5.3.0 tmplot-0.1.2 toolz-0.12.1\n\u001B[43mNote: you may need to restart the kernel using dbutils.library.restartPython() to use updated packages.\u001B[0m\n\u001B[43mNote: you may need to restart the kernel using dbutils.library.restartPython() to use updated packages.\u001B[0m\nCollecting tomotopy\n  Downloading tomotopy-0.12.7-cp310-cp310-manylinux_2_17_x86_64.manylinux2014_x86_64.whl (17.2 MB)\n     ━━━━━━━━━━━━━━━━━━━━━━━━━━━━━━━━━━━━━━━━ 17.2/17.2 MB 48.0 MB/s eta 0:00:00\nRequirement already satisfied: numpy>=1.11.0 in /databricks/python3/lib/python3.10/site-packages (from tomotopy) (1.23.5)\nInstalling collected packages: tomotopy\nSuccessfully installed tomotopy-0.12.7\n\u001B[43mNote: you may need to restart the kernel using dbutils.library.restartPython() to use updated packages.\u001B[0m\n\u001B[43mNote: you may need to restart the kernel using dbutils.library.restartPython() to use updated packages.\u001B[0m\nCollecting gensim\n  Downloading gensim-4.3.2-cp310-cp310-manylinux_2_17_x86_64.manylinux2014_x86_64.whl (26.5 MB)\n     ━━━━━━━━━━━━━━━━━━━━━━━━━━━━━━━━━━━━━━━━ 26.5/26.5 MB 37.1 MB/s eta 0:00:00\nRequirement already satisfied: smart-open>=1.8.1 in /databricks/python3/lib/python3.10/site-packages (from gensim) (5.2.1)\nRequirement already satisfied: scipy>=1.7.0 in /databricks/python3/lib/python3.10/site-packages (from gensim) (1.10.0)\nRequirement already satisfied: numpy>=1.18.5 in /databricks/python3/lib/python3.10/site-packages (from gensim) (1.23.5)\nInstalling collected packages: gensim\nSuccessfully installed gensim-4.3.2\n\u001B[43mNote: you may need to restart the kernel using dbutils.library.restartPython() to use updated packages.\u001B[0m\n\u001B[43mNote: you may need to restart the kernel using dbutils.library.restartPython() to use updated packages.\u001B[0m\nRequirement already satisfied: scipy in /databricks/python3/lib/python3.10/site-packages (1.10.0)\nRequirement already satisfied: numpy<1.27.0,>=1.19.5 in /databricks/python3/lib/python3.10/site-packages (from scipy) (1.23.5)\n\u001B[43mNote: you may need to restart the kernel using dbutils.library.restartPython() to use updated packages.\u001B[0m\n"
     ]
    }
   ],
   "source": [
    "%pip install nltk\n",
    "%pip install bitermplus\n",
    "%pip install tmplot\n",
    "%pip install tomotopy\n",
    "%pip install gensim\n",
    "%pip install scipy"
   ]
  },
  {
   "cell_type": "code",
   "execution_count": 0,
   "metadata": {
    "application/vnd.databricks.v1+cell": {
     "cellMetadata": {
      "byteLimit": 2048000,
      "rowLimit": 10000
     },
     "inputWidgets": {},
     "nuid": "ac5c7d6a-f6a2-4ef9-b7b0-fae273f502ef",
     "showTitle": false,
     "title": ""
    }
   },
   "outputs": [],
   "source": [
    "# Prepare input for BitermTopic\n",
    "def join_tokens(token_list):\n",
    "    joined_tokens = \" \".join(token_list)\n",
    "    return joined_tokens\n",
    "\n",
    "\n",
    "text = list(df_pd[\"tokens\"].apply(join_tokens))"
   ]
  },
  {
   "cell_type": "code",
   "execution_count": 0,
   "metadata": {
    "application/vnd.databricks.v1+cell": {
     "cellMetadata": {
      "byteLimit": 2048000,
      "rowLimit": 10000
     },
     "inputWidgets": {},
     "nuid": "44c0c202-0606-4822-a319-9e9bd05f6695",
     "showTitle": false,
     "title": ""
    }
   },
   "outputs": [
    {
     "output_type": "execute_result",
     "data": {
      "text/plain": [
       "['creative healthy chicken recipe via',\n",
       " 'easy cope anxiety realize come see surprising source stress',\n",
       " 'see holiday diet hazard avoidand healthy option taste indulgent',\n",
       " 'another study find vaccineautism link',\n",
       " 'like share sign weekly newsletter celebrate health food amp nutrition',\n",
       " 'gross people emit flu germ air foot away study find',\n",
       " 'stay motivate put sneaker night they like pick I pick share trick use',\n",
       " 'spread christmas cheer throughout household let kid help easytomake treat',\n",
       " 'anyone vacation come here avoid pack pound',\n",
       " 'foodiefriday froyo builtin portion control',\n",
       " 'researcher conduct study cia psychologist cite say grieve horrify twisting work',\n",
       " 'detergent pod pose risk child study find',\n",
       " 'thought top dentist reflection fish eat letter reader',\n",
       " 'salsas turn simple bbq quesadilla something spectacular',\n",
       " 'business brief senator query hepatitis drug high cost',\n",
       " 'realizedi need another checklist one put patient center',\n",
       " 'well speak uncomfortable condition',\n",
       " 'study linking illness salt leave researcher doubtful',\n",
       " 'fitbit activity tracker really help make active wiredwell',\n",
       " 'well blood pressure drug tie risk fall',\n",
       " 'urban school aim environmental revolution',\n",
       " 'hunger strike protest attempt suicide force feed medical procedure type abuse',\n",
       " 'think you bear germfree blank slate think explain bad news',\n",
       " 'death panel revisit legislation introduce house senate medicare cover end life discussion',\n",
       " 'hivinfecte patient bonemarrow transplant cancer apparently virusfree week',\n",
       " 'standard release school nutrition',\n",
       " 'christie weightloss surgery',\n",
       " 'next big challenge health law carry',\n",
       " 'assess infant bond caregiver child behavioralist employ strange situation procedure',\n",
       " 'force resident clock hour shift do improve patient safety via',\n",
       " 'woman who lodge sexual assault complaint virginity test ummm still happen',\n",
       " 'cigarette get lethal even though people smoking less they die',\n",
       " 'try holiday tense',\n",
       " 'here scientific proof nightly struggle get kid bed time worth it',\n",
       " 'elton john appendix abscess surround retrocaecal appendicitis mean',\n",
       " 'advocacy group say long john silver serve least healthful meal country',\n",
       " 'study offer new support tax soda junk food',\n",
       " 'woman actually man brain',\n",
       " 'even old smoker live long quit study say',\n",
       " 'flurry legislation aim abortion reproductive health',\n",
       " 'post simple sign might get people take stair often',\n",
       " 'disabled vermont woman lead classaction suit sue medicare',\n",
       " 'proton center closure do slow new construction',\n",
       " 'ebola kill virus',\n",
       " 'doctor play game get well medical care',\n",
       " 'everybody price invincible choose insurance',\n",
       " 'tiny innose filter aim keep allergy bay',\n",
       " 'want cut calorie try snack caloriedense almond',\n",
       " 'despite distaste health law americans oppose defunde',\n",
       " 'genetic code show bird flu china spread people',\n",
       " 'ask answer demystify affordable care act',\n",
       " 'salami suicide process meat link heart disease cancer',\n",
       " 'loom dementia crisis',\n",
       " 'diaper duty dad fight right potty parity',\n",
       " 'uta marathon train tip day avoid try anything new',\n",
       " 'emotional mental toll first responder',\n",
       " 'never get happen captive face psychic toll',\n",
       " 'flu season worsen child die',\n",
       " 'beingmortal filmmaker think do discuss death hardwired talk',\n",
       " 'oracle sue oregon state health insurance exchange',\n",
       " 'white house say worried wrong thing implement health law',\n",
       " 'white house expand federal marketplace insurance plan standard broaden choice detail',\n",
       " 'new insurance policy must cover mental illness detail',\n",
       " 'wonder hospital edition hospital food matter',\n",
       " 'big question health law may turn answer',\n",
       " 'florida gov scott ready negotiate state exchange catch',\n",
       " 'even brief ozone exposure may raise fatal heart risk study',\n",
       " 'sleep apnea may link nerve damage diabetic',\n",
       " 'certain diabetes drug might aid weight loss',\n",
       " 'add lovenox do reduce blood clot death risk study',\n",
       " 'want cut chocolate craving take walk',\n",
       " 'evidence hpv vaccine shield cervical cancer',\n",
       " 'healthy food also inexpensive',\n",
       " 'low blood pressure medicine tie fast mental decline',\n",
       " 'work cause skin break',\n",
       " 'kid type diabetes risk mental health problem',\n",
       " 'racial gap diabetes tie social economic status',\n",
       " 'alcohol may help elderly woman man live long',\n",
       " 'preemie less lucky love young adult study suggest',\n",
       " 'winter weather alert may signal great fall risk elderly',\n",
       " 'hospital gown get update involve show less behind',\n",
       " 'weigh monday amp scale tip',\n",
       " 'right way weigh ask expert',\n",
       " 'talk professional help quit smoking get help call quitnow redhe',\n",
       " 'take newfood challenge amp might also lose weight cook healthy',\n",
       " 'reason see physician assistant',\n",
       " 'cdc worry mosquitoborne virus hit major outbreak caribbean',\n",
       " 'sweat place it right',\n",
       " 'boston bangladesh nurse heart break twice',\n",
       " 'todays getfit tip diet four letter word healthy eat lifestyle',\n",
       " 'fda stop take recall cholesterol drug',\n",
       " 'exercise live long period',\n",
       " 'healthcare major factor vote major part spend amp right',\n",
       " 'lpaths kidney cancer drug fail midstage trial',\n",
       " 'islamic militant threat china real propaganda',\n",
       " 'bayer fail block generic cancer drug indias top court',\n",
       " 'cvs post slightly higherthanexpecte quarterly result',\n",
       " 'cdc set ebola response team expert aid hospital',\n",
       " 'sierra leones burial team ebola victim strike hazard pay',\n",
       " 'congo ebola outbreak almost over prime minister say',\n",
       " 'boehringer pay million curevac cancer vaccine',\n",
       " 'bavarian nordic sole bidder canadian smallpox vaccine supply',\n",
       " 'injection physical therapy equal treat shoulder pain',\n",
       " 'blood pressure treatment need global',\n",
       " 'mcmaster study look bright side depression',\n",
       " 'dartmouth general patient get special gown stay warm',\n",
       " 'quebec flu vaccine maker warn fda',\n",
       " 'ontario election doctor want party debate health care',\n",
       " 'child obesity cause jump sleep apnea case test',\n",
       " 'cancer survivor share story encourage young man',\n",
       " 'pneumonia shot make affordable kid poor country',\n",
       " 'mer case reach worldwide',\n",
       " 'one agree care synonym gps',\n",
       " 'dermatology threaten specialty people question whether work do community nhs',\n",
       " 'do miss flu crisis want know what really go on ask nurse nhs',\n",
       " 'view last week work aampe privilege even stressful understaffed nhs',\n",
       " 'health implication domesticviolence',\n",
       " 'twitter fresher great top tip nhs organisation use social medium',\n",
       " 'people do know right view medical record online',\n",
       " 'charge drunk patient aampe would sit right conscience viewsfromthenhsfrontline',\n",
       " 'new today five tip nhs engage patient public ceinwen gile',\n",
       " 'two country similar healthcare service new zealand use alliance promote whole system approach',\n",
       " 'patient come doctor office prescription physical activity via',\n",
       " 'pharmalot pharmalittle good morning another shiny day fill wheadline pharma sny lly',\n",
       " 'dallas ebola patient receive chimerix drug',\n",
       " 'crowd fund jump start earlystage drug research see study result pharma rampd raredise',\n",
       " 'calorie snack pack good portion control eat three eat series',\n",
       " 'know thyself nih seek billion federal fund project map human brain',\n",
       " 'transfuse blood rejuvenate old mouse',\n",
       " 'what next run nevadas health exchange see update jon hagers profile face aca series',\n",
       " 'another reason stay shape case get trap sochi hotel bathroom popsicle stick puppet return',\n",
       " 'week make poor rich time million trap coverage gap health law',\n",
       " 'diabetes woman likely die',\n",
       " 'video understand autism live box',\n",
       " 'focus stop ebola spread',\n",
       " 'gps miss sign lung cancer',\n",
       " 'video mer camel trader unalarmed virus',\n",
       " 'children dental health warn',\n",
       " 'pollution tie irregular heartbeat',\n",
       " 'trust fine patient death',\n",
       " 'new insight learn math',\n",
       " 'vitamin effective help adhd',\n",
       " 'develop world obesity quadruple',\n",
       " 'video low age consent',\n",
       " 'video many mental health failure',\n",
       " 'move sculpt perfect tush',\n",
       " 'grandson do even know he go vegan wean egg dairy like food well healthtalk',\n",
       " 'oop woman do notice pack pound',\n",
       " 'friend make fat here stop cycle keep friend weightloss nutrition',\n",
       " 'twothird americans reguarly self track health metric include help',\n",
       " 'undergarment protect clothe topical psoriasis treatment greasy stain healthtalk',\n",
       " 'you pack pound can find source might want check pillow',\n",
       " 'watch sad movie make eat',\n",
       " 'reason you lose belly fat',\n",
       " 'get rid puffy stomach see good bad food beat bloat gas',\n",
       " 'diet launch new highercarb plan see via sister site',\n",
       " 'avoid diet dangerous damage health',\n",
       " 'get amazing arm move',\n",
       " 'hang happiness bad habit mental health',\n",
       " 'feel anxious learn good bad way get stress control',\n",
       " 'healthy girl scout cookie buy online',\n",
       " 'tomorrow join est talknutrition shell tell secret healthy breakfast',\n",
       " 'way obamacare rock health world healthinsurance',\n",
       " 'exercise may low risk breast cancer',\n",
       " 'eat beat dancer diet plan create weightloss',\n",
       " 'happy world cabbage day cabbage rich vitamin low calorie celebrate recipe',\n",
       " 'pasta pizza what favorite',\n",
       " 'holiday shop prep feel sluggish boost energy workout',\n",
       " 'struggle drop extra lb give reason keep weigh',\n",
       " 'screen mental illness yes there app',\n",
       " 'skip potato chip nosh kale chip watch super bowl recipe',\n",
       " 'turn prepare food fab dinner todays recipe day chiliglaze salmon',\n",
       " 'sneaky little slimdown trick top weightcontrol expert',\n",
       " 'heart go victim superbug here avoid hospital acquire infection tell story',\n",
       " 'international happyday make happy let know well good reply photo welcome',\n",
       " 'where sex drive drug woman via',\n",
       " 'you get great chance die christmas day new year day',\n",
       " 'food allergy cost family big buck per child per year',\n",
       " 'every beat heart hurt christie morgan say weigh pound she find',\n",
       " 'watch chase cure cancer',\n",
       " 'stress depression may affect cancer survival late',\n",
       " 'ebola present challenge opportunity leader',\n",
       " 'coalition urge nation decriminalize drug drug use',\n",
       " 'do stabilize liberia never stabilize whole region one doctor warn',\n",
       " 'recipe health stirfrie turkey breast snap snow pea chard',\n",
       " 'climb darkness maternal mental illness',\n",
       " 'remain tech nudie wiredwell activity tracker do sense everything',\n",
       " 'well trust doctor',\n",
       " 'well depression tie parkinson risk',\n",
       " 'fashionable option reshape sunprotective clothing',\n",
       " 'health reporter answer question heart disease cholesterol use askwell',\n",
       " 'great recipe wide tangy crisp briny variety pickle vegetable',\n",
       " 'health law provision small business delay',\n",
       " 'aspirin may seem harmless people risk excessive bleed outweigh benefit',\n",
       " 'advantame sweet sugar comparison aspartame saccharine amp splenda sweet',\n",
       " 'latfit totd via shop farmersmarket good environment local economy health plus get lot step',\n",
       " 'teen volunteer reduce heart disease risk study say',\n",
       " 'supreme court healthcare hearing expert rate argument',\n",
       " 'navajo nation confront hiv aid',\n",
       " 'eye gun christmas do there doctor say',\n",
       " 'maine enforce quarantine nurse work africa',\n",
       " 'cut will heal transform one woman view obamacare',\n",
       " 'fear addiction mean chronic pain go untreated',\n",
       " 'robotic exoskeleton help get vet back foot',\n",
       " 'sexually transmit food poison fish toxin blame',\n",
       " 'obamacare crash president poll matter',\n",
       " 'world back polio corner',\n",
       " 'tight money short diaper bring health issue',\n",
       " 'diagram base people build',\n",
       " 'fed recast child prostitute victim criminal',\n",
       " 'syrians anxious worsen humanitarian crisis',\n",
       " 'busy doctor slow help patient cope adversity',\n",
       " 'addict carb scientist check',\n",
       " 'live minute talk fdas plan decision legal loose end',\n",
       " 'isolation loneliness difference matter',\n",
       " 'medicare start reward quality quantity care',\n",
       " 'california bill ban child vaccine exemption move ahead',\n",
       " 'wash dish hand link few allergy kid',\n",
       " 'chronic stress may put tbi caregiver risk illness',\n",
       " 'scientist discover new antibiotic kill serious infection without resistance',\n",
       " 'drugresistant malaria world next big health crisis trfn',\n",
       " 'advise male ebola survivor abstain sex',\n",
       " 'exclusive allow people nation hit ebola stay temporarily',\n",
       " 'court reject religious objection obamacare contraception deal',\n",
       " 'americans strongly back quarantine ebola health worker return we poll find',\n",
       " 'one london borough aim improve homeless people health',\n",
       " 'improve mentalhealth care need action match rhetoric real inv',\n",
       " 'much wardaampe nursing unbearably stressful',\n",
       " 'thankful saving life breastcancer staff superb nhs',\n",
       " 'case miss yday computer say nhs design operate level',\n",
       " 'nhs staff innovator team player expert strive develop solution',\n",
       " 'data healthcare want see digital health move mainstream nhs health data',\n",
       " 'suzie bailey monitor explain develop strategy nhs healthcare',\n",
       " 'video less sex',\n",
       " 'unsafe food grow global threat',\n",
       " 'accurate due date',\n",
       " 'ebola doctor go back work',\n",
       " 'placebo test cardiac arrest study',\n",
       " 'shortage child mental health bed',\n",
       " 'face major sperm shortage',\n",
       " 'video much sugar drink',\n",
       " 'inquiry emergency health care',\n",
       " 'hepatitis trial turn point',\n",
       " 'video sevenday week top nhs doctor',\n",
       " 'disappear boy will landon eat drink',\n",
       " 'ministomach let scientist study ulcer lab dish',\n",
       " 'mer cure lot drug might fight virus study find',\n",
       " 'mean eat new food label question answer',\n",
       " 'graco recall million car seat sticky latch',\n",
       " 'middleage americans first line health insurance new number show',\n",
       " 'nyt patient fear drug cost spike health law',\n",
       " 'fall tvs send kid every minute',\n",
       " 'achoo sneeze say',\n",
       " 'drug save infant live yet approve fda',\n",
       " 'blast injury require battlefield savvy expert say',\n",
       " 'new concussion guide doubt sit',\n",
       " 'cigna agree reduce cost hivaids drug florida report',\n",
       " 'missouris decline medicaid caseload stand national report',\n",
       " 'state rely federal exchange year plan set online marketplace enrollment',\n",
       " 'new year bring many key provision health law discuss',\n",
       " 'what deadline avoid penalty insurance answer',\n",
       " 'employer get extra year implement health law requirement coverage aca',\n",
       " 'senate president lay blame sebelius florida fail expand medicaid',\n",
       " 'rheumatoid arthritis may raise risk heart rhythm disorder',\n",
       " 'ban public smoking link few preterm delivery',\n",
       " 'southerner sleepy sleep map show',\n",
       " 'couple pay price materialism',\n",
       " 'puerto rico declare flu epidemic dead hospitalize',\n",
       " 'director turn late son fantasy tale movie honor memory',\n",
       " 'boy survive nail scissor lodge heart',\n",
       " 'player rally youth football coach paralyze freak accident',\n",
       " 'comfort food actually good',\n",
       " 'look crazy week put fitness tracker test',\n",
       " 'merck prepare postantibiotic era cubist purchase',\n",
       " 'recall affect blood test two health authority',\n",
       " 'nursing student say poor translation make license exam hard',\n",
       " 'ebola outbreak death approach ,',\n",
       " 'ebola outbreak toronto nurse know like treat infectious patient one',\n",
       " 'ptsd ethic erase bad memory',\n",
       " 'australia may intervene case abandon baby syndrome',\n",
       " 'aim stop hiv epidemic',\n",
       " 'edmonton doctor help syrians online psychiatric session',\n",
       " 'canadians struggle chronic pain',\n",
       " 'casual pot user may show brain change foreshadow trouble',\n",
       " 'nunavut bring telepsychiatry remote community',\n",
       " 'office install desk treadmill ramp productivity',\n",
       " 'eczema rise inuit population',\n",
       " 'many canadian doctor manage pain high priority',\n",
       " 'cycling doctor promote pancreatic cancer treatment',\n",
       " 'doctor without border shoulder lion share ebola care africa stretch thin via',\n",
       " 'actavis build big pharma couple year watson allergan',\n",
       " 'pharmalot pharmalittle good morning blustery wind deliver headline pharma azn bmy',\n",
       " 'ackman threaten sue allergan',\n",
       " 'pharmalot pharmalittle read hospiras lawsuit via',\n",
       " 'ebola virus outbreak last six month say',\n",
       " 'look inside valeant pare rampd recipe pharma future',\n",
       " 'white house meet healthlaw goal',\n",
       " 'rat runner can eat whatever want',\n",
       " 'cash exchange glaxo teva nocompete deal okay lamictal',\n",
       " 'late study surgery watchful wait may help home man benefit surgery',\n",
       " 'three mistake see parent make kid health via',\n",
       " 'forest lab near deal buy aptalis',\n",
       " 'bad city spring allergy',\n",
       " 'vegans need take microgram vit per week human check vit amp test deficiency healthtalk',\n",
       " 'deprive lymphoma cell good cholesterol may offer new drugfree approach eradicate disease',\n",
       " 'give meditation try ohm',\n",
       " 'connect online community people psoriasis amp psoriatic arthritis healthtalk',\n",
       " 'thank hope join today healthtalk',\n",
       " 'new blood thin link high heart attack risk',\n",
       " 'todays todo happier turn favorite tune music instantly take mood low euphoric',\n",
       " 'old say save later talk togo container smart kid healthtalk',\n",
       " 'piece fruit smoothie homemade granola bar great grab option breakfast healthtalk',\n",
       " 'medicine take pregnancy get clear warning risk',\n",
       " 'blessing gea carry highrisk ward day later recover ebola',\n",
       " 'nytscience climate special what happen corn',\n",
       " 'well sit less live long',\n",
       " 'adam nossiter nut bravery amp willingness travel heart ebola epidemic enrich htt',\n",
       " 'well take serious look humor',\n",
       " 'well parent poor judge children weight',\n",
       " 'search tool want many exchange',\n",
       " 'amazing find way let immune system kill cancer',\n",
       " 'global health bacteria study offer clue typhoid mary mystery',\n",
       " 'ope contributor ape need vaccine',\n",
       " 'watch world cup doha qatar summer hazardous health study say',\n",
       " 'count fruit veg',\n",
       " 'stroke diabetes parkinson amp liver cancer common less likely drink coffee',\n",
       " 'gun join household risk shoot kill rise much sharply woman man',\n",
       " 'study swine flu pandemic kill time people initially estimate',\n",
       " 'potential setback aca anthem blue cross spurn califs insurance market small business',\n",
       " 'estimate woman die complication pregnancy childbirth every second',\n",
       " 'doughnut cookie usda release new standard snack sell school campus day',\n",
       " 'toyota recall million car fix fire hazard',\n",
       " 'want lose weight sure get enough sleep expert say',\n",
       " 'obesity sentence early death fast say new study',\n",
       " 'brain injury drug stem damage',\n",
       " 'alzheimer trouble sleep affect memory later',\n",
       " 'sleep apnea may make people prone silent stroke',\n",
       " 'komen affiliate frustrate plan parenthood decision',\n",
       " 'flexible exercise regimen helpingor make thing bad',\n",
       " 'brain sex',\n",
       " 'pear recipe make fall love fruit via',\n",
       " 'surprising reason woman tweet less stress',\n",
       " 'use dinner leftover learn make perfect pan sauce',\n",
       " 'keep pictureperfect posture age tip',\n",
       " 'need know artificial sweetener sugar substitute',\n",
       " 'easy way lighten favorite holiday food healthholidayfavorite',\n",
       " 'thank time one tip share deal holiday food temptation talknutrition',\n",
       " 'stick spoon candy bowl kiss mampm you likely take spoonful grab handfu',\n",
       " 'snowy outside spend thanksgive bundle sledding build snowmen talknu',\n",
       " 'achieve great summer hair do hard try easy breezy look avoid frizz look great',\n",
       " 'dinner tonight try supereasy pasta recipe orecchiette sausage meatball broccoli rabe garlic',\n",
       " 'take antidepressant link high risk bleed surgery',\n",
       " 'do skip chocolate bunny year pick right one spring treat calorie',\n",
       " 'everything ever want know grill cheese sandwich know way tummy',\n",
       " 'ever wish assertive',\n",
       " 'newsflash bedbug bomb fogger do work might make sick',\n",
       " 'fun way get fit without gym',\n",
       " 'study nearly shy teen social phobia',\n",
       " 'diabetes dramatically increase risk develop alzheimer dementia later life accord new study',\n",
       " 'food producer quietly dump gmo ingredient',\n",
       " 'death sex glimmer hope report ebola sierra leone',\n",
       " 'fruit fly help explain autism',\n",
       " 'yearold want brace obamacare cover',\n",
       " 'sebelius face grill house despite fix',\n",
       " 'college campus get hit meningitis outbreak',\n",
       " 'case clearing artery heart attack',\n",
       " 'young woman rise rate advanced breast cancer study say',\n",
       " 'fda urge restaurant consumer cut salt',\n",
       " 'british doctor livestream cancer surgery use google glass',\n",
       " 'dent nfl treat like race horse',\n",
       " 'florida hospital worker treat mer patient also ill',\n",
       " 'senegal shut border guinea prevent ebola spread',\n",
       " 'procrastinator want hear',\n",
       " 'california student line meningitis shot',\n",
       " 'today anchor dare bare makeup monday',\n",
       " 'movie save trouble marriage',\n",
       " 'fda back away new fecal transplant rule',\n",
       " 'insurer pick million medical tab young adult',\n",
       " 'thegrio gene double alzheimer risk black',\n",
       " 'many along texas border still live without clean safe water partner',\n",
       " 'price tag healthcare massachusetts',\n",
       " 'report employer health cost forecast accelerate',\n",
       " 'health center see threat private option medicaid report',\n",
       " 'state accelerate move nursing home resident medicaid manage care here what happen florida',\n",
       " 'video obama say million enrol health law sotu health care highlight',\n",
       " 'anticipation lead question health exchange work',\n",
       " 'tweet health care law mon amp take call',\n",
       " 'todays poll actually large editorially independent part',\n",
       " 'treat prediabetes might prevent fullblown disease',\n",
       " 'tylenol overdose deadly child',\n",
       " 'look away get needle low pain study show',\n",
       " 'brain bleed patient well highvolume hospital',\n",
       " 'alternative therapy be use substitute asthma med study',\n",
       " 'dine partner overeat may',\n",
       " 'outbreak legionnaire disease trace hospital fountain',\n",
       " 'study reveal who prone mean drunk',\n",
       " 'tip protect skin cold winter weather',\n",
       " 'red wine antioxidant give metabolism boost',\n",
       " 'campus smoking ban may help college student quit',\n",
       " 'marijuana harvest medical use chile',\n",
       " 'scale back fitness tool show real result weight loss progress',\n",
       " 'underimmunize unvaccinate family cluster together',\n",
       " 'georgia couple celebrate birth son face lifethreatene condition',\n",
       " 'ncaa basketball player inoperable brain tumor become honorary coach',\n",
       " 'indoor tanning lead burn fainting eye injury',\n",
       " 'mom say she addict eat toilet paper',\n",
       " 'junior doctor sierra leone strike lack ebola care',\n",
       " 'high school chicago suburb cancel class flu outbreak',\n",
       " 'touch obit man fight cancer reveal he spiderman',\n",
       " 'eat spinach every day make brain year young via',\n",
       " 'someone say yoga market everything yoga voice lesson',\n",
       " 'read time hack never say busy exercise',\n",
       " 'can know fever take board flight amp usually ebola hit hit hard ebolaqanda',\n",
       " 'good workout make drifit shirt look like false advertise fitquote',\n",
       " 'plan biking run swim weekend show city inspire healthylive',\n",
       " 'cynic high dementia risk optimist new study show find else prone get',\n",
       " 'system get big think hospital right',\n",
       " 'dash win bestdiet what last place',\n",
       " 'coach jimbo fisher fight son life',\n",
       " 'cnnparent response great accomplish set help people open',\n",
       " 'help patient heal art',\n",
       " 'thing know carbon monoxide',\n",
       " 'allergy nuisance they costly billion year',\n",
       " 'todays getfit tip brain trouble separate thirsty hungry drink lot water prevent confusion',\n",
       " 'hire someone asperger autism',\n",
       " 'hong kong woman die cancer beauty treatment',\n",
       " 'cancer killer hispanic',\n",
       " 'chilean girl cystic fibrosis tell president let die',\n",
       " 'possibly expose superbug within ucla health system',\n",
       " 'tekmira begin limit manufacture drug target ebola',\n",
       " 'ohio health department trace contact second nurse ebola',\n",
       " 'medical evacuation service balk fly ebola patient',\n",
       " 'avoid tonight honey backache study',\n",
       " 'poor response ebola cause needless death world bank head',\n",
       " 'hoopsters put circusinspired spin cardio workout',\n",
       " 'children healthcare must suffer hand politician chase grey vote',\n",
       " 'prof morris tidal wave data require develop new approach',\n",
       " 'soap hollyoak eastender coronation street win plaudit realistic portrayal taboo health prob',\n",
       " 'zara aziz general practice bedrock nhs future uncertain guardianlivenhs',\n",
       " 'top tip nhs organisation use social medium',\n",
       " 'nhs meet police work together improve mental health crisis care london mentalhealth',\n",
       " 'do miss big data enable future healthcare datamgmt nhs',\n",
       " 'aampe target miss whole winter',\n",
       " 'fall ebola case turn point',\n",
       " 'cancer type bad luck',\n",
       " 'video disability work scheme lack cash',\n",
       " 'protein key heart muscle defect',\n",
       " 'die patient lack home support',\n",
       " 'concern late night discharge',\n",
       " 'video righttodie judgement due',\n",
       " 'video teen tell die beat odd',\n",
       " 'ivf success downhill age',\n",
       " 'doctor use electronic medical record constant game catchup',\n",
       " 'repeat exposure movie sex violence desensitize parent study',\n",
       " 'sick kid confirm case enterovirus',\n",
       " 'missionary infect ebola speak fight deadly disease',\n",
       " 'mer spread traveller likely warn',\n",
       " 'capital health nurse strike end',\n",
       " 'difficile vaccine test halifax',\n",
       " 'gilead notch victory roche hepatitis drug right dispute gild via',\n",
       " 'attn investor corporate inversion save company million taxis cost shareholder',\n",
       " 'crenezumab fail midstage trial show signal mild patient encourage prevention',\n",
       " 'costly hepatitis drug vex prison',\n",
       " 'science sore leg',\n",
       " 'naproxen may low cardiac risk rival painkiller fda',\n",
       " 'health insurer race complete enrollment',\n",
       " 'sleep apnea may boost stroke risk',\n",
       " 'fda like new type diabetes drug',\n",
       " 'chocolate breakfast today',\n",
       " 'one mcdonalds oatmeal teaspoon add sugar seemingly healthy fast food be',\n",
       " 'start walk regular routine prevent depression fatigue cancer survivor',\n",
       " 'fill tummy food keep feel hungry',\n",
       " 'everyone thank join talknutrition learn keep resolution year let get start',\n",
       " 'fruit veggie enjoy winter',\n",
       " 'aim resolution work lifestyleif rarely cook set goal tie healthy dine',\n",
       " 'talk love one feel amp specific support holiday',\n",
       " 'help beat bad mood take second poll',\n",
       " 'might feel sick do look try beauty tip cold flu season',\n",
       " 'british singer katie melua find spider live ear gross',\n",
       " 'hit pool weekend try fun underwater calorietorcher weightloss',\n",
       " 'go see flick weekend stay track movie treat calorie healthy',\n",
       " 'know cholesterol may vary season another reason love summer tend drop',\n",
       " 'ever hear skinny jean workout well say blast inch hip butt thigh belly stat',\n",
       " 'climber altitude sickness show sign brain bleed year later hike',\n",
       " 'care share menu idea follower',\n",
       " 'look great gym even have meet fitness goal yet',\n",
       " 'way get rid stuff nose kid',\n",
       " 'happy friday healthy plan weekend',\n",
       " 'doctor treat ebola omaha die',\n",
       " 'hospital worker suppose treat ebola safely',\n",
       " 'health researcher get million counter gender bias study',\n",
       " 'ebola catastrophic economic blow hard hit west african nation world bank warn',\n",
       " 'new health care insurer find way shift cost sick',\n",
       " 'study africanamerican bear low birth weight increase risk type diabetes later life',\n",
       " 'disease control fight ebola conspiracy theory',\n",
       " 'age well walk regular exercise lower risk frail old person become physically disabled',\n",
       " 'well me school grad prepare practice medicine',\n",
       " 'well statin tie cataract risk',\n",
       " 'dealbook big bank face lawsuit mortgage',\n",
       " 'swallow spoonful cinnamon may want try cinnamon challenge',\n",
       " 'doctor inadvertently demonstrate fecal transplant might help weight loss',\n",
       " 'abstain sex one year order donate blood that ask msm',\n",
       " 'deepak chopra walk walk spirituality',\n",
       " 'celiac fdns glutenfree galore expo waffle nutty bar',\n",
       " 'study slam doctor give antibiotic patient acute bronchitis',\n",
       " 'breast milk buy online contain coli salmonella ingredient would want give baby',\n",
       " 'one breast tumor thus consider healthy',\n",
       " 'gut bacteria lean human keep mouse lean gut bacteria obese human make mouse obese',\n",
       " 'department health care service announce million fund medical outreach enrollment',\n",
       " 'icymi medicare spend per patient endoflife care la average',\n",
       " 'pres say competition choice obamacare california push cost health insurance premium',\n",
       " 'dementia care cost treat heart disease cancer',\n",
       " 'search tapeworm achilles heel',\n",
       " 'study doc give eat lipid test',\n",
       " 'cognitive decline may start middle age study find',\n",
       " 'stray dog trouble katmandus canine rescuer jump',\n",
       " 'economic impact ebola crisis spread across africa',\n",
       " 'chikunwhat new mosquitoborne virus land',\n",
       " 'forecasting flu tweet tweet',\n",
       " 'george zimmerman road perdition',\n",
       " 'dissect americas trillion medical bill',\n",
       " 'native americans mental health budget cut hit hard',\n",
       " 'dad build costume help sick infant feel brave',\n",
       " 'watch live texas task hold hear ebola preparedness',\n",
       " 'american ebola survivor do let fear take hold',\n",
       " 'angel face retreat heal journey burn teen girl',\n",
       " 'florida hospital worker treat mer patient fall ill',\n",
       " 'desperate parent pay thousand freeze dress',\n",
       " 'much add sugar',\n",
       " 'electrical burn cause starshape cataract patient eye',\n",
       " 'family angry calif man die swine flu',\n",
       " 'okla tornado injury even doctor cry',\n",
       " 'app help caregiver coordinate medical care',\n",
       " 'monster say drink do kill girl',\n",
       " 'dad word warn adderall change son',\n",
       " 'canadian taste test like salty sweet',\n",
       " 'damaging disproven vaccine autism story will die',\n",
       " 'ecigarette use restrict flavour tobacco ban ontario',\n",
       " 'ahiflower possible omega source test pei',\n",
       " 'wrong result eastern health breast cancer patient',\n",
       " 'psychologist limit emergency room visit group say',\n",
       " 'flu vaccine may reduce cardiovascular risk',\n",
       " 'what real start date health exchange oct jan',\n",
       " 'need stay top aca rollout health issue must subscribe daily email',\n",
       " 'doc get mbas well understand obamacare here',\n",
       " 'find near flu shoot',\n",
       " 'much mri reporter struggle find',\n",
       " 'read letter senator gilead seek justification price tag hepc drug sovaldi',\n",
       " 'food maker secret ingredient less salt',\n",
       " 'visit rise despite health law',\n",
       " 'pfizer file fda breastcancer drug palbo suspense shift whether fda say yes jpm estimate',\n",
       " 'say come official aca deadline extend stymie effort get cover mar',\n",
       " 'antibiotic overuse create superbug also sicken weaken patient say cdc',\n",
       " 'soda alternative sip dinner instead',\n",
       " 'vday good time talk abt selflove oft find time take care other amp forget care need healthtalk',\n",
       " 'curse cohabit marry couple debunk',\n",
       " 'check vegan myth debunk healthtalk',\n",
       " 'tweet handle excite todays chat healthtalk',\n",
       " 'wow thank join healthtalk',\n",
       " 'thing healthy chinese food tell enjoy popular cuisine without guilt',\n",
       " 'take charge health year first step join google today',\n",
       " 'list really make rethink dinner choice can believe calorie count xtremeeate healthtalk',\n",
       " 'home birth pose danger higherrisk pregnancy study',\n",
       " 'many worker sleepdeprive cdc',\n",
       " 'stop bone drug cut risk second thigh fracture study',\n",
       " 'diabetes prevention program might avert case',\n",
       " 'evidence show new form pill raise clot risk fda say',\n",
       " 'divorce trigger hair loss woman',\n",
       " 'lose child first year might raise early death risk parent',\n",
       " 'texas woman sue botch hysterectomy',\n",
       " 'nfl hall famer barry sander raise awareness neurological condition',\n",
       " 'food help prevent flu',\n",
       " 'congrat friend launch new website great comprehensive resource alzheimer info',\n",
       " 'use cholesterollowere med rise',\n",
       " 'need know dissociative identity disorder watch crowd room',\n",
       " 'spice sex life food',\n",
       " 'question ask doctor prostate cancer worldcancerday',\n",
       " 'overdo gym',\n",
       " 'join worldstrokeday strokechat',\n",
       " 'watch travel world happy nation weekend',\n",
       " 'check become human guinea pig ebola vaccine',\n",
       " 'remember mix deadly flu strain amp notsodeadly flu strain here happen',\n",
       " 'medical record complex see supercomputer help make sense patient history cnn',\n",
       " 'nutrition label get makeover find what change',\n",
       " 'like',\n",
       " 'join pet talk raise kid mental illness cnnparent',\n",
       " 'ban pesticide link endometriosis',\n",
       " 'meditate reduce stress allow well blood flow brain frontal cortexthats area use make decision asksanjay',\n",
       " 'breastfe baby need vitamin',\n",
       " 'nose different shape',\n",
       " 'sabra dip recall case hummus listeria fear',\n",
       " 'sierra leone vice president place ebola quarantine',\n",
       " 'senior engagement art may suffer hospitalization',\n",
       " 'health worker miss louisiana medical conference ebola warn',\n",
       " 'malis first ebola case twoyrold girl die official',\n",
       " 'send troop aircraft ship tackle ebola sierra leone',\n",
       " 'ebola patient dallas fight life health official',\n",
       " 'white house brief ebola delay stay tune',\n",
       " 'bill clinton say must whatever take fight ebola',\n",
       " 'astrazeneca partner eli lilly alzheimer drug',\n",
       " 'amgen drug fail improve survival multiple myeloma trial',\n",
       " 'new york teen win prize invention aid alzheimer patient',\n",
       " 'cdc lab inspector may risk public safety document',\n",
       " 'myanmar muslims remote rakhine suffer worsen health crisis',\n",
       " 'adoption new surgical technology link complication',\n",
       " 'foster farm recall chicken month salmonella outbreak',\n",
       " 'think good piece raise awareness see issue',\n",
       " 'healthcare sector really want next government',\n",
       " 'notforprofit care organisation get long stable contract private company say andy burnham',\n",
       " 'people volunteer replace cut service amp staff',\n",
       " 'interesting follow live expert discussion hear solution aampe healthcare tomorro',\n",
       " 'good piece policy principle correct need local collaboration engagement execution',\n",
       " 'sign network late article event offer quick easy free',\n",
       " 'love positive story general practice amidst',\n",
       " 'blood pressure device promise',\n",
       " 'hospital declare major incident',\n",
       " 'ebola spread west play',\n",
       " 'winter flu jab drive launch',\n",
       " 'obesity link cancer',\n",
       " 'sierra leone ebola escapee find',\n",
       " 'ecigarette phenomenon',\n",
       " 'haemophilia gene therapy solution',\n",
       " 'massive dna volunteer hunt begin',\n",
       " 'awake knife',\n",
       " 'need know daylight saving health',\n",
       " 'tiny rocketshape metal particle might one day take wild ride inside body',\n",
       " 'health official investigate possible tuberculosis exposure nicu nevada hospital',\n",
       " 'couple piss pregnant twin find',\n",
       " 'diana diana nyad mile end cubatoflorida swim team say xtremedream',\n",
       " 'opinion find doctor really think',\n",
       " 'todays getfit tip do eat ingredient can pronounce eat real food',\n",
       " 'weight loss exercise less',\n",
       " 'ann romney talk experience',\n",
       " 'painkiller abuse spark hiv outbreak southern indiana',\n",
       " 'california measles outbreak possibly link philippine official say',\n",
       " 'tesco recall squash complaint foul smell',\n",
       " 'church catch communion bread free gluten',\n",
       " 'fda approve cubist drug antibioticresistant bacteria',\n",
       " 'child observation chicago hospital rule ebola',\n",
       " 'mosquitoborne chikungunya spread rapidly south pacific',\n",
       " 'liberia right commission call compensation ebola quarantine shoot',\n",
       " 'consider quarantine return ebola health worker cdc',\n",
       " 'european code cancer call smokefree active live',\n",
       " 'expert question first patient diagnose ebola evaluate initially turn away',\n",
       " 'world bank announce plan million new fund ebola epidemic west africa',\n",
       " 'back use experimental ebola drug west africa epidemic',\n",
       " 'biodel insulin drug find effective midstage trial',\n",
       " 'crowdsource answer medical mystery',\n",
       " 'consumer group want fda order warn energy drink',\n",
       " 'web program may improve teen driver train',\n",
       " 'newsletter go wednesday sign get free nhs',\n",
       " 'do miss closure small pharmacy threaten overload gps aampe',\n",
       " 'nurse need time nursing team understaffed nursing turn firefighte agree',\n",
       " 'look nurse yrs experience discussion tomorrow help',\n",
       " 'material support care certificate implementation available carecert please share',\n",
       " 'do miss christmas gift guide healthcare professional',\n",
       " 'broadmoor often represent prison documentary aim dispell myth say',\n",
       " 'health highlight',\n",
       " 'video inside challenging behaviour unit',\n",
       " 'ebola screen test scrutiny',\n",
       " 'video poor people few tooth',\n",
       " 'ebola death toll exceed',\n",
       " 'ebola threaten africa harvest',\n",
       " 'middleage drink impair memory',\n",
       " 'obesogenic environment',\n",
       " 'pregnancy fat may alter baby brain',\n",
       " 'surgery implant huge potential',\n",
       " 'gps extra mile frailest',\n",
       " 'surgeon win award invention',\n",
       " 'audio worker unhappy',\n",
       " 'well low birth weight tie hip replacement adulthood',\n",
       " 'governor new york new jersey defend ebola quarantine amid concern',\n",
       " 'cdc frieden regret send infection control team hospital first ebola diagnosis sez might prevent',\n",
       " 'maybe you never see nobelprize celebration spin one',\n",
       " 'well rise tide contaminant',\n",
       " 'berkeley instate charity cannabis mandate perhaps first law',\n",
       " 'well ask well reapply sunscreen',\n",
       " 'business brief endo pay million settle claim device',\n",
       " 'study link autism somalis minneapolis',\n",
       " 'james steele pioneer veterinary public health die',\n",
       " 'woman few orgasm hookup man',\n",
       " 'practice judge allow legal challenge law continue',\n",
       " 'letter terminal mean letter',\n",
       " 'what est exercise curb appetite report',\n",
       " 'debate fix hospital dire strait',\n",
       " 'half hospital admission emergency room',\n",
       " 'well pattern allergy rick high among americans',\n",
       " 'profile high school hookah user pretty much opposite cigarette smoker hookah safe',\n",
       " 'many glutenfree snack gffaf gluten free expo lecturer say careful much process food',\n",
       " 'gulf war illness complicated give two definition explain',\n",
       " 'study oil spill effect tuna include heart warn human say barbara block',\n",
       " 'new recommendation drug therapy people hiv start early',\n",
       " 'do work ab strengthen back try superman exercise healthtips latfit',\n",
       " 'destroy brain cell past life little mind fitness might order',\n",
       " 'fact can vegetable may bad fresh produce',\n",
       " 'follow wind path elysian park',\n",
       " 'video game help fight cancer obesity',\n",
       " 'try exercise ladder drill',\n",
       " 'myocardial infarction big minus heart attack patient',\n",
       " 'hospital bill become decadelong pay cut',\n",
       " 'dallas ebola patient diagnose first hospital visit',\n",
       " 'west virginias governor veto abortion ban',\n",
       " 'happier stay moment',\n",
       " 'toddler remain hivfree raise hope baby worldwide',\n",
       " 'study hint vitamin might help curb high blood pressure',\n",
       " 'what wrong call obesity medical problem',\n",
       " 'missouri kansas reject health exchange',\n",
       " 'chat nigerian gold today noon nigeriagold',\n",
       " 'use daily pill prevent hiv infection cdc recommend',\n",
       " 'aspirin day do dose yourself fda say',\n",
       " 'shocking treatment ban propose school electrical stimulation',\n",
       " 'kid get uneven tonsil care study find',\n",
       " 'sneaky risk trans fat hide yummy place',\n",
       " 'unborn baby hear you loud clear',\n",
       " 'face crowd year extensive face transplant history',\n",
       " 'justice decline hear plan parenthood fund case',\n",
       " 'bumble bee recall tuna can loose seal',\n",
       " 'story ongoing severe epidemic sexually transmit infection',\n",
       " 'really loom doctor shortage say',\n",
       " 'newly release paper document go wrong president clinton try health reform',\n",
       " 'ltc panel release recommendation consensus pay longterm care service write',\n",
       " 'correction will air talk pbs hospital readmission read',\n",
       " 'todays cartoon bad form',\n",
       " 'missouris nixon back medicaid expansion report',\n",
       " 'todays cartoon grandslamme',\n",
       " 'push graphic warning cigarette',\n",
       " 'youth baseball season near expert urge injury prevention',\n",
       " 'neurologist screen patient abuse expert',\n",
       " 'gastric banding increase may complication',\n",
       " 'half americans suffer mental health woe cdc say',\n",
       " 'smoker may tap multiple source nicotine study say',\n",
       " 'food boost immune system',\n",
       " 'toddler die prescribe exceptionally high amount potassium',\n",
       " 'autism research thing learn',\n",
       " 'friend someone autism worldautismawarenessday',\n",
       " 'what difference bdsm amp what portray shade grey',\n",
       " 'supermarket sleuth produce edition',\n",
       " 'here happen guy read other text girlfriend',\n",
       " 'fast easy breakfast totally time make',\n",
       " 'meditation overcome obstacle via',\n",
       " 'healthy change usually lead more start feel different energy well mood',\n",
       " 'see slimme spa treatment actually help shed weight',\n",
       " 'way blast calorie home five minute',\n",
       " 'kick workout notch pilate boxing',\n",
       " 'lemon shortbread cookie less fat yes exist recipe',\n",
       " 'ebola patient martin salia die nebraska hospital ebola',\n",
       " 'diet try food swap painlessly slash calorie',\n",
       " 'gluten be culprit celiac disease study say gluten glutenfree',\n",
       " 'fatty food usa find state famous healthyeate healthmagazine',\n",
       " 'fennel vegetable that pack fill fiber help flatten belly calorie per cup',\n",
       " 'grapefruitorangekiwi juice vitamin bomb great recipe you consider juice cleanse',\n",
       " 'want sleep well eat make difference study suggest',\n",
       " 'hey fat cat vet say pet obesity grow problem via',\n",
       " 'headache something bad click sign pain need medical attention',\n",
       " 'get sticker shock grocery store way save money healthy food',\n",
       " 'food eat good date might want',\n",
       " 'need healthy push turn partner lose weight quit smoking',\n",
       " 'kira leeb operation ask surgeon eat count sponge amp know',\n",
       " 'ebola death toll reach',\n",
       " 'basic public health well use resource experimental drug look curb ebola outbreak',\n",
       " 'marc emery turn marijuana activism prince pot early year',\n",
       " 'parent seek postpartum help since gibson death',\n",
       " 'aspirin treat breast cancer be try find',\n",
       " 'see ebola epidemic unprecedented west africa medical aid group say',\n",
       " 'outdoor exerciser reap unexpected gain move indoors',\n",
       " 'pay kidney donor less costly effective',\n",
       " 'mouse nibble dementia patient lobby group claim',\n",
       " 'infertile childhood cancer survivor conceive',\n",
       " 'federal authority arrest connection outbreaklinked pharmacy via',\n",
       " 'health law go market little differently enrollment season mandate suddenly',\n",
       " 'ackman say allergan insider trade lawsuit shameless attempt thwart shareholder meeting',\n",
       " 'regeneron bid pay speedy review fda help leapfrog amgen pcsk bet',\n",
       " 'fiscal florida top list number complaint pregnancy discrimination',\n",
       " 'wall street journal first publish year ago july explore digital archive wsj',\n",
       " 'pharmalot pharmalittle good morning sunshine amp headline pharma gsk bmy teva cancer cou',\n",
       " 'vacancy vas top add problem top post unfilled withdraw name',\n",
       " 'march deadline get insurance likely extend some due continue glitch',\n",
       " 'zero calorienegative calorie food really exist',\n",
       " 'remember scientific proof diet help psoriasis sure talk doctor healthtalk',\n",
       " 'common spice cause hallucination take quiz',\n",
       " 'health official reassess strategy combat ebola liberia',\n",
       " 'medicare propose pay lung cancer screening old longtime smoker',\n",
       " 'well interrogation teenager young know well',\n",
       " 'perfect little highprotein package pestofille devil egg',\n",
       " 'recipe health tunisian grill pepper tomato couscous',\n",
       " 'west africa consist country ebola outbreak though big record touch country far',\n",
       " 'new old age blog move extend visit hour hospital',\n",
       " 'mom teacher always busy decorate classroom turn may detract learn',\n",
       " 'hovding bitlock xfire beyond advance bike safety arrive',\n",
       " 'well orange new green',\n",
       " 'well rare convergence thanksgive hanukkah',\n",
       " 'parent get memo do give cold med kid',\n",
       " 'well new year baby may pay',\n",
       " 'hit head do differ age research show',\n",
       " 'well live cancer rainbow coalition',\n",
       " 'well barefootstyle run good new study cast doubt',\n",
       " 'recipe health leek turnip soup kale walnut garnish',\n",
       " 'eat gram fiber per day lose weight that happen study',\n",
       " 'curl bed ebook curl bed real book via',\n",
       " 'handson come medical decision new survey say might cost money',\n",
       " 'west nile outbreak bad ever cdc say',\n",
       " 'eat meat help early human reproduce spread around globe',\n",
       " 'love new take weeklyweighin series gain weight love body ano',\n",
       " 'great hedline billion reason celebrate india report case polio year',\n",
       " 'tale two michaels one woman son give another second chance life diabetes',\n",
       " 'put together list favorite weightloss tip what good advice ever receive getfit',\n",
       " 'todays getfit tip crunch do much try plank hang leg raise instead',\n",
       " 'grind tooth hurt health',\n",
       " 'say say someone chronic illness',\n",
       " 'early childhood experience shape adult life',\n",
       " 'ebola pingpong liberia case disappear jungle',\n",
       " 'new jersey case raise question legality ebola quarantine',\n",
       " 'liberian singer use power music raise ebola awareness',\n",
       " 'visitor shy away dallas ebola patient die',\n",
       " 'hear thing change help teen dodge depression',\n",
       " 'boom economy do save child malnutrition',\n",
       " 'reinvent condom easyon tab beef tendon',\n",
       " 'wisconsin choose path overhaul medicaid',\n",
       " 'add insurance confusion outside group try cash',\n",
       " 'insurer cancel policy',\n",
       " 'health screen offer nonprofit may harm help',\n",
       " 'mouse study shed light cancer vaccine fail',\n",
       " 'chicago kid say they assign gang',\n",
       " 'addictive cigarette smoking game smartphone target kid',\n",
       " 'obesity cost global economy trillion',\n",
       " 'fed probe medical device possible cyber flaw',\n",
       " 'superhero yearold give comicbook funeral',\n",
       " 'thing never say military spouse',\n",
       " 'hug more scold less strict parent link child obesity',\n",
       " 'cat poop parasite may pose public health hazard study suggest',\n",
       " 'treat hiv patient soon save live',\n",
       " 'family face heart transplant child',\n",
       " 'popular vaginal product link infection study find',\n",
       " 'cause phantom limb pain new theory',\n",
       " 'new gop effort include realistic proposal change health law',\n",
       " 'lawsuit accuse anthem blue cross fraudulent enrollment practice report',\n",
       " 'ever feel rush doctor office',\n",
       " 'cold turkey',\n",
       " 'report million adult fall aca coverage gap new report say',\n",
       " 'qampa contraception coverage health law',\n",
       " 'strawberry top list pesticidelace food report',\n",
       " 'fda approve first dermal filler treat acne scar',\n",
       " 'food medication insecurity tie poor diabetes control',\n",
       " 'italy arrest doctor suspect take bribe discourage breast feed',\n",
       " 'ebola may change aid spend healthcare africa',\n",
       " 'people contact ebola patient people come direct contact ebola patient dallas county',\n",
       " 'north carolina join state allow limit medical marijuana',\n",
       " 'evidence moderate drink may benefit heart',\n",
       " 'drastic action need halt world bad ebola outbreak',\n",
       " 'graphic cig pack label make smoker think study find',\n",
       " 'poorer americans see sharp health decline age',\n",
       " 'promise malaria vaccine may save children live',\n",
       " 'new adhd guideline include preschooler old teen',\n",
       " 'diabetes education seem help improve blood sugar control',\n",
       " 'family four genome sequence',\n",
       " 'eye antibiotic cause drugresistant bacteria study',\n",
       " 'people care do see diagnosis schizophrenia see person mentalhealth',\n",
       " 'begin question end life care',\n",
       " 'locums nhs bad reputation healthcare staff face burnout leave demand blossom',\n",
       " 'call make patient care reach wait target',\n",
       " 'gps plan care patient video explain nhs',\n",
       " 'fear blame evident amongst hcps amp public edu appropriate service use must step aan',\n",
       " 'what nye go like aampe one nurse reveal nhs',\n",
       " 'biomarker urine may help detect kidney cancer early study find',\n",
       " 'fda ease access dna screen inherit disease',\n",
       " 'routine dental checkup may save girl life newser',\n",
       " 'groom delay lung cancer test receive tragic diagnosis wedding',\n",
       " 'new implant let paralyze rat walk',\n",
       " 'risk study mining town find even small amount asbestos exposure lead lung problem',\n",
       " 'major loophole obamacare leave many mentalillness struggle cost access via',\n",
       " 'celebrate pattys potato get scoop whether body thank',\n",
       " 'get baby fever eat fertilityfriendly food',\n",
       " 'feel forgetful try walnut study suggest memory',\n",
       " 'feel midday slump power avoid tomorrow tip',\n",
       " 'contaminate blood probe report due',\n",
       " 'plan nhs cash change spark anger',\n",
       " 'patient face long wait',\n",
       " 'call smear test under',\n",
       " 'audio man hold give wife pain patch',\n",
       " 'crossfit workout may injury prone',\n",
       " 'family furious teen vaccinate without parental consent',\n",
       " 'liberian ebola survivor return clinic helper thank ebola immunity',\n",
       " 'tekmira say fda enable potential use experimental drug ebola patient healthy volunteer still hold tkmr',\n",
       " 'mentality people cure matter costits sustainable',\n",
       " 'stand lose billion corporatetax inversion',\n",
       " 'pharmalot pharmalittle good morning sunshine coffee amp headline pharma azn pfe gsk nvs',\n",
       " 'icyi medtech merger late wave skirt taxis shift healthcare industry also big factor',\n",
       " 'breechdelivery process reconsider',\n",
       " 'overhaul healthcare site work',\n",
       " 'welcome silverman back blogosphere pharmalot wsj edition run folk',\n",
       " 'fda find pradaxa link low stroke brain hemorrhage risk',\n",
       " 'law enforcement privacy advocate spar access prescription drug database',\n",
       " 'qampa deal frenzy say big pharma company scale core competency via',\n",
       " 'note use word experimental doctor jampj vaginal mesh device via',\n",
       " 'tough economy even blood business',\n",
       " 'stress dessert spell backwards fill dessert stress go backwards healthtalk',\n",
       " 'eat together family provide constant meeting point family matter busy come together healthtalk',\n",
       " 'food add year life',\n",
       " 'everyone I ever meet lose weight keep amp healthy splurge sometimes that real life',\n",
       " 'need know clever kitchen hack',\n",
       " 'eat way perfect health superfood fight disease',\n",
       " 'do let stress lack sleep steal partyfabulous look season try trick look good',\n",
       " 'stock highprotein snack healthyeate',\n",
       " 'do eat breakfast consistently set goal daily week amp see feel talkn',\n",
       " 'celebrate first day summer super fun workout need favorite pool toy',\n",
       " 'irregular heartbeat may speed memory loss age atrialfibrillation',\n",
       " 'try one dessert help celebrate easter without put pound',\n",
       " 'stress leave frazzle least do raise risk cancer study find',\n",
       " 'good super bowl chip dip buy',\n",
       " 'countdown christmas treat healthified banana pudde',\n",
       " 'read threeyear birthcontrol allergyfriendly thanksgiving stay slim holiday',\n",
       " 'way avoid overeat',\n",
       " 'take control metabolism make booster part routineand finally stop sweat every cookie',\n",
       " 'breaking news french doctor without border worker contract ebola monrovia liberia evacuate',\n",
       " 'new old age blog picture dementia',\n",
       " 'pay attention',\n",
       " 'daru journal survive ebola untouchable back home',\n",
       " 'well workout practice medicine',\n",
       " 'vial smallpox find fda storage room',\n",
       " 'well study may make nearsighte',\n",
       " 'ever wonder asparagus make pee smell funny here',\n",
       " 'many woman take statin',\n",
       " 'dread upcome colonoscopy dna test stool may adequate substitute',\n",
       " 'nih join drug maker nonprofit stubborn disease',\n",
       " 'well well quiz mind behind eye',\n",
       " 'robert mccabe jr kidney donation specialist die',\n",
       " 'global health mold toxin tie aid epidemic',\n",
       " 'ope contributor abortion week',\n",
       " 'polarize congress thwart change health care law',\n",
       " 'news analysis balance risk benefit clinical trial',\n",
       " 'potential weightloss obesity prevention drug work female sweet justice',\n",
       " 'sincere thank researcher debunking myth bra cause breast cancer',\n",
       " 'excessive sodium consumption cause million death heart disease stroke yearly study say',\n",
       " 'injury pain may save life study discover',\n",
       " 'awww like time time discuss way bring back particular interest',\n",
       " 'biker cruise venice boulevard sunday ciclavia',\n",
       " 'sugarfree bake good sugar dieter',\n",
       " 'obesity project grow though pace slow cdc study',\n",
       " 'year lesson learn drugmaker payment doctor',\n",
       " 'make interval train less painful add tune',\n",
       " 'single insurer hold obamacares fate state',\n",
       " 'time send message pregnant woman use tobacco',\n",
       " 'people feel purpose life live long',\n",
       " 'fed tighten lab security anthrax bird flu blunder',\n",
       " 'read teacher lose ability read',\n",
       " 'momstobe eat fish choose lowmercury option',\n",
       " 'obamacare hurt hire small business',\n",
       " 'violence within',\n",
       " 'homeless age fast',\n",
       " 'ebola research get boost crowdfunde',\n",
       " 'watch live cleveland hospital official hold brief ebola concern',\n",
       " 'baby helmet correct skull formation',\n",
       " 'adhd treatment may tie obesity study suggest',\n",
       " 'chain dental clinic kid exclude medicaid',\n",
       " 'fame runner joy johnson die one day nyc marathon',\n",
       " 'fda halt amgen study teen patient death',\n",
       " 'insurance plan do cover hospital stay will allow obamacare rule',\n",
       " 'virginias governor veto part state budget medicaid vow expand program',\n",
       " 'lend ear note taker help elderly doctor',\n",
       " 'obama administration expect enroll exchange end nov',\n",
       " 'state use outofthebox approach raise awareness health exchange',\n",
       " 'health law boost status alternative medicine least paper report',\n",
       " 'immigrant contribute medicare take out study find report',\n",
       " 'account difference medicare spend different part examine',\n",
       " 'much screen time may harm kid fitness',\n",
       " 'screen health problem may aid copd survival',\n",
       " 'dense breast may link cancer recurrence',\n",
       " 'patient seek plastic surgery advice facebook twitter',\n",
       " 'chubby doctor bad health',\n",
       " 'circle friend key adopt healthy habit study',\n",
       " 'python finding shed light human heart health',\n",
       " 'bond teacher help curb aggression kid',\n",
       " 'drink fluid low men bladder cancer risk',\n",
       " 'bilingual home help baby exercise brain study',\n",
       " 'hurricane irene fury leave death damage along east coast',\n",
       " 'research show folk resist get sick flu',\n",
       " 'white house craft firstever plan fight superbug',\n",
       " 'yearold georgia boy one first state test experimental cannabis oil',\n",
       " 'infection common cause readmission surgery',\n",
       " 'company craft unique baby name',\n",
       " 'stable childhood may lead healthy adult heart',\n",
       " 'nearly half americans think flu shoot make sick',\n",
       " 'coroner exam look brain ohio state player find dead',\n",
       " 'treat breakfast like prince lunch like king dinner like pauper accord',\n",
       " 'want lose weight do know diet use bestdiet ranking come january th answer question',\n",
       " 'expert share quick way stop back pain',\n",
       " 'many client alcohol barrier weight loss up appetite amp lower inhibitio',\n",
       " 'intense circuit workout keep heart rate up burn calorie tone whole body',\n",
       " 'may cold outside make hot bedroom libidoboosting trick',\n",
       " 'doctor group label obesity disease',\n",
       " 'mood fritz lately check subtle sign bipolar disorder',\n",
       " 'want eat less try prove mental trick diet weightloss',\n",
       " 'young kid class may likely get adhd diagnosis',\n",
       " 'think abstractly may help boost selfcontrol many long term goal people strive like lose',\n",
       " 'follow apple juice scandal new consumer report study look deep toxin issue',\n",
       " 'black friday not love affordable fragrance what good deal find today',\n",
       " 'cool temp call warm meal love recipe day spicy southwestern black bean chili',\n",
       " 'entertain weekend love easy outdoor appetizer',\n",
       " 'something eat enough sleep surprising headache trigger',\n",
       " 'train first triathlon coach cover tip triwithme',\n",
       " ...]"
      ]
     },
     "execution_count": 16,
     "metadata": {},
     "output_type": "execute_result"
    }
   ],
   "source": [
    "text"
   ]
  },
  {
   "cell_type": "code",
   "execution_count": 0,
   "metadata": {
    "application/vnd.databricks.v1+cell": {
     "cellMetadata": {
      "byteLimit": 2048000,
      "rowLimit": 10000
     },
     "inputWidgets": {},
     "nuid": "8f7c5ec6-1cfc-42a9-8c66-c8da25089bb7",
     "showTitle": false,
     "title": ""
    }
   },
   "outputs": [
    {
     "output_type": "stream",
     "name": "stderr",
     "output_type": "stream",
     "text": [
      "\r  0%|          | 0/50 [00:00<?, ?it/s]\r  4%|▍         | 2/50 [00:00<00:02, 16.24it/s]\r  8%|▊         | 4/50 [00:00<00:02, 16.21it/s]\r 12%|█▏        | 6/50 [00:00<00:02, 16.17it/s]\r 16%|█▌        | 8/50 [00:00<00:02, 16.28it/s]\r 20%|██        | 10/50 [00:00<00:02, 16.35it/s]\r 24%|██▍       | 12/50 [00:00<00:02, 16.47it/s]\r 28%|██▊       | 14/50 [00:00<00:02, 16.61it/s]\r 32%|███▏      | 16/50 [00:00<00:02, 16.72it/s]\r 36%|███▌      | 18/50 [00:01<00:01, 16.79it/s]\r 40%|████      | 20/50 [00:01<00:01, 16.89it/s]\r 44%|████▍     | 22/50 [00:01<00:01, 16.93it/s]\r 48%|████▊     | 24/50 [00:01<00:01, 16.89it/s]\r 52%|█████▏    | 26/50 [00:01<00:01, 16.98it/s]\r 56%|█████▌    | 28/50 [00:01<00:01, 17.02it/s]\r 60%|██████    | 30/50 [00:01<00:01, 17.09it/s]\r 64%|██████▍   | 32/50 [00:01<00:01, 17.14it/s]\r 68%|██████▊   | 34/50 [00:02<00:00, 17.18it/s]\r 72%|███████▏  | 36/50 [00:02<00:00, 17.20it/s]\r 76%|███████▌  | 38/50 [00:02<00:00, 17.22it/s]\r 80%|████████  | 40/50 [00:02<00:00, 17.23it/s]\r 84%|████████▍ | 42/50 [00:02<00:00, 17.21it/s]\r 88%|████████▊ | 44/50 [00:02<00:00, 17.24it/s]\r 92%|█████████▏| 46/50 [00:02<00:00, 17.26it/s]\r 96%|█████████▌| 48/50 [00:02<00:00, 17.27it/s]\r100%|██████████| 50/50 [00:02<00:00, 17.29it/s]\r100%|██████████| 50/50 [00:02<00:00, 16.95it/s]\n"
     ]
    }
   ],
   "source": [
    "import bitermplus as btm\n",
    "\n",
    "X, vocabulary, vocab_dict = btm.get_words_freqs(text)\n",
    "\n",
    "docs_vec = btm.get_vectorized_docs(text, vocabulary)\n",
    "biterms = btm.get_biterms(docs_vec)\n",
    "\n",
    "# Initializing and running model\n",
    "model = btm.BTM(X, vocabulary, seed=2024, T=7, M=20, alpha=50 / 8, beta=0.01)\n",
    "model.fit(biterms, iterations=50)"
   ]
  },
  {
   "cell_type": "code",
   "execution_count": 0,
   "metadata": {
    "application/vnd.databricks.v1+cell": {
     "cellMetadata": {
      "byteLimit": 2048000,
      "rowLimit": 10000
     },
     "inputWidgets": {},
     "nuid": "d6eeb6b4-9420-4e4f-a6bf-4e4c8495bb4d",
     "showTitle": false,
     "title": ""
    }
   },
   "outputs": [
    {
     "output_type": "stream",
     "name": "stderr",
     "output_type": "stream",
     "text": [
      "\r  0%|          | 0/29679 [00:00<?, ?it/s]\r 62%|██████▏   | 18513/29679 [00:00<00:00, 185108.11it/s]\r100%|██████████| 29679/29679 [00:00<00:00, 186117.94it/s]\n"
     ]
    },
    {
     "output_type": "execute_result",
     "data": {
      "text/plain": [
       "array([[1.01220782e-02, 8.99391325e-01, 1.07290413e-02, ...,\n",
       "        5.77502033e-02, 2.42463757e-03, 1.61877033e-02],\n",
       "       [1.27909252e-01, 1.62439173e-01, 7.72308518e-02, ...,\n",
       "        3.83359945e-01, 6.33575109e-03, 1.84722448e-01],\n",
       "       [1.64856296e-02, 7.13601207e-01, 7.26216820e-03, ...,\n",
       "        2.04041389e-01, 1.74191927e-02, 1.73595592e-02],\n",
       "       ...,\n",
       "       [2.95942643e-02, 4.72056478e-04, 8.19222332e-02, ...,\n",
       "        3.68592161e-01, 1.24192542e-02, 2.72717521e-01],\n",
       "       [2.14843855e-02, 6.26035355e-02, 1.12635301e-02, ...,\n",
       "        8.34417813e-01, 1.71813319e-02, 3.35071614e-02],\n",
       "       [7.57994662e-03, 5.72294664e-01, 1.48426550e-07, ...,\n",
       "        4.11252036e-01, 1.65615995e-10, 7.99828778e-03]])"
      ]
     },
     "execution_count": 18,
     "metadata": {},
     "output_type": "execute_result"
    }
   ],
   "source": [
    "p_zd = model.transform(docs_vec)\n",
    "p_zd"
   ]
  },
  {
   "cell_type": "code",
   "execution_count": 0,
   "metadata": {
    "application/vnd.databricks.v1+cell": {
     "cellMetadata": {
      "byteLimit": 2048000,
      "rowLimit": 10000
     },
     "inputWidgets": {},
     "nuid": "9bde7caa-f9a6-4201-8db5-a0ec6a6281e1",
     "showTitle": false,
     "title": ""
    }
   },
   "outputs": [
    {
     "output_type": "stream",
     "name": "stdout",
     "output_type": "stream",
     "text": [
      "\u001B[43mNote: you may need to restart the kernel using dbutils.library.restartPython() to use updated packages.\u001B[0m\nRequirement already satisfied: tmplot in /local_disk0/.ephemeral_nfs/envs/pythonEnv-3695364e-0dd4-48a3-88b9-20a7f1c3bfe3/lib/python3.10/site-packages (0.1.2)\nRequirement already satisfied: tqdm in /databricks/python3/lib/python3.10/site-packages (from tmplot) (4.64.1)\nRequirement already satisfied: seaborn in /databricks/python3/lib/python3.10/site-packages (from tmplot) (0.12.2)\nRequirement already satisfied: numpy in /databricks/python3/lib/python3.10/site-packages (from tmplot) (1.23.5)\nRequirement already satisfied: scipy in /databricks/python3/lib/python3.10/site-packages (from tmplot) (1.10.0)\nRequirement already satisfied: altair in /local_disk0/.ephemeral_nfs/envs/pythonEnv-3695364e-0dd4-48a3-88b9-20a7f1c3bfe3/lib/python3.10/site-packages (from tmplot) (5.3.0)\nRequirement already satisfied: pandas in /databricks/python3/lib/python3.10/site-packages (from tmplot) (1.5.3)\nRequirement already satisfied: scikit-learn in /databricks/python3/lib/python3.10/site-packages (from tmplot) (1.1.1)\nRequirement already satisfied: ipywidgets in /databricks/python3/lib/python3.10/site-packages (from tmplot) (7.7.2)\nRequirement already satisfied: typing-extensions>=4.0.1 in /databricks/python3/lib/python3.10/site-packages (from altair->tmplot) (4.4.0)\nRequirement already satisfied: packaging in /databricks/python3/lib/python3.10/site-packages (from altair->tmplot) (23.2)\nRequirement already satisfied: jinja2 in /databricks/python3/lib/python3.10/site-packages (from altair->tmplot) (3.1.2)\nRequirement already satisfied: jsonschema>=3.0 in /databricks/python3/lib/python3.10/site-packages (from altair->tmplot) (4.17.3)\nRequirement already satisfied: toolz in /local_disk0/.ephemeral_nfs/envs/pythonEnv-3695364e-0dd4-48a3-88b9-20a7f1c3bfe3/lib/python3.10/site-packages (from altair->tmplot) (0.12.1)\nRequirement already satisfied: pytz>=2020.1 in /databricks/python3/lib/python3.10/site-packages (from pandas->tmplot) (2022.7)\nRequirement already satisfied: python-dateutil>=2.8.1 in /databricks/python3/lib/python3.10/site-packages (from pandas->tmplot) (2.8.2)\nRequirement already satisfied: jupyterlab-widgets<3,>=1.0.0 in /databricks/python3/lib/python3.10/site-packages (from ipywidgets->tmplot) (1.0.0)\nRequirement already satisfied: ipykernel>=4.5.1 in /databricks/python3/lib/python3.10/site-packages (from ipywidgets->tmplot) (6.25.0)\nRequirement already satisfied: traitlets>=4.3.1 in /databricks/python3/lib/python3.10/site-packages (from ipywidgets->tmplot) (5.7.1)\nRequirement already satisfied: widgetsnbextension~=3.6.0 in /databricks/python3/lib/python3.10/site-packages (from ipywidgets->tmplot) (3.6.1)\nRequirement already satisfied: ipython-genutils~=0.2.0 in /databricks/python3/lib/python3.10/site-packages (from ipywidgets->tmplot) (0.2.0)\nRequirement already satisfied: ipython>=4.0.0 in /databricks/python3/lib/python3.10/site-packages (from ipywidgets->tmplot) (8.14.0)\nRequirement already satisfied: threadpoolctl>=2.0.0 in /databricks/python3/lib/python3.10/site-packages (from scikit-learn->tmplot) (2.2.0)\nRequirement already satisfied: joblib>=1.0.0 in /databricks/python3/lib/python3.10/site-packages (from scikit-learn->tmplot) (1.2.0)\nRequirement already satisfied: matplotlib!=3.6.1,>=3.1 in /databricks/python3/lib/python3.10/site-packages (from seaborn->tmplot) (3.7.0)\nRequirement already satisfied: jupyter-core!=5.0.*,>=4.12 in /databricks/python3/lib/python3.10/site-packages (from ipykernel>=4.5.1->ipywidgets->tmplot) (5.2.0)\nRequirement already satisfied: jupyter-client>=6.1.12 in /databricks/python3/lib/python3.10/site-packages (from ipykernel>=4.5.1->ipywidgets->tmplot) (7.3.4)\nRequirement already satisfied: nest-asyncio in /databricks/python3/lib/python3.10/site-packages (from ipykernel>=4.5.1->ipywidgets->tmplot) (1.5.6)\nRequirement already satisfied: debugpy>=1.6.5 in /databricks/python3/lib/python3.10/site-packages (from ipykernel>=4.5.1->ipywidgets->tmplot) (1.6.7)\nRequirement already satisfied: matplotlib-inline>=0.1 in /databricks/python3/lib/python3.10/site-packages (from ipykernel>=4.5.1->ipywidgets->tmplot) (0.1.6)\nRequirement already satisfied: psutil in /databricks/python3/lib/python3.10/site-packages (from ipykernel>=4.5.1->ipywidgets->tmplot) (5.9.0)\nRequirement already satisfied: pyzmq>=20 in /databricks/python3/lib/python3.10/site-packages (from ipykernel>=4.5.1->ipywidgets->tmplot) (23.2.0)\nRequirement already satisfied: comm>=0.1.1 in /databricks/python3/lib/python3.10/site-packages (from ipykernel>=4.5.1->ipywidgets->tmplot) (0.1.2)\nRequirement already satisfied: tornado>=6.1 in /databricks/python3/lib/python3.10/site-packages (from ipykernel>=4.5.1->ipywidgets->tmplot) (6.1)\nRequirement already satisfied: decorator in /databricks/python3/lib/python3.10/site-packages (from ipython>=4.0.0->ipywidgets->tmplot) (5.1.1)\nRequirement already satisfied: pickleshare in /databricks/python3/lib/python3.10/site-packages (from ipython>=4.0.0->ipywidgets->tmplot) (0.7.5)\nRequirement already satisfied: backcall in /databricks/python3/lib/python3.10/site-packages (from ipython>=4.0.0->ipywidgets->tmplot) (0.2.0)\nRequirement already satisfied: jedi>=0.16 in /databricks/python3/lib/python3.10/site-packages (from ipython>=4.0.0->ipywidgets->tmplot) (0.18.1)\nRequirement already satisfied: stack-data in /databricks/python3/lib/python3.10/site-packages (from ipython>=4.0.0->ipywidgets->tmplot) (0.2.0)\nRequirement already satisfied: pexpect>4.3 in /databricks/python3/lib/python3.10/site-packages (from ipython>=4.0.0->ipywidgets->tmplot) (4.8.0)\nRequirement already satisfied: prompt-toolkit!=3.0.37,<3.1.0,>=3.0.30 in /databricks/python3/lib/python3.10/site-packages (from ipython>=4.0.0->ipywidgets->tmplot) (3.0.36)\nRequirement already satisfied: pygments>=2.4.0 in /databricks/python3/lib/python3.10/site-packages (from ipython>=4.0.0->ipywidgets->tmplot) (2.11.2)\nRequirement already satisfied: pyrsistent!=0.17.0,!=0.17.1,!=0.17.2,>=0.14.0 in /databricks/python3/lib/python3.10/site-packages (from jsonschema>=3.0->altair->tmplot) (0.18.0)\nRequirement already satisfied: attrs>=17.4.0 in /databricks/python3/lib/python3.10/site-packages (from jsonschema>=3.0->altair->tmplot) (22.1.0)\nRequirement already satisfied: cycler>=0.10 in /databricks/python3/lib/python3.10/site-packages (from matplotlib!=3.6.1,>=3.1->seaborn->tmplot) (0.11.0)\nRequirement already satisfied: pyparsing>=2.3.1 in /databricks/python3/lib/python3.10/site-packages (from matplotlib!=3.6.1,>=3.1->seaborn->tmplot) (3.0.9)\nRequirement already satisfied: kiwisolver>=1.0.1 in /databricks/python3/lib/python3.10/site-packages (from matplotlib!=3.6.1,>=3.1->seaborn->tmplot) (1.4.4)\nRequirement already satisfied: contourpy>=1.0.1 in /databricks/python3/lib/python3.10/site-packages (from matplotlib!=3.6.1,>=3.1->seaborn->tmplot) (1.0.5)\nRequirement already satisfied: pillow>=6.2.0 in /databricks/python3/lib/python3.10/site-packages (from matplotlib!=3.6.1,>=3.1->seaborn->tmplot) (9.4.0)\nRequirement already satisfied: fonttools>=4.22.0 in /databricks/python3/lib/python3.10/site-packages (from matplotlib!=3.6.1,>=3.1->seaborn->tmplot) (4.25.0)\nRequirement already satisfied: six>=1.5 in /usr/lib/python3/dist-packages (from python-dateutil>=2.8.1->pandas->tmplot) (1.16.0)\nRequirement already satisfied: notebook>=4.4.1 in /databricks/python3/lib/python3.10/site-packages (from widgetsnbextension~=3.6.0->ipywidgets->tmplot) (6.5.2)\nRequirement already satisfied: MarkupSafe>=2.0 in /databricks/python3/lib/python3.10/site-packages (from jinja2->altair->tmplot) (2.1.1)\nRequirement already satisfied: parso<0.9.0,>=0.8.0 in /databricks/python3/lib/python3.10/site-packages (from jedi>=0.16->ipython>=4.0.0->ipywidgets->tmplot) (0.8.3)\nRequirement already satisfied: entrypoints in /databricks/python3/lib/python3.10/site-packages (from jupyter-client>=6.1.12->ipykernel>=4.5.1->ipywidgets->tmplot) (0.4)\nRequirement already satisfied: platformdirs>=2.5 in /databricks/python3/lib/python3.10/site-packages (from jupyter-core!=5.0.*,>=4.12->ipykernel>=4.5.1->ipywidgets->tmplot) (2.5.2)\nRequirement already satisfied: Send2Trash>=1.8.0 in /databricks/python3/lib/python3.10/site-packages (from notebook>=4.4.1->widgetsnbextension~=3.6.0->ipywidgets->tmplot) (1.8.0)\nRequirement already satisfied: prometheus-client in /databricks/python3/lib/python3.10/site-packages (from notebook>=4.4.1->widgetsnbextension~=3.6.0->ipywidgets->tmplot) (0.14.1)\nRequirement already satisfied: nbformat in /databricks/python3/lib/python3.10/site-packages (from notebook>=4.4.1->widgetsnbextension~=3.6.0->ipywidgets->tmplot) (5.7.0)\nRequirement already satisfied: terminado>=0.8.3 in /databricks/python3/lib/python3.10/site-packages (from notebook>=4.4.1->widgetsnbextension~=3.6.0->ipywidgets->tmplot) (0.17.1)\nRequirement already satisfied: nbclassic>=0.4.7 in /databricks/python3/lib/python3.10/site-packages (from notebook>=4.4.1->widgetsnbextension~=3.6.0->ipywidgets->tmplot) (0.5.2)\nRequirement already satisfied: nbconvert>=5 in /databricks/python3/lib/python3.10/site-packages (from notebook>=4.4.1->widgetsnbextension~=3.6.0->ipywidgets->tmplot) (6.5.4)\nRequirement already satisfied: argon2-cffi in /databricks/python3/lib/python3.10/site-packages (from notebook>=4.4.1->widgetsnbextension~=3.6.0->ipywidgets->tmplot) (21.3.0)\nRequirement already satisfied: ptyprocess>=0.5 in /databricks/python3/lib/python3.10/site-packages (from pexpect>4.3->ipython>=4.0.0->ipywidgets->tmplot) (0.7.0)\nRequirement already satisfied: wcwidth in /databricks/python3/lib/python3.10/site-packages (from prompt-toolkit!=3.0.37,<3.1.0,>=3.0.30->ipython>=4.0.0->ipywidgets->tmplot) (0.2.5)\nRequirement already satisfied: pure-eval in /databricks/python3/lib/python3.10/site-packages (from stack-data->ipython>=4.0.0->ipywidgets->tmplot) (0.2.2)\nRequirement already satisfied: asttokens in /databricks/python3/lib/python3.10/site-packages (from stack-data->ipython>=4.0.0->ipywidgets->tmplot) (2.0.5)\nRequirement already satisfied: executing in /databricks/python3/lib/python3.10/site-packages (from stack-data->ipython>=4.0.0->ipywidgets->tmplot) (0.8.3)\nRequirement already satisfied: jupyter-server>=1.8 in /databricks/python3/lib/python3.10/site-packages (from nbclassic>=0.4.7->notebook>=4.4.1->widgetsnbextension~=3.6.0->ipywidgets->tmplot) (1.23.4)\nRequirement already satisfied: notebook-shim>=0.1.0 in /databricks/python3/lib/python3.10/site-packages (from nbclassic>=0.4.7->notebook>=4.4.1->widgetsnbextension~=3.6.0->ipywidgets->tmplot) (0.2.2)\nRequirement already satisfied: bleach in /databricks/python3/lib/python3.10/site-packages (from nbconvert>=5->notebook>=4.4.1->widgetsnbextension~=3.6.0->ipywidgets->tmplot) (4.1.0)\nRequirement already satisfied: tinycss2 in /databricks/python3/lib/python3.10/site-packages (from nbconvert>=5->notebook>=4.4.1->widgetsnbextension~=3.6.0->ipywidgets->tmplot) (1.2.1)\nRequirement already satisfied: defusedxml in /databricks/python3/lib/python3.10/site-packages (from nbconvert>=5->notebook>=4.4.1->widgetsnbextension~=3.6.0->ipywidgets->tmplot) (0.7.1)\nRequirement already satisfied: pandocfilters>=1.4.1 in /databricks/python3/lib/python3.10/site-packages (from nbconvert>=5->notebook>=4.4.1->widgetsnbextension~=3.6.0->ipywidgets->tmplot) (1.5.0)\nRequirement already satisfied: mistune<2,>=0.8.1 in /databricks/python3/lib/python3.10/site-packages (from nbconvert>=5->notebook>=4.4.1->widgetsnbextension~=3.6.0->ipywidgets->tmplot) (0.8.4)\nRequirement already satisfied: jupyterlab-pygments in /databricks/python3/lib/python3.10/site-packages (from nbconvert>=5->notebook>=4.4.1->widgetsnbextension~=3.6.0->ipywidgets->tmplot) (0.1.2)\nRequirement already satisfied: nbclient>=0.5.0 in /databricks/python3/lib/python3.10/site-packages (from nbconvert>=5->notebook>=4.4.1->widgetsnbextension~=3.6.0->ipywidgets->tmplot) (0.5.13)\nRequirement already satisfied: lxml in /databricks/python3/lib/python3.10/site-packages (from nbconvert>=5->notebook>=4.4.1->widgetsnbextension~=3.6.0->ipywidgets->tmplot) (4.9.1)\nRequirement already satisfied: beautifulsoup4 in /databricks/python3/lib/python3.10/site-packages (from nbconvert>=5->notebook>=4.4.1->widgetsnbextension~=3.6.0->ipywidgets->tmplot) (4.11.1)\nRequirement already satisfied: fastjsonschema in /databricks/python3/lib/python3.10/site-packages (from nbformat->notebook>=4.4.1->widgetsnbextension~=3.6.0->ipywidgets->tmplot) (2.19.1)\nRequirement already satisfied: argon2-cffi-bindings in /databricks/python3/lib/python3.10/site-packages (from argon2-cffi->notebook>=4.4.1->widgetsnbextension~=3.6.0->ipywidgets->tmplot) (21.2.0)\nRequirement already satisfied: websocket-client in /databricks/python3/lib/python3.10/site-packages (from jupyter-server>=1.8->nbclassic>=0.4.7->notebook>=4.4.1->widgetsnbextension~=3.6.0->ipywidgets->tmplot) (0.58.0)\nRequirement already satisfied: anyio<4,>=3.1.0 in /databricks/python3/lib/python3.10/site-packages (from jupyter-server>=1.8->nbclassic>=0.4.7->notebook>=4.4.1->widgetsnbextension~=3.6.0->ipywidgets->tmplot) (3.5.0)\nRequirement already satisfied: cffi>=1.0.1 in /databricks/python3/lib/python3.10/site-packages (from argon2-cffi-bindings->argon2-cffi->notebook>=4.4.1->widgetsnbextension~=3.6.0->ipywidgets->tmplot) (1.15.1)\nRequirement already satisfied: soupsieve>1.2 in /databricks/python3/lib/python3.10/site-packages (from beautifulsoup4->nbconvert>=5->notebook>=4.4.1->widgetsnbextension~=3.6.0->ipywidgets->tmplot) (2.3.2.post1)\nRequirement already satisfied: webencodings in /databricks/python3/lib/python3.10/site-packages (from bleach->nbconvert>=5->notebook>=4.4.1->widgetsnbextension~=3.6.0->ipywidgets->tmplot) (0.5.1)\nRequirement already satisfied: sniffio>=1.1 in /databricks/python3/lib/python3.10/site-packages (from anyio<4,>=3.1.0->jupyter-server>=1.8->nbclassic>=0.4.7->notebook>=4.4.1->widgetsnbextension~=3.6.0->ipywidgets->tmplot) (1.2.0)\nRequirement already satisfied: idna>=2.8 in /databricks/python3/lib/python3.10/site-packages (from anyio<4,>=3.1.0->jupyter-server>=1.8->nbclassic>=0.4.7->notebook>=4.4.1->widgetsnbextension~=3.6.0->ipywidgets->tmplot) (3.4)\nRequirement already satisfied: pycparser in /databricks/python3/lib/python3.10/site-packages (from cffi>=1.0.1->argon2-cffi-bindings->argon2-cffi->notebook>=4.4.1->widgetsnbextension~=3.6.0->ipywidgets->tmplot) (2.21)\n\u001B[43mNote: you may need to restart the kernel using dbutils.library.restartPython() to use updated packages.\u001B[0m\n\u001B[43mNote: you may need to restart the kernel using dbutils.library.restartPython() to use updated packages.\u001B[0m\nRequirement already satisfied: gensim in /local_disk0/.ephemeral_nfs/envs/pythonEnv-3695364e-0dd4-48a3-88b9-20a7f1c3bfe3/lib/python3.10/site-packages (4.3.2)\nRequirement already satisfied: scipy>=1.7.0 in /databricks/python3/lib/python3.10/site-packages (from gensim) (1.10.0)\nRequirement already satisfied: smart-open>=1.8.1 in /databricks/python3/lib/python3.10/site-packages (from gensim) (5.2.1)\nRequirement already satisfied: numpy>=1.18.5 in /databricks/python3/lib/python3.10/site-packages (from gensim) (1.23.5)\n\u001B[43mNote: you may need to restart the kernel using dbutils.library.restartPython() to use updated packages.\u001B[0m\n\u001B[43mNote: you may need to restart the kernel using dbutils.library.restartPython() to use updated packages.\u001B[0m\nRequirement already satisfied: tomotopy in /local_disk0/.ephemeral_nfs/envs/pythonEnv-3695364e-0dd4-48a3-88b9-20a7f1c3bfe3/lib/python3.10/site-packages (0.12.7)\nRequirement already satisfied: numpy>=1.11.0 in /databricks/python3/lib/python3.10/site-packages (from tomotopy) (1.23.5)\n\u001B[43mNote: you may need to restart the kernel using dbutils.library.restartPython() to use updated packages.\u001B[0m\n"
     ]
    }
   ],
   "source": [
    "%pip install tmplot\n",
    "%pip install gensim\n",
    "%pip install tomotopy"
   ]
  },
  {
   "cell_type": "code",
   "execution_count": 0,
   "metadata": {
    "application/vnd.databricks.v1+cell": {
     "cellMetadata": {
      "byteLimit": 2048000,
      "rowLimit": 10000
     },
     "inputWidgets": {},
     "nuid": "ed635ca9-0a02-45b0-9372-5d2c757d478a",
     "showTitle": false,
     "title": ""
    }
   },
   "outputs": [
    {
     "output_type": "stream",
     "name": "stderr",
     "output_type": "stream",
     "text": [
      "Exception ignored on calling ctypes callback function: <function _ThreadpoolInfo._find_modules_with_dl_iterate_phdr.<locals>.match_module_callback at 0x7fc07088b250>\nTraceback (most recent call last):\n  File \"/databricks/python/lib/python3.10/site-packages/threadpoolctl.py\", line 400, in match_module_callback\n    self._make_module_from_path(filepath)\n  File \"/databricks/python/lib/python3.10/site-packages/threadpoolctl.py\", line 515, in _make_module_from_path\n    module = module_class(filepath, prefix, user_api, internal_api)\n  File \"/databricks/python/lib/python3.10/site-packages/threadpoolctl.py\", line 606, in __init__\n    self.version = self.get_version()\n  File \"/databricks/python/lib/python3.10/site-packages/threadpoolctl.py\", line 646, in get_version\n    config = get_config().split()\nAttributeError: 'NoneType' object has no attribute 'split'\n"
     ]
    },
    {
     "output_type": "display_data",
     "data": {
      "application/vnd.jupyter.widget-view+json": {
       "model_id": "621339c3c3924956b4f825c2537d2336",
       "version_major": 2,
       "version_minor": 0
      },
      "text/plain": [
       "Uploading artifacts:   0%|          | 0/5 [00:00<?, ?it/s]"
      ]
     },
     "metadata": {},
     "output_type": "display_data"
    },
    {
     "output_type": "display_data",
     "data": {
      "application/vnd.jupyter.widget-view+json": {
       "model_id": "a845015daaf14c31897004b91518f7f3",
       "version_major": 2,
       "version_minor": 0
      },
      "text/plain": [
       "VBox(children=(VBox(children=(HBox(children=(HTML(value='<b>Select a topic</b>:'), Dropdown(options=((0, 0), (…"
      ]
     },
     "metadata": {},
     "output_type": "display_data"
    }
   ],
   "source": [
    "# dbutils.library.restartPython()\n",
    "import tmplot as tmp\n",
    "\n",
    "# Run the interactive report interface\n",
    "tmp.report(model=model, docs=text, height=500, width=100)"
   ]
  },
  {
   "cell_type": "markdown",
   "metadata": {
    "application/vnd.databricks.v1+cell": {
     "cellMetadata": {
      "byteLimit": 2048000,
      "rowLimit": 10000
     },
     "inputWidgets": {},
     "nuid": "ce1d03e7-9c06-4847-9a30-5717f99d2419",
     "showTitle": false,
     "title": ""
    }
   },
   "source": [
    "### Labelling tweets\n",
    "- Labelling is done on a sample (50%) of tweets taken from the 'big' dataset\n",
    "- Topic modelling helped to discover some patterns in topics present in the tweets\n",
    "- This was then complemented with word counts to select keywords for the identified topics\n",
    "- Labelling was done based on the presence of keywords in a particular tweet"
   ]
  },
  {
   "cell_type": "code",
   "execution_count": 0,
   "metadata": {
    "application/vnd.databricks.v1+cell": {
     "cellMetadata": {
      "byteLimit": 2048000,
      "rowLimit": 10000
     },
     "inputWidgets": {},
     "nuid": "b3f1adad-26d9-4d13-bc69-4a40fe01321c",
     "showTitle": false,
     "title": ""
    }
   },
   "outputs": [],
   "source": [
    "from sklearn.feature_extraction.text import CountVectorizer\n",
    "from sklearn.pipeline import Pipeline\n",
    "\n",
    "# Create a bag of words\n",
    "bag_vectorizer = CountVectorizer(min_df=2)\n",
    "\n",
    "# Fit and transform the preprocessed text\n",
    "bag_matrix = bag_vectorizer.fit_transform(text)"
   ]
  },
  {
   "cell_type": "code",
   "execution_count": 0,
   "metadata": {
    "application/vnd.databricks.v1+cell": {
     "cellMetadata": {
      "byteLimit": 2048000,
      "rowLimit": 10000
     },
     "inputWidgets": {},
     "nuid": "d0ea6cea-6b90-4246-b613-0645cfc77717",
     "showTitle": false,
     "title": ""
    }
   },
   "outputs": [
    {
     "output_type": "execute_result",
     "data": {
      "text/plain": [
       "(1, 8772)"
      ]
     },
     "execution_count": 22,
     "metadata": {},
     "output_type": "execute_result"
    }
   ],
   "source": [
    "# preview\n",
    "sum_words = bag_matrix.sum(axis=0)\n",
    "fnames = bag_vectorizer.get_feature_names_out()\n",
    "fnames.shape\n",
    "sum_words.shape\n"
   ]
  },
  {
   "cell_type": "markdown",
   "metadata": {
    "application/vnd.databricks.v1+cell": {
     "cellMetadata": {
      "byteLimit": 2048000,
      "rowLimit": 10000
     },
     "inputWidgets": {},
     "nuid": "5f944328-13a9-40d9-8a5d-4e589748da5b",
     "showTitle": false,
     "title": ""
    }
   },
   "source": [
    "### Display hot keywords from the sample"
   ]
  },
  {
   "cell_type": "code",
   "execution_count": 0,
   "metadata": {
    "application/vnd.databricks.v1+cell": {
     "cellMetadata": {
      "byteLimit": 2048000,
      "rowLimit": 10000
     },
     "inputWidgets": {},
     "nuid": "63939e89-a622-40b9-8bba-cc735898e342",
     "showTitle": false,
     "title": ""
    }
   },
   "outputs": [
    {
     "output_type": "display_data",
     "data": {
      "image/png": "[encoded data removed]",
      "text/plain": [
       "<Figure size 1000x600 with 1 Axes>"
      ]
     },
     "metadata": {},
     "output_type": "display_data"
    }
   ],
   "source": [
    "from wordcloud import WordCloud\n",
    "import matplotlib.pyplot as plt\n",
    "\n",
    "# Convert the bag matrix to a dictionary of word frequencies\n",
    "word_freq_dict = {word: freq for word, freq in zip(fnames, sum_words.A[0])}\n",
    "\n",
    "# Generate the word cloud\n",
    "wordcloud = WordCloud(width=800, height=400, background_color='white').generate_from_frequencies(word_freq_dict)\n",
    "\n",
    "# Visualize the word cloud\n",
    "plt.figure(figsize=(10, 6))\n",
    "plt.imshow(wordcloud, interpolation='bilinear')\n",
    "plt.axis('off')\n",
    "plt.savefig('plots/wordCloud.png',bbox_inches='tight')\n",
    "plt.show()"
   ]
  },
  {
   "cell_type": "code",
   "execution_count": 0,
   "metadata": {
    "application/vnd.databricks.v1+cell": {
     "cellMetadata": {
      "byteLimit": 2048000,
      "rowLimit": 10000
     },
     "inputWidgets": {},
     "nuid": "ecac6b0d-747d-4b83-a965-ef33a8c7339d",
     "showTitle": false,
     "title": ""
    }
   },
   "outputs": [
    {
     "output_type": "execute_result",
     "data": {
      "text/plain": [
       "[('health', 2439),\n",
       " ('ebola', 1937),\n",
       " ('new', 1643),\n",
       " ('say', 1587),\n",
       " ('study', 1553),\n",
       " ('may', 1498),\n",
       " ('get', 1359),\n",
       " ('cancer', 1195),\n",
       " ('well', 1115),\n",
       " ('help', 1059),\n",
       " ('drug', 1057),\n",
       " ('patient', 1018),\n",
       " ('make', 930),\n",
       " ('find', 888),\n",
       " ('risk', 887),\n",
       " ('doctor', 822),\n",
       " ('care', 809),\n",
       " ('good', 805),\n",
       " ('nhs', 802),\n",
       " ('food', 796)]"
      ]
     },
     "execution_count": 24,
     "metadata": {},
     "output_type": "execute_result"
    }
   ],
   "source": [
    "# word count\n",
    "words_freq = [\n",
    "    (word, sum_words[0, windex]) for word, windex in bag_vectorizer.vocabulary_.items()\n",
    "]\n",
    "words_freq = sorted(words_freq, key=lambda x: x[1], reverse=True)\n",
    "\n",
    "i = 20\n",
    "num = 0\n",
    "words_freq[num : num + i]\n"
   ]
  },
  {
   "cell_type": "code",
   "execution_count": 0,
   "metadata": {
    "application/vnd.databricks.v1+cell": {
     "cellMetadata": {
      "byteLimit": 2048000,
      "rowLimit": 10000
     },
     "inputWidgets": {},
     "nuid": "e6c55b07-17e5-471c-8557-c648a5b1bb21",
     "showTitle": false,
     "title": ""
    }
   },
   "outputs": [],
   "source": [
    "# Creating labels based on keywords\n",
    "classes = {\n",
    "    \"diagnosis and treatment\": [\n",
    "        \"drug\", \"vaccine\", \"surgery\", \"treatment\", \"treat\", \"pharma\", \"therapy\",\n",
    "        \"medicine\", \"transplant\", \"screening\", \"antibiotic\", \"diagnosis\", \"dna\",\n",
    "        \"pharmalot\", \"genetic\", \"pharmalittle\", \"vaccination\", \"painkiller\",\n",
    "        \"pharmacy\"\n",
    "    ],\n",
    "    \"food and nutrition\": [\n",
    "        \"food\", \"recipe\", \"calorie\", \"eat\", \"eats\", \"fat\", \"eating\", \"meal\", \"sugar\",\n",
    "        \"breakfast\", \"snack\", \"vitamin\", \"veggie\", \"coffee\", \"talknutrition\",\n",
    "        \"nutrition\", \"pizza\", \"potato\", \"salad\", \"chocolate\", \"butter\", \"obese\",\n",
    "        \"soda\", \"energy\", \"milk\", \"fish\", \"protein\", \"chocolate\", \"cholesterol\",\n",
    "        \"meat\", \"restaurant\", \"salt\", \"vegetarian\", \"delicious\", \"pizza\", \"vegan\",\n",
    "        \"cheese\", \"glutenfree\", \"apple\", \"overweight\", \"cooking\", \"dinner\", \"diet\",\n",
    "        \"sweet\", \"chicken\", \"fruit\"\n",
    "    ],\n",
    "    \"fitness\": [\n",
    "        \"weight\", \"exercise\", \"workout\", \"obesity\", \"fitness\", \"weightloss\", \"fit\",\n",
    "        \"gym\", \"chocolate\", \"cholesterol\", \"sport\", \"marathon\", \"pound\"\n",
    "    ],\n",
    "    \"insurance\": [\n",
    "        \"obamacare\", \"insurance\", \"insurer\", \"uninsured\", \"medicare\", \"medicaid\",\n",
    "        \"underinsured\"\n",
    "    ],\n",
    "    \"diseases\": [\n",
    "        \"ebola\", \"cancer\", \"flu\", \"hiv\", \"mental\", \"stress\", \"alzheimers\", \"smoking\",\n",
    "        \"stroke\", \"autism\", \"measles\", \"disorder\", \"suicide\", \"drinking\", \"dementia\",\n",
    "        \"hepatitis\", \"tobacco\", \"cigarette\", \"prostate\", \"aging\", \"bacteria\",\n",
    "        \"meningitis\", \"concussion\", \"polio\", \"asthma\", \"hpv\", \"adhd\", \"elderly\",\n",
    "        \"ecigarettes\", \"malaria\", \"psoriasis\", \"mentalhealth\", \"syndrome\", \"diabetes\",\n",
    "        \"parkinson\", \"enterovirus\", \"mentally\", \"ill\", \"depression\", \"disease\",\n",
    "        \"arthritis\", \"headache\", \"heart\"\n",
    "    ]  \n",
    "}\n"
   ]
  },
  {
   "cell_type": "code",
   "execution_count": 0,
   "metadata": {
    "application/vnd.databricks.v1+cell": {
     "cellMetadata": {
      "byteLimit": 2048000,
      "rowLimit": 10000
     },
     "inputWidgets": {},
     "nuid": "7ec2f115-0b3c-466e-8dd9-1445e1d14aa6",
     "showTitle": false,
     "title": ""
    }
   },
   "outputs": [],
   "source": [
    "# Functiuon to assign labels\n",
    "def assign_class(text: list):\n",
    "    for k in classes.keys():\n",
    "        for w in classes[k]:\n",
    "            if w in text:\n",
    "                return k\n",
    "    return \"other\""
   ]
  },
  {
   "cell_type": "code",
   "execution_count": 0,
   "metadata": {
    "application/vnd.databricks.v1+cell": {
     "cellMetadata": {
      "byteLimit": 2048000,
      "rowLimit": 10000
     },
     "inputWidgets": {},
     "nuid": "e6401c24-fab5-4f76-95b1-e0ef9ef6c8ad",
     "showTitle": false,
     "title": ""
    }
   },
   "outputs": [
    {
     "output_type": "execute_result",
     "data": {
      "text/plain": [
       "other                      11878\n",
       "diseases                    6231\n",
       "food and nutrition          5194\n",
       "diagnosis and treatment     3420\n",
       "fitness                     1702\n",
       "insurance                   1254\n",
       "Name: label, dtype: int64"
      ]
     },
     "execution_count": 27,
     "metadata": {},
     "output_type": "execute_result"
    }
   ],
   "source": [
    "# sassigning labels\n",
    "df_pd[\"tweet2\"] = df_pd[\"tokens\"].apply(join_tokens)\n",
    "df_pd[\"label\"] = df_pd[\"tweet2\"].apply(assign_class)\n",
    "\n",
    "classes = df_pd[\"label\"].value_counts()\n",
    "classes"
   ]
  },
  {
   "cell_type": "code",
   "execution_count": 0,
   "metadata": {
    "application/vnd.databricks.v1+cell": {
     "cellMetadata": {
      "byteLimit": 2048000,
      "rowLimit": 10000
     },
     "inputWidgets": {},
     "nuid": "f463309b-ca31-4503-b8c3-266b0deec413",
     "showTitle": false,
     "title": ""
    }
   },
   "outputs": [
    {
     "output_type": "execute_result",
     "data": {
      "text/plain": [
       "other                      0.400216\n",
       "diseases                   0.209946\n",
       "food and nutrition         0.175006\n",
       "diagnosis and treatment    0.115233\n",
       "fitness                    0.057347\n",
       "insurance                  0.042252\n",
       "Name: label, dtype: float64"
      ]
     },
     "execution_count": 28,
     "metadata": {},
     "output_type": "execute_result"
    }
   ],
   "source": [
    "# class distribution\n",
    "class_distribution = classes / classes.sum()\n",
    "class_distribution"
   ]
  },
  {
   "cell_type": "code",
   "execution_count": 0,
   "metadata": {
    "application/vnd.databricks.v1+cell": {
     "cellMetadata": {
      "byteLimit": 2048000,
      "rowLimit": 10000
     },
     "inputWidgets": {},
     "nuid": "239fdfaa-a4a3-47e5-be8a-64e4a1229c57",
     "showTitle": false,
     "title": ""
    }
   },
   "outputs": [],
   "source": [
    "import pandas as pd\n",
    "\n",
    "# Convert class distribution to a pandas DataFrame\n",
    "class_distr = pd.DataFrame({'class':class_distribution.index, 'proportion':class_distribution*100}).reset_index(drop=True)\n",
    "# export to latex\n",
    "class_distr.to_latex('./distribution.tex', float_format='%.2f')\n",
    "\n"
   ]
  },
  {
   "cell_type": "code",
   "execution_count": 0,
   "metadata": {
    "application/vnd.databricks.v1+cell": {
     "cellMetadata": {
      "byteLimit": 2048000,
      "rowLimit": 10000
     },
     "inputWidgets": {},
     "nuid": "bdf023cd-6d75-41d9-8d48-94ba6b1b2358",
     "showTitle": false,
     "title": ""
    }
   },
   "outputs": [
    {
     "output_type": "execute_result",
     "data": {
      "text/html": [
       "<div>\n",
       "<style scoped>\n",
       "    .dataframe tbody tr th:only-of-type {\n",
       "        vertical-align: middle;\n",
       "    }\n",
       "\n",
       "    .dataframe tbody tr th {\n",
       "        vertical-align: top;\n",
       "    }\n",
       "\n",
       "    .dataframe thead th {\n",
       "        text-align: right;\n",
       "    }\n",
       "</style>\n",
       "<table border=\"1\" class=\"dataframe\">\n",
       "  <thead>\n",
       "    <tr style=\"text-align: right;\">\n",
       "      <th></th>\n",
       "      <th>tokens</th>\n",
       "      <th>indicator</th>\n",
       "      <th>tweet2</th>\n",
       "      <th>label</th>\n",
       "    </tr>\n",
       "  </thead>\n",
       "  <tbody>\n",
       "    <tr>\n",
       "      <th>0</th>\n",
       "      <td>[creative, healthy, chicken, recipe, via]</td>\n",
       "      <td>1</td>\n",
       "      <td>creative healthy chicken recipe via</td>\n",
       "      <td>food and nutrition</td>\n",
       "    </tr>\n",
       "    <tr>\n",
       "      <th>1</th>\n",
       "      <td>[easy, cope, anxiety, realize, come, see, surp...</td>\n",
       "      <td>1</td>\n",
       "      <td>easy cope anxiety realize come see surprising ...</td>\n",
       "      <td>diseases</td>\n",
       "    </tr>\n",
       "    <tr>\n",
       "      <th>2</th>\n",
       "      <td>[see, holiday, diet, hazard, avoidand, healthy...</td>\n",
       "      <td>1</td>\n",
       "      <td>see holiday diet hazard avoidand healthy optio...</td>\n",
       "      <td>food and nutrition</td>\n",
       "    </tr>\n",
       "    <tr>\n",
       "      <th>3</th>\n",
       "      <td>[another, study, find, vaccineautism, link]</td>\n",
       "      <td>1</td>\n",
       "      <td>another study find vaccineautism link</td>\n",
       "      <td>diagnosis and treatment</td>\n",
       "    </tr>\n",
       "    <tr>\n",
       "      <th>4</th>\n",
       "      <td>[like, share, sign, weekly, newsletter, celebr...</td>\n",
       "      <td>1</td>\n",
       "      <td>like share sign weekly newsletter celebrate he...</td>\n",
       "      <td>food and nutrition</td>\n",
       "    </tr>\n",
       "    <tr>\n",
       "      <th>...</th>\n",
       "      <td>...</td>\n",
       "      <td>...</td>\n",
       "      <td>...</td>\n",
       "      <td>...</td>\n",
       "    </tr>\n",
       "    <tr>\n",
       "      <th>29674</th>\n",
       "      <td>[new, pfizer, lilly, drug, target, protein, sh...</td>\n",
       "      <td>1</td>\n",
       "      <td>new pfizer lilly drug target protein show prom...</td>\n",
       "      <td>diagnosis and treatment</td>\n",
       "    </tr>\n",
       "    <tr>\n",
       "      <th>29675</th>\n",
       "      <td>[enroll, health, care, law]</td>\n",
       "      <td>1</td>\n",
       "      <td>enroll health care law</td>\n",
       "      <td>other</td>\n",
       "    </tr>\n",
       "    <tr>\n",
       "      <th>29676</th>\n",
       "      <td>[organize, caregiver, end, life, caregive]</td>\n",
       "      <td>1</td>\n",
       "      <td>organize caregiver end life caregive</td>\n",
       "      <td>other</td>\n",
       "    </tr>\n",
       "    <tr>\n",
       "      <th>29677</th>\n",
       "      <td>[top, hour, join, healthtalk, well, chat, keep...</td>\n",
       "      <td>1</td>\n",
       "      <td>top hour join healthtalk well chat keep motiva...</td>\n",
       "      <td>other</td>\n",
       "    </tr>\n",
       "    <tr>\n",
       "      <th>29678</th>\n",
       "      <td>[tip, healthy, eat, dine, healthtalk]</td>\n",
       "      <td>1</td>\n",
       "      <td>tip healthy eat dine healthtalk</td>\n",
       "      <td>food and nutrition</td>\n",
       "    </tr>\n",
       "  </tbody>\n",
       "</table>\n",
       "<p>29679 rows × 4 columns</p>\n",
       "</div>"
      ],
      "text/plain": [
       "                                                  tokens  ...                    label\n",
       "0              [creative, healthy, chicken, recipe, via]  ...       food and nutrition\n",
       "1      [easy, cope, anxiety, realize, come, see, surp...  ...                 diseases\n",
       "2      [see, holiday, diet, hazard, avoidand, healthy...  ...       food and nutrition\n",
       "3            [another, study, find, vaccineautism, link]  ...  diagnosis and treatment\n",
       "4      [like, share, sign, weekly, newsletter, celebr...  ...       food and nutrition\n",
       "...                                                  ...  ...                      ...\n",
       "29674  [new, pfizer, lilly, drug, target, protein, sh...  ...  diagnosis and treatment\n",
       "29675                        [enroll, health, care, law]  ...                    other\n",
       "29676         [organize, caregiver, end, life, caregive]  ...                    other\n",
       "29677  [top, hour, join, healthtalk, well, chat, keep...  ...                    other\n",
       "29678              [tip, healthy, eat, dine, healthtalk]  ...       food and nutrition\n",
       "\n",
       "[29679 rows x 4 columns]"
      ]
     },
     "execution_count": 30,
     "metadata": {},
     "output_type": "execute_result"
    }
   ],
   "source": [
    "df_pd"
   ]
  },
  {
   "cell_type": "code",
   "execution_count": 0,
   "metadata": {
    "application/vnd.databricks.v1+cell": {
     "cellMetadata": {
      "byteLimit": 2048000,
      "rowLimit": 10000
     },
     "inputWidgets": {},
     "nuid": "25449c42-700a-41ac-9725-0dfb7850bdd2",
     "showTitle": false,
     "title": ""
    }
   },
   "outputs": [
    {
     "output_type": "execute_result",
     "data": {
      "text/html": [
       "<div>\n",
       "<style scoped>\n",
       "    .dataframe tbody tr th:only-of-type {\n",
       "        vertical-align: middle;\n",
       "    }\n",
       "\n",
       "    .dataframe tbody tr th {\n",
       "        vertical-align: top;\n",
       "    }\n",
       "\n",
       "    .dataframe thead th {\n",
       "        text-align: right;\n",
       "    }\n",
       "</style>\n",
       "<table border=\"1\" class=\"dataframe\">\n",
       "  <thead>\n",
       "    <tr style=\"text-align: right;\">\n",
       "      <th></th>\n",
       "      <th>tweet2</th>\n",
       "      <th>label</th>\n",
       "    </tr>\n",
       "  </thead>\n",
       "  <tbody>\n",
       "    <tr>\n",
       "      <th>29674</th>\n",
       "      <td>new pfizer lilly drug target protein show prom...</td>\n",
       "      <td>diagnosis and treatment</td>\n",
       "    </tr>\n",
       "    <tr>\n",
       "      <th>29675</th>\n",
       "      <td>enroll health care law</td>\n",
       "      <td>other</td>\n",
       "    </tr>\n",
       "    <tr>\n",
       "      <th>29676</th>\n",
       "      <td>organize caregiver end life caregive</td>\n",
       "      <td>other</td>\n",
       "    </tr>\n",
       "    <tr>\n",
       "      <th>29677</th>\n",
       "      <td>top hour join healthtalk well chat keep motiva...</td>\n",
       "      <td>other</td>\n",
       "    </tr>\n",
       "    <tr>\n",
       "      <th>29678</th>\n",
       "      <td>tip healthy eat dine healthtalk</td>\n",
       "      <td>food and nutrition</td>\n",
       "    </tr>\n",
       "  </tbody>\n",
       "</table>\n",
       "</div>"
      ],
      "text/plain": [
       "                                                  tweet2                    label\n",
       "29674  new pfizer lilly drug target protein show prom...  diagnosis and treatment\n",
       "29675                             enroll health care law                    other\n",
       "29676               organize caregiver end life caregive                    other\n",
       "29677  top hour join healthtalk well chat keep motiva...                    other\n",
       "29678                    tip healthy eat dine healthtalk       food and nutrition"
      ]
     },
     "execution_count": 31,
     "metadata": {},
     "output_type": "execute_result"
    }
   ],
   "source": [
    "# df_pd['tweet3'] = df_pd['tweet2'].apply(join_tokens)\n",
    "df_pd[[\"tweet2\", \"label\"]].tail()"
   ]
  },
  {
   "cell_type": "code",
   "execution_count": 0,
   "metadata": {
    "application/vnd.databricks.v1+cell": {
     "cellMetadata": {
      "byteLimit": 2048000,
      "rowLimit": 10000
     },
     "inputWidgets": {},
     "nuid": "2693e721-f75c-407f-8a41-274a40a1b720",
     "showTitle": false,
     "title": ""
    }
   },
   "outputs": [
    {
     "output_type": "execute_result",
     "data": {
      "text/html": [
       "<div>\n",
       "<style scoped>\n",
       "    .dataframe tbody tr th:only-of-type {\n",
       "        vertical-align: middle;\n",
       "    }\n",
       "\n",
       "    .dataframe tbody tr th {\n",
       "        vertical-align: top;\n",
       "    }\n",
       "\n",
       "    .dataframe thead th {\n",
       "        text-align: right;\n",
       "    }\n",
       "</style>\n",
       "<table border=\"1\" class=\"dataframe\">\n",
       "  <thead>\n",
       "    <tr style=\"text-align: right;\">\n",
       "      <th></th>\n",
       "      <th>tweet2</th>\n",
       "      <th>tokens</th>\n",
       "      <th>label</th>\n",
       "      <th>indicator</th>\n",
       "    </tr>\n",
       "  </thead>\n",
       "  <tbody>\n",
       "    <tr>\n",
       "      <th>0</th>\n",
       "      <td>creative healthy chicken recipe via</td>\n",
       "      <td>[creative, healthy, chicken, recipe, via]</td>\n",
       "      <td>food and nutrition</td>\n",
       "      <td>1</td>\n",
       "    </tr>\n",
       "    <tr>\n",
       "      <th>1</th>\n",
       "      <td>easy cope anxiety realize come see surprising ...</td>\n",
       "      <td>[easy, cope, anxiety, realize, come, see, surp...</td>\n",
       "      <td>diseases</td>\n",
       "      <td>1</td>\n",
       "    </tr>\n",
       "    <tr>\n",
       "      <th>2</th>\n",
       "      <td>see holiday diet hazard avoidand healthy optio...</td>\n",
       "      <td>[see, holiday, diet, hazard, avoidand, healthy...</td>\n",
       "      <td>food and nutrition</td>\n",
       "      <td>1</td>\n",
       "    </tr>\n",
       "    <tr>\n",
       "      <th>3</th>\n",
       "      <td>another study find vaccineautism link</td>\n",
       "      <td>[another, study, find, vaccineautism, link]</td>\n",
       "      <td>diagnosis and treatment</td>\n",
       "      <td>1</td>\n",
       "    </tr>\n",
       "    <tr>\n",
       "      <th>4</th>\n",
       "      <td>like share sign weekly newsletter celebrate he...</td>\n",
       "      <td>[like, share, sign, weekly, newsletter, celebr...</td>\n",
       "      <td>food and nutrition</td>\n",
       "      <td>1</td>\n",
       "    </tr>\n",
       "    <tr>\n",
       "      <th>...</th>\n",
       "      <td>...</td>\n",
       "      <td>...</td>\n",
       "      <td>...</td>\n",
       "      <td>...</td>\n",
       "    </tr>\n",
       "    <tr>\n",
       "      <th>29674</th>\n",
       "      <td>new pfizer lilly drug target protein show prom...</td>\n",
       "      <td>[new, pfizer, lilly, drug, target, protein, sh...</td>\n",
       "      <td>diagnosis and treatment</td>\n",
       "      <td>1</td>\n",
       "    </tr>\n",
       "    <tr>\n",
       "      <th>29675</th>\n",
       "      <td>enroll health care law</td>\n",
       "      <td>[enroll, health, care, law]</td>\n",
       "      <td>other</td>\n",
       "      <td>1</td>\n",
       "    </tr>\n",
       "    <tr>\n",
       "      <th>29676</th>\n",
       "      <td>organize caregiver end life caregive</td>\n",
       "      <td>[organize, caregiver, end, life, caregive]</td>\n",
       "      <td>other</td>\n",
       "      <td>1</td>\n",
       "    </tr>\n",
       "    <tr>\n",
       "      <th>29677</th>\n",
       "      <td>top hour join healthtalk well chat keep motiva...</td>\n",
       "      <td>[top, hour, join, healthtalk, well, chat, keep...</td>\n",
       "      <td>other</td>\n",
       "      <td>1</td>\n",
       "    </tr>\n",
       "    <tr>\n",
       "      <th>29678</th>\n",
       "      <td>tip healthy eat dine healthtalk</td>\n",
       "      <td>[tip, healthy, eat, dine, healthtalk]</td>\n",
       "      <td>food and nutrition</td>\n",
       "      <td>1</td>\n",
       "    </tr>\n",
       "  </tbody>\n",
       "</table>\n",
       "<p>29679 rows × 4 columns</p>\n",
       "</div>"
      ],
      "text/plain": [
       "                                                  tweet2  ... indicator\n",
       "0                    creative healthy chicken recipe via  ...         1\n",
       "1      easy cope anxiety realize come see surprising ...  ...         1\n",
       "2      see holiday diet hazard avoidand healthy optio...  ...         1\n",
       "3                  another study find vaccineautism link  ...         1\n",
       "4      like share sign weekly newsletter celebrate he...  ...         1\n",
       "...                                                  ...  ...       ...\n",
       "29674  new pfizer lilly drug target protein show prom...  ...         1\n",
       "29675                             enroll health care law  ...         1\n",
       "29676               organize caregiver end life caregive  ...         1\n",
       "29677  top hour join healthtalk well chat keep motiva...  ...         1\n",
       "29678                    tip healthy eat dine healthtalk  ...         1\n",
       "\n",
       "[29679 rows x 4 columns]"
      ]
     },
     "execution_count": 32,
     "metadata": {},
     "output_type": "execute_result"
    }
   ],
   "source": [
    "df_pd['indicator'] = 1\n",
    "df_pd = df_pd[[\"tweet2\", \"tokens\", \"label\", \"indicator\"]]\n",
    "df_pd"
   ]
  },
  {
   "cell_type": "markdown",
   "metadata": {
    "application/vnd.databricks.v1+cell": {
     "cellMetadata": {
      "byteLimit": 2048000,
      "rowLimit": 10000
     },
     "inputWidgets": {},
     "nuid": "fffc147b-98b1-4b9a-8fc5-83b56fb97851",
     "showTitle": false,
     "title": ""
    }
   },
   "source": [
    "## Train-Test Split\n",
    "- The test set need to be labelled with correct labels, therefore taken from the labelled set."
   ]
  },
  {
   "cell_type": "code",
   "execution_count": 0,
   "metadata": {
    "application/vnd.databricks.v1+cell": {
     "cellMetadata": {
      "byteLimit": 2048000,
      "rowLimit": 10000
     },
     "inputWidgets": {},
     "nuid": "5320cb04-57ab-421a-8fcb-6b1352ab6148",
     "showTitle": false,
     "title": ""
    }
   },
   "outputs": [],
   "source": [
    "# Split the dataset into training and test\n",
    "# _pd suffix imply pandas\n",
    "from sklearn.model_selection import train_test_split\n",
    "\n",
    "df_train_pd, df_test_pd = train_test_split(\n",
    "    df_pd, test_size=0.2, shuffle=True, stratify=df_pd[\"label\"], random_state=2024\n",
    ")\n",
    "\n",
    "## Covert test set pandas dataframe to spark dataframe, will be used to evaluate the entire model\n",
    "df_test = spark.createDataFrame(df_test_pd)"
   ]
  },
  {
   "cell_type": "code",
   "execution_count": 0,
   "metadata": {
    "application/vnd.databricks.v1+cell": {
     "cellMetadata": {
      "byteLimit": 2048000,
      "rowLimit": 10000
     },
     "inputWidgets": {},
     "nuid": "a706129b-61d4-45f5-ac34-516f2f31e789",
     "showTitle": false,
     "title": ""
    }
   },
   "outputs": [
    {
     "output_type": "execute_result",
     "data": {
      "text/plain": [
       "Index(['tweet2', 'tokens', 'label', 'indicator'], dtype='object')"
      ]
     },
     "execution_count": 34,
     "metadata": {},
     "output_type": "execute_result"
    }
   ],
   "source": [
    "cols = df_train_pd.columns\n",
    "cols"
   ]
  },
  {
   "cell_type": "markdown",
   "metadata": {
    "application/vnd.databricks.v1+cell": {
     "cellMetadata": {
      "byteLimit": 2048000,
      "rowLimit": 10000
     },
     "inputWidgets": {},
     "nuid": "1dd404d9-db29-418d-b030-5d883b99e46c",
     "showTitle": false,
     "title": ""
    }
   },
   "source": [
    "## Use Training data to train the model\n",
    "- The model is trained using sklearn library because it is just a sample from big data, hence can be handled in a single machine\n",
    "- then be used to predict labels for the unlabelled data in the big data set\n"
   ]
  },
  {
   "cell_type": "code",
   "execution_count": 0,
   "metadata": {
    "application/vnd.databricks.v1+cell": {
     "cellMetadata": {
      "byteLimit": 2048000,
      "rowLimit": 10000
     },
     "inputWidgets": {},
     "nuid": "f3658d52-a755-440a-8073-193a15906983",
     "showTitle": false,
     "title": ""
    }
   },
   "outputs": [],
   "source": [
    "# Add column label to unlabelled data\n",
    "df_nolabel = df_nolabel.withColumn(\"label\", F.lit(\"\"))\n",
    "\n",
    "df_train_labelled = spark.createDataFrame(df_train_pd).select(\n",
    "    *[\"tweet2\",\"tokens\", \"label\", \"indicator\"]\n",
    ")\n",
    "\n",
    "\n",
    "## Enoding labels\n",
    "from pyspark.ml.feature import StringIndexer\n",
    "\n",
    "# Create StringIndexer object\n",
    "indexer = StringIndexer(inputCol=\"label\", outputCol=\"label_encoded\")\n",
    "\n",
    "# Fit and transform the dataframe\n",
    "indexer = indexer.fit(df_train_labelled)\n",
    "df_train_labelled = indexer.transform(df_train_labelled)\n",
    "\n",
    "# Encode also for the test set\n",
    "df_test = indexer.transform(df_test)\n"
   ]
  },
  {
   "cell_type": "markdown",
   "metadata": {
    "application/vnd.databricks.v1+cell": {
     "cellMetadata": {
      "byteLimit": 2048000,
      "rowLimit": 10000
     },
     "inputWidgets": {},
     "nuid": "4e95cde8-6ffb-4e63-af6f-6c1fd200cf63",
     "showTitle": false,
     "title": ""
    }
   },
   "source": [
    "# data repartitioning`\n",
    "- Classifier trained on the whole labelled dataset, since labelled data is only small, it is repartioned to 1 partition and serve as a baseline.\n",
    " - To be able to use it for large dataset we implement it in spark\n",
    " "
   ]
  },
  {
   "cell_type": "code",
   "execution_count": 0,
   "metadata": {
    "application/vnd.databricks.v1+cell": {
     "cellMetadata": {
      "byteLimit": 2048000,
      "rowLimit": 10000
     },
     "inputWidgets": {},
     "nuid": "2d4d7949-c206-450e-9bbb-a50733ef1c88",
     "showTitle": false,
     "title": ""
    }
   },
   "outputs": [
    {
     "output_type": "execute_result",
     "data": {
      "text/plain": [
       "1"
      ]
     },
     "execution_count": 36,
     "metadata": {},
     "output_type": "execute_result"
    }
   ],
   "source": [
    "# repartition data to 1 partition to train base model on labelled data using sci-kitlearn\n",
    "# it could be also done without changing data to spark rdd since it is small enough\n",
    "# we use this to make use of the function that will be used for local approach\n",
    "rdd_train_labelled = df_train_labelled.rdd.repartition(1)\n",
    "rdd_train_labelled.getNumPartitions()"
   ]
  },
  {
   "cell_type": "markdown",
   "metadata": {
    "application/vnd.databricks.v1+cell": {
     "cellMetadata": {
      "byteLimit": 2048000,
      "rowLimit": 10000
     },
     "inputWidgets": {},
     "nuid": "60655fdb-17da-4c26-9977-af17f5414f63",
     "showTitle": false,
     "title": ""
    }
   },
   "source": []
  },
  {
   "cell_type": "code",
   "execution_count": 0,
   "metadata": {
    "application/vnd.databricks.v1+cell": {
     "cellMetadata": {
      "byteLimit": 2048000,
      "rowLimit": 10000
     },
     "inputWidgets": {},
     "nuid": "4d5fca16-7f01-4398-8faa-a616af74ebf9",
     "showTitle": false,
     "title": ""
    }
   },
   "outputs": [
    {
     "output_type": "execute_result",
     "data": {
      "text/plain": [
       "['tweet2', 'tokens', 'label', 'indicator', 'label_encoded']"
      ]
     },
     "execution_count": 37,
     "metadata": {},
     "output_type": "execute_result"
    }
   ],
   "source": [
    "# display columns\n",
    "df_train_labelled.columns"
   ]
  },
  {
   "cell_type": "code",
   "execution_count": 0,
   "metadata": {
    "application/vnd.databricks.v1+cell": {
     "cellMetadata": {
      "byteLimit": 2048000,
      "rowLimit": 10000
     },
     "inputWidgets": {},
     "nuid": "8459d0bb-c85c-4b21-8b54-6820148cb7c3",
     "showTitle": false,
     "title": ""
    }
   },
   "outputs": [],
   "source": [
    "# Train and return model\n",
    "from sklearn.naive_bayes import MultinomialNB\n",
    "\n",
    "cols = ['tweet2', 'tokens', 'label', 'indicator', 'label_encoded']\n",
    "\n",
    "\n",
    "def train_model(iterator):\n",
    "    # Prepare inputs\n",
    "    iterator = pd.DataFrame(iterator, columns=cols)\n",
    "\n",
    "    X_train = iterator[\"tweet2\"].values\n",
    "    y_train = iterator[\"label_encoded\"]\n",
    "\n",
    "    vectorizer = CountVectorizer()\n",
    "    vectorizer.fit(X_train)\n",
    "\n",
    "    X_train = vectorizer.transform(X_train)\n",
    "    # # X_test = vectorizer.transform(X_test)\n",
    "\n",
    "    # # create model\n",
    "    model = MultinomialNB()\n",
    "\n",
    "    # # fit model\n",
    "    model = model.fit(X_train.toarray(), y_train.values)\n",
    "\n",
    "    # return model\n",
    "    return [(vectorizer, model)]\n",
    "\n",
    "\n",
    "models = rdd_train_labelled.mapPartitions(train_model).collect()"
   ]
  },
  {
   "cell_type": "code",
   "execution_count": 0,
   "metadata": {
    "application/vnd.databricks.v1+cell": {
     "cellMetadata": {
      "byteLimit": 2048000,
      "rowLimit": 10000
     },
     "inputWidgets": {},
     "nuid": "ab368e7b-f0ed-417b-9daf-3ef21199a329",
     "showTitle": false,
     "title": ""
    }
   },
   "outputs": [
    {
     "output_type": "execute_result",
     "data": {
      "text/plain": [
       "[(CountVectorizer(), MultinomialNB())]"
      ]
     },
     "execution_count": 39,
     "metadata": {},
     "output_type": "execute_result"
    }
   ],
   "source": [
    "models"
   ]
  },
  {
   "cell_type": "code",
   "execution_count": 0,
   "metadata": {
    "application/vnd.databricks.v1+cell": {
     "cellMetadata": {
      "byteLimit": 2048000,
      "rowLimit": 10000
     },
     "inputWidgets": {},
     "nuid": "b26b19b4-187d-4a33-ac80-951dadd73534",
     "showTitle": false,
     "title": ""
    }
   },
   "outputs": [],
   "source": [
    "# Use fitted model to make predictions\n",
    "def predict(tweet):\n",
    "    predictions = [\n",
    "        m.predict(v.transform([tweet[\"tweet2\"]]).toarray())[0] for v, m in models\n",
    "    ]  #\n",
    "    return predictions\n"
   ]
  },
  {
   "cell_type": "code",
   "execution_count": 0,
   "metadata": {
    "application/vnd.databricks.v1+cell": {
     "cellMetadata": {
      "byteLimit": 2048000,
      "rowLimit": 10000
     },
     "inputWidgets": {},
     "nuid": "39b851bb-c100-4cc8-adfa-b2a3c472eeb8",
     "showTitle": false,
     "title": ""
    }
   },
   "outputs": [
    {
     "output_type": "execute_result",
     "data": {
      "text/plain": [
       "Row(tweet2='violin cello make child smart maybe oh beautiful string attach', tokens=['violin', 'cello', 'make', 'child', 'smart', 'maybe', 'oh', 'beautiful', 'string', 'attach'], label='other', indicator=1, label_encoded=0.0)"
      ]
     },
     "execution_count": 41,
     "metadata": {},
     "output_type": "execute_result"
    }
   ],
   "source": [
    "# get a glimpse of test RDD\n",
    "df_test.rdd.first()"
   ]
  },
  {
   "cell_type": "code",
   "execution_count": 0,
   "metadata": {
    "application/vnd.databricks.v1+cell": {
     "cellMetadata": {
      "byteLimit": 2048000,
      "rowLimit": 10000
     },
     "inputWidgets": {},
     "nuid": "454c3527-93ce-47a5-8e9c-c97668250f87",
     "showTitle": false,
     "title": ""
    }
   },
   "outputs": [],
   "source": [
    "# define function to aggregate predictions\n",
    "def agg_predict(preds):\n",
    "    predictions = {\n",
    "        0.0: 0,\n",
    "        1.0: 0,\n",
    "        2.0: 0,\n",
    "        3.0: 0,\n",
    "        4.0: 0,\n",
    "        5.0: 0\n",
    "    }\n",
    "\n",
    "    for k in preds:\n",
    "        predictions[k] += 1\n",
    "\n",
    "        return max(predictions, key=predictions.get)"
   ]
  },
  {
   "cell_type": "code",
   "execution_count": 0,
   "metadata": {
    "application/vnd.databricks.v1+cell": {
     "cellMetadata": {
      "byteLimit": 2048000,
      "rowLimit": 10000
     },
     "inputWidgets": {},
     "nuid": "1f5f1315-fe81-4989-b29b-202e71559092",
     "showTitle": false,
     "title": ""
    }
   },
   "outputs": [
    {
     "output_type": "execute_result",
     "data": {
      "text/plain": [
       "[0.0, 0.0, 3.0, 1.0, 0.0, 0.0, 0.0, 1.0, 0.0, 0.0]"
      ]
     },
     "execution_count": 43,
     "metadata": {},
     "output_type": "execute_result"
    }
   ],
   "source": [
    "# Make predictions\n",
    "df_test.rdd.map(predict).map(agg_predict).take(10)"
   ]
  },
  {
   "cell_type": "code",
   "execution_count": 0,
   "metadata": {
    "application/vnd.databricks.v1+cell": {
     "cellMetadata": {
      "byteLimit": 2048000,
      "rowLimit": 10000
     },
     "inputWidgets": {},
     "nuid": "0aec473f-d3f9-4968-8385-befcc2e4b39f",
     "showTitle": false,
     "title": ""
    }
   },
   "outputs": [],
   "source": [
    "# Return results in spark DataFrame\n",
    "from pyspark.sql import Row\n",
    "\n",
    "\n",
    "def transform(sample):\n",
    "    return Row(**sample.asDict(), pred=agg_predict(predict(sample)))"
   ]
  },
  {
   "cell_type": "code",
   "execution_count": 0,
   "metadata": {
    "application/vnd.databricks.v1+cell": {
     "cellMetadata": {
      "byteLimit": 2048000,
      "rowLimit": 10000
     },
     "inputWidgets": {},
     "nuid": "d06ec118-d0bd-4983-b4d1-332b9b39350b",
     "showTitle": false,
     "title": ""
    }
   },
   "outputs": [
    {
     "output_type": "stream",
     "name": "stdout",
     "output_type": "stream",
     "text": [
      "+--------------------+--------------------+-------------+----+\n|              tweet2|               label|label_encoded|pred|\n+--------------------+--------------------+-------------+----+\n|violin cello make...|               other|          0.0| 0.0|\n|allergan doubt va...|               other|          0.0| 0.0|\n|nfler illegally g...|diagnosis and tre...|          3.0| 3.0|\n|new york protecti...|            diseases|          1.0| 1.0|\n|women use longter...|               other|          0.0| 0.0|\n|video miliband tr...|               other|          0.0| 0.0|\n|malibu school tea...|               other|          0.0| 0.0|\n|nunavik trichinos...|               other|          0.0| 1.0|\n|chantix user memo...|               other|          0.0| 0.0|\n|test southern cal...|               other|          0.0| 0.0|\n|psychiatric patie...|               other|          0.0| 0.0|\n|happen bodyand mi...|               other|          0.0| 0.0|\n|new study find hp...|diagnosis and tre...|          3.0| 3.0|\n|health minister s...|            diseases|          1.0| 1.0|\n|pick pace way wal...|  food and nutrition|          2.0| 2.0|\n|csection link sti...|            diseases|          1.0| 1.0|\n|tooth decay commo...|            diseases|          1.0| 1.0|\n|faith strengthen ...|            diseases|          1.0| 1.0|\n|ontario family ma...|               other|          0.0| 0.0|\n|well relearn eat ...|  food and nutrition|          2.0| 2.0|\n|question calorie ...|  food and nutrition|          2.0| 2.0|\n|young runner may ...|               other|          0.0| 0.0|\n| fat ultrafit father|  food and nutrition|          2.0| 2.0|\n|overweight new no...|  food and nutrition|          2.0| 2.0|\n|newyear resolutio...|               other|          0.0| 0.0|\n+--------------------+--------------------+-------------+----+\nonly showing top 25 rows\n\n"
     ]
    }
   ],
   "source": [
    "# View prediction results\n",
    "predicted = df_test.rdd.map(transform).toDF()\n",
    "predicted.select(\"tweet2\", \"label\", \"label_encoded\", \"pred\").show(25)"
   ]
  },
  {
   "cell_type": "code",
   "execution_count": 0,
   "metadata": {
    "application/vnd.databricks.v1+cell": {
     "cellMetadata": {
      "byteLimit": 2048000,
      "rowLimit": 10000
     },
     "inputWidgets": {},
     "nuid": "2e241ff2-e3cd-4760-abcd-134b707be336",
     "showTitle": false,
     "title": ""
    }
   },
   "outputs": [],
   "source": [
    "# Evaluate the model\n",
    "from pyspark.ml.evaluation import MulticlassClassificationEvaluator\n",
    "\n",
    "evaluator = MulticlassClassificationEvaluator(\n",
    "    labelCol=\"label_encoded\", predictionCol=\"pred\"\n",
    ")"
   ]
  },
  {
   "cell_type": "code",
   "execution_count": 0,
   "metadata": {
    "application/vnd.databricks.v1+cell": {
     "cellMetadata": {
      "byteLimit": 2048000,
      "rowLimit": 10000
     },
     "inputWidgets": {},
     "nuid": "482b9fd2-9c25-429b-a3eb-35d47f69b9a5",
     "showTitle": false,
     "title": ""
    }
   },
   "outputs": [
    {
     "output_type": "stream",
     "name": "stdout",
     "output_type": "stream",
     "text": [
      "accuracy:  0.8463611859838275\nrecall:  0.8463611859838276\nprecision:  0.8493149820433277\n"
     ]
    }
   ],
   "source": [
    "accuracy = evaluator.evaluate(predicted, {evaluator.metricName: \"accuracy\"})\n",
    "\n",
    "recall = evaluator.evaluate(predicted, {evaluator.metricName: \"weightedRecall\"})\n",
    "\n",
    "precision = evaluator.evaluate(predicted, {evaluator.metricName: \"weightedPrecision\"})\n",
    "\n",
    "print(\"accuracy: \", accuracy)\n",
    "print(\"recall: \", recall)\n",
    "print(\"precision: \", precision)"
   ]
  },
  {
   "cell_type": "markdown",
   "metadata": {
    "application/vnd.databricks.v1+cell": {
     "cellMetadata": {
      "byteLimit": 2048000,
      "rowLimit": 10000
     },
     "inputWidgets": {},
     "nuid": "0a8bbfb0-3a5f-4328-a120-c85ae7490c06",
     "showTitle": false,
     "title": ""
    }
   },
   "source": [
    "### scalability test - local solution"
   ]
  },
  {
   "cell_type": "code",
   "execution_count": 0,
   "metadata": {
    "application/vnd.databricks.v1+cell": {
     "cellMetadata": {
      "byteLimit": 2048000,
      "rowLimit": 10000
     },
     "inputWidgets": {},
     "nuid": "c9966693-6aea-4689-8f20-f31aa517bd34",
     "showTitle": false,
     "title": ""
    }
   },
   "outputs": [
    {
     "output_type": "stream",
     "name": "stdout",
     "output_type": "stream",
     "text": [
      "Number of samples in 20.0 percent of data: 4914\nNumber of samples in 40.0 percent of data: 9511\nNumber of samples in 60.0 percent of data: 14299\nNumber of samples in 80.0 percent of data: 19030\nNumber of samples in 100 percent of data: 23743\n"
     ]
    }
   ],
   "source": [
    "# size up\n",
    "# There is an overhead when collecting models to driver\n",
    "\n",
    "import time\n",
    "\n",
    "sample_sizes = [0.2, 0.4, 0.6, 0.8,1]\n",
    "samples = []\n",
    "times = []\n",
    "for i, size in enumerate(sample_sizes):\n",
    "    samples.append(rdd_train_labelled.sample(False, size))\n",
    "    print(f\"Number of samples in {size*100} percent of data: {samples[i].count()}\")\n",
    "    # samples[i] = samples[i].repartition(2)\n",
    "\n",
    "    # record time\n",
    "    start_time = time.time()\n",
    "    models = samples[i].mapPartitions(train_model).collect()\n",
    "    end_time = time.time()\n",
    "\n",
    "    train_time = end_time - start_time\n",
    "    times.append(train_time)\n",
    "\n",
    "size_up = [i/times[0] for i in times]\n",
    "linear_sizeup = [1,2,3,4,5]"
   ]
  },
  {
   "cell_type": "code",
   "execution_count": 0,
   "metadata": {
    "application/vnd.databricks.v1+cell": {
     "cellMetadata": {
      "byteLimit": 2048000,
      "rowLimit": 10000
     },
     "inputWidgets": {},
     "nuid": "d1fd24c0-2058-439e-ae56-68847eb310c6",
     "showTitle": false,
     "title": ""
    }
   },
   "outputs": [
    {
     "output_type": "display_data",
     "data": {
      "image/png": "[encoded data removed]",
      "text/plain": [
       "<Figure size 640x480 with 1 Axes>"
      ]
     },
     "metadata": {},
     "output_type": "display_data"
    }
   ],
   "source": [
    "# May not be relicated\n",
    "import matplotlib.pyplot as plt\n",
    "plt.plot(sample_sizes, size_up, label= 'actual')\n",
    "plt.plot(sample_sizes, linear_sizeup, linestyle='--', label = 'linear')\n",
    "plt.xlabel(\"size of data %\")\n",
    "plt.ylabel(\"size up\")\n",
    "plt.legend()\n",
    "plt.savefig(\"plots/sizeup.png\")"
   ]
  },
  {
   "cell_type": "code",
   "execution_count": 0,
   "metadata": {
    "application/vnd.databricks.v1+cell": {
     "cellMetadata": {
      "byteLimit": 2048000,
      "rowLimit": 10000
     },
     "inputWidgets": {},
     "nuid": "4a9c8357-495c-4984-be00-cd4342b6faa0",
     "showTitle": false,
     "title": ""
    }
   },
   "outputs": [],
   "source": []
  },
  {
   "cell_type": "markdown",
   "metadata": {
    "application/vnd.databricks.v1+cell": {
     "cellMetadata": {
      "byteLimit": 2048000,
      "rowLimit": 10000
     },
     "inputWidgets": {},
     "nuid": "5a5d7aab-4cd3-4927-b1ea-25b60f88240b",
     "showTitle": false,
     "title": ""
    }
   },
   "source": [
    "# Predict labels for unlabelled data"
   ]
  },
  {
   "cell_type": "code",
   "execution_count": 0,
   "metadata": {
    "application/vnd.databricks.v1+cell": {
     "cellMetadata": {
      "byteLimit": 2048000,
      "rowLimit": 10000
     },
     "inputWidgets": {},
     "nuid": "692eba5f-b8fd-4ca3-8517-3632c6af1e42",
     "showTitle": false,
     "title": ""
    }
   },
   "outputs": [
    {
     "output_type": "stream",
     "name": "stdout",
     "output_type": "stream",
     "text": [
      "+--------------------+---------+-----+--------------------+\n|              tokens|indicator|label|              tweet2|\n+--------------------+---------+-----+--------------------+\n|[love, cnn, well,...|        0|     |love cnn well des...|\n|[know, someone, s...|        0|     |know someone seem...|\n|[cdc, worry, mosq...|        0|     |cdc worry mosquit...|\n|[sweat, place, it...|        0|     |sweat place it right|\n|[kickoff, weekend...|        0|     |kickoff weekend g...|\n+--------------------+---------+-----+--------------------+\nonly showing top 5 rows\n\n"
     ]
    }
   ],
   "source": [
    "# concatenating tokens\n",
    "df_nolabel = df_nolabel.withColumn(\"tweet2\", F.concat_ws(\" \", \"tokens\"))\n",
    "df_nolabel.show(5)"
   ]
  },
  {
   "cell_type": "code",
   "execution_count": 0,
   "metadata": {
    "application/vnd.databricks.v1+cell": {
     "cellMetadata": {
      "byteLimit": 2048000,
      "rowLimit": 10000
     },
     "inputWidgets": {},
     "nuid": "1305204b-1537-4953-8f02-73136be22421",
     "showTitle": false,
     "title": ""
    }
   },
   "outputs": [],
   "source": [
    "# predicting labels for unlabelled set\n",
    "df_predicted_label = df_nolabel.rdd.map(transform).toDF()\n"
   ]
  },
  {
   "cell_type": "code",
   "execution_count": 0,
   "metadata": {
    "application/vnd.databricks.v1+cell": {
     "cellMetadata": {
      "byteLimit": 2048000,
      "rowLimit": 10000
     },
     "inputWidgets": {},
     "nuid": "2b1cf976-894c-4b3f-b513-df7bef263e1a",
     "showTitle": false,
     "title": ""
    }
   },
   "outputs": [
    {
     "output_type": "stream",
     "name": "stdout",
     "output_type": "stream",
     "text": [
      "+--------------------+---------+-----+--------------------+----+\n|              tokens|indicator|label|              tweet2|pred|\n+--------------------+---------+-----+--------------------+----+\n|[love, cnn, well,...|        0|     |love cnn well des...| 0.0|\n|[know, someone, s...|        0|     |know someone seem...| 0.0|\n|[cdc, worry, mosq...|        0|     |cdc worry mosquit...| 1.0|\n|[sweat, place, it...|        0|     |sweat place it right| 2.0|\n|[kickoff, weekend...|        0|     |kickoff weekend g...| 4.0|\n+--------------------+---------+-----+--------------------+----+\nonly showing top 5 rows\n\n"
     ]
    }
   ],
   "source": [
    "# Viewing results\n",
    "df_predicted_label.show(5)"
   ]
  },
  {
   "cell_type": "markdown",
   "metadata": {
    "application/vnd.databricks.v1+cell": {
     "cellMetadata": {
      "byteLimit": 2048000,
      "rowLimit": 10000
     },
     "inputWidgets": {},
     "nuid": "4d04c10e-28c6-4493-9835-98c3aaa9a797",
     "showTitle": false,
     "title": ""
    }
   },
   "source": [
    "### merge labelled and newly labelled data"
   ]
  },
  {
   "cell_type": "code",
   "execution_count": 0,
   "metadata": {
    "application/vnd.databricks.v1+cell": {
     "cellMetadata": {
      "byteLimit": 2048000,
      "rowLimit": 10000
     },
     "inputWidgets": {},
     "nuid": "ee66c71a-4502-46a8-ad24-ecc6eb7e8493",
     "showTitle": false,
     "title": ""
    }
   },
   "outputs": [
    {
     "output_type": "execute_result",
     "data": {
      "text/plain": [
       "['tweet2', 'tokens', 'label', 'indicator', 'label_encoded']"
      ]
     },
     "execution_count": 53,
     "metadata": {},
     "output_type": "execute_result"
    }
   ],
   "source": [
    "# Check column names\n",
    "df_train_labelled.columns"
   ]
  },
  {
   "cell_type": "code",
   "execution_count": 0,
   "metadata": {
    "application/vnd.databricks.v1+cell": {
     "cellMetadata": {
      "byteLimit": 2048000,
      "rowLimit": 10000
     },
     "inputWidgets": {},
     "nuid": "c8fe4c6f-9cc4-4d9d-ac3b-1c86288f2b7a",
     "showTitle": false,
     "title": ""
    }
   },
   "outputs": [],
   "source": [
    "# select some columns from df_predicted_label\n",
    "df_predicted_label.columns\n",
    "df_predicted_label = df_predicted_label.select(*['tweet2', 'tokens', 'label', 'indicator', 'pred']).withColumnRenamed(\n",
    "    \"pred\", \"label_encoded\"\n",
    ")"
   ]
  },
  {
   "cell_type": "code",
   "execution_count": 0,
   "metadata": {
    "application/vnd.databricks.v1+cell": {
     "cellMetadata": {
      "byteLimit": 2048000,
      "rowLimit": 10000
     },
     "inputWidgets": {},
     "nuid": "515a7e59-342d-49c0-ab55-5480d94cc6f9",
     "showTitle": false,
     "title": ""
    }
   },
   "outputs": [
    {
     "output_type": "stream",
     "name": "stdout",
     "output_type": "stream",
     "text": [
      "['tweet2', 'tokens', 'label', 'indicator', 'label_encoded']\n['tweet2', 'tokens', 'label', 'indicator', 'label_encoded']\n"
     ]
    }
   ],
   "source": [
    "# Comparing column names between labelled and unlabelled sets\n",
    "print(df_train_labelled.columns)\n",
    "print(df_predicted_label.columns)"
   ]
  },
  {
   "cell_type": "code",
   "execution_count": 0,
   "metadata": {
    "application/vnd.databricks.v1+cell": {
     "cellMetadata": {
      "byteLimit": 2048000,
      "rowLimit": 10000
     },
     "inputWidgets": {},
     "nuid": "21d520a9-2c00-46f4-b0a1-7dbb09fc250a",
     "showTitle": false,
     "title": ""
    }
   },
   "outputs": [
    {
     "output_type": "stream",
     "name": "stdout",
     "output_type": "stream",
     "text": [
      "+--------------------+--------------------+------------------+---------+-------------+\n|              tweet2|              tokens|             label|indicator|label_encoded|\n+--------------------+--------------------+------------------+---------+-------------+\n|realworld impact ...|[realworld, impac...|             other|        1|          0.0|\n|steve job face up...|[steve, job, face...|          diseases|        1|          1.0|\n|chubby doctor bad...|[chubby, doctor, ...|             other|        1|          0.0|\n|diabetes gene com...|[diabetes, gene, ...|          diseases|        1|          1.0|\n|underestimate chi...|[underestimate, c...|food and nutrition|        1|          2.0|\n|way prep healthy ...|[way, prep, healt...|food and nutrition|        1|          2.0|\n| way skinny new year|[way, skinny, new...|             other|        1|          0.0|\n|nonprofit hospita...|[nonprofit, hospi...|           fitness|        1|          4.0|\n|liberias prez wan...|[liberias, prez, ...|          diseases|        1|          1.0|\n|sustainable diet ...|[sustainable, die...|food and nutrition|        1|          2.0|\n|parkinson disease...|[parkinson, disea...|          diseases|        1|          1.0|\n|proportion people...|[proportion, peop...|             other|        1|          0.0|\n|also remember inc...|[also, remember, ...|             other|        1|          0.0|\n|doctor say boston...|[doctor, say, bos...|             other|        1|          0.0|\n|new parent shun s...|[new, parent, shu...|             other|        1|          0.0|\n|analysis uninsure...|[analysis, uninsu...|         insurance|        1|          5.0|\n|love work out tro...|[love, work, out,...|             other|        1|          0.0|\n|breast cancer tou...|[breast, cancer, ...|          diseases|        1|          1.0|\n|good question answer|[good, question, ...|             other|        1|          0.0|\n|bluetooth pacifie...|[bluetooth, pacif...|             other|        1|          0.0|\n+--------------------+--------------------+------------------+---------+-------------+\nonly showing top 20 rows\n\n"
     ]
    }
   ],
   "source": [
    "# Union labelled and newly labelled data\n",
    "df_all_label = df_train_labelled.union(df_predicted_label)\n",
    "df_all_label.show()"
   ]
  },
  {
   "cell_type": "markdown",
   "metadata": {
    "application/vnd.databricks.v1+cell": {
     "cellMetadata": {
      "byteLimit": 2048000,
      "rowLimit": 10000
     },
     "inputWidgets": {},
     "nuid": "7c586e4e-31a1-494d-827a-418dac657566",
     "showTitle": false,
     "title": ""
    }
   },
   "source": [
    "### Retrain model with more labelled data"
   ]
  },
  {
   "cell_type": "markdown",
   "metadata": {
    "application/vnd.databricks.v1+cell": {
     "cellMetadata": {
      "byteLimit": 2048000,
      "rowLimit": 10000
     },
     "inputWidgets": {},
     "nuid": "496a2923-6720-47e7-815d-5282bf747ee6",
     "showTitle": false,
     "title": ""
    }
   },
   "source": [
    "Attempts to repartition data fails here, setting a higher or lower number fails. WHY?"
   ]
  },
  {
   "cell_type": "code",
   "execution_count": 0,
   "metadata": {
    "application/vnd.databricks.v1+cell": {
     "cellMetadata": {
      "byteLimit": 2048000,
      "rowLimit": 10000
     },
     "inputWidgets": {},
     "nuid": "7300e5fa-538b-44a4-96cf-88aacec60429",
     "showTitle": false,
     "title": ""
    }
   },
   "outputs": [],
   "source": [
    "# get column names of the dataset\n",
    "cols = df_all_label.columns"
   ]
  },
  {
   "cell_type": "markdown",
   "metadata": {
    "application/vnd.databricks.v1+cell": {
     "cellMetadata": {
      "byteLimit": 2048000,
      "rowLimit": 10000
     },
     "inputWidgets": {},
     "nuid": "b6663785-5d80-4863-8c4c-856d88424aa6",
     "showTitle": false,
     "title": ""
    }
   },
   "source": [
    "## Recreate the dataframe will all labelled data!!\n",
    "- Surprised? Yes!!, this was done as a workaround of spark failure to repartion the dataframe\n",
    "- We obtain an rdd for the dataframe and recreate it!!!.. repartitioning then works!!"
   ]
  },
  {
   "cell_type": "code",
   "execution_count": 0,
   "metadata": {
    "application/vnd.databricks.v1+cell": {
     "cellMetadata": {
      "byteLimit": 2048000,
      "rowLimit": 10000
     },
     "inputWidgets": {},
     "nuid": "950d4cce-e2d6-4d04-848c-0074898d664f",
     "showTitle": false,
     "title": ""
    }
   },
   "outputs": [],
   "source": [
    "# Train models for different number of partitions\n",
    "# Recreating the dataframe, this may seem redundant but it is a work around because repartiting `df_all_label` was always failing\n",
    "df_all_label2 = spark.createDataFrame(df_all_label.rdd, cols)"
   ]
  },
  {
   "cell_type": "markdown",
   "metadata": {
    "application/vnd.databricks.v1+cell": {
     "cellMetadata": {
      "byteLimit": 2048000,
      "rowLimit": 10000
     },
     "inputWidgets": {},
     "nuid": "ee586c83-7066-4bcc-99b0-98fbdb51aa48",
     "showTitle": false,
     "title": ""
    }
   },
   "source": [
    "## Train model and record time"
   ]
  },
  {
   "cell_type": "code",
   "execution_count": 0,
   "metadata": {
    "application/vnd.databricks.v1+cell": {
     "cellMetadata": {
      "byteLimit": 2048000,
      "rowLimit": 10000
     },
     "inputWidgets": {},
     "nuid": "caa52a38-4b8a-48a9-9367-c5c6be0a5857",
     "showTitle": false,
     "title": ""
    }
   },
   "outputs": [
    {
     "output_type": "stream",
     "name": "stdout",
     "output_type": "stream",
     "text": [
      "[1126.8971934318542, 103.47104668617249, 48.105034828186035, 44.02627992630005]\n"
     ]
    }
   ],
   "source": [
    "# caching leads to out of memory error, we deliberately not cache here\n",
    "import time\n",
    "\n",
    "# Loop through different number of partitions\n",
    "min_partitions = 2\n",
    "max_partitions = 5\n",
    "partitions = (min_partitions, max_partitions + 1)\n",
    "\n",
    "models_dict = {}\n",
    "training_times = []\n",
    "for p in range(*partitions):\n",
    "    df_all_label3 = df_all_label2.repartition(p)\n",
    "    start_time = time.time()  # record model training time - start\n",
    "    models_ = df_all_label3.rdd.mapPartitions(train_model).collect()  # action\n",
    "    end_time = time.time()\n",
    "    training_time = end_time - start_time\n",
    "    training_times.append(training_time)\n",
    "    models_dict[p] = models_\n",
    "    df_all_label3\n",
    "print(training_times)"
   ]
  },
  {
   "cell_type": "markdown",
   "metadata": {
    "application/vnd.databricks.v1+cell": {
     "cellMetadata": {
      "byteLimit": 2048000,
      "rowLimit": 10000
     },
     "inputWidgets": {},
     "nuid": "3ad50b47-853d-4ed4-be79-ac707441c93d",
     "showTitle": false,
     "title": ""
    }
   },
   "source": [
    "## Making predictions"
   ]
  },
  {
   "cell_type": "code",
   "execution_count": 0,
   "metadata": {
    "application/vnd.databricks.v1+cell": {
     "cellMetadata": {
      "byteLimit": 2048000,
      "rowLimit": 10000
     },
     "inputWidgets": {},
     "nuid": "f82935c6-1bd5-4821-bbdc-f71947b6465a",
     "showTitle": false,
     "title": ""
    }
   },
   "outputs": [
    {
     "output_type": "execute_result",
     "data": {
      "text/plain": [
       "{2: DataFrame[tweet2: string, label: string, label_encoded: double, pred: double],\n",
       " 3: DataFrame[tweet2: string, label: string, label_encoded: double, pred: double],\n",
       " 4: DataFrame[tweet2: string, label: string, label_encoded: double, pred: double],\n",
       " 5: DataFrame[tweet2: string, label: string, label_encoded: double, pred: double]}"
      ]
     },
     "execution_count": 60,
     "metadata": {},
     "output_type": "execute_result"
    }
   ],
   "source": [
    "# predict\n",
    "predictions = {}\n",
    "for p in range(*partitions):\n",
    "    models = models_dict[p]\n",
    "    predictions[p] = (\n",
    "        df_test.rdd.map(transform)\n",
    "        .toDF()\n",
    "        .select(\"tweet2\", \"label\", \"label_encoded\", \"pred\")\n",
    "    )\n",
    "\n",
    "predictions"
   ]
  },
  {
   "cell_type": "markdown",
   "metadata": {
    "application/vnd.databricks.v1+cell": {
     "cellMetadata": {
      "byteLimit": 2048000,
      "rowLimit": 10000
     },
     "inputWidgets": {},
     "nuid": "c27acaf6-9a90-4b75-8910-e999395bb9fc",
     "showTitle": false,
     "title": ""
    }
   },
   "source": [
    "## Prediction evaluation"
   ]
  },
  {
   "cell_type": "code",
   "execution_count": 0,
   "metadata": {
    "application/vnd.databricks.v1+cell": {
     "cellMetadata": {
      "byteLimit": 2048000,
      "rowLimit": 10000
     },
     "inputWidgets": {},
     "nuid": "63f2c6b1-5dcf-4374-aa93-7a62565153f4",
     "showTitle": false,
     "title": ""
    }
   },
   "outputs": [
    {
     "output_type": "stream",
     "name": "stdout",
     "output_type": "stream",
     "text": [
      "Number of partitions 2: Accuracy 0.7804919137466307\nNumber of partitions 3: Accuracy 0.7809973045822103\nNumber of partitions 4: Accuracy 0.7693733153638814\nNumber of partitions 5: Accuracy 0.7658355795148248\n"
     ]
    }
   ],
   "source": [
    "metrics = []\n",
    "n_partition = []\n",
    "for p in predictions.keys():\n",
    "    n_partition.append(p)\n",
    "    accuracy = evaluator.evaluate(predictions[p], {evaluator.metricName: \"accuracy\"})\n",
    "    metrics.append(accuracy)\n",
    "    print(f\"Number of partitions {p}: Accuracy {accuracy}\")\n",
    "\n",
    "evaluation = pd.DataFrame(\n",
    "    {\n",
    "        \"num_partitions\": n_partition,\n",
    "        \"accuracy\": metrics,\n",
    "        \"training_times\": training_times,\n",
    "    }\n",
    ")"
   ]
  },
  {
   "cell_type": "code",
   "execution_count": 0,
   "metadata": {
    "application/vnd.databricks.v1+cell": {
     "cellMetadata": {
      "byteLimit": 2048000,
      "rowLimit": 10000
     },
     "inputWidgets": {},
     "nuid": "49c8ae03-06e9-43de-816f-3d686ca17a27",
     "showTitle": false,
     "title": ""
    }
   },
   "outputs": [
    {
     "output_type": "display_data",
     "data": {
      "image/png": "[encoded data removed]",
      "text/plain": [
       "<Figure size 900x300 with 2 Axes>"
      ]
     },
     "metadata": {},
     "output_type": "display_data"
    }
   ],
   "source": [
    "import matplotlib.pyplot as plt\n",
    "import seaborn as sns\n",
    "\n",
    "# Set ggplot2 style\n",
    "sns.set_theme()\n",
    "\n",
    "fig, axs = plt.subplots(1, 2, figsize=(9, 3))\n",
    "\n",
    "ax1 = axs[0]\n",
    "ax1.plot(evaluation[\"num_partitions\"], evaluation[\"accuracy\"])\n",
    "ax1.set_ylabel(\"Prediction accuracy\")\n",
    "ax1.set_xticks(evaluation[\"num_partitions\"].astype(int))\n",
    "ax1.set_xlabel(\"Number of partitions\")\n",
    "\n",
    "ax2 = axs[1]\n",
    "ax2.plot(evaluation[\"num_partitions\"], evaluation[\"training_times\"])\n",
    "ax2.set_ylabel(\"Training times\")\n",
    "ax2.set_xlabel(\"Number of partitions\")\n",
    "\n",
    "plt.xticks(evaluation[\"num_partitions\"].astype(int))\n",
    "plt.tight_layout()\n",
    "plt.show()\n",
    "fig.savefig(\"local_solution.png\")\n"
   ]
  },
  {
   "cell_type": "code",
   "execution_count": 0,
   "metadata": {
    "application/vnd.databricks.v1+cell": {
     "cellMetadata": {
      "byteLimit": 2048000,
      "rowLimit": 10000
     },
     "inputWidgets": {},
     "nuid": "9a154062-2c21-474a-8e5e-9db4f85aecf0",
     "showTitle": false,
     "title": ""
    }
   },
   "outputs": [],
   "source": [
    "# Make a directory named \"plots\" in the workspace, if it doesn't already exist\n",
    "!mkdir -p plots\n",
    "\n",
    "# Save the figure in the \"plots\" directory\n",
    "fig.savefig(\"plots/local_solution.png\")"
   ]
  },
  {
   "cell_type": "markdown",
   "metadata": {
    "application/vnd.databricks.v1+cell": {
     "cellMetadata": {
      "byteLimit": 2048000,
      "rowLimit": 10000
     },
     "inputWidgets": {},
     "nuid": "713778e9-63bc-479a-8983-0c8a6d36cc6a",
     "showTitle": false,
     "title": ""
    }
   },
   "source": [
    "### Evaluate predictions"
   ]
  },
  {
   "cell_type": "code",
   "execution_count": 0,
   "metadata": {
    "application/vnd.databricks.v1+cell": {
     "cellMetadata": {
      "byteLimit": 2048000,
      "rowLimit": 10000
     },
     "inputWidgets": {},
     "nuid": "d658db66-569f-4466-93da-7929ac2a2fcd",
     "showTitle": false,
     "title": ""
    }
   },
   "outputs": [],
   "source": [
    "evaluator = MulticlassClassificationEvaluator(\n",
    "    labelCol=\"label_encoded\", predictionCol=\"pred\"\n",
    ")"
   ]
  },
  {
   "cell_type": "code",
   "execution_count": 0,
   "metadata": {
    "application/vnd.databricks.v1+cell": {
     "cellMetadata": {
      "byteLimit": 2048000,
      "rowLimit": 10000
     },
     "inputWidgets": {},
     "nuid": "88995f8a-5016-4404-bf01-fcad598b1e40",
     "showTitle": false,
     "title": ""
    }
   },
   "outputs": [
    {
     "output_type": "stream",
     "name": "stdout",
     "output_type": "stream",
     "text": [
      "accuracy:  0.8463611859838275\nrecall:  0.8463611859838276\nprecision:  0.8493149820433277\n"
     ]
    }
   ],
   "source": [
    "accuracy = evaluator.evaluate(predicted, {evaluator.metricName: \"accuracy\"})\n",
    "\n",
    "recall = evaluator.evaluate(predicted, {evaluator.metricName: \"weightedRecall\"})\n",
    "\n",
    "precision = evaluator.evaluate(predicted, {evaluator.metricName: \"weightedPrecision\"})\n",
    "\n",
    "print(\"accuracy: \", accuracy)\n",
    "print(\"recall: \", recall)\n",
    "print(\"precision: \", precision)"
   ]
  },
  {
   "cell_type": "code",
   "execution_count": 0,
   "metadata": {
    "application/vnd.databricks.v1+cell": {
     "cellMetadata": {
      "byteLimit": 2048000,
      "rowLimit": 10000
     },
     "inputWidgets": {},
     "nuid": "45e6a9f3-065b-4bd7-bfdb-1a4ac22abab7",
     "showTitle": false,
     "title": ""
    }
   },
   "outputs": [],
   "source": [
    "# df.unpersist()"
   ]
  },
  {
   "cell_type": "markdown",
   "metadata": {
    "application/vnd.databricks.v1+cell": {
     "cellMetadata": {
      "byteLimit": 2048000,
      "rowLimit": 10000
     },
     "inputWidgets": {},
     "nuid": "e034d410-73bc-4ff8-a428-56d39aabc210",
     "showTitle": false,
     "title": ""
    }
   },
   "source": [
    "## MLLIB IMPLEMENTATION: GLOBAL SEMI SUPERVISED"
   ]
  },
  {
   "cell_type": "code",
   "execution_count": 0,
   "metadata": {
    "application/vnd.databricks.v1+cell": {
     "cellMetadata": {
      "byteLimit": 2048000,
      "rowLimit": 10000
     },
     "inputWidgets": {},
     "nuid": "4afb7878-e6b8-4792-857f-c6d99b031476",
     "showTitle": false,
     "title": ""
    }
   },
   "outputs": [
    {
     "output_type": "stream",
     "name": "stdout",
     "output_type": "stream",
     "text": [
      "+--------------------+---------+-------------+\n|              tokens|indicator|label_encoded|\n+--------------------+---------+-------------+\n|[love, cnn, well,...|        0|         99.0|\n|[know, someone, s...|        0|         99.0|\n|[cdc, worry, mosq...|        0|         99.0|\n+--------------------+---------+-------------+\nonly showing top 3 rows\n\n"
     ]
    }
   ],
   "source": [
    "# Join Labelled and unlabelled sets so that we will only deal with one dataframe, unlabelled instances are labelled 99\n",
    "df_nolabel2 = (\n",
    "    df_nolabel.withColumn(\"label\", F.lit(99))\n",
    "    .withColumnRenamed(\"label\", \"label_encoded\")\n",
    "    .select(*[\"tokens\", \"indicator\", \"label_encoded\"])\n",
    ")\n",
    "\n",
    "df_train_labelled2 = df_train_labelled.select(*[\"tokens\", \"indicator\",\"label_encoded\"])\n",
    "\n",
    "\n",
    "df_all = df_nolabel2.union(df_train_labelled2)\n",
    "df_all.show(3)\n",
    "\n",
    "# df_all.cache()"
   ]
  },
  {
   "cell_type": "code",
   "execution_count": 0,
   "metadata": {
    "application/vnd.databricks.v1+cell": {
     "cellMetadata": {
      "byteLimit": 2048000,
      "rowLimit": 10000
     },
     "inputWidgets": {},
     "nuid": "adb5aedd-e4c4-4381-bfb8-bc7dece2ed5f",
     "showTitle": false,
     "title": ""
    }
   },
   "outputs": [],
   "source": [
    "# Get columns of the dataframe\n",
    "cols = df_all.columns"
   ]
  },
  {
   "cell_type": "code",
   "execution_count": 0,
   "metadata": {
    "application/vnd.databricks.v1+cell": {
     "cellMetadata": {
      "byteLimit": 2048000,
      "rowLimit": 10000
     },
     "inputWidgets": {},
     "nuid": "74634c8d-4acc-4ba6-80e3-c16f546391b2",
     "showTitle": false,
     "title": ""
    }
   },
   "outputs": [],
   "source": [
    "df_all = spark.createDataFrame(df_all.rdd, cols)"
   ]
  },
  {
   "cell_type": "code",
   "execution_count": 0,
   "metadata": {
    "application/vnd.databricks.v1+cell": {
     "cellMetadata": {
      "byteLimit": 2048000,
      "rowLimit": 10000
     },
     "inputWidgets": {},
     "nuid": "b83a0ba1-88da-4bcf-b605-ed4a4bf9e39b",
     "showTitle": false,
     "title": ""
    }
   },
   "outputs": [
    {
     "output_type": "execute_result",
     "data": {
      "text/plain": [
       "DataFrame[tokens: array<string>, indicator: bigint, label_encoded: double]"
      ]
     },
     "execution_count": 70,
     "metadata": {},
     "output_type": "execute_result"
    }
   ],
   "source": [
    "df_all.persist()"
   ]
  },
  {
   "cell_type": "code",
   "execution_count": 0,
   "metadata": {
    "application/vnd.databricks.v1+cell": {
     "cellMetadata": {
      "byteLimit": 2048000,
      "rowLimit": 10000
     },
     "inputWidgets": {},
     "nuid": "cfe6331f-717a-433f-9321-95a58ee3dac9",
     "showTitle": false,
     "title": ""
    }
   },
   "outputs": [],
   "source": [
    "# preprocess for training\n",
    "# Import necessary libraries\n",
    "from pyspark.ml.feature import CountVectorizer\n",
    "from pyspark.ml.classification import NaiveBayes\n",
    "\n",
    "\n"
   ]
  },
  {
   "cell_type": "code",
   "execution_count": 0,
   "metadata": {
    "application/vnd.databricks.v1+cell": {
     "cellMetadata": {
      "byteLimit": 2048000,
      "rowLimit": 10000
     },
     "inputWidgets": {},
     "nuid": "e29895e6-24c5-4d0c-a36d-fc60ed90bfcc",
     "showTitle": false,
     "title": ""
    }
   },
   "outputs": [],
   "source": [
    "\n",
    "vectorizer = CountVectorizer(inputCol=\"tokens\", outputCol=\"features\")\n",
    "vectorizer = vectorizer.fit(df_all)\n",
    "# df_all_features = vectorizer.transform(df_all)\n"
   ]
  },
  {
   "cell_type": "code",
   "execution_count": 0,
   "metadata": {
    "application/vnd.databricks.v1+cell": {
     "cellMetadata": {
      "byteLimit": 2048000,
      "rowLimit": 10000
     },
     "inputWidgets": {},
     "nuid": "561fbe8b-a54c-4fa7-8d93-86864615cb1d",
     "showTitle": false,
     "title": ""
    }
   },
   "outputs": [],
   "source": [
    "df_all_features = vectorizer.transform(df_all)"
   ]
  },
  {
   "cell_type": "code",
   "execution_count": 0,
   "metadata": {
    "application/vnd.databricks.v1+cell": {
     "cellMetadata": {
      "byteLimit": 2048000,
      "rowLimit": 10000
     },
     "inputWidgets": {},
     "nuid": "ed9d3790-aab2-4da9-87b6-a0b68b98e0fb",
     "showTitle": false,
     "title": ""
    }
   },
   "outputs": [
    {
     "output_type": "execute_result",
     "data": {
      "text/plain": [
       "DataFrame[tokens: array<string>, indicator: int]"
      ]
     },
     "execution_count": 74,
     "metadata": {},
     "output_type": "execute_result"
    }
   ],
   "source": [
    "df_all_features.persist()\n",
    "df.unpersist()"
   ]
  },
  {
   "cell_type": "code",
   "execution_count": 0,
   "metadata": {
    "application/vnd.databricks.v1+cell": {
     "cellMetadata": {
      "byteLimit": 2048000,
      "rowLimit": 10000
     },
     "inputWidgets": {},
     "nuid": "a3d3e01c-f7bc-489d-9699-9e953ee743b0",
     "showTitle": false,
     "title": ""
    }
   },
   "outputs": [
    {
     "output_type": "execute_result",
     "data": {
      "text/plain": [
       "['tokens', 'indicator', 'label_encoded', 'features']"
      ]
     },
     "execution_count": 75,
     "metadata": {},
     "output_type": "execute_result"
    }
   ],
   "source": [
    "df_all_features.columns"
   ]
  },
  {
   "cell_type": "code",
   "execution_count": 0,
   "metadata": {
    "application/vnd.databricks.v1+cell": {
     "cellMetadata": {
      "byteLimit": 2048000,
      "rowLimit": 10000
     },
     "inputWidgets": {},
     "nuid": "80d3bbe0-5cdf-4c0c-abe7-e4ac156b239c",
     "showTitle": false,
     "title": ""
    }
   },
   "outputs": [],
   "source": [
    "# Create labelled and unlabelled data\n",
    "df_labelled = df_all_features.filter(df_all_features.label_encoded!=99)"
   ]
  },
  {
   "cell_type": "markdown",
   "metadata": {
    "application/vnd.databricks.v1+cell": {
     "cellMetadata": {
      "byteLimit": 2048000,
      "rowLimit": 10000
     },
     "inputWidgets": {},
     "nuid": "0e6f8b7e-f167-4afb-9747-5bfe73afd6f0",
     "showTitle": false,
     "title": ""
    }
   },
   "source": [
    "### Train base classifier"
   ]
  },
  {
   "cell_type": "code",
   "execution_count": 0,
   "metadata": {
    "application/vnd.databricks.v1+cell": {
     "cellMetadata": {
      "byteLimit": 2048000,
      "rowLimit": 10000
     },
     "inputWidgets": {},
     "nuid": "36241ac4-fe34-4d9d-a675-bd2b06ba2df2",
     "showTitle": false,
     "title": ""
    }
   },
   "outputs": [],
   "source": [
    "# Import necessary libraries\n",
    "from pyspark.ml.classification import NaiveBayes\n",
    "\n",
    "# Create a NaiveBayes classifier object\n",
    "classifier = NaiveBayes(featuresCol=\"features\", labelCol=\"label_encoded\")\n",
    "\n",
    "# Train the classifier on the features dataframe\n",
    "model = classifier.fit(df_labelled)"
   ]
  },
  {
   "cell_type": "markdown",
   "metadata": {
    "application/vnd.databricks.v1+cell": {
     "cellMetadata": {
      "byteLimit": 2048000,
      "rowLimit": 10000
     },
     "inputWidgets": {},
     "nuid": "0bc3cdeb-29b7-4874-89a3-971f80dffd56",
     "showTitle": false,
     "title": ""
    }
   },
   "source": [
    "### Evaluate base classifier"
   ]
  },
  {
   "cell_type": "code",
   "execution_count": 0,
   "metadata": {
    "application/vnd.databricks.v1+cell": {
     "cellMetadata": {
      "byteLimit": 2048000,
      "rowLimit": 10000
     },
     "inputWidgets": {},
     "nuid": "18302b93-b3ff-4bf0-a2e2-914953b4d73f",
     "showTitle": false,
     "title": ""
    }
   },
   "outputs": [
    {
     "output_type": "stream",
     "name": "stdout",
     "output_type": "stream",
     "text": [
      "Base classifier accuracy 0.8429919137466307\n"
     ]
    }
   ],
   "source": [
    "# Evaluate\n",
    "\n",
    "# Tokenize the tweet2 column\n",
    "tokenizer = Tokenizer(inputCol=\"tweet2\", outputCol=\"tokens\")\n",
    "\n",
    "\n",
    "df_test = df_test.select(*[\"tweet2\", \"label_encoded\"])\n",
    "df_test_tokenized = tokenizer.transform(df_test)\n",
    "\n",
    "df_test_features = vectorizer.transform(df_test_tokenized)\n",
    "predicted = model.transform(df_test_features)\n",
    "\n",
    "# # Evaluate the accuracy of the predictions\n",
    "from pyspark.ml.evaluation import MulticlassClassificationEvaluator\n",
    "\n",
    "evaluator = MulticlassClassificationEvaluator(\n",
    "    labelCol=\"label_encoded\", predictionCol=\"prediction\", metricName=\"accuracy\")\n",
    "accuracy = evaluator.evaluate(predicted)\n",
    "\n",
    "print(f\"Base classifier accuracy {accuracy}\")"
   ]
  },
  {
   "cell_type": "markdown",
   "metadata": {
    "application/vnd.databricks.v1+cell": {
     "cellMetadata": {
      "byteLimit": 2048000,
      "rowLimit": 10000
     },
     "inputWidgets": {},
     "nuid": "a70eb8d0-3e7f-4e6f-a18e-ce07e18ef97d",
     "showTitle": false,
     "title": ""
    }
   },
   "source": [
    "### predict unlabelled cases"
   ]
  },
  {
   "cell_type": "code",
   "execution_count": 0,
   "metadata": {
    "application/vnd.databricks.v1+cell": {
     "cellMetadata": {
      "byteLimit": 2048000,
      "rowLimit": 10000
     },
     "inputWidgets": {},
     "nuid": "3506c21f-0c72-4c45-ae48-f37f9019a1c6",
     "showTitle": false,
     "title": ""
    }
   },
   "outputs": [],
   "source": [
    "import numpy as np\n",
    "def class_distr(df, col2group):\n",
    "  return np.array(\n",
    "    df.groupBy(col2group).count().sort(col2group).toPandas()[\"count\"], dtype=\"int\"\n",
    "  )"
   ]
  },
  {
   "cell_type": "code",
   "execution_count": 0,
   "metadata": {
    "application/vnd.databricks.v1+cell": {
     "cellMetadata": {
      "byteLimit": 2048000,
      "rowLimit": 10000
     },
     "inputWidgets": {},
     "nuid": "4643d0e2-06e2-4d6a-be98-b13ab5179da4",
     "showTitle": false,
     "title": ""
    }
   },
   "outputs": [],
   "source": [
    "distr = class_distr(df_all_features.filter(df_all_features['label_encoded']!=99), 'label_encoded')"
   ]
  },
  {
   "cell_type": "code",
   "execution_count": 0,
   "metadata": {
    "application/vnd.databricks.v1+cell": {
     "cellMetadata": {
      "byteLimit": 2048000,
      "rowLimit": 10000
     },
     "inputWidgets": {},
     "nuid": "bb75e20e-7b3e-4cf6-99ce-40d3af9cb747",
     "showTitle": false,
     "title": ""
    }
   },
   "outputs": [],
   "source": [
    "def instances_per_class(class_distrib,counts):\n",
    "  ix_min = np.argmin(counts/distr)\n",
    "  new_counts = counts[ix_min]*(distr/distr[ix_min])\n",
    "  return np.round(new_counts).astype(\"int\")"
   ]
  },
  {
   "cell_type": "code",
   "execution_count": 0,
   "metadata": {
    "application/vnd.databricks.v1+cell": {
     "cellMetadata": {
      "byteLimit": 2048000,
      "rowLimit": 10000
     },
     "inputWidgets": {},
     "nuid": "f19c5d56-65fb-4b2d-868d-d93482cdb279",
     "showTitle": false,
     "title": ""
    }
   },
   "outputs": [],
   "source": [
    "# modified from I. Triguero and M. Galar, Large-Scale Data Analytics with Python and Spark: A Hands-on Guide to Implementing Machine Learning Solutions. Cambridge University Press, 2023.\n",
    "\n",
    "# self supervised training\n",
    "from itertools import chain\n",
    "from pyspark.ml.functions import vector_to_array\n",
    "\n",
    "def self_training(data, max_iter=10, seed=2024, threshold=0.95, num_classes=6):\n",
    "\n",
    "  nbc = NaiveBayes(featuresCol=\"features\", labelCol=\"label_encoded\")\n",
    "\n",
    "  distr = class_distr(data.filter(data[\"label_encoded\"]!=99),\"label_encoded\")\n",
    "\n",
    "  for i in range(max_iter):\n",
    "    labelled = data.filter(\"label_encoded!=99\")\n",
    "    print(f\"Iteration {i} -- Labelled size {labelled.count()}\")\n",
    "\n",
    "    # Train classifier\n",
    "    model = nbc.fit(labelled)\n",
    "    \n",
    "    # Predict and get probabilities\n",
    "    preds = model.transform(data)\n",
    "    # add prob columns\n",
    "    preds = preds.withColumn('prob',F.array_max(vector_to_array(\"probability\")))\n",
    "\n",
    "    counts = class_distr(preds.filter((preds[\"label_encoded\"]==99) & (preds[\"prob\"] >= threshold)), \"prediction\")\n",
    "\n",
    "    # conditions to terminate the loop\n",
    "    if 0 in counts or len(counts) < num_classes:\n",
    "      break\n",
    "\n",
    "    to_add = instances_per_class(distr, counts)\n",
    "    \n",
    "    print(f\"Adding {to_add[0]} instances from class 0\")\n",
    "    print(f\"Adding {to_add[1]} instances from class 1\")\n",
    "    print(f\"Adding {to_add[2]} instances from class 2\")\n",
    "    print(f\"Adding {to_add[3]} instances from class 3\")\n",
    "    print(f\"Adding {to_add[4]} instances from class 4\")\n",
    "    print(f\"Adding {to_add[5]} instances from class 5\")\n",
    "  \n",
    "    # Computing number of instances to be added\n",
    "    pcts = to_add/counts\n",
    "    map_pct = F.create_map([F.lit(x) for x in chain(*enumerate(pcts))])\n",
    "\n",
    "    preds = preds.withColumn('pcts', map_pct[preds[\"prediction\"]])\n",
    "    preds = preds.withColumn(\"label_encoded\", \n",
    "                                     F.when((preds[\"label_encoded\"]==99)& (preds[\"prob\"]>=threshold)\n",
    "                                            &(F.rand(seed=2024) <= preds['pcts']),preds[\"prediction\"]).otherwise(preds[\"label_encoded\"])\n",
    "                                    )\n",
    "    \n",
    "    data = preds.select(\"features\", \"label_encoded\").persist()\n",
    "  return data.filter(\"label_encoded != 99\")\n",
    "\n",
    "\n",
    "\n",
    "\n"
   ]
  },
  {
   "cell_type": "code",
   "execution_count": 0,
   "metadata": {
    "application/vnd.databricks.v1+cell": {
     "cellMetadata": {
      "byteLimit": 2048000,
      "rowLimit": 10000
     },
     "inputWidgets": {},
     "nuid": "a21b00b4-4d0e-47f9-8d69-587d3be6ad78",
     "showTitle": false,
     "title": ""
    }
   },
   "outputs": [
    {
     "output_type": "stream",
     "name": "stdout",
     "output_type": "stream",
     "text": [
      "********THRESHOLD=0.81*********\nIteration 0 -- Labelled size 23743\nAdding 3718 instances from class 0\nAdding 1951 instances from class 1\nAdding 1626 instances from class 2\nAdding 1071 instances from class 3\nAdding 533 instances from class 4\nAdding 393 instances from class 5\nIteration 1 -- Labelled size 32907\nAdding 1095 instances from class 0\nAdding 575 instances from class 1\nAdding 479 instances from class 2\nAdding 315 instances from class 3\nAdding 157 instances from class 4\nAdding 116 instances from class 5\nIteration 2 -- Labelled size 35635\nAdding 293 instances from class 0\nAdding 154 instances from class 1\nAdding 128 instances from class 2\nAdding 84 instances from class 3\nAdding 42 instances from class 4\nAdding 31 instances from class 5\nIteration 3 -- Labelled size 36341\nAdding 70 instances from class 0\nAdding 37 instances from class 1\nAdding 31 instances from class 2\nAdding 20 instances from class 3\nAdding 10 instances from class 4\nAdding 7 instances from class 5\nIteration 4 -- Labelled size 36492\nAdding 35 instances from class 0\nAdding 18 instances from class 1\nAdding 15 instances from class 2\nAdding 10 instances from class 3\nAdding 5 instances from class 4\nAdding 4 instances from class 5\nIteration 5 -- Labelled size 36564\nAdding 28 instances from class 0\nAdding 15 instances from class 1\nAdding 12 instances from class 2\nAdding 8 instances from class 3\nAdding 4 instances from class 4\nAdding 3 instances from class 5\nIteration 6 -- Labelled size 36615\nAdding 21 instances from class 0\nAdding 11 instances from class 1\nAdding 9 instances from class 2\nAdding 6 instances from class 3\nAdding 3 instances from class 4\nAdding 2 instances from class 5\nIteration 7 -- Labelled size 36649\nAdding 7 instances from class 0\nAdding 4 instances from class 1\nAdding 3 instances from class 2\nAdding 2 instances from class 3\nAdding 1 instances from class 4\nAdding 1 instances from class 5\nIteration 8 -- Labelled size 36663\nSSL classifier accuracy 0.7944743935309974\n********THRESHOLD=0.84*********\nIteration 0 -- Labelled size 23743\nAdding 3439 instances from class 0\nAdding 1804 instances from class 1\nAdding 1504 instances from class 2\nAdding 990 instances from class 3\nAdding 493 instances from class 4\nAdding 363 instances from class 5\nIteration 1 -- Labelled size 32273\nAdding 1005 instances from class 0\nAdding 527 instances from class 1\nAdding 439 instances from class 2\nAdding 289 instances from class 3\nAdding 144 instances from class 4\nAdding 106 instances from class 5\nIteration 2 -- Labelled size 34721\nAdding 349 instances from class 0\nAdding 183 instances from class 1\nAdding 153 instances from class 2\nAdding 100 instances from class 3\nAdding 50 instances from class 4\nAdding 37 instances from class 5\nIteration 3 -- Labelled size 35571\nAdding 112 instances from class 0\nAdding 59 instances from class 1\nAdding 49 instances from class 2\nAdding 32 instances from class 3\nAdding 16 instances from class 4\nAdding 12 instances from class 5\nIteration 4 -- Labelled size 35832\nAdding 35 instances from class 0\nAdding 18 instances from class 1\nAdding 15 instances from class 2\nAdding 10 instances from class 3\nAdding 5 instances from class 4\nAdding 4 instances from class 5\nIteration 5 -- Labelled size 35903\nAdding 14 instances from class 0\nAdding 7 instances from class 1\nAdding 6 instances from class 2\nAdding 4 instances from class 3\nAdding 2 instances from class 4\nAdding 1 instances from class 5\nIteration 6 -- Labelled size 35924\nAdding 14 instances from class 0\nAdding 7 instances from class 1\nAdding 6 instances from class 2\nAdding 4 instances from class 3\nAdding 2 instances from class 4\nAdding 1 instances from class 5\nIteration 7 -- Labelled size 35941\nAdding 7 instances from class 0\nAdding 4 instances from class 1\nAdding 3 instances from class 2\nAdding 2 instances from class 3\nAdding 1 instances from class 4\nAdding 1 instances from class 5\nIteration 8 -- Labelled size 35953\nAdding 14 instances from class 0\nAdding 7 instances from class 1\nAdding 6 instances from class 2\nAdding 4 instances from class 3\nAdding 2 instances from class 4\nAdding 1 instances from class 5\nIteration 9 -- Labelled size 35969\nSSL classifier accuracy 0.79161051212938\n********THRESHOLD=0.87*********\nIteration 0 -- Labelled size 23743\nAdding 3209 instances from class 0\nAdding 1684 instances from class 1\nAdding 1403 instances from class 2\nAdding 924 instances from class 3\nAdding 460 instances from class 4\nAdding 339 instances from class 5\nIteration 1 -- Labelled size 31721\nAdding 851 instances from class 0\nAdding 447 instances from class 1\nAdding 372 instances from class 2\nAdding 245 instances from class 3\nAdding 122 instances from class 4\nAdding 90 instances from class 5\nIteration 2 -- Labelled size 33821\nAdding 230 instances from class 0\nAdding 121 instances from class 1\nAdding 101 instances from class 2\nAdding 66 instances from class 3\nAdding 33 instances from class 4\nAdding 24 instances from class 5\nIteration 3 -- Labelled size 34372\nAdding 126 instances from class 0\nAdding 66 instances from class 1\nAdding 55 instances from class 2\nAdding 36 instances from class 3\nAdding 18 instances from class 4\nAdding 13 instances from class 5\nIteration 4 -- Labelled size 34655\nAdding 49 instances from class 0\nAdding 26 instances from class 1\nAdding 21 instances from class 2\nAdding 14 instances from class 3\nAdding 7 instances from class 4\nAdding 5 instances from class 5\nIteration 5 -- Labelled size 34761\nAdding 21 instances from class 0\nAdding 11 instances from class 1\nAdding 9 instances from class 2\nAdding 6 instances from class 3\nAdding 3 instances from class 4\nAdding 2 instances from class 5\nIteration 6 -- Labelled size 34797\nAdding 14 instances from class 0\nAdding 7 instances from class 1\nAdding 6 instances from class 2\nAdding 4 instances from class 3\nAdding 2 instances from class 4\nAdding 1 instances from class 5\nIteration 7 -- Labelled size 34816\nAdding 7 instances from class 0\nAdding 4 instances from class 1\nAdding 3 instances from class 2\nAdding 2 instances from class 3\nAdding 1 instances from class 4\nAdding 1 instances from class 5\nIteration 8 -- Labelled size 34828\nSSL classifier accuracy 0.7951482479784366\n********THRESHOLD=0.9*********\nIteration 0 -- Labelled size 23743\nAdding 2839 instances from class 0\nAdding 1490 instances from class 1\nAdding 1242 instances from class 2\nAdding 818 instances from class 3\nAdding 407 instances from class 4\nAdding 300 instances from class 5\nIteration 1 -- Labelled size 30792\nAdding 816 instances from class 0\nAdding 428 instances from class 1\nAdding 357 instances from class 2\nAdding 235 instances from class 3\nAdding 117 instances from class 4\nAdding 86 instances from class 5\nIteration 2 -- Labelled size 32793\nAdding 237 instances from class 0\nAdding 124 instances from class 1\nAdding 104 instances from class 2\nAdding 68 instances from class 3\nAdding 34 instances from class 4\nAdding 25 instances from class 5\nIteration 3 -- Labelled size 33362\nAdding 77 instances from class 0\nAdding 40 instances from class 1\nAdding 34 instances from class 2\nAdding 22 instances from class 3\nAdding 11 instances from class 4\nAdding 8 instances from class 5\nIteration 4 -- Labelled size 33548\nAdding 42 instances from class 0\nAdding 22 instances from class 1\nAdding 18 instances from class 2\nAdding 12 instances from class 3\nAdding 6 instances from class 4\nAdding 4 instances from class 5\nIteration 5 -- Labelled size 33635\nAdding 21 instances from class 0\nAdding 11 instances from class 1\nAdding 9 instances from class 2\nAdding 6 instances from class 3\nAdding 3 instances from class 4\nAdding 2 instances from class 5\nIteration 6 -- Labelled size 33670\nSSL classifier accuracy 0.7996967654986523\n********THRESHOLD=0.93*********\nIteration 0 -- Labelled size 23743\nAdding 2351 instances from class 0\nAdding 1233 instances from class 1\nAdding 1028 instances from class 2\nAdding 677 instances from class 3\nAdding 337 instances from class 4\nAdding 248 instances from class 5\nIteration 1 -- Labelled size 29562\nAdding 879 instances from class 0\nAdding 461 instances from class 1\nAdding 384 instances from class 2\nAdding 253 instances from class 3\nAdding 126 instances from class 4\nAdding 93 instances from class 5\nIteration 2 -- Labelled size 31735\nAdding 188 instances from class 0\nAdding 99 instances from class 1\nAdding 82 instances from class 2\nAdding 54 instances from class 3\nAdding 27 instances from class 4\nAdding 20 instances from class 5\nIteration 3 -- Labelled size 32175\nAdding 98 instances from class 0\nAdding 51 instances from class 1\nAdding 43 instances from class 2\nAdding 28 instances from class 3\nAdding 14 instances from class 4\nAdding 10 instances from class 5\nIteration 4 -- Labelled size 32389\nAdding 21 instances from class 0\nAdding 11 instances from class 1\nAdding 9 instances from class 2\nAdding 6 instances from class 3\nAdding 3 instances from class 4\nAdding 2 instances from class 5\nIteration 5 -- Labelled size 32429\nAdding 28 instances from class 0\nAdding 15 instances from class 1\nAdding 12 instances from class 2\nAdding 8 instances from class 3\nAdding 4 instances from class 4\nAdding 3 instances from class 5\nIteration 6 -- Labelled size 32484\nSSL classifier accuracy 0.8022237196765498\n********THRESHOLD=0.96*********\nIteration 0 -- Labelled size 23743\nAdding 1765 instances from class 0\nAdding 926 instances from class 1\nAdding 772 instances from class 2\nAdding 508 instances from class 3\nAdding 253 instances from class 4\nAdding 186 instances from class 5\nIteration 1 -- Labelled size 28093\nAdding 698 instances from class 0\nAdding 366 instances from class 1\nAdding 305 instances from class 2\nAdding 201 instances from class 3\nAdding 100 instances from class 4\nAdding 74 instances from class 5\nIteration 2 -- Labelled size 29806\nAdding 272 instances from class 0\nAdding 143 instances from class 1\nAdding 119 instances from class 2\nAdding 78 instances from class 3\nAdding 39 instances from class 4\nAdding 29 instances from class 5\nIteration 3 -- Labelled size 30431\nAdding 84 instances from class 0\nAdding 44 instances from class 1\nAdding 37 instances from class 2\nAdding 24 instances from class 3\nAdding 12 instances from class 4\nAdding 9 instances from class 5\nIteration 4 -- Labelled size 30624\nAdding 28 instances from class 0\nAdding 15 instances from class 1\nAdding 12 instances from class 2\nAdding 8 instances from class 3\nAdding 4 instances from class 4\nAdding 3 instances from class 5\nIteration 5 -- Labelled size 30686\nAdding 7 instances from class 0\nAdding 4 instances from class 1\nAdding 3 instances from class 2\nAdding 2 instances from class 3\nAdding 1 instances from class 4\nAdding 1 instances from class 5\nIteration 6 -- Labelled size 30703\nAdding 7 instances from class 0\nAdding 4 instances from class 1\nAdding 3 instances from class 2\nAdding 2 instances from class 3\nAdding 1 instances from class 4\nAdding 1 instances from class 5\nIteration 7 -- Labelled size 30716\nSSL classifier accuracy 0.8032345013477089\n********THRESHOLD=0.99*********\nIteration 0 -- Labelled size 23743\nAdding 928 instances from class 0\nAdding 487 instances from class 1\nAdding 406 instances from class 2\nAdding 267 instances from class 3\nAdding 133 instances from class 4\nAdding 98 instances from class 5\nIteration 1 -- Labelled size 26056\nAdding 363 instances from class 0\nAdding 190 instances from class 1\nAdding 159 instances from class 2\nAdding 104 instances from class 3\nAdding 52 instances from class 4\nAdding 38 instances from class 5\nIteration 2 -- Labelled size 26913\n"
     ]
    }
   ],
   "source": [
    "# Perform self supervised learning over different thresholds\n",
    "# WARNING!!!! -- It may not be possible to replicate results for computation time\n",
    "thresholds = [0.81,0.84, 0.87, 0.90, 0.93, 0.96, 0.99]\n",
    "times = []\n",
    "evaluations = []\n",
    "instances_added = []\n",
    "for t in thresholds:\n",
    "  print(f\"********THRESHOLD={t}*********\")\n",
    "  start_time = time.time()\n",
    "  labelled_big = self_training(df_all_features, threshold=t)\n",
    "  # labelled_big.persist() # cache\n",
    "  model = classifier.fit(labelled_big)\n",
    "  end_time = time.time()\n",
    "  processing_time = end_time - start_time\n",
    "  times.append(processing_time)\n",
    "\n",
    "  size = labelled_big.count() - df_train_pd.shape[0]\n",
    "  instances_added.append(size)\n",
    "\n",
    "  model = classifier.fit(labelled_big)\n",
    "  pred2 = model.transform(df_test_features)\n",
    "  accuracy = evaluator.evaluate(pred2)\n",
    "  evaluations.append(accuracy)\n",
    "  labelled_big#.unpersist() # remove from cache\n",
    "  print(f\"SSL classifier accuracy {accuracy}\")"
   ]
  },
  {
   "cell_type": "code",
   "execution_count": 0,
   "metadata": {
    "application/vnd.databricks.v1+cell": {
     "cellMetadata": {
      "byteLimit": 2048000,
      "rowLimit": 10000
     },
     "inputWidgets": {},
     "nuid": "e7f5211e-ca40-4856-b7ce-e552a56b21cb",
     "showTitle": false,
     "title": ""
    }
   },
   "outputs": [
    {
     "output_type": "execute_result",
     "data": {
      "text/html": [
       "<div>\n",
       "<style scoped>\n",
       "    .dataframe tbody tr th:only-of-type {\n",
       "        vertical-align: middle;\n",
       "    }\n",
       "\n",
       "    .dataframe tbody tr th {\n",
       "        vertical-align: top;\n",
       "    }\n",
       "\n",
       "    .dataframe thead th {\n",
       "        text-align: right;\n",
       "    }\n",
       "</style>\n",
       "<table border=\"1\" class=\"dataframe\">\n",
       "  <thead>\n",
       "    <tr style=\"text-align: right;\">\n",
       "      <th></th>\n",
       "      <th>threshold</th>\n",
       "      <th>training time</th>\n",
       "      <th>accuracy</th>\n",
       "      <th>instances added</th>\n",
       "    </tr>\n",
       "  </thead>\n",
       "  <tbody>\n",
       "    <tr>\n",
       "      <th>0</th>\n",
       "      <td>0.81</td>\n",
       "      <td>53.487681</td>\n",
       "      <td>0.795485</td>\n",
       "      <td>13800</td>\n",
       "    </tr>\n",
       "    <tr>\n",
       "      <th>1</th>\n",
       "      <td>0.84</td>\n",
       "      <td>92.015816</td>\n",
       "      <td>0.794137</td>\n",
       "      <td>12976</td>\n",
       "    </tr>\n",
       "    <tr>\n",
       "      <th>2</th>\n",
       "      <td>0.87</td>\n",
       "      <td>45.426701</td>\n",
       "      <td>0.794137</td>\n",
       "      <td>12299</td>\n",
       "    </tr>\n",
       "    <tr>\n",
       "      <th>3</th>\n",
       "      <td>0.90</td>\n",
       "      <td>40.988782</td>\n",
       "      <td>0.793801</td>\n",
       "      <td>10956</td>\n",
       "    </tr>\n",
       "    <tr>\n",
       "      <th>4</th>\n",
       "      <td>0.93</td>\n",
       "      <td>35.522616</td>\n",
       "      <td>0.802392</td>\n",
       "      <td>9463</td>\n",
       "    </tr>\n",
       "    <tr>\n",
       "      <th>5</th>\n",
       "      <td>0.96</td>\n",
       "      <td>41.258299</td>\n",
       "      <td>0.798518</td>\n",
       "      <td>8205</td>\n",
       "    </tr>\n",
       "    <tr>\n",
       "      <th>6</th>\n",
       "      <td>0.99</td>\n",
       "      <td>45.649768</td>\n",
       "      <td>0.811995</td>\n",
       "      <td>4203</td>\n",
       "    </tr>\n",
       "  </tbody>\n",
       "</table>\n",
       "</div>"
      ],
      "text/plain": [
       "   threshold  training time  accuracy  instances added\n",
       "0       0.81      53.487681  0.795485            13800\n",
       "1       0.84      92.015816  0.794137            12976\n",
       "2       0.87      45.426701  0.794137            12299\n",
       "3       0.90      40.988782  0.793801            10956\n",
       "4       0.93      35.522616  0.802392             9463\n",
       "5       0.96      41.258299  0.798518             8205\n",
       "6       0.99      45.649768  0.811995             4203"
      ]
     },
     "execution_count": 101,
     "metadata": {},
     "output_type": "execute_result"
    },
    {
     "output_type": "display_data",
     "data": {
      "text/plain": [
       "\u001B[0;31m---------------------------------------------------------------------------\u001B[0m\n",
       "\u001B[0;31mPy4JJavaError\u001B[0m                             Traceback (most recent call last)\n",
       "File \u001B[0;32m<command-4281566180897832>, line 53\u001B[0m\n",
       "\u001B[1;32m     49\u001B[0m df \u001B[38;5;241m=\u001B[39m df\u001B[38;5;241m.\u001B[39mwithColumn(\u001B[38;5;124m\"\u001B[39m\u001B[38;5;124mtokens\u001B[39m\u001B[38;5;124m\"\u001B[39m, lemmatize_word_udf(F\u001B[38;5;241m.\u001B[39mcol(\u001B[38;5;124m\"\u001B[39m\u001B[38;5;124mtokens\u001B[39m\u001B[38;5;124m\"\u001B[39m)))\n",
       "\u001B[1;32m     52\u001B[0m df\u001B[38;5;241m.\u001B[39mpersist()\n",
       "\u001B[0;32m---> 53\u001B[0m df\u001B[38;5;241m.\u001B[39mshow(\u001B[38;5;241m5\u001B[39m)\n",
       "\n",
       "File \u001B[0;32m/databricks/spark/python/pyspark/instrumentation_utils.py:47\u001B[0m, in \u001B[0;36m_wrap_function.<locals>.wrapper\u001B[0;34m(*args, **kwargs)\u001B[0m\n",
       "\u001B[1;32m     45\u001B[0m start \u001B[38;5;241m=\u001B[39m time\u001B[38;5;241m.\u001B[39mperf_counter()\n",
       "\u001B[1;32m     46\u001B[0m \u001B[38;5;28;01mtry\u001B[39;00m:\n",
       "\u001B[0;32m---> 47\u001B[0m     res \u001B[38;5;241m=\u001B[39m \u001B[43mfunc\u001B[49m\u001B[43m(\u001B[49m\u001B[38;5;241;43m*\u001B[39;49m\u001B[43margs\u001B[49m\u001B[43m,\u001B[49m\u001B[43m \u001B[49m\u001B[38;5;241;43m*\u001B[39;49m\u001B[38;5;241;43m*\u001B[39;49m\u001B[43mkwargs\u001B[49m\u001B[43m)\u001B[49m\n",
       "\u001B[1;32m     48\u001B[0m     logger\u001B[38;5;241m.\u001B[39mlog_success(\n",
       "\u001B[1;32m     49\u001B[0m         module_name, class_name, function_name, time\u001B[38;5;241m.\u001B[39mperf_counter() \u001B[38;5;241m-\u001B[39m start, signature\n",
       "\u001B[1;32m     50\u001B[0m     )\n",
       "\u001B[1;32m     51\u001B[0m     \u001B[38;5;28;01mreturn\u001B[39;00m res\n",
       "\n",
       "File \u001B[0;32m/databricks/spark/python/pyspark/sql/dataframe.py:1061\u001B[0m, in \u001B[0;36mDataFrame.show\u001B[0;34m(self, n, truncate, vertical)\u001B[0m\n",
       "\u001B[1;32m    972\u001B[0m \u001B[38;5;28;01mdef\u001B[39;00m \u001B[38;5;21mshow\u001B[39m(\u001B[38;5;28mself\u001B[39m, n: \u001B[38;5;28mint\u001B[39m \u001B[38;5;241m=\u001B[39m \u001B[38;5;241m20\u001B[39m, truncate: Union[\u001B[38;5;28mbool\u001B[39m, \u001B[38;5;28mint\u001B[39m] \u001B[38;5;241m=\u001B[39m \u001B[38;5;28;01mTrue\u001B[39;00m, vertical: \u001B[38;5;28mbool\u001B[39m \u001B[38;5;241m=\u001B[39m \u001B[38;5;28;01mFalse\u001B[39;00m) \u001B[38;5;241m-\u001B[39m\u001B[38;5;241m>\u001B[39m \u001B[38;5;28;01mNone\u001B[39;00m:\n",
       "\u001B[1;32m    973\u001B[0m     \u001B[38;5;124;03m\"\"\"\u001B[39;00m\n",
       "\u001B[1;32m    974\u001B[0m \u001B[38;5;124;03m    Prints the first ``n`` rows of the DataFrame to the console.\u001B[39;00m\n",
       "\u001B[1;32m    975\u001B[0m \n",
       "\u001B[0;32m   (...)\u001B[0m\n",
       "\u001B[1;32m   1059\u001B[0m \u001B[38;5;124;03m    name | This is a super l...\u001B[39;00m\n",
       "\u001B[1;32m   1060\u001B[0m \u001B[38;5;124;03m    \"\"\"\u001B[39;00m\n",
       "\u001B[0;32m-> 1061\u001B[0m     \u001B[38;5;28mprint\u001B[39m(\u001B[38;5;28;43mself\u001B[39;49m\u001B[38;5;241;43m.\u001B[39;49m\u001B[43m_show_string\u001B[49m\u001B[43m(\u001B[49m\u001B[43mn\u001B[49m\u001B[43m,\u001B[49m\u001B[43m \u001B[49m\u001B[43mtruncate\u001B[49m\u001B[43m,\u001B[49m\u001B[43m \u001B[49m\u001B[43mvertical\u001B[49m\u001B[43m)\u001B[49m)\n",
       "\n",
       "File \u001B[0;32m/databricks/spark/python/pyspark/sql/dataframe.py:1079\u001B[0m, in \u001B[0;36mDataFrame._show_string\u001B[0;34m(self, n, truncate, vertical)\u001B[0m\n",
       "\u001B[1;32m   1073\u001B[0m     \u001B[38;5;28;01mraise\u001B[39;00m PySparkTypeError(\n",
       "\u001B[1;32m   1074\u001B[0m         error_class\u001B[38;5;241m=\u001B[39m\u001B[38;5;124m\"\u001B[39m\u001B[38;5;124mNOT_BOOL\u001B[39m\u001B[38;5;124m\"\u001B[39m,\n",
       "\u001B[1;32m   1075\u001B[0m         message_parameters\u001B[38;5;241m=\u001B[39m{\u001B[38;5;124m\"\u001B[39m\u001B[38;5;124marg_name\u001B[39m\u001B[38;5;124m\"\u001B[39m: \u001B[38;5;124m\"\u001B[39m\u001B[38;5;124mvertical\u001B[39m\u001B[38;5;124m\"\u001B[39m, \u001B[38;5;124m\"\u001B[39m\u001B[38;5;124marg_type\u001B[39m\u001B[38;5;124m\"\u001B[39m: \u001B[38;5;28mtype\u001B[39m(vertical)\u001B[38;5;241m.\u001B[39m\u001B[38;5;18m__name__\u001B[39m},\n",
       "\u001B[1;32m   1076\u001B[0m     )\n",
       "\u001B[1;32m   1078\u001B[0m \u001B[38;5;28;01mif\u001B[39;00m \u001B[38;5;28misinstance\u001B[39m(truncate, \u001B[38;5;28mbool\u001B[39m) \u001B[38;5;129;01mand\u001B[39;00m truncate:\n",
       "\u001B[0;32m-> 1079\u001B[0m     \u001B[38;5;28;01mreturn\u001B[39;00m \u001B[38;5;28;43mself\u001B[39;49m\u001B[38;5;241;43m.\u001B[39;49m\u001B[43m_jdf\u001B[49m\u001B[38;5;241;43m.\u001B[39;49m\u001B[43mshowString\u001B[49m\u001B[43m(\u001B[49m\u001B[43mn\u001B[49m\u001B[43m,\u001B[49m\u001B[43m \u001B[49m\u001B[38;5;241;43m20\u001B[39;49m\u001B[43m,\u001B[49m\u001B[43m \u001B[49m\u001B[43mvertical\u001B[49m\u001B[43m)\u001B[49m\n",
       "\u001B[1;32m   1080\u001B[0m \u001B[38;5;28;01melse\u001B[39;00m:\n",
       "\u001B[1;32m   1081\u001B[0m     \u001B[38;5;28;01mtry\u001B[39;00m:\n",
       "\n",
       "File \u001B[0;32m/databricks/spark/python/lib/py4j-0.10.9.7-src.zip/py4j/java_gateway.py:1355\u001B[0m, in \u001B[0;36mJavaMember.__call__\u001B[0;34m(self, *args)\u001B[0m\n",
       "\u001B[1;32m   1349\u001B[0m command \u001B[38;5;241m=\u001B[39m proto\u001B[38;5;241m.\u001B[39mCALL_COMMAND_NAME \u001B[38;5;241m+\u001B[39m\\\n",
       "\u001B[1;32m   1350\u001B[0m     \u001B[38;5;28mself\u001B[39m\u001B[38;5;241m.\u001B[39mcommand_header \u001B[38;5;241m+\u001B[39m\\\n",
       "\u001B[1;32m   1351\u001B[0m     args_command \u001B[38;5;241m+\u001B[39m\\\n",
       "\u001B[1;32m   1352\u001B[0m     proto\u001B[38;5;241m.\u001B[39mEND_COMMAND_PART\n",
       "\u001B[1;32m   1354\u001B[0m answer \u001B[38;5;241m=\u001B[39m \u001B[38;5;28mself\u001B[39m\u001B[38;5;241m.\u001B[39mgateway_client\u001B[38;5;241m.\u001B[39msend_command(command)\n",
       "\u001B[0;32m-> 1355\u001B[0m return_value \u001B[38;5;241m=\u001B[39m \u001B[43mget_return_value\u001B[49m\u001B[43m(\u001B[49m\n",
       "\u001B[1;32m   1356\u001B[0m \u001B[43m    \u001B[49m\u001B[43manswer\u001B[49m\u001B[43m,\u001B[49m\u001B[43m \u001B[49m\u001B[38;5;28;43mself\u001B[39;49m\u001B[38;5;241;43m.\u001B[39;49m\u001B[43mgateway_client\u001B[49m\u001B[43m,\u001B[49m\u001B[43m \u001B[49m\u001B[38;5;28;43mself\u001B[39;49m\u001B[38;5;241;43m.\u001B[39;49m\u001B[43mtarget_id\u001B[49m\u001B[43m,\u001B[49m\u001B[43m \u001B[49m\u001B[38;5;28;43mself\u001B[39;49m\u001B[38;5;241;43m.\u001B[39;49m\u001B[43mname\u001B[49m\u001B[43m)\u001B[49m\n",
       "\u001B[1;32m   1358\u001B[0m \u001B[38;5;28;01mfor\u001B[39;00m temp_arg \u001B[38;5;129;01min\u001B[39;00m temp_args:\n",
       "\u001B[1;32m   1359\u001B[0m     \u001B[38;5;28;01mif\u001B[39;00m \u001B[38;5;28mhasattr\u001B[39m(temp_arg, \u001B[38;5;124m\"\u001B[39m\u001B[38;5;124m_detach\u001B[39m\u001B[38;5;124m\"\u001B[39m):\n",
       "\n",
       "File \u001B[0;32m/databricks/spark/python/pyspark/errors/exceptions/captured.py:224\u001B[0m, in \u001B[0;36mcapture_sql_exception.<locals>.deco\u001B[0;34m(*a, **kw)\u001B[0m\n",
       "\u001B[1;32m    222\u001B[0m \u001B[38;5;28;01mdef\u001B[39;00m \u001B[38;5;21mdeco\u001B[39m(\u001B[38;5;241m*\u001B[39ma: Any, \u001B[38;5;241m*\u001B[39m\u001B[38;5;241m*\u001B[39mkw: Any) \u001B[38;5;241m-\u001B[39m\u001B[38;5;241m>\u001B[39m Any:\n",
       "\u001B[1;32m    223\u001B[0m     \u001B[38;5;28;01mtry\u001B[39;00m:\n",
       "\u001B[0;32m--> 224\u001B[0m         \u001B[38;5;28;01mreturn\u001B[39;00m \u001B[43mf\u001B[49m\u001B[43m(\u001B[49m\u001B[38;5;241;43m*\u001B[39;49m\u001B[43ma\u001B[49m\u001B[43m,\u001B[49m\u001B[43m \u001B[49m\u001B[38;5;241;43m*\u001B[39;49m\u001B[38;5;241;43m*\u001B[39;49m\u001B[43mkw\u001B[49m\u001B[43m)\u001B[49m\n",
       "\u001B[1;32m    225\u001B[0m     \u001B[38;5;28;01mexcept\u001B[39;00m Py4JJavaError \u001B[38;5;28;01mas\u001B[39;00m e:\n",
       "\u001B[1;32m    226\u001B[0m         converted \u001B[38;5;241m=\u001B[39m convert_exception(e\u001B[38;5;241m.\u001B[39mjava_exception)\n",
       "\n",
       "File \u001B[0;32m/databricks/spark/python/lib/py4j-0.10.9.7-src.zip/py4j/protocol.py:326\u001B[0m, in \u001B[0;36mget_return_value\u001B[0;34m(answer, gateway_client, target_id, name)\u001B[0m\n",
       "\u001B[1;32m    324\u001B[0m value \u001B[38;5;241m=\u001B[39m OUTPUT_CONVERTER[\u001B[38;5;28mtype\u001B[39m](answer[\u001B[38;5;241m2\u001B[39m:], gateway_client)\n",
       "\u001B[1;32m    325\u001B[0m \u001B[38;5;28;01mif\u001B[39;00m answer[\u001B[38;5;241m1\u001B[39m] \u001B[38;5;241m==\u001B[39m REFERENCE_TYPE:\n",
       "\u001B[0;32m--> 326\u001B[0m     \u001B[38;5;28;01mraise\u001B[39;00m Py4JJavaError(\n",
       "\u001B[1;32m    327\u001B[0m         \u001B[38;5;124m\"\u001B[39m\u001B[38;5;124mAn error occurred while calling \u001B[39m\u001B[38;5;132;01m{0}\u001B[39;00m\u001B[38;5;132;01m{1}\u001B[39;00m\u001B[38;5;132;01m{2}\u001B[39;00m\u001B[38;5;124m.\u001B[39m\u001B[38;5;130;01m\\n\u001B[39;00m\u001B[38;5;124m\"\u001B[39m\u001B[38;5;241m.\u001B[39m\n",
       "\u001B[1;32m    328\u001B[0m         \u001B[38;5;28mformat\u001B[39m(target_id, \u001B[38;5;124m\"\u001B[39m\u001B[38;5;124m.\u001B[39m\u001B[38;5;124m\"\u001B[39m, name), value)\n",
       "\u001B[1;32m    329\u001B[0m \u001B[38;5;28;01melse\u001B[39;00m:\n",
       "\u001B[1;32m    330\u001B[0m     \u001B[38;5;28;01mraise\u001B[39;00m Py4JError(\n",
       "\u001B[1;32m    331\u001B[0m         \u001B[38;5;124m\"\u001B[39m\u001B[38;5;124mAn error occurred while calling \u001B[39m\u001B[38;5;132;01m{0}\u001B[39;00m\u001B[38;5;132;01m{1}\u001B[39;00m\u001B[38;5;132;01m{2}\u001B[39;00m\u001B[38;5;124m. Trace:\u001B[39m\u001B[38;5;130;01m\\n\u001B[39;00m\u001B[38;5;132;01m{3}\u001B[39;00m\u001B[38;5;130;01m\\n\u001B[39;00m\u001B[38;5;124m\"\u001B[39m\u001B[38;5;241m.\u001B[39m\n",
       "\u001B[1;32m    332\u001B[0m         \u001B[38;5;28mformat\u001B[39m(target_id, \u001B[38;5;124m\"\u001B[39m\u001B[38;5;124m.\u001B[39m\u001B[38;5;124m\"\u001B[39m, name, value))\n",
       "\n",
       "\u001B[0;31mPy4JJavaError\u001B[0m: An error occurred while calling o2392.showString.\n",
       ": org.apache.spark.SparkException: Job aborted due to stage failure: Task 2 in stage 3139.0 failed 4 times, most recent failure: Lost task 2.3 in stage 3139.0 (TID 7948) (10.139.64.18 executor 33): ExecutorLostFailure (executor 33 exited caused by one of the running tasks) Reason: Command exited with code 137\n",
       "Driver stacktrace:\n",
       "\tat org.apache.spark.scheduler.DAGScheduler.failJobAndIndependentStages(DAGScheduler.scala:3870)\n",
       "\tat org.apache.spark.scheduler.DAGScheduler.$anonfun$abortStage$2(DAGScheduler.scala:3792)\n",
       "\tat org.apache.spark.scheduler.DAGScheduler.$anonfun$abortStage$2$adapted(DAGScheduler.scala:3779)\n",
       "\tat scala.collection.mutable.ResizableArray.foreach(ResizableArray.scala:62)\n",
       "\tat scala.collection.mutable.ResizableArray.foreach$(ResizableArray.scala:55)\n",
       "\tat scala.collection.mutable.ArrayBuffer.foreach(ArrayBuffer.scala:49)\n",
       "\tat org.apache.spark.scheduler.DAGScheduler.abortStage(DAGScheduler.scala:3779)\n",
       "\tat org.apache.spark.scheduler.DAGScheduler.$anonfun$handleTaskSetFailed$1(DAGScheduler.scala:1685)\n",
       "\tat org.apache.spark.scheduler.DAGScheduler.$anonfun$handleTaskSetFailed$1$adapted(DAGScheduler.scala:1670)\n",
       "\tat scala.Option.foreach(Option.scala:407)\n",
       "\tat org.apache.spark.scheduler.DAGScheduler.handleTaskSetFailed(DAGScheduler.scala:1670)\n",
       "\tat org.apache.spark.scheduler.DAGSchedulerEventProcessLoop.doOnReceive(DAGScheduler.scala:4116)\n",
       "\tat org.apache.spark.scheduler.DAGSchedulerEventProcessLoop.onReceive(DAGScheduler.scala:4028)\n",
       "\tat org.apache.spark.scheduler.DAGSchedulerEventProcessLoop.onReceive(DAGScheduler.scala:4016)\n",
       "\tat org.apache.spark.util.EventLoop$$anon$1.run(EventLoop.scala:54)\n"
      ]
     },
     "metadata": {
      "application/vnd.databricks.v1+output": {
       "addedWidgets": {},
       "arguments": {},
       "datasetInfos": [],
       "jupyterProps": {
        "ename": "Py4JJavaError",
        "evalue": "An error occurred while calling o2392.showString.\n: org.apache.spark.SparkException: Job aborted due to stage failure: Task 2 in stage 3139.0 failed 4 times, most recent failure: Lost task 2.3 in stage 3139.0 (TID 7948) (10.139.64.18 executor 33): ExecutorLostFailure (executor 33 exited caused by one of the running tasks) Reason: Command exited with code 137\nDriver stacktrace:\n\tat org.apache.spark.scheduler.DAGScheduler.failJobAndIndependentStages(DAGScheduler.scala:3870)\n\tat org.apache.spark.scheduler.DAGScheduler.$anonfun$abortStage$2(DAGScheduler.scala:3792)\n\tat org.apache.spark.scheduler.DAGScheduler.$anonfun$abortStage$2$adapted(DAGScheduler.scala:3779)\n\tat scala.collection.mutable.ResizableArray.foreach(ResizableArray.scala:62)\n\tat scala.collection.mutable.ResizableArray.foreach$(ResizableArray.scala:55)\n\tat scala.collection.mutable.ArrayBuffer.foreach(ArrayBuffer.scala:49)\n\tat org.apache.spark.scheduler.DAGScheduler.abortStage(DAGScheduler.scala:3779)\n\tat org.apache.spark.scheduler.DAGScheduler.$anonfun$handleTaskSetFailed$1(DAGScheduler.scala:1685)\n\tat org.apache.spark.scheduler.DAGScheduler.$anonfun$handleTaskSetFailed$1$adapted(DAGScheduler.scala:1670)\n\tat scala.Option.foreach(Option.scala:407)\n\tat org.apache.spark.scheduler.DAGScheduler.handleTaskSetFailed(DAGScheduler.scala:1670)\n\tat org.apache.spark.scheduler.DAGSchedulerEventProcessLoop.doOnReceive(DAGScheduler.scala:4116)\n\tat org.apache.spark.scheduler.DAGSchedulerEventProcessLoop.onReceive(DAGScheduler.scala:4028)\n\tat org.apache.spark.scheduler.DAGSchedulerEventProcessLoop.onReceive(DAGScheduler.scala:4016)\n\tat org.apache.spark.util.EventLoop$$anon$1.run(EventLoop.scala:54)\n"
       },
       "metadata": {
        "errorSummary": ""
       },
       "removedWidgets": [],
       "sqlProps": null,
       "stackFrames": [
        "\u001B[0;31m---------------------------------------------------------------------------\u001B[0m",
        "\u001B[0;31mPy4JJavaError\u001B[0m                             Traceback (most recent call last)",
        "File \u001B[0;32m<command-4281566180897832>, line 53\u001B[0m\n\u001B[1;32m     49\u001B[0m df \u001B[38;5;241m=\u001B[39m df\u001B[38;5;241m.\u001B[39mwithColumn(\u001B[38;5;124m\"\u001B[39m\u001B[38;5;124mtokens\u001B[39m\u001B[38;5;124m\"\u001B[39m, lemmatize_word_udf(F\u001B[38;5;241m.\u001B[39mcol(\u001B[38;5;124m\"\u001B[39m\u001B[38;5;124mtokens\u001B[39m\u001B[38;5;124m\"\u001B[39m)))\n\u001B[1;32m     52\u001B[0m df\u001B[38;5;241m.\u001B[39mpersist()\n\u001B[0;32m---> 53\u001B[0m df\u001B[38;5;241m.\u001B[39mshow(\u001B[38;5;241m5\u001B[39m)\n",
        "File \u001B[0;32m/databricks/spark/python/pyspark/instrumentation_utils.py:47\u001B[0m, in \u001B[0;36m_wrap_function.<locals>.wrapper\u001B[0;34m(*args, **kwargs)\u001B[0m\n\u001B[1;32m     45\u001B[0m start \u001B[38;5;241m=\u001B[39m time\u001B[38;5;241m.\u001B[39mperf_counter()\n\u001B[1;32m     46\u001B[0m \u001B[38;5;28;01mtry\u001B[39;00m:\n\u001B[0;32m---> 47\u001B[0m     res \u001B[38;5;241m=\u001B[39m \u001B[43mfunc\u001B[49m\u001B[43m(\u001B[49m\u001B[38;5;241;43m*\u001B[39;49m\u001B[43margs\u001B[49m\u001B[43m,\u001B[49m\u001B[43m \u001B[49m\u001B[38;5;241;43m*\u001B[39;49m\u001B[38;5;241;43m*\u001B[39;49m\u001B[43mkwargs\u001B[49m\u001B[43m)\u001B[49m\n\u001B[1;32m     48\u001B[0m     logger\u001B[38;5;241m.\u001B[39mlog_success(\n\u001B[1;32m     49\u001B[0m         module_name, class_name, function_name, time\u001B[38;5;241m.\u001B[39mperf_counter() \u001B[38;5;241m-\u001B[39m start, signature\n\u001B[1;32m     50\u001B[0m     )\n\u001B[1;32m     51\u001B[0m     \u001B[38;5;28;01mreturn\u001B[39;00m res\n",
        "File \u001B[0;32m/databricks/spark/python/pyspark/sql/dataframe.py:1061\u001B[0m, in \u001B[0;36mDataFrame.show\u001B[0;34m(self, n, truncate, vertical)\u001B[0m\n\u001B[1;32m    972\u001B[0m \u001B[38;5;28;01mdef\u001B[39;00m \u001B[38;5;21mshow\u001B[39m(\u001B[38;5;28mself\u001B[39m, n: \u001B[38;5;28mint\u001B[39m \u001B[38;5;241m=\u001B[39m \u001B[38;5;241m20\u001B[39m, truncate: Union[\u001B[38;5;28mbool\u001B[39m, \u001B[38;5;28mint\u001B[39m] \u001B[38;5;241m=\u001B[39m \u001B[38;5;28;01mTrue\u001B[39;00m, vertical: \u001B[38;5;28mbool\u001B[39m \u001B[38;5;241m=\u001B[39m \u001B[38;5;28;01mFalse\u001B[39;00m) \u001B[38;5;241m-\u001B[39m\u001B[38;5;241m>\u001B[39m \u001B[38;5;28;01mNone\u001B[39;00m:\n\u001B[1;32m    973\u001B[0m     \u001B[38;5;124;03m\"\"\"\u001B[39;00m\n\u001B[1;32m    974\u001B[0m \u001B[38;5;124;03m    Prints the first ``n`` rows of the DataFrame to the console.\u001B[39;00m\n\u001B[1;32m    975\u001B[0m \n\u001B[0;32m   (...)\u001B[0m\n\u001B[1;32m   1059\u001B[0m \u001B[38;5;124;03m    name | This is a super l...\u001B[39;00m\n\u001B[1;32m   1060\u001B[0m \u001B[38;5;124;03m    \"\"\"\u001B[39;00m\n\u001B[0;32m-> 1061\u001B[0m     \u001B[38;5;28mprint\u001B[39m(\u001B[38;5;28;43mself\u001B[39;49m\u001B[38;5;241;43m.\u001B[39;49m\u001B[43m_show_string\u001B[49m\u001B[43m(\u001B[49m\u001B[43mn\u001B[49m\u001B[43m,\u001B[49m\u001B[43m \u001B[49m\u001B[43mtruncate\u001B[49m\u001B[43m,\u001B[49m\u001B[43m \u001B[49m\u001B[43mvertical\u001B[49m\u001B[43m)\u001B[49m)\n",
        "File \u001B[0;32m/databricks/spark/python/pyspark/sql/dataframe.py:1079\u001B[0m, in \u001B[0;36mDataFrame._show_string\u001B[0;34m(self, n, truncate, vertical)\u001B[0m\n\u001B[1;32m   1073\u001B[0m     \u001B[38;5;28;01mraise\u001B[39;00m PySparkTypeError(\n\u001B[1;32m   1074\u001B[0m         error_class\u001B[38;5;241m=\u001B[39m\u001B[38;5;124m\"\u001B[39m\u001B[38;5;124mNOT_BOOL\u001B[39m\u001B[38;5;124m\"\u001B[39m,\n\u001B[1;32m   1075\u001B[0m         message_parameters\u001B[38;5;241m=\u001B[39m{\u001B[38;5;124m\"\u001B[39m\u001B[38;5;124marg_name\u001B[39m\u001B[38;5;124m\"\u001B[39m: \u001B[38;5;124m\"\u001B[39m\u001B[38;5;124mvertical\u001B[39m\u001B[38;5;124m\"\u001B[39m, \u001B[38;5;124m\"\u001B[39m\u001B[38;5;124marg_type\u001B[39m\u001B[38;5;124m\"\u001B[39m: \u001B[38;5;28mtype\u001B[39m(vertical)\u001B[38;5;241m.\u001B[39m\u001B[38;5;18m__name__\u001B[39m},\n\u001B[1;32m   1076\u001B[0m     )\n\u001B[1;32m   1078\u001B[0m \u001B[38;5;28;01mif\u001B[39;00m \u001B[38;5;28misinstance\u001B[39m(truncate, \u001B[38;5;28mbool\u001B[39m) \u001B[38;5;129;01mand\u001B[39;00m truncate:\n\u001B[0;32m-> 1079\u001B[0m     \u001B[38;5;28;01mreturn\u001B[39;00m \u001B[38;5;28;43mself\u001B[39;49m\u001B[38;5;241;43m.\u001B[39;49m\u001B[43m_jdf\u001B[49m\u001B[38;5;241;43m.\u001B[39;49m\u001B[43mshowString\u001B[49m\u001B[43m(\u001B[49m\u001B[43mn\u001B[49m\u001B[43m,\u001B[49m\u001B[43m \u001B[49m\u001B[38;5;241;43m20\u001B[39;49m\u001B[43m,\u001B[49m\u001B[43m \u001B[49m\u001B[43mvertical\u001B[49m\u001B[43m)\u001B[49m\n\u001B[1;32m   1080\u001B[0m \u001B[38;5;28;01melse\u001B[39;00m:\n\u001B[1;32m   1081\u001B[0m     \u001B[38;5;28;01mtry\u001B[39;00m:\n",
        "File \u001B[0;32m/databricks/spark/python/lib/py4j-0.10.9.7-src.zip/py4j/java_gateway.py:1355\u001B[0m, in \u001B[0;36mJavaMember.__call__\u001B[0;34m(self, *args)\u001B[0m\n\u001B[1;32m   1349\u001B[0m command \u001B[38;5;241m=\u001B[39m proto\u001B[38;5;241m.\u001B[39mCALL_COMMAND_NAME \u001B[38;5;241m+\u001B[39m\\\n\u001B[1;32m   1350\u001B[0m     \u001B[38;5;28mself\u001B[39m\u001B[38;5;241m.\u001B[39mcommand_header \u001B[38;5;241m+\u001B[39m\\\n\u001B[1;32m   1351\u001B[0m     args_command \u001B[38;5;241m+\u001B[39m\\\n\u001B[1;32m   1352\u001B[0m     proto\u001B[38;5;241m.\u001B[39mEND_COMMAND_PART\n\u001B[1;32m   1354\u001B[0m answer \u001B[38;5;241m=\u001B[39m \u001B[38;5;28mself\u001B[39m\u001B[38;5;241m.\u001B[39mgateway_client\u001B[38;5;241m.\u001B[39msend_command(command)\n\u001B[0;32m-> 1355\u001B[0m return_value \u001B[38;5;241m=\u001B[39m \u001B[43mget_return_value\u001B[49m\u001B[43m(\u001B[49m\n\u001B[1;32m   1356\u001B[0m \u001B[43m    \u001B[49m\u001B[43manswer\u001B[49m\u001B[43m,\u001B[49m\u001B[43m \u001B[49m\u001B[38;5;28;43mself\u001B[39;49m\u001B[38;5;241;43m.\u001B[39;49m\u001B[43mgateway_client\u001B[49m\u001B[43m,\u001B[49m\u001B[43m \u001B[49m\u001B[38;5;28;43mself\u001B[39;49m\u001B[38;5;241;43m.\u001B[39;49m\u001B[43mtarget_id\u001B[49m\u001B[43m,\u001B[49m\u001B[43m \u001B[49m\u001B[38;5;28;43mself\u001B[39;49m\u001B[38;5;241;43m.\u001B[39;49m\u001B[43mname\u001B[49m\u001B[43m)\u001B[49m\n\u001B[1;32m   1358\u001B[0m \u001B[38;5;28;01mfor\u001B[39;00m temp_arg \u001B[38;5;129;01min\u001B[39;00m temp_args:\n\u001B[1;32m   1359\u001B[0m     \u001B[38;5;28;01mif\u001B[39;00m \u001B[38;5;28mhasattr\u001B[39m(temp_arg, \u001B[38;5;124m\"\u001B[39m\u001B[38;5;124m_detach\u001B[39m\u001B[38;5;124m\"\u001B[39m):\n",
        "File \u001B[0;32m/databricks/spark/python/pyspark/errors/exceptions/captured.py:224\u001B[0m, in \u001B[0;36mcapture_sql_exception.<locals>.deco\u001B[0;34m(*a, **kw)\u001B[0m\n\u001B[1;32m    222\u001B[0m \u001B[38;5;28;01mdef\u001B[39;00m \u001B[38;5;21mdeco\u001B[39m(\u001B[38;5;241m*\u001B[39ma: Any, \u001B[38;5;241m*\u001B[39m\u001B[38;5;241m*\u001B[39mkw: Any) \u001B[38;5;241m-\u001B[39m\u001B[38;5;241m>\u001B[39m Any:\n\u001B[1;32m    223\u001B[0m     \u001B[38;5;28;01mtry\u001B[39;00m:\n\u001B[0;32m--> 224\u001B[0m         \u001B[38;5;28;01mreturn\u001B[39;00m \u001B[43mf\u001B[49m\u001B[43m(\u001B[49m\u001B[38;5;241;43m*\u001B[39;49m\u001B[43ma\u001B[49m\u001B[43m,\u001B[49m\u001B[43m \u001B[49m\u001B[38;5;241;43m*\u001B[39;49m\u001B[38;5;241;43m*\u001B[39;49m\u001B[43mkw\u001B[49m\u001B[43m)\u001B[49m\n\u001B[1;32m    225\u001B[0m     \u001B[38;5;28;01mexcept\u001B[39;00m Py4JJavaError \u001B[38;5;28;01mas\u001B[39;00m e:\n\u001B[1;32m    226\u001B[0m         converted \u001B[38;5;241m=\u001B[39m convert_exception(e\u001B[38;5;241m.\u001B[39mjava_exception)\n",
        "File \u001B[0;32m/databricks/spark/python/lib/py4j-0.10.9.7-src.zip/py4j/protocol.py:326\u001B[0m, in \u001B[0;36mget_return_value\u001B[0;34m(answer, gateway_client, target_id, name)\u001B[0m\n\u001B[1;32m    324\u001B[0m value \u001B[38;5;241m=\u001B[39m OUTPUT_CONVERTER[\u001B[38;5;28mtype\u001B[39m](answer[\u001B[38;5;241m2\u001B[39m:], gateway_client)\n\u001B[1;32m    325\u001B[0m \u001B[38;5;28;01mif\u001B[39;00m answer[\u001B[38;5;241m1\u001B[39m] \u001B[38;5;241m==\u001B[39m REFERENCE_TYPE:\n\u001B[0;32m--> 326\u001B[0m     \u001B[38;5;28;01mraise\u001B[39;00m Py4JJavaError(\n\u001B[1;32m    327\u001B[0m         \u001B[38;5;124m\"\u001B[39m\u001B[38;5;124mAn error occurred while calling \u001B[39m\u001B[38;5;132;01m{0}\u001B[39;00m\u001B[38;5;132;01m{1}\u001B[39;00m\u001B[38;5;132;01m{2}\u001B[39;00m\u001B[38;5;124m.\u001B[39m\u001B[38;5;130;01m\\n\u001B[39;00m\u001B[38;5;124m\"\u001B[39m\u001B[38;5;241m.\u001B[39m\n\u001B[1;32m    328\u001B[0m         \u001B[38;5;28mformat\u001B[39m(target_id, \u001B[38;5;124m\"\u001B[39m\u001B[38;5;124m.\u001B[39m\u001B[38;5;124m\"\u001B[39m, name), value)\n\u001B[1;32m    329\u001B[0m \u001B[38;5;28;01melse\u001B[39;00m:\n\u001B[1;32m    330\u001B[0m     \u001B[38;5;28;01mraise\u001B[39;00m Py4JError(\n\u001B[1;32m    331\u001B[0m         \u001B[38;5;124m\"\u001B[39m\u001B[38;5;124mAn error occurred while calling \u001B[39m\u001B[38;5;132;01m{0}\u001B[39;00m\u001B[38;5;132;01m{1}\u001B[39;00m\u001B[38;5;132;01m{2}\u001B[39;00m\u001B[38;5;124m. Trace:\u001B[39m\u001B[38;5;130;01m\\n\u001B[39;00m\u001B[38;5;132;01m{3}\u001B[39;00m\u001B[38;5;130;01m\\n\u001B[39;00m\u001B[38;5;124m\"\u001B[39m\u001B[38;5;241m.\u001B[39m\n\u001B[1;32m    332\u001B[0m         \u001B[38;5;28mformat\u001B[39m(target_id, \u001B[38;5;124m\"\u001B[39m\u001B[38;5;124m.\u001B[39m\u001B[38;5;124m\"\u001B[39m, name, value))\n",
        "\u001B[0;31mPy4JJavaError\u001B[0m: An error occurred while calling o2392.showString.\n: org.apache.spark.SparkException: Job aborted due to stage failure: Task 2 in stage 3139.0 failed 4 times, most recent failure: Lost task 2.3 in stage 3139.0 (TID 7948) (10.139.64.18 executor 33): ExecutorLostFailure (executor 33 exited caused by one of the running tasks) Reason: Command exited with code 137\nDriver stacktrace:\n\tat org.apache.spark.scheduler.DAGScheduler.failJobAndIndependentStages(DAGScheduler.scala:3870)\n\tat org.apache.spark.scheduler.DAGScheduler.$anonfun$abortStage$2(DAGScheduler.scala:3792)\n\tat org.apache.spark.scheduler.DAGScheduler.$anonfun$abortStage$2$adapted(DAGScheduler.scala:3779)\n\tat scala.collection.mutable.ResizableArray.foreach(ResizableArray.scala:62)\n\tat scala.collection.mutable.ResizableArray.foreach$(ResizableArray.scala:55)\n\tat scala.collection.mutable.ArrayBuffer.foreach(ArrayBuffer.scala:49)\n\tat org.apache.spark.scheduler.DAGScheduler.abortStage(DAGScheduler.scala:3779)\n\tat org.apache.spark.scheduler.DAGScheduler.$anonfun$handleTaskSetFailed$1(DAGScheduler.scala:1685)\n\tat org.apache.spark.scheduler.DAGScheduler.$anonfun$handleTaskSetFailed$1$adapted(DAGScheduler.scala:1670)\n\tat scala.Option.foreach(Option.scala:407)\n\tat org.apache.spark.scheduler.DAGScheduler.handleTaskSetFailed(DAGScheduler.scala:1670)\n\tat org.apache.spark.scheduler.DAGSchedulerEventProcessLoop.doOnReceive(DAGScheduler.scala:4116)\n\tat org.apache.spark.scheduler.DAGSchedulerEventProcessLoop.onReceive(DAGScheduler.scala:4028)\n\tat org.apache.spark.scheduler.DAGSchedulerEventProcessLoop.onReceive(DAGScheduler.scala:4016)\n\tat org.apache.spark.util.EventLoop$$anon$1.run(EventLoop.scala:54)\n"
       ],
       "type": "baseError"
      }
     },
     "output_type": "display_data"
    }
   ],
   "source": [
    "results = pd.DataFrame({'threshold':thresholds,'training time':times, 'accuracy':evaluations, 'instances added': instances_added})\n",
    "results"
   ]
  },
  {
   "cell_type": "code",
   "execution_count": 0,
   "metadata": {
    "application/vnd.databricks.v1+cell": {
     "cellMetadata": {
      "byteLimit": 2048000,
      "rowLimit": 10000
     },
     "inputWidgets": {},
     "nuid": "3d530d38-ab96-46f8-ad53-5f541c3d08a9",
     "showTitle": false,
     "title": ""
    }
   },
   "outputs": [
    {
     "output_type": "display_data",
     "data": {
      "text/plain": [
       "\u001B[0;31m---------------------------------------------------------------------------\u001B[0m\n",
       "\u001B[0;31mPy4JJavaError\u001B[0m                             Traceback (most recent call last)\n",
       "File \u001B[0;32m<command-4281566180897832>, line 53\u001B[0m\n",
       "\u001B[1;32m     49\u001B[0m df \u001B[38;5;241m=\u001B[39m df\u001B[38;5;241m.\u001B[39mwithColumn(\u001B[38;5;124m\"\u001B[39m\u001B[38;5;124mtokens\u001B[39m\u001B[38;5;124m\"\u001B[39m, lemmatize_word_udf(F\u001B[38;5;241m.\u001B[39mcol(\u001B[38;5;124m\"\u001B[39m\u001B[38;5;124mtokens\u001B[39m\u001B[38;5;124m\"\u001B[39m)))\n",
       "\u001B[1;32m     52\u001B[0m df\u001B[38;5;241m.\u001B[39mpersist()\n",
       "\u001B[0;32m---> 53\u001B[0m df\u001B[38;5;241m.\u001B[39mshow(\u001B[38;5;241m5\u001B[39m)\n",
       "\n",
       "File \u001B[0;32m/databricks/spark/python/pyspark/instrumentation_utils.py:47\u001B[0m, in \u001B[0;36m_wrap_function.<locals>.wrapper\u001B[0;34m(*args, **kwargs)\u001B[0m\n",
       "\u001B[1;32m     45\u001B[0m start \u001B[38;5;241m=\u001B[39m time\u001B[38;5;241m.\u001B[39mperf_counter()\n",
       "\u001B[1;32m     46\u001B[0m \u001B[38;5;28;01mtry\u001B[39;00m:\n",
       "\u001B[0;32m---> 47\u001B[0m     res \u001B[38;5;241m=\u001B[39m \u001B[43mfunc\u001B[49m\u001B[43m(\u001B[49m\u001B[38;5;241;43m*\u001B[39;49m\u001B[43margs\u001B[49m\u001B[43m,\u001B[49m\u001B[43m \u001B[49m\u001B[38;5;241;43m*\u001B[39;49m\u001B[38;5;241;43m*\u001B[39;49m\u001B[43mkwargs\u001B[49m\u001B[43m)\u001B[49m\n",
       "\u001B[1;32m     48\u001B[0m     logger\u001B[38;5;241m.\u001B[39mlog_success(\n",
       "\u001B[1;32m     49\u001B[0m         module_name, class_name, function_name, time\u001B[38;5;241m.\u001B[39mperf_counter() \u001B[38;5;241m-\u001B[39m start, signature\n",
       "\u001B[1;32m     50\u001B[0m     )\n",
       "\u001B[1;32m     51\u001B[0m     \u001B[38;5;28;01mreturn\u001B[39;00m res\n",
       "\n",
       "File \u001B[0;32m/databricks/spark/python/pyspark/sql/dataframe.py:1061\u001B[0m, in \u001B[0;36mDataFrame.show\u001B[0;34m(self, n, truncate, vertical)\u001B[0m\n",
       "\u001B[1;32m    972\u001B[0m \u001B[38;5;28;01mdef\u001B[39;00m \u001B[38;5;21mshow\u001B[39m(\u001B[38;5;28mself\u001B[39m, n: \u001B[38;5;28mint\u001B[39m \u001B[38;5;241m=\u001B[39m \u001B[38;5;241m20\u001B[39m, truncate: Union[\u001B[38;5;28mbool\u001B[39m, \u001B[38;5;28mint\u001B[39m] \u001B[38;5;241m=\u001B[39m \u001B[38;5;28;01mTrue\u001B[39;00m, vertical: \u001B[38;5;28mbool\u001B[39m \u001B[38;5;241m=\u001B[39m \u001B[38;5;28;01mFalse\u001B[39;00m) \u001B[38;5;241m-\u001B[39m\u001B[38;5;241m>\u001B[39m \u001B[38;5;28;01mNone\u001B[39;00m:\n",
       "\u001B[1;32m    973\u001B[0m     \u001B[38;5;124;03m\"\"\"\u001B[39;00m\n",
       "\u001B[1;32m    974\u001B[0m \u001B[38;5;124;03m    Prints the first ``n`` rows of the DataFrame to the console.\u001B[39;00m\n",
       "\u001B[1;32m    975\u001B[0m \n",
       "\u001B[0;32m   (...)\u001B[0m\n",
       "\u001B[1;32m   1059\u001B[0m \u001B[38;5;124;03m    name | This is a super l...\u001B[39;00m\n",
       "\u001B[1;32m   1060\u001B[0m \u001B[38;5;124;03m    \"\"\"\u001B[39;00m\n",
       "\u001B[0;32m-> 1061\u001B[0m     \u001B[38;5;28mprint\u001B[39m(\u001B[38;5;28;43mself\u001B[39;49m\u001B[38;5;241;43m.\u001B[39;49m\u001B[43m_show_string\u001B[49m\u001B[43m(\u001B[49m\u001B[43mn\u001B[49m\u001B[43m,\u001B[49m\u001B[43m \u001B[49m\u001B[43mtruncate\u001B[49m\u001B[43m,\u001B[49m\u001B[43m \u001B[49m\u001B[43mvertical\u001B[49m\u001B[43m)\u001B[49m)\n",
       "\n",
       "File \u001B[0;32m/databricks/spark/python/pyspark/sql/dataframe.py:1079\u001B[0m, in \u001B[0;36mDataFrame._show_string\u001B[0;34m(self, n, truncate, vertical)\u001B[0m\n",
       "\u001B[1;32m   1073\u001B[0m     \u001B[38;5;28;01mraise\u001B[39;00m PySparkTypeError(\n",
       "\u001B[1;32m   1074\u001B[0m         error_class\u001B[38;5;241m=\u001B[39m\u001B[38;5;124m\"\u001B[39m\u001B[38;5;124mNOT_BOOL\u001B[39m\u001B[38;5;124m\"\u001B[39m,\n",
       "\u001B[1;32m   1075\u001B[0m         message_parameters\u001B[38;5;241m=\u001B[39m{\u001B[38;5;124m\"\u001B[39m\u001B[38;5;124marg_name\u001B[39m\u001B[38;5;124m\"\u001B[39m: \u001B[38;5;124m\"\u001B[39m\u001B[38;5;124mvertical\u001B[39m\u001B[38;5;124m\"\u001B[39m, \u001B[38;5;124m\"\u001B[39m\u001B[38;5;124marg_type\u001B[39m\u001B[38;5;124m\"\u001B[39m: \u001B[38;5;28mtype\u001B[39m(vertical)\u001B[38;5;241m.\u001B[39m\u001B[38;5;18m__name__\u001B[39m},\n",
       "\u001B[1;32m   1076\u001B[0m     )\n",
       "\u001B[1;32m   1078\u001B[0m \u001B[38;5;28;01mif\u001B[39;00m \u001B[38;5;28misinstance\u001B[39m(truncate, \u001B[38;5;28mbool\u001B[39m) \u001B[38;5;129;01mand\u001B[39;00m truncate:\n",
       "\u001B[0;32m-> 1079\u001B[0m     \u001B[38;5;28;01mreturn\u001B[39;00m \u001B[38;5;28;43mself\u001B[39;49m\u001B[38;5;241;43m.\u001B[39;49m\u001B[43m_jdf\u001B[49m\u001B[38;5;241;43m.\u001B[39;49m\u001B[43mshowString\u001B[49m\u001B[43m(\u001B[49m\u001B[43mn\u001B[49m\u001B[43m,\u001B[49m\u001B[43m \u001B[49m\u001B[38;5;241;43m20\u001B[39;49m\u001B[43m,\u001B[49m\u001B[43m \u001B[49m\u001B[43mvertical\u001B[49m\u001B[43m)\u001B[49m\n",
       "\u001B[1;32m   1080\u001B[0m \u001B[38;5;28;01melse\u001B[39;00m:\n",
       "\u001B[1;32m   1081\u001B[0m     \u001B[38;5;28;01mtry\u001B[39;00m:\n",
       "\n",
       "File \u001B[0;32m/databricks/spark/python/lib/py4j-0.10.9.7-src.zip/py4j/java_gateway.py:1355\u001B[0m, in \u001B[0;36mJavaMember.__call__\u001B[0;34m(self, *args)\u001B[0m\n",
       "\u001B[1;32m   1349\u001B[0m command \u001B[38;5;241m=\u001B[39m proto\u001B[38;5;241m.\u001B[39mCALL_COMMAND_NAME \u001B[38;5;241m+\u001B[39m\\\n",
       "\u001B[1;32m   1350\u001B[0m     \u001B[38;5;28mself\u001B[39m\u001B[38;5;241m.\u001B[39mcommand_header \u001B[38;5;241m+\u001B[39m\\\n",
       "\u001B[1;32m   1351\u001B[0m     args_command \u001B[38;5;241m+\u001B[39m\\\n",
       "\u001B[1;32m   1352\u001B[0m     proto\u001B[38;5;241m.\u001B[39mEND_COMMAND_PART\n",
       "\u001B[1;32m   1354\u001B[0m answer \u001B[38;5;241m=\u001B[39m \u001B[38;5;28mself\u001B[39m\u001B[38;5;241m.\u001B[39mgateway_client\u001B[38;5;241m.\u001B[39msend_command(command)\n",
       "\u001B[0;32m-> 1355\u001B[0m return_value \u001B[38;5;241m=\u001B[39m \u001B[43mget_return_value\u001B[49m\u001B[43m(\u001B[49m\n",
       "\u001B[1;32m   1356\u001B[0m \u001B[43m    \u001B[49m\u001B[43manswer\u001B[49m\u001B[43m,\u001B[49m\u001B[43m \u001B[49m\u001B[38;5;28;43mself\u001B[39;49m\u001B[38;5;241;43m.\u001B[39;49m\u001B[43mgateway_client\u001B[49m\u001B[43m,\u001B[49m\u001B[43m \u001B[49m\u001B[38;5;28;43mself\u001B[39;49m\u001B[38;5;241;43m.\u001B[39;49m\u001B[43mtarget_id\u001B[49m\u001B[43m,\u001B[49m\u001B[43m \u001B[49m\u001B[38;5;28;43mself\u001B[39;49m\u001B[38;5;241;43m.\u001B[39;49m\u001B[43mname\u001B[49m\u001B[43m)\u001B[49m\n",
       "\u001B[1;32m   1358\u001B[0m \u001B[38;5;28;01mfor\u001B[39;00m temp_arg \u001B[38;5;129;01min\u001B[39;00m temp_args:\n",
       "\u001B[1;32m   1359\u001B[0m     \u001B[38;5;28;01mif\u001B[39;00m \u001B[38;5;28mhasattr\u001B[39m(temp_arg, \u001B[38;5;124m\"\u001B[39m\u001B[38;5;124m_detach\u001B[39m\u001B[38;5;124m\"\u001B[39m):\n",
       "\n",
       "File \u001B[0;32m/databricks/spark/python/pyspark/errors/exceptions/captured.py:224\u001B[0m, in \u001B[0;36mcapture_sql_exception.<locals>.deco\u001B[0;34m(*a, **kw)\u001B[0m\n",
       "\u001B[1;32m    222\u001B[0m \u001B[38;5;28;01mdef\u001B[39;00m \u001B[38;5;21mdeco\u001B[39m(\u001B[38;5;241m*\u001B[39ma: Any, \u001B[38;5;241m*\u001B[39m\u001B[38;5;241m*\u001B[39mkw: Any) \u001B[38;5;241m-\u001B[39m\u001B[38;5;241m>\u001B[39m Any:\n",
       "\u001B[1;32m    223\u001B[0m     \u001B[38;5;28;01mtry\u001B[39;00m:\n",
       "\u001B[0;32m--> 224\u001B[0m         \u001B[38;5;28;01mreturn\u001B[39;00m \u001B[43mf\u001B[49m\u001B[43m(\u001B[49m\u001B[38;5;241;43m*\u001B[39;49m\u001B[43ma\u001B[49m\u001B[43m,\u001B[49m\u001B[43m \u001B[49m\u001B[38;5;241;43m*\u001B[39;49m\u001B[38;5;241;43m*\u001B[39;49m\u001B[43mkw\u001B[49m\u001B[43m)\u001B[49m\n",
       "\u001B[1;32m    225\u001B[0m     \u001B[38;5;28;01mexcept\u001B[39;00m Py4JJavaError \u001B[38;5;28;01mas\u001B[39;00m e:\n",
       "\u001B[1;32m    226\u001B[0m         converted \u001B[38;5;241m=\u001B[39m convert_exception(e\u001B[38;5;241m.\u001B[39mjava_exception)\n",
       "\n",
       "File \u001B[0;32m/databricks/spark/python/lib/py4j-0.10.9.7-src.zip/py4j/protocol.py:326\u001B[0m, in \u001B[0;36mget_return_value\u001B[0;34m(answer, gateway_client, target_id, name)\u001B[0m\n",
       "\u001B[1;32m    324\u001B[0m value \u001B[38;5;241m=\u001B[39m OUTPUT_CONVERTER[\u001B[38;5;28mtype\u001B[39m](answer[\u001B[38;5;241m2\u001B[39m:], gateway_client)\n",
       "\u001B[1;32m    325\u001B[0m \u001B[38;5;28;01mif\u001B[39;00m answer[\u001B[38;5;241m1\u001B[39m] \u001B[38;5;241m==\u001B[39m REFERENCE_TYPE:\n",
       "\u001B[0;32m--> 326\u001B[0m     \u001B[38;5;28;01mraise\u001B[39;00m Py4JJavaError(\n",
       "\u001B[1;32m    327\u001B[0m         \u001B[38;5;124m\"\u001B[39m\u001B[38;5;124mAn error occurred while calling \u001B[39m\u001B[38;5;132;01m{0}\u001B[39;00m\u001B[38;5;132;01m{1}\u001B[39;00m\u001B[38;5;132;01m{2}\u001B[39;00m\u001B[38;5;124m.\u001B[39m\u001B[38;5;130;01m\\n\u001B[39;00m\u001B[38;5;124m\"\u001B[39m\u001B[38;5;241m.\u001B[39m\n",
       "\u001B[1;32m    328\u001B[0m         \u001B[38;5;28mformat\u001B[39m(target_id, \u001B[38;5;124m\"\u001B[39m\u001B[38;5;124m.\u001B[39m\u001B[38;5;124m\"\u001B[39m, name), value)\n",
       "\u001B[1;32m    329\u001B[0m \u001B[38;5;28;01melse\u001B[39;00m:\n",
       "\u001B[1;32m    330\u001B[0m     \u001B[38;5;28;01mraise\u001B[39;00m Py4JError(\n",
       "\u001B[1;32m    331\u001B[0m         \u001B[38;5;124m\"\u001B[39m\u001B[38;5;124mAn error occurred while calling \u001B[39m\u001B[38;5;132;01m{0}\u001B[39;00m\u001B[38;5;132;01m{1}\u001B[39;00m\u001B[38;5;132;01m{2}\u001B[39;00m\u001B[38;5;124m. Trace:\u001B[39m\u001B[38;5;130;01m\\n\u001B[39;00m\u001B[38;5;132;01m{3}\u001B[39;00m\u001B[38;5;130;01m\\n\u001B[39;00m\u001B[38;5;124m\"\u001B[39m\u001B[38;5;241m.\u001B[39m\n",
       "\u001B[1;32m    332\u001B[0m         \u001B[38;5;28mformat\u001B[39m(target_id, \u001B[38;5;124m\"\u001B[39m\u001B[38;5;124m.\u001B[39m\u001B[38;5;124m\"\u001B[39m, name, value))\n",
       "\n",
       "\u001B[0;31mPy4JJavaError\u001B[0m: An error occurred while calling o2392.showString.\n",
       ": org.apache.spark.SparkException: Job aborted due to stage failure: Task 2 in stage 3139.0 failed 4 times, most recent failure: Lost task 2.3 in stage 3139.0 (TID 7948) (10.139.64.18 executor 33): ExecutorLostFailure (executor 33 exited caused by one of the running tasks) Reason: Command exited with code 137\n",
       "Driver stacktrace:\n",
       "\tat org.apache.spark.scheduler.DAGScheduler.failJobAndIndependentStages(DAGScheduler.scala:3870)\n",
       "\tat org.apache.spark.scheduler.DAGScheduler.$anonfun$abortStage$2(DAGScheduler.scala:3792)\n",
       "\tat org.apache.spark.scheduler.DAGScheduler.$anonfun$abortStage$2$adapted(DAGScheduler.scala:3779)\n",
       "\tat scala.collection.mutable.ResizableArray.foreach(ResizableArray.scala:62)\n",
       "\tat scala.collection.mutable.ResizableArray.foreach$(ResizableArray.scala:55)\n",
       "\tat scala.collection.mutable.ArrayBuffer.foreach(ArrayBuffer.scala:49)\n",
       "\tat org.apache.spark.scheduler.DAGScheduler.abortStage(DAGScheduler.scala:3779)\n",
       "\tat org.apache.spark.scheduler.DAGScheduler.$anonfun$handleTaskSetFailed$1(DAGScheduler.scala:1685)\n",
       "\tat org.apache.spark.scheduler.DAGScheduler.$anonfun$handleTaskSetFailed$1$adapted(DAGScheduler.scala:1670)\n",
       "\tat scala.Option.foreach(Option.scala:407)\n",
       "\tat org.apache.spark.scheduler.DAGScheduler.handleTaskSetFailed(DAGScheduler.scala:1670)\n",
       "\tat org.apache.spark.scheduler.DAGSchedulerEventProcessLoop.doOnReceive(DAGScheduler.scala:4116)\n",
       "\tat org.apache.spark.scheduler.DAGSchedulerEventProcessLoop.onReceive(DAGScheduler.scala:4028)\n",
       "\tat org.apache.spark.scheduler.DAGSchedulerEventProcessLoop.onReceive(DAGScheduler.scala:4016)\n",
       "\tat org.apache.spark.util.EventLoop$$anon$1.run(EventLoop.scala:54)\n"
      ]
     },
     "metadata": {
      "application/vnd.databricks.v1+output": {
       "addedWidgets": {},
       "arguments": {},
       "datasetInfos": [],
       "jupyterProps": {
        "ename": "Py4JJavaError",
        "evalue": "An error occurred while calling o2392.showString.\n: org.apache.spark.SparkException: Job aborted due to stage failure: Task 2 in stage 3139.0 failed 4 times, most recent failure: Lost task 2.3 in stage 3139.0 (TID 7948) (10.139.64.18 executor 33): ExecutorLostFailure (executor 33 exited caused by one of the running tasks) Reason: Command exited with code 137\nDriver stacktrace:\n\tat org.apache.spark.scheduler.DAGScheduler.failJobAndIndependentStages(DAGScheduler.scala:3870)\n\tat org.apache.spark.scheduler.DAGScheduler.$anonfun$abortStage$2(DAGScheduler.scala:3792)\n\tat org.apache.spark.scheduler.DAGScheduler.$anonfun$abortStage$2$adapted(DAGScheduler.scala:3779)\n\tat scala.collection.mutable.ResizableArray.foreach(ResizableArray.scala:62)\n\tat scala.collection.mutable.ResizableArray.foreach$(ResizableArray.scala:55)\n\tat scala.collection.mutable.ArrayBuffer.foreach(ArrayBuffer.scala:49)\n\tat org.apache.spark.scheduler.DAGScheduler.abortStage(DAGScheduler.scala:3779)\n\tat org.apache.spark.scheduler.DAGScheduler.$anonfun$handleTaskSetFailed$1(DAGScheduler.scala:1685)\n\tat org.apache.spark.scheduler.DAGScheduler.$anonfun$handleTaskSetFailed$1$adapted(DAGScheduler.scala:1670)\n\tat scala.Option.foreach(Option.scala:407)\n\tat org.apache.spark.scheduler.DAGScheduler.handleTaskSetFailed(DAGScheduler.scala:1670)\n\tat org.apache.spark.scheduler.DAGSchedulerEventProcessLoop.doOnReceive(DAGScheduler.scala:4116)\n\tat org.apache.spark.scheduler.DAGSchedulerEventProcessLoop.onReceive(DAGScheduler.scala:4028)\n\tat org.apache.spark.scheduler.DAGSchedulerEventProcessLoop.onReceive(DAGScheduler.scala:4016)\n\tat org.apache.spark.util.EventLoop$$anon$1.run(EventLoop.scala:54)\n"
       },
       "metadata": {
        "errorSummary": ""
       },
       "removedWidgets": [],
       "sqlProps": null,
       "stackFrames": [
        "\u001B[0;31m---------------------------------------------------------------------------\u001B[0m",
        "\u001B[0;31mPy4JJavaError\u001B[0m                             Traceback (most recent call last)",
        "File \u001B[0;32m<command-4281566180897832>, line 53\u001B[0m\n\u001B[1;32m     49\u001B[0m df \u001B[38;5;241m=\u001B[39m df\u001B[38;5;241m.\u001B[39mwithColumn(\u001B[38;5;124m\"\u001B[39m\u001B[38;5;124mtokens\u001B[39m\u001B[38;5;124m\"\u001B[39m, lemmatize_word_udf(F\u001B[38;5;241m.\u001B[39mcol(\u001B[38;5;124m\"\u001B[39m\u001B[38;5;124mtokens\u001B[39m\u001B[38;5;124m\"\u001B[39m)))\n\u001B[1;32m     52\u001B[0m df\u001B[38;5;241m.\u001B[39mpersist()\n\u001B[0;32m---> 53\u001B[0m df\u001B[38;5;241m.\u001B[39mshow(\u001B[38;5;241m5\u001B[39m)\n",
        "File \u001B[0;32m/databricks/spark/python/pyspark/instrumentation_utils.py:47\u001B[0m, in \u001B[0;36m_wrap_function.<locals>.wrapper\u001B[0;34m(*args, **kwargs)\u001B[0m\n\u001B[1;32m     45\u001B[0m start \u001B[38;5;241m=\u001B[39m time\u001B[38;5;241m.\u001B[39mperf_counter()\n\u001B[1;32m     46\u001B[0m \u001B[38;5;28;01mtry\u001B[39;00m:\n\u001B[0;32m---> 47\u001B[0m     res \u001B[38;5;241m=\u001B[39m \u001B[43mfunc\u001B[49m\u001B[43m(\u001B[49m\u001B[38;5;241;43m*\u001B[39;49m\u001B[43margs\u001B[49m\u001B[43m,\u001B[49m\u001B[43m \u001B[49m\u001B[38;5;241;43m*\u001B[39;49m\u001B[38;5;241;43m*\u001B[39;49m\u001B[43mkwargs\u001B[49m\u001B[43m)\u001B[49m\n\u001B[1;32m     48\u001B[0m     logger\u001B[38;5;241m.\u001B[39mlog_success(\n\u001B[1;32m     49\u001B[0m         module_name, class_name, function_name, time\u001B[38;5;241m.\u001B[39mperf_counter() \u001B[38;5;241m-\u001B[39m start, signature\n\u001B[1;32m     50\u001B[0m     )\n\u001B[1;32m     51\u001B[0m     \u001B[38;5;28;01mreturn\u001B[39;00m res\n",
        "File \u001B[0;32m/databricks/spark/python/pyspark/sql/dataframe.py:1061\u001B[0m, in \u001B[0;36mDataFrame.show\u001B[0;34m(self, n, truncate, vertical)\u001B[0m\n\u001B[1;32m    972\u001B[0m \u001B[38;5;28;01mdef\u001B[39;00m \u001B[38;5;21mshow\u001B[39m(\u001B[38;5;28mself\u001B[39m, n: \u001B[38;5;28mint\u001B[39m \u001B[38;5;241m=\u001B[39m \u001B[38;5;241m20\u001B[39m, truncate: Union[\u001B[38;5;28mbool\u001B[39m, \u001B[38;5;28mint\u001B[39m] \u001B[38;5;241m=\u001B[39m \u001B[38;5;28;01mTrue\u001B[39;00m, vertical: \u001B[38;5;28mbool\u001B[39m \u001B[38;5;241m=\u001B[39m \u001B[38;5;28;01mFalse\u001B[39;00m) \u001B[38;5;241m-\u001B[39m\u001B[38;5;241m>\u001B[39m \u001B[38;5;28;01mNone\u001B[39;00m:\n\u001B[1;32m    973\u001B[0m     \u001B[38;5;124;03m\"\"\"\u001B[39;00m\n\u001B[1;32m    974\u001B[0m \u001B[38;5;124;03m    Prints the first ``n`` rows of the DataFrame to the console.\u001B[39;00m\n\u001B[1;32m    975\u001B[0m \n\u001B[0;32m   (...)\u001B[0m\n\u001B[1;32m   1059\u001B[0m \u001B[38;5;124;03m    name | This is a super l...\u001B[39;00m\n\u001B[1;32m   1060\u001B[0m \u001B[38;5;124;03m    \"\"\"\u001B[39;00m\n\u001B[0;32m-> 1061\u001B[0m     \u001B[38;5;28mprint\u001B[39m(\u001B[38;5;28;43mself\u001B[39;49m\u001B[38;5;241;43m.\u001B[39;49m\u001B[43m_show_string\u001B[49m\u001B[43m(\u001B[49m\u001B[43mn\u001B[49m\u001B[43m,\u001B[49m\u001B[43m \u001B[49m\u001B[43mtruncate\u001B[49m\u001B[43m,\u001B[49m\u001B[43m \u001B[49m\u001B[43mvertical\u001B[49m\u001B[43m)\u001B[49m)\n",
        "File \u001B[0;32m/databricks/spark/python/pyspark/sql/dataframe.py:1079\u001B[0m, in \u001B[0;36mDataFrame._show_string\u001B[0;34m(self, n, truncate, vertical)\u001B[0m\n\u001B[1;32m   1073\u001B[0m     \u001B[38;5;28;01mraise\u001B[39;00m PySparkTypeError(\n\u001B[1;32m   1074\u001B[0m         error_class\u001B[38;5;241m=\u001B[39m\u001B[38;5;124m\"\u001B[39m\u001B[38;5;124mNOT_BOOL\u001B[39m\u001B[38;5;124m\"\u001B[39m,\n\u001B[1;32m   1075\u001B[0m         message_parameters\u001B[38;5;241m=\u001B[39m{\u001B[38;5;124m\"\u001B[39m\u001B[38;5;124marg_name\u001B[39m\u001B[38;5;124m\"\u001B[39m: \u001B[38;5;124m\"\u001B[39m\u001B[38;5;124mvertical\u001B[39m\u001B[38;5;124m\"\u001B[39m, \u001B[38;5;124m\"\u001B[39m\u001B[38;5;124marg_type\u001B[39m\u001B[38;5;124m\"\u001B[39m: \u001B[38;5;28mtype\u001B[39m(vertical)\u001B[38;5;241m.\u001B[39m\u001B[38;5;18m__name__\u001B[39m},\n\u001B[1;32m   1076\u001B[0m     )\n\u001B[1;32m   1078\u001B[0m \u001B[38;5;28;01mif\u001B[39;00m \u001B[38;5;28misinstance\u001B[39m(truncate, \u001B[38;5;28mbool\u001B[39m) \u001B[38;5;129;01mand\u001B[39;00m truncate:\n\u001B[0;32m-> 1079\u001B[0m     \u001B[38;5;28;01mreturn\u001B[39;00m \u001B[38;5;28;43mself\u001B[39;49m\u001B[38;5;241;43m.\u001B[39;49m\u001B[43m_jdf\u001B[49m\u001B[38;5;241;43m.\u001B[39;49m\u001B[43mshowString\u001B[49m\u001B[43m(\u001B[49m\u001B[43mn\u001B[49m\u001B[43m,\u001B[49m\u001B[43m \u001B[49m\u001B[38;5;241;43m20\u001B[39;49m\u001B[43m,\u001B[49m\u001B[43m \u001B[49m\u001B[43mvertical\u001B[49m\u001B[43m)\u001B[49m\n\u001B[1;32m   1080\u001B[0m \u001B[38;5;28;01melse\u001B[39;00m:\n\u001B[1;32m   1081\u001B[0m     \u001B[38;5;28;01mtry\u001B[39;00m:\n",
        "File \u001B[0;32m/databricks/spark/python/lib/py4j-0.10.9.7-src.zip/py4j/java_gateway.py:1355\u001B[0m, in \u001B[0;36mJavaMember.__call__\u001B[0;34m(self, *args)\u001B[0m\n\u001B[1;32m   1349\u001B[0m command \u001B[38;5;241m=\u001B[39m proto\u001B[38;5;241m.\u001B[39mCALL_COMMAND_NAME \u001B[38;5;241m+\u001B[39m\\\n\u001B[1;32m   1350\u001B[0m     \u001B[38;5;28mself\u001B[39m\u001B[38;5;241m.\u001B[39mcommand_header \u001B[38;5;241m+\u001B[39m\\\n\u001B[1;32m   1351\u001B[0m     args_command \u001B[38;5;241m+\u001B[39m\\\n\u001B[1;32m   1352\u001B[0m     proto\u001B[38;5;241m.\u001B[39mEND_COMMAND_PART\n\u001B[1;32m   1354\u001B[0m answer \u001B[38;5;241m=\u001B[39m \u001B[38;5;28mself\u001B[39m\u001B[38;5;241m.\u001B[39mgateway_client\u001B[38;5;241m.\u001B[39msend_command(command)\n\u001B[0;32m-> 1355\u001B[0m return_value \u001B[38;5;241m=\u001B[39m \u001B[43mget_return_value\u001B[49m\u001B[43m(\u001B[49m\n\u001B[1;32m   1356\u001B[0m \u001B[43m    \u001B[49m\u001B[43manswer\u001B[49m\u001B[43m,\u001B[49m\u001B[43m \u001B[49m\u001B[38;5;28;43mself\u001B[39;49m\u001B[38;5;241;43m.\u001B[39;49m\u001B[43mgateway_client\u001B[49m\u001B[43m,\u001B[49m\u001B[43m \u001B[49m\u001B[38;5;28;43mself\u001B[39;49m\u001B[38;5;241;43m.\u001B[39;49m\u001B[43mtarget_id\u001B[49m\u001B[43m,\u001B[49m\u001B[43m \u001B[49m\u001B[38;5;28;43mself\u001B[39;49m\u001B[38;5;241;43m.\u001B[39;49m\u001B[43mname\u001B[49m\u001B[43m)\u001B[49m\n\u001B[1;32m   1358\u001B[0m \u001B[38;5;28;01mfor\u001B[39;00m temp_arg \u001B[38;5;129;01min\u001B[39;00m temp_args:\n\u001B[1;32m   1359\u001B[0m     \u001B[38;5;28;01mif\u001B[39;00m \u001B[38;5;28mhasattr\u001B[39m(temp_arg, \u001B[38;5;124m\"\u001B[39m\u001B[38;5;124m_detach\u001B[39m\u001B[38;5;124m\"\u001B[39m):\n",
        "File \u001B[0;32m/databricks/spark/python/pyspark/errors/exceptions/captured.py:224\u001B[0m, in \u001B[0;36mcapture_sql_exception.<locals>.deco\u001B[0;34m(*a, **kw)\u001B[0m\n\u001B[1;32m    222\u001B[0m \u001B[38;5;28;01mdef\u001B[39;00m \u001B[38;5;21mdeco\u001B[39m(\u001B[38;5;241m*\u001B[39ma: Any, \u001B[38;5;241m*\u001B[39m\u001B[38;5;241m*\u001B[39mkw: Any) \u001B[38;5;241m-\u001B[39m\u001B[38;5;241m>\u001B[39m Any:\n\u001B[1;32m    223\u001B[0m     \u001B[38;5;28;01mtry\u001B[39;00m:\n\u001B[0;32m--> 224\u001B[0m         \u001B[38;5;28;01mreturn\u001B[39;00m \u001B[43mf\u001B[49m\u001B[43m(\u001B[49m\u001B[38;5;241;43m*\u001B[39;49m\u001B[43ma\u001B[49m\u001B[43m,\u001B[49m\u001B[43m \u001B[49m\u001B[38;5;241;43m*\u001B[39;49m\u001B[38;5;241;43m*\u001B[39;49m\u001B[43mkw\u001B[49m\u001B[43m)\u001B[49m\n\u001B[1;32m    225\u001B[0m     \u001B[38;5;28;01mexcept\u001B[39;00m Py4JJavaError \u001B[38;5;28;01mas\u001B[39;00m e:\n\u001B[1;32m    226\u001B[0m         converted \u001B[38;5;241m=\u001B[39m convert_exception(e\u001B[38;5;241m.\u001B[39mjava_exception)\n",
        "File \u001B[0;32m/databricks/spark/python/lib/py4j-0.10.9.7-src.zip/py4j/protocol.py:326\u001B[0m, in \u001B[0;36mget_return_value\u001B[0;34m(answer, gateway_client, target_id, name)\u001B[0m\n\u001B[1;32m    324\u001B[0m value \u001B[38;5;241m=\u001B[39m OUTPUT_CONVERTER[\u001B[38;5;28mtype\u001B[39m](answer[\u001B[38;5;241m2\u001B[39m:], gateway_client)\n\u001B[1;32m    325\u001B[0m \u001B[38;5;28;01mif\u001B[39;00m answer[\u001B[38;5;241m1\u001B[39m] \u001B[38;5;241m==\u001B[39m REFERENCE_TYPE:\n\u001B[0;32m--> 326\u001B[0m     \u001B[38;5;28;01mraise\u001B[39;00m Py4JJavaError(\n\u001B[1;32m    327\u001B[0m         \u001B[38;5;124m\"\u001B[39m\u001B[38;5;124mAn error occurred while calling \u001B[39m\u001B[38;5;132;01m{0}\u001B[39;00m\u001B[38;5;132;01m{1}\u001B[39;00m\u001B[38;5;132;01m{2}\u001B[39;00m\u001B[38;5;124m.\u001B[39m\u001B[38;5;130;01m\\n\u001B[39;00m\u001B[38;5;124m\"\u001B[39m\u001B[38;5;241m.\u001B[39m\n\u001B[1;32m    328\u001B[0m         \u001B[38;5;28mformat\u001B[39m(target_id, \u001B[38;5;124m\"\u001B[39m\u001B[38;5;124m.\u001B[39m\u001B[38;5;124m\"\u001B[39m, name), value)\n\u001B[1;32m    329\u001B[0m \u001B[38;5;28;01melse\u001B[39;00m:\n\u001B[1;32m    330\u001B[0m     \u001B[38;5;28;01mraise\u001B[39;00m Py4JError(\n\u001B[1;32m    331\u001B[0m         \u001B[38;5;124m\"\u001B[39m\u001B[38;5;124mAn error occurred while calling \u001B[39m\u001B[38;5;132;01m{0}\u001B[39;00m\u001B[38;5;132;01m{1}\u001B[39;00m\u001B[38;5;132;01m{2}\u001B[39;00m\u001B[38;5;124m. Trace:\u001B[39m\u001B[38;5;130;01m\\n\u001B[39;00m\u001B[38;5;132;01m{3}\u001B[39;00m\u001B[38;5;130;01m\\n\u001B[39;00m\u001B[38;5;124m\"\u001B[39m\u001B[38;5;241m.\u001B[39m\n\u001B[1;32m    332\u001B[0m         \u001B[38;5;28mformat\u001B[39m(target_id, \u001B[38;5;124m\"\u001B[39m\u001B[38;5;124m.\u001B[39m\u001B[38;5;124m\"\u001B[39m, name, value))\n",
        "\u001B[0;31mPy4JJavaError\u001B[0m: An error occurred while calling o2392.showString.\n: org.apache.spark.SparkException: Job aborted due to stage failure: Task 2 in stage 3139.0 failed 4 times, most recent failure: Lost task 2.3 in stage 3139.0 (TID 7948) (10.139.64.18 executor 33): ExecutorLostFailure (executor 33 exited caused by one of the running tasks) Reason: Command exited with code 137\nDriver stacktrace:\n\tat org.apache.spark.scheduler.DAGScheduler.failJobAndIndependentStages(DAGScheduler.scala:3870)\n\tat org.apache.spark.scheduler.DAGScheduler.$anonfun$abortStage$2(DAGScheduler.scala:3792)\n\tat org.apache.spark.scheduler.DAGScheduler.$anonfun$abortStage$2$adapted(DAGScheduler.scala:3779)\n\tat scala.collection.mutable.ResizableArray.foreach(ResizableArray.scala:62)\n\tat scala.collection.mutable.ResizableArray.foreach$(ResizableArray.scala:55)\n\tat scala.collection.mutable.ArrayBuffer.foreach(ArrayBuffer.scala:49)\n\tat org.apache.spark.scheduler.DAGScheduler.abortStage(DAGScheduler.scala:3779)\n\tat org.apache.spark.scheduler.DAGScheduler.$anonfun$handleTaskSetFailed$1(DAGScheduler.scala:1685)\n\tat org.apache.spark.scheduler.DAGScheduler.$anonfun$handleTaskSetFailed$1$adapted(DAGScheduler.scala:1670)\n\tat scala.Option.foreach(Option.scala:407)\n\tat org.apache.spark.scheduler.DAGScheduler.handleTaskSetFailed(DAGScheduler.scala:1670)\n\tat org.apache.spark.scheduler.DAGSchedulerEventProcessLoop.doOnReceive(DAGScheduler.scala:4116)\n\tat org.apache.spark.scheduler.DAGSchedulerEventProcessLoop.onReceive(DAGScheduler.scala:4028)\n\tat org.apache.spark.scheduler.DAGSchedulerEventProcessLoop.onReceive(DAGScheduler.scala:4016)\n\tat org.apache.spark.util.EventLoop$$anon$1.run(EventLoop.scala:54)\n"
       ],
       "type": "baseError"
      }
     },
     "output_type": "display_data"
    }
   ],
   "source": [
    "# Export results to latex \n",
    "import os\n",
    "path = './table'\n",
    "\n",
    "\n",
    "os.makedirs(path, exist_ok=True)\n",
    "\n",
    "global_soln=results.to_latex(float_format='%.3f',index=True)\n",
    "\n",
    "with open(os.path.join(path, 'global_soln.tex'),'w')  as f:\n",
    "  f.write(global_soln)\n"
   ]
  },
  {
   "cell_type": "code",
   "execution_count": 0,
   "metadata": {
    "application/vnd.databricks.v1+cell": {
     "cellMetadata": {
      "byteLimit": 2048000,
      "rowLimit": 10000
     },
     "inputWidgets": {},
     "nuid": "2e706c71-3408-4c3e-99ac-3100ac30a147",
     "showTitle": false,
     "title": ""
    }
   },
   "outputs": [
    {
     "output_type": "display_data",
     "data": {
      "text/plain": [
       "\u001B[0;31m---------------------------------------------------------------------------\u001B[0m\n",
       "\u001B[0;31mPy4JJavaError\u001B[0m                             Traceback (most recent call last)\n",
       "File \u001B[0;32m<command-4281566180897832>, line 53\u001B[0m\n",
       "\u001B[1;32m     49\u001B[0m df \u001B[38;5;241m=\u001B[39m df\u001B[38;5;241m.\u001B[39mwithColumn(\u001B[38;5;124m\"\u001B[39m\u001B[38;5;124mtokens\u001B[39m\u001B[38;5;124m\"\u001B[39m, lemmatize_word_udf(F\u001B[38;5;241m.\u001B[39mcol(\u001B[38;5;124m\"\u001B[39m\u001B[38;5;124mtokens\u001B[39m\u001B[38;5;124m\"\u001B[39m)))\n",
       "\u001B[1;32m     52\u001B[0m df\u001B[38;5;241m.\u001B[39mpersist()\n",
       "\u001B[0;32m---> 53\u001B[0m df\u001B[38;5;241m.\u001B[39mshow(\u001B[38;5;241m5\u001B[39m)\n",
       "\n",
       "File \u001B[0;32m/databricks/spark/python/pyspark/instrumentation_utils.py:47\u001B[0m, in \u001B[0;36m_wrap_function.<locals>.wrapper\u001B[0;34m(*args, **kwargs)\u001B[0m\n",
       "\u001B[1;32m     45\u001B[0m start \u001B[38;5;241m=\u001B[39m time\u001B[38;5;241m.\u001B[39mperf_counter()\n",
       "\u001B[1;32m     46\u001B[0m \u001B[38;5;28;01mtry\u001B[39;00m:\n",
       "\u001B[0;32m---> 47\u001B[0m     res \u001B[38;5;241m=\u001B[39m \u001B[43mfunc\u001B[49m\u001B[43m(\u001B[49m\u001B[38;5;241;43m*\u001B[39;49m\u001B[43margs\u001B[49m\u001B[43m,\u001B[49m\u001B[43m \u001B[49m\u001B[38;5;241;43m*\u001B[39;49m\u001B[38;5;241;43m*\u001B[39;49m\u001B[43mkwargs\u001B[49m\u001B[43m)\u001B[49m\n",
       "\u001B[1;32m     48\u001B[0m     logger\u001B[38;5;241m.\u001B[39mlog_success(\n",
       "\u001B[1;32m     49\u001B[0m         module_name, class_name, function_name, time\u001B[38;5;241m.\u001B[39mperf_counter() \u001B[38;5;241m-\u001B[39m start, signature\n",
       "\u001B[1;32m     50\u001B[0m     )\n",
       "\u001B[1;32m     51\u001B[0m     \u001B[38;5;28;01mreturn\u001B[39;00m res\n",
       "\n",
       "File \u001B[0;32m/databricks/spark/python/pyspark/sql/dataframe.py:1061\u001B[0m, in \u001B[0;36mDataFrame.show\u001B[0;34m(self, n, truncate, vertical)\u001B[0m\n",
       "\u001B[1;32m    972\u001B[0m \u001B[38;5;28;01mdef\u001B[39;00m \u001B[38;5;21mshow\u001B[39m(\u001B[38;5;28mself\u001B[39m, n: \u001B[38;5;28mint\u001B[39m \u001B[38;5;241m=\u001B[39m \u001B[38;5;241m20\u001B[39m, truncate: Union[\u001B[38;5;28mbool\u001B[39m, \u001B[38;5;28mint\u001B[39m] \u001B[38;5;241m=\u001B[39m \u001B[38;5;28;01mTrue\u001B[39;00m, vertical: \u001B[38;5;28mbool\u001B[39m \u001B[38;5;241m=\u001B[39m \u001B[38;5;28;01mFalse\u001B[39;00m) \u001B[38;5;241m-\u001B[39m\u001B[38;5;241m>\u001B[39m \u001B[38;5;28;01mNone\u001B[39;00m:\n",
       "\u001B[1;32m    973\u001B[0m     \u001B[38;5;124;03m\"\"\"\u001B[39;00m\n",
       "\u001B[1;32m    974\u001B[0m \u001B[38;5;124;03m    Prints the first ``n`` rows of the DataFrame to the console.\u001B[39;00m\n",
       "\u001B[1;32m    975\u001B[0m \n",
       "\u001B[0;32m   (...)\u001B[0m\n",
       "\u001B[1;32m   1059\u001B[0m \u001B[38;5;124;03m    name | This is a super l...\u001B[39;00m\n",
       "\u001B[1;32m   1060\u001B[0m \u001B[38;5;124;03m    \"\"\"\u001B[39;00m\n",
       "\u001B[0;32m-> 1061\u001B[0m     \u001B[38;5;28mprint\u001B[39m(\u001B[38;5;28;43mself\u001B[39;49m\u001B[38;5;241;43m.\u001B[39;49m\u001B[43m_show_string\u001B[49m\u001B[43m(\u001B[49m\u001B[43mn\u001B[49m\u001B[43m,\u001B[49m\u001B[43m \u001B[49m\u001B[43mtruncate\u001B[49m\u001B[43m,\u001B[49m\u001B[43m \u001B[49m\u001B[43mvertical\u001B[49m\u001B[43m)\u001B[49m)\n",
       "\n",
       "File \u001B[0;32m/databricks/spark/python/pyspark/sql/dataframe.py:1079\u001B[0m, in \u001B[0;36mDataFrame._show_string\u001B[0;34m(self, n, truncate, vertical)\u001B[0m\n",
       "\u001B[1;32m   1073\u001B[0m     \u001B[38;5;28;01mraise\u001B[39;00m PySparkTypeError(\n",
       "\u001B[1;32m   1074\u001B[0m         error_class\u001B[38;5;241m=\u001B[39m\u001B[38;5;124m\"\u001B[39m\u001B[38;5;124mNOT_BOOL\u001B[39m\u001B[38;5;124m\"\u001B[39m,\n",
       "\u001B[1;32m   1075\u001B[0m         message_parameters\u001B[38;5;241m=\u001B[39m{\u001B[38;5;124m\"\u001B[39m\u001B[38;5;124marg_name\u001B[39m\u001B[38;5;124m\"\u001B[39m: \u001B[38;5;124m\"\u001B[39m\u001B[38;5;124mvertical\u001B[39m\u001B[38;5;124m\"\u001B[39m, \u001B[38;5;124m\"\u001B[39m\u001B[38;5;124marg_type\u001B[39m\u001B[38;5;124m\"\u001B[39m: \u001B[38;5;28mtype\u001B[39m(vertical)\u001B[38;5;241m.\u001B[39m\u001B[38;5;18m__name__\u001B[39m},\n",
       "\u001B[1;32m   1076\u001B[0m     )\n",
       "\u001B[1;32m   1078\u001B[0m \u001B[38;5;28;01mif\u001B[39;00m \u001B[38;5;28misinstance\u001B[39m(truncate, \u001B[38;5;28mbool\u001B[39m) \u001B[38;5;129;01mand\u001B[39;00m truncate:\n",
       "\u001B[0;32m-> 1079\u001B[0m     \u001B[38;5;28;01mreturn\u001B[39;00m \u001B[38;5;28;43mself\u001B[39;49m\u001B[38;5;241;43m.\u001B[39;49m\u001B[43m_jdf\u001B[49m\u001B[38;5;241;43m.\u001B[39;49m\u001B[43mshowString\u001B[49m\u001B[43m(\u001B[49m\u001B[43mn\u001B[49m\u001B[43m,\u001B[49m\u001B[43m \u001B[49m\u001B[38;5;241;43m20\u001B[39;49m\u001B[43m,\u001B[49m\u001B[43m \u001B[49m\u001B[43mvertical\u001B[49m\u001B[43m)\u001B[49m\n",
       "\u001B[1;32m   1080\u001B[0m \u001B[38;5;28;01melse\u001B[39;00m:\n",
       "\u001B[1;32m   1081\u001B[0m     \u001B[38;5;28;01mtry\u001B[39;00m:\n",
       "\n",
       "File \u001B[0;32m/databricks/spark/python/lib/py4j-0.10.9.7-src.zip/py4j/java_gateway.py:1355\u001B[0m, in \u001B[0;36mJavaMember.__call__\u001B[0;34m(self, *args)\u001B[0m\n",
       "\u001B[1;32m   1349\u001B[0m command \u001B[38;5;241m=\u001B[39m proto\u001B[38;5;241m.\u001B[39mCALL_COMMAND_NAME \u001B[38;5;241m+\u001B[39m\\\n",
       "\u001B[1;32m   1350\u001B[0m     \u001B[38;5;28mself\u001B[39m\u001B[38;5;241m.\u001B[39mcommand_header \u001B[38;5;241m+\u001B[39m\\\n",
       "\u001B[1;32m   1351\u001B[0m     args_command \u001B[38;5;241m+\u001B[39m\\\n",
       "\u001B[1;32m   1352\u001B[0m     proto\u001B[38;5;241m.\u001B[39mEND_COMMAND_PART\n",
       "\u001B[1;32m   1354\u001B[0m answer \u001B[38;5;241m=\u001B[39m \u001B[38;5;28mself\u001B[39m\u001B[38;5;241m.\u001B[39mgateway_client\u001B[38;5;241m.\u001B[39msend_command(command)\n",
       "\u001B[0;32m-> 1355\u001B[0m return_value \u001B[38;5;241m=\u001B[39m \u001B[43mget_return_value\u001B[49m\u001B[43m(\u001B[49m\n",
       "\u001B[1;32m   1356\u001B[0m \u001B[43m    \u001B[49m\u001B[43manswer\u001B[49m\u001B[43m,\u001B[49m\u001B[43m \u001B[49m\u001B[38;5;28;43mself\u001B[39;49m\u001B[38;5;241;43m.\u001B[39;49m\u001B[43mgateway_client\u001B[49m\u001B[43m,\u001B[49m\u001B[43m \u001B[49m\u001B[38;5;28;43mself\u001B[39;49m\u001B[38;5;241;43m.\u001B[39;49m\u001B[43mtarget_id\u001B[49m\u001B[43m,\u001B[49m\u001B[43m \u001B[49m\u001B[38;5;28;43mself\u001B[39;49m\u001B[38;5;241;43m.\u001B[39;49m\u001B[43mname\u001B[49m\u001B[43m)\u001B[49m\n",
       "\u001B[1;32m   1358\u001B[0m \u001B[38;5;28;01mfor\u001B[39;00m temp_arg \u001B[38;5;129;01min\u001B[39;00m temp_args:\n",
       "\u001B[1;32m   1359\u001B[0m     \u001B[38;5;28;01mif\u001B[39;00m \u001B[38;5;28mhasattr\u001B[39m(temp_arg, \u001B[38;5;124m\"\u001B[39m\u001B[38;5;124m_detach\u001B[39m\u001B[38;5;124m\"\u001B[39m):\n",
       "\n",
       "File \u001B[0;32m/databricks/spark/python/pyspark/errors/exceptions/captured.py:224\u001B[0m, in \u001B[0;36mcapture_sql_exception.<locals>.deco\u001B[0;34m(*a, **kw)\u001B[0m\n",
       "\u001B[1;32m    222\u001B[0m \u001B[38;5;28;01mdef\u001B[39;00m \u001B[38;5;21mdeco\u001B[39m(\u001B[38;5;241m*\u001B[39ma: Any, \u001B[38;5;241m*\u001B[39m\u001B[38;5;241m*\u001B[39mkw: Any) \u001B[38;5;241m-\u001B[39m\u001B[38;5;241m>\u001B[39m Any:\n",
       "\u001B[1;32m    223\u001B[0m     \u001B[38;5;28;01mtry\u001B[39;00m:\n",
       "\u001B[0;32m--> 224\u001B[0m         \u001B[38;5;28;01mreturn\u001B[39;00m \u001B[43mf\u001B[49m\u001B[43m(\u001B[49m\u001B[38;5;241;43m*\u001B[39;49m\u001B[43ma\u001B[49m\u001B[43m,\u001B[49m\u001B[43m \u001B[49m\u001B[38;5;241;43m*\u001B[39;49m\u001B[38;5;241;43m*\u001B[39;49m\u001B[43mkw\u001B[49m\u001B[43m)\u001B[49m\n",
       "\u001B[1;32m    225\u001B[0m     \u001B[38;5;28;01mexcept\u001B[39;00m Py4JJavaError \u001B[38;5;28;01mas\u001B[39;00m e:\n",
       "\u001B[1;32m    226\u001B[0m         converted \u001B[38;5;241m=\u001B[39m convert_exception(e\u001B[38;5;241m.\u001B[39mjava_exception)\n",
       "\n",
       "File \u001B[0;32m/databricks/spark/python/lib/py4j-0.10.9.7-src.zip/py4j/protocol.py:326\u001B[0m, in \u001B[0;36mget_return_value\u001B[0;34m(answer, gateway_client, target_id, name)\u001B[0m\n",
       "\u001B[1;32m    324\u001B[0m value \u001B[38;5;241m=\u001B[39m OUTPUT_CONVERTER[\u001B[38;5;28mtype\u001B[39m](answer[\u001B[38;5;241m2\u001B[39m:], gateway_client)\n",
       "\u001B[1;32m    325\u001B[0m \u001B[38;5;28;01mif\u001B[39;00m answer[\u001B[38;5;241m1\u001B[39m] \u001B[38;5;241m==\u001B[39m REFERENCE_TYPE:\n",
       "\u001B[0;32m--> 326\u001B[0m     \u001B[38;5;28;01mraise\u001B[39;00m Py4JJavaError(\n",
       "\u001B[1;32m    327\u001B[0m         \u001B[38;5;124m\"\u001B[39m\u001B[38;5;124mAn error occurred while calling \u001B[39m\u001B[38;5;132;01m{0}\u001B[39;00m\u001B[38;5;132;01m{1}\u001B[39;00m\u001B[38;5;132;01m{2}\u001B[39;00m\u001B[38;5;124m.\u001B[39m\u001B[38;5;130;01m\\n\u001B[39;00m\u001B[38;5;124m\"\u001B[39m\u001B[38;5;241m.\u001B[39m\n",
       "\u001B[1;32m    328\u001B[0m         \u001B[38;5;28mformat\u001B[39m(target_id, \u001B[38;5;124m\"\u001B[39m\u001B[38;5;124m.\u001B[39m\u001B[38;5;124m\"\u001B[39m, name), value)\n",
       "\u001B[1;32m    329\u001B[0m \u001B[38;5;28;01melse\u001B[39;00m:\n",
       "\u001B[1;32m    330\u001B[0m     \u001B[38;5;28;01mraise\u001B[39;00m Py4JError(\n",
       "\u001B[1;32m    331\u001B[0m         \u001B[38;5;124m\"\u001B[39m\u001B[38;5;124mAn error occurred while calling \u001B[39m\u001B[38;5;132;01m{0}\u001B[39;00m\u001B[38;5;132;01m{1}\u001B[39;00m\u001B[38;5;132;01m{2}\u001B[39;00m\u001B[38;5;124m. Trace:\u001B[39m\u001B[38;5;130;01m\\n\u001B[39;00m\u001B[38;5;132;01m{3}\u001B[39;00m\u001B[38;5;130;01m\\n\u001B[39;00m\u001B[38;5;124m\"\u001B[39m\u001B[38;5;241m.\u001B[39m\n",
       "\u001B[1;32m    332\u001B[0m         \u001B[38;5;28mformat\u001B[39m(target_id, \u001B[38;5;124m\"\u001B[39m\u001B[38;5;124m.\u001B[39m\u001B[38;5;124m\"\u001B[39m, name, value))\n",
       "\n",
       "\u001B[0;31mPy4JJavaError\u001B[0m: An error occurred while calling o2392.showString.\n",
       ": org.apache.spark.SparkException: Job aborted due to stage failure: Task 2 in stage 3139.0 failed 4 times, most recent failure: Lost task 2.3 in stage 3139.0 (TID 7948) (10.139.64.18 executor 33): ExecutorLostFailure (executor 33 exited caused by one of the running tasks) Reason: Command exited with code 137\n",
       "Driver stacktrace:\n",
       "\tat org.apache.spark.scheduler.DAGScheduler.failJobAndIndependentStages(DAGScheduler.scala:3870)\n",
       "\tat org.apache.spark.scheduler.DAGScheduler.$anonfun$abortStage$2(DAGScheduler.scala:3792)\n",
       "\tat org.apache.spark.scheduler.DAGScheduler.$anonfun$abortStage$2$adapted(DAGScheduler.scala:3779)\n",
       "\tat scala.collection.mutable.ResizableArray.foreach(ResizableArray.scala:62)\n",
       "\tat scala.collection.mutable.ResizableArray.foreach$(ResizableArray.scala:55)\n",
       "\tat scala.collection.mutable.ArrayBuffer.foreach(ArrayBuffer.scala:49)\n",
       "\tat org.apache.spark.scheduler.DAGScheduler.abortStage(DAGScheduler.scala:3779)\n",
       "\tat org.apache.spark.scheduler.DAGScheduler.$anonfun$handleTaskSetFailed$1(DAGScheduler.scala:1685)\n",
       "\tat org.apache.spark.scheduler.DAGScheduler.$anonfun$handleTaskSetFailed$1$adapted(DAGScheduler.scala:1670)\n",
       "\tat scala.Option.foreach(Option.scala:407)\n",
       "\tat org.apache.spark.scheduler.DAGScheduler.handleTaskSetFailed(DAGScheduler.scala:1670)\n",
       "\tat org.apache.spark.scheduler.DAGSchedulerEventProcessLoop.doOnReceive(DAGScheduler.scala:4116)\n",
       "\tat org.apache.spark.scheduler.DAGSchedulerEventProcessLoop.onReceive(DAGScheduler.scala:4028)\n",
       "\tat org.apache.spark.scheduler.DAGSchedulerEventProcessLoop.onReceive(DAGScheduler.scala:4016)\n",
       "\tat org.apache.spark.util.EventLoop$$anon$1.run(EventLoop.scala:54)\n"
      ]
     },
     "metadata": {
      "application/vnd.databricks.v1+output": {
       "addedWidgets": {},
       "arguments": {},
       "datasetInfos": [],
       "jupyterProps": {
        "ename": "Py4JJavaError",
        "evalue": "An error occurred while calling o2392.showString.\n: org.apache.spark.SparkException: Job aborted due to stage failure: Task 2 in stage 3139.0 failed 4 times, most recent failure: Lost task 2.3 in stage 3139.0 (TID 7948) (10.139.64.18 executor 33): ExecutorLostFailure (executor 33 exited caused by one of the running tasks) Reason: Command exited with code 137\nDriver stacktrace:\n\tat org.apache.spark.scheduler.DAGScheduler.failJobAndIndependentStages(DAGScheduler.scala:3870)\n\tat org.apache.spark.scheduler.DAGScheduler.$anonfun$abortStage$2(DAGScheduler.scala:3792)\n\tat org.apache.spark.scheduler.DAGScheduler.$anonfun$abortStage$2$adapted(DAGScheduler.scala:3779)\n\tat scala.collection.mutable.ResizableArray.foreach(ResizableArray.scala:62)\n\tat scala.collection.mutable.ResizableArray.foreach$(ResizableArray.scala:55)\n\tat scala.collection.mutable.ArrayBuffer.foreach(ArrayBuffer.scala:49)\n\tat org.apache.spark.scheduler.DAGScheduler.abortStage(DAGScheduler.scala:3779)\n\tat org.apache.spark.scheduler.DAGScheduler.$anonfun$handleTaskSetFailed$1(DAGScheduler.scala:1685)\n\tat org.apache.spark.scheduler.DAGScheduler.$anonfun$handleTaskSetFailed$1$adapted(DAGScheduler.scala:1670)\n\tat scala.Option.foreach(Option.scala:407)\n\tat org.apache.spark.scheduler.DAGScheduler.handleTaskSetFailed(DAGScheduler.scala:1670)\n\tat org.apache.spark.scheduler.DAGSchedulerEventProcessLoop.doOnReceive(DAGScheduler.scala:4116)\n\tat org.apache.spark.scheduler.DAGSchedulerEventProcessLoop.onReceive(DAGScheduler.scala:4028)\n\tat org.apache.spark.scheduler.DAGSchedulerEventProcessLoop.onReceive(DAGScheduler.scala:4016)\n\tat org.apache.spark.util.EventLoop$$anon$1.run(EventLoop.scala:54)\n"
       },
       "metadata": {
        "errorSummary": ""
       },
       "removedWidgets": [],
       "sqlProps": null,
       "stackFrames": [
        "\u001B[0;31m---------------------------------------------------------------------------\u001B[0m",
        "\u001B[0;31mPy4JJavaError\u001B[0m                             Traceback (most recent call last)",
        "File \u001B[0;32m<command-4281566180897832>, line 53\u001B[0m\n\u001B[1;32m     49\u001B[0m df \u001B[38;5;241m=\u001B[39m df\u001B[38;5;241m.\u001B[39mwithColumn(\u001B[38;5;124m\"\u001B[39m\u001B[38;5;124mtokens\u001B[39m\u001B[38;5;124m\"\u001B[39m, lemmatize_word_udf(F\u001B[38;5;241m.\u001B[39mcol(\u001B[38;5;124m\"\u001B[39m\u001B[38;5;124mtokens\u001B[39m\u001B[38;5;124m\"\u001B[39m)))\n\u001B[1;32m     52\u001B[0m df\u001B[38;5;241m.\u001B[39mpersist()\n\u001B[0;32m---> 53\u001B[0m df\u001B[38;5;241m.\u001B[39mshow(\u001B[38;5;241m5\u001B[39m)\n",
        "File \u001B[0;32m/databricks/spark/python/pyspark/instrumentation_utils.py:47\u001B[0m, in \u001B[0;36m_wrap_function.<locals>.wrapper\u001B[0;34m(*args, **kwargs)\u001B[0m\n\u001B[1;32m     45\u001B[0m start \u001B[38;5;241m=\u001B[39m time\u001B[38;5;241m.\u001B[39mperf_counter()\n\u001B[1;32m     46\u001B[0m \u001B[38;5;28;01mtry\u001B[39;00m:\n\u001B[0;32m---> 47\u001B[0m     res \u001B[38;5;241m=\u001B[39m \u001B[43mfunc\u001B[49m\u001B[43m(\u001B[49m\u001B[38;5;241;43m*\u001B[39;49m\u001B[43margs\u001B[49m\u001B[43m,\u001B[49m\u001B[43m \u001B[49m\u001B[38;5;241;43m*\u001B[39;49m\u001B[38;5;241;43m*\u001B[39;49m\u001B[43mkwargs\u001B[49m\u001B[43m)\u001B[49m\n\u001B[1;32m     48\u001B[0m     logger\u001B[38;5;241m.\u001B[39mlog_success(\n\u001B[1;32m     49\u001B[0m         module_name, class_name, function_name, time\u001B[38;5;241m.\u001B[39mperf_counter() \u001B[38;5;241m-\u001B[39m start, signature\n\u001B[1;32m     50\u001B[0m     )\n\u001B[1;32m     51\u001B[0m     \u001B[38;5;28;01mreturn\u001B[39;00m res\n",
        "File \u001B[0;32m/databricks/spark/python/pyspark/sql/dataframe.py:1061\u001B[0m, in \u001B[0;36mDataFrame.show\u001B[0;34m(self, n, truncate, vertical)\u001B[0m\n\u001B[1;32m    972\u001B[0m \u001B[38;5;28;01mdef\u001B[39;00m \u001B[38;5;21mshow\u001B[39m(\u001B[38;5;28mself\u001B[39m, n: \u001B[38;5;28mint\u001B[39m \u001B[38;5;241m=\u001B[39m \u001B[38;5;241m20\u001B[39m, truncate: Union[\u001B[38;5;28mbool\u001B[39m, \u001B[38;5;28mint\u001B[39m] \u001B[38;5;241m=\u001B[39m \u001B[38;5;28;01mTrue\u001B[39;00m, vertical: \u001B[38;5;28mbool\u001B[39m \u001B[38;5;241m=\u001B[39m \u001B[38;5;28;01mFalse\u001B[39;00m) \u001B[38;5;241m-\u001B[39m\u001B[38;5;241m>\u001B[39m \u001B[38;5;28;01mNone\u001B[39;00m:\n\u001B[1;32m    973\u001B[0m     \u001B[38;5;124;03m\"\"\"\u001B[39;00m\n\u001B[1;32m    974\u001B[0m \u001B[38;5;124;03m    Prints the first ``n`` rows of the DataFrame to the console.\u001B[39;00m\n\u001B[1;32m    975\u001B[0m \n\u001B[0;32m   (...)\u001B[0m\n\u001B[1;32m   1059\u001B[0m \u001B[38;5;124;03m    name | This is a super l...\u001B[39;00m\n\u001B[1;32m   1060\u001B[0m \u001B[38;5;124;03m    \"\"\"\u001B[39;00m\n\u001B[0;32m-> 1061\u001B[0m     \u001B[38;5;28mprint\u001B[39m(\u001B[38;5;28;43mself\u001B[39;49m\u001B[38;5;241;43m.\u001B[39;49m\u001B[43m_show_string\u001B[49m\u001B[43m(\u001B[49m\u001B[43mn\u001B[49m\u001B[43m,\u001B[49m\u001B[43m \u001B[49m\u001B[43mtruncate\u001B[49m\u001B[43m,\u001B[49m\u001B[43m \u001B[49m\u001B[43mvertical\u001B[49m\u001B[43m)\u001B[49m)\n",
        "File \u001B[0;32m/databricks/spark/python/pyspark/sql/dataframe.py:1079\u001B[0m, in \u001B[0;36mDataFrame._show_string\u001B[0;34m(self, n, truncate, vertical)\u001B[0m\n\u001B[1;32m   1073\u001B[0m     \u001B[38;5;28;01mraise\u001B[39;00m PySparkTypeError(\n\u001B[1;32m   1074\u001B[0m         error_class\u001B[38;5;241m=\u001B[39m\u001B[38;5;124m\"\u001B[39m\u001B[38;5;124mNOT_BOOL\u001B[39m\u001B[38;5;124m\"\u001B[39m,\n\u001B[1;32m   1075\u001B[0m         message_parameters\u001B[38;5;241m=\u001B[39m{\u001B[38;5;124m\"\u001B[39m\u001B[38;5;124marg_name\u001B[39m\u001B[38;5;124m\"\u001B[39m: \u001B[38;5;124m\"\u001B[39m\u001B[38;5;124mvertical\u001B[39m\u001B[38;5;124m\"\u001B[39m, \u001B[38;5;124m\"\u001B[39m\u001B[38;5;124marg_type\u001B[39m\u001B[38;5;124m\"\u001B[39m: \u001B[38;5;28mtype\u001B[39m(vertical)\u001B[38;5;241m.\u001B[39m\u001B[38;5;18m__name__\u001B[39m},\n\u001B[1;32m   1076\u001B[0m     )\n\u001B[1;32m   1078\u001B[0m \u001B[38;5;28;01mif\u001B[39;00m \u001B[38;5;28misinstance\u001B[39m(truncate, \u001B[38;5;28mbool\u001B[39m) \u001B[38;5;129;01mand\u001B[39;00m truncate:\n\u001B[0;32m-> 1079\u001B[0m     \u001B[38;5;28;01mreturn\u001B[39;00m \u001B[38;5;28;43mself\u001B[39;49m\u001B[38;5;241;43m.\u001B[39;49m\u001B[43m_jdf\u001B[49m\u001B[38;5;241;43m.\u001B[39;49m\u001B[43mshowString\u001B[49m\u001B[43m(\u001B[49m\u001B[43mn\u001B[49m\u001B[43m,\u001B[49m\u001B[43m \u001B[49m\u001B[38;5;241;43m20\u001B[39;49m\u001B[43m,\u001B[49m\u001B[43m \u001B[49m\u001B[43mvertical\u001B[49m\u001B[43m)\u001B[49m\n\u001B[1;32m   1080\u001B[0m \u001B[38;5;28;01melse\u001B[39;00m:\n\u001B[1;32m   1081\u001B[0m     \u001B[38;5;28;01mtry\u001B[39;00m:\n",
        "File \u001B[0;32m/databricks/spark/python/lib/py4j-0.10.9.7-src.zip/py4j/java_gateway.py:1355\u001B[0m, in \u001B[0;36mJavaMember.__call__\u001B[0;34m(self, *args)\u001B[0m\n\u001B[1;32m   1349\u001B[0m command \u001B[38;5;241m=\u001B[39m proto\u001B[38;5;241m.\u001B[39mCALL_COMMAND_NAME \u001B[38;5;241m+\u001B[39m\\\n\u001B[1;32m   1350\u001B[0m     \u001B[38;5;28mself\u001B[39m\u001B[38;5;241m.\u001B[39mcommand_header \u001B[38;5;241m+\u001B[39m\\\n\u001B[1;32m   1351\u001B[0m     args_command \u001B[38;5;241m+\u001B[39m\\\n\u001B[1;32m   1352\u001B[0m     proto\u001B[38;5;241m.\u001B[39mEND_COMMAND_PART\n\u001B[1;32m   1354\u001B[0m answer \u001B[38;5;241m=\u001B[39m \u001B[38;5;28mself\u001B[39m\u001B[38;5;241m.\u001B[39mgateway_client\u001B[38;5;241m.\u001B[39msend_command(command)\n\u001B[0;32m-> 1355\u001B[0m return_value \u001B[38;5;241m=\u001B[39m \u001B[43mget_return_value\u001B[49m\u001B[43m(\u001B[49m\n\u001B[1;32m   1356\u001B[0m \u001B[43m    \u001B[49m\u001B[43manswer\u001B[49m\u001B[43m,\u001B[49m\u001B[43m \u001B[49m\u001B[38;5;28;43mself\u001B[39;49m\u001B[38;5;241;43m.\u001B[39;49m\u001B[43mgateway_client\u001B[49m\u001B[43m,\u001B[49m\u001B[43m \u001B[49m\u001B[38;5;28;43mself\u001B[39;49m\u001B[38;5;241;43m.\u001B[39;49m\u001B[43mtarget_id\u001B[49m\u001B[43m,\u001B[49m\u001B[43m \u001B[49m\u001B[38;5;28;43mself\u001B[39;49m\u001B[38;5;241;43m.\u001B[39;49m\u001B[43mname\u001B[49m\u001B[43m)\u001B[49m\n\u001B[1;32m   1358\u001B[0m \u001B[38;5;28;01mfor\u001B[39;00m temp_arg \u001B[38;5;129;01min\u001B[39;00m temp_args:\n\u001B[1;32m   1359\u001B[0m     \u001B[38;5;28;01mif\u001B[39;00m \u001B[38;5;28mhasattr\u001B[39m(temp_arg, \u001B[38;5;124m\"\u001B[39m\u001B[38;5;124m_detach\u001B[39m\u001B[38;5;124m\"\u001B[39m):\n",
        "File \u001B[0;32m/databricks/spark/python/pyspark/errors/exceptions/captured.py:224\u001B[0m, in \u001B[0;36mcapture_sql_exception.<locals>.deco\u001B[0;34m(*a, **kw)\u001B[0m\n\u001B[1;32m    222\u001B[0m \u001B[38;5;28;01mdef\u001B[39;00m \u001B[38;5;21mdeco\u001B[39m(\u001B[38;5;241m*\u001B[39ma: Any, \u001B[38;5;241m*\u001B[39m\u001B[38;5;241m*\u001B[39mkw: Any) \u001B[38;5;241m-\u001B[39m\u001B[38;5;241m>\u001B[39m Any:\n\u001B[1;32m    223\u001B[0m     \u001B[38;5;28;01mtry\u001B[39;00m:\n\u001B[0;32m--> 224\u001B[0m         \u001B[38;5;28;01mreturn\u001B[39;00m \u001B[43mf\u001B[49m\u001B[43m(\u001B[49m\u001B[38;5;241;43m*\u001B[39;49m\u001B[43ma\u001B[49m\u001B[43m,\u001B[49m\u001B[43m \u001B[49m\u001B[38;5;241;43m*\u001B[39;49m\u001B[38;5;241;43m*\u001B[39;49m\u001B[43mkw\u001B[49m\u001B[43m)\u001B[49m\n\u001B[1;32m    225\u001B[0m     \u001B[38;5;28;01mexcept\u001B[39;00m Py4JJavaError \u001B[38;5;28;01mas\u001B[39;00m e:\n\u001B[1;32m    226\u001B[0m         converted \u001B[38;5;241m=\u001B[39m convert_exception(e\u001B[38;5;241m.\u001B[39mjava_exception)\n",
        "File \u001B[0;32m/databricks/spark/python/lib/py4j-0.10.9.7-src.zip/py4j/protocol.py:326\u001B[0m, in \u001B[0;36mget_return_value\u001B[0;34m(answer, gateway_client, target_id, name)\u001B[0m\n\u001B[1;32m    324\u001B[0m value \u001B[38;5;241m=\u001B[39m OUTPUT_CONVERTER[\u001B[38;5;28mtype\u001B[39m](answer[\u001B[38;5;241m2\u001B[39m:], gateway_client)\n\u001B[1;32m    325\u001B[0m \u001B[38;5;28;01mif\u001B[39;00m answer[\u001B[38;5;241m1\u001B[39m] \u001B[38;5;241m==\u001B[39m REFERENCE_TYPE:\n\u001B[0;32m--> 326\u001B[0m     \u001B[38;5;28;01mraise\u001B[39;00m Py4JJavaError(\n\u001B[1;32m    327\u001B[0m         \u001B[38;5;124m\"\u001B[39m\u001B[38;5;124mAn error occurred while calling \u001B[39m\u001B[38;5;132;01m{0}\u001B[39;00m\u001B[38;5;132;01m{1}\u001B[39;00m\u001B[38;5;132;01m{2}\u001B[39;00m\u001B[38;5;124m.\u001B[39m\u001B[38;5;130;01m\\n\u001B[39;00m\u001B[38;5;124m\"\u001B[39m\u001B[38;5;241m.\u001B[39m\n\u001B[1;32m    328\u001B[0m         \u001B[38;5;28mformat\u001B[39m(target_id, \u001B[38;5;124m\"\u001B[39m\u001B[38;5;124m.\u001B[39m\u001B[38;5;124m\"\u001B[39m, name), value)\n\u001B[1;32m    329\u001B[0m \u001B[38;5;28;01melse\u001B[39;00m:\n\u001B[1;32m    330\u001B[0m     \u001B[38;5;28;01mraise\u001B[39;00m Py4JError(\n\u001B[1;32m    331\u001B[0m         \u001B[38;5;124m\"\u001B[39m\u001B[38;5;124mAn error occurred while calling \u001B[39m\u001B[38;5;132;01m{0}\u001B[39;00m\u001B[38;5;132;01m{1}\u001B[39;00m\u001B[38;5;132;01m{2}\u001B[39;00m\u001B[38;5;124m. Trace:\u001B[39m\u001B[38;5;130;01m\\n\u001B[39;00m\u001B[38;5;132;01m{3}\u001B[39;00m\u001B[38;5;130;01m\\n\u001B[39;00m\u001B[38;5;124m\"\u001B[39m\u001B[38;5;241m.\u001B[39m\n\u001B[1;32m    332\u001B[0m         \u001B[38;5;28mformat\u001B[39m(target_id, \u001B[38;5;124m\"\u001B[39m\u001B[38;5;124m.\u001B[39m\u001B[38;5;124m\"\u001B[39m, name, value))\n",
        "\u001B[0;31mPy4JJavaError\u001B[0m: An error occurred while calling o2392.showString.\n: org.apache.spark.SparkException: Job aborted due to stage failure: Task 2 in stage 3139.0 failed 4 times, most recent failure: Lost task 2.3 in stage 3139.0 (TID 7948) (10.139.64.18 executor 33): ExecutorLostFailure (executor 33 exited caused by one of the running tasks) Reason: Command exited with code 137\nDriver stacktrace:\n\tat org.apache.spark.scheduler.DAGScheduler.failJobAndIndependentStages(DAGScheduler.scala:3870)\n\tat org.apache.spark.scheduler.DAGScheduler.$anonfun$abortStage$2(DAGScheduler.scala:3792)\n\tat org.apache.spark.scheduler.DAGScheduler.$anonfun$abortStage$2$adapted(DAGScheduler.scala:3779)\n\tat scala.collection.mutable.ResizableArray.foreach(ResizableArray.scala:62)\n\tat scala.collection.mutable.ResizableArray.foreach$(ResizableArray.scala:55)\n\tat scala.collection.mutable.ArrayBuffer.foreach(ArrayBuffer.scala:49)\n\tat org.apache.spark.scheduler.DAGScheduler.abortStage(DAGScheduler.scala:3779)\n\tat org.apache.spark.scheduler.DAGScheduler.$anonfun$handleTaskSetFailed$1(DAGScheduler.scala:1685)\n\tat org.apache.spark.scheduler.DAGScheduler.$anonfun$handleTaskSetFailed$1$adapted(DAGScheduler.scala:1670)\n\tat scala.Option.foreach(Option.scala:407)\n\tat org.apache.spark.scheduler.DAGScheduler.handleTaskSetFailed(DAGScheduler.scala:1670)\n\tat org.apache.spark.scheduler.DAGSchedulerEventProcessLoop.doOnReceive(DAGScheduler.scala:4116)\n\tat org.apache.spark.scheduler.DAGSchedulerEventProcessLoop.onReceive(DAGScheduler.scala:4028)\n\tat org.apache.spark.scheduler.DAGSchedulerEventProcessLoop.onReceive(DAGScheduler.scala:4016)\n\tat org.apache.spark.util.EventLoop$$anon$1.run(EventLoop.scala:54)\n"
       ],
       "type": "baseError"
      }
     },
     "output_type": "display_data"
    }
   ],
   "source": [
    "# model = classifier.fit(labelled_big)\n",
    "# pred2 = model.transform(df_test_features)\n",
    "# accuracy = evaluator.evaluate(pred2)\n",
    "# print(f\"SSL classifier accuracy {accuracy}\")"
   ]
  }
 ],
 "metadata": {
  "application/vnd.databricks.v1+notebook": {
   "dashboards": [],
   "language": "python",
   "notebookMetadata": {
    "mostRecentlyExecutedCommandWithImplicitDF": {
     "commandId": -1,
     "dataframes": [
      "_sqldf"
     ]
    },
    "pythonIndentUnit": 2
   },
   "notebookName": "pb03-team21-v3",
   "widgets": {}
  }
 },
 "nbformat": 4,
 "nbformat_minor": 0
}
